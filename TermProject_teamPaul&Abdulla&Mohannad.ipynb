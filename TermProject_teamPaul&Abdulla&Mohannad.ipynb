{
  "nbformat": 4,
  "nbformat_minor": 0,
  "metadata": {
    "colab": {
      "name": "TermProject_teamPaul&Abdulla&Mohannad.ipynb",
      "version": "0.3.2",
      "provenance": [],
      "collapsed_sections": [],
      "include_colab_link": true
    },
    "kernelspec": {
      "name": "python3",
      "display_name": "Python 3"
    },
    "accelerator": "GPU"
  },
  "cells": [
    {
      "cell_type": "markdown",
      "metadata": {
        "id": "view-in-github",
        "colab_type": "text"
      },
      "source": [
        "<a href=\"https://colab.research.google.com/github/etappau/ProjectTerm/blob/master/TermProject_teamPaul%26Abdulla%26Mohannad.ipynb\" target=\"_parent\"><img src=\"https://colab.research.google.com/assets/colab-badge.svg\" alt=\"Open In Colab\"/></a>"
      ]
    },
    {
      "metadata": {
        "id": "1iIOEDHcaB3u",
        "colab_type": "code",
        "outputId": "352e6c51-144a-4333-d177-13f1ed50a6f6",
        "colab": {
          "base_uri": "https://localhost:8080/",
          "height": 72
        }
      },
      "cell_type": "code",
      "source": [
        "import nltk\n",
        "nltk.download('stopwords')\n",
        "import numpy as np \n",
        "import pandas as pd\n",
        "from keras.preprocessing.text import Tokenizer\n",
        "from keras.preprocessing.sequence import pad_sequences\n",
        "from keras.models import Sequential\n",
        "from keras.layers import Dense, Embedding, LSTM, SpatialDropout1D, Activation\n",
        "from sklearn.model_selection import train_test_split\n",
        "from keras.utils.np_utils import to_categorical\n",
        "from keras.callbacks import EarlyStopping\n",
        "from keras.layers import Dropout\n",
        "import re\n",
        "from nltk.corpus import stopwords\n",
        "from nltk import word_tokenize"
      ],
      "execution_count": 145,
      "outputs": [
        {
          "output_type": "stream",
          "text": [
            "[nltk_data] Downloading package stopwords to /root/nltk_data...\n",
            "[nltk_data]   Package stopwords is already up-to-date!\n"
          ],
          "name": "stdout"
        },
        {
          "output_type": "execute_result",
          "data": {
            "text/plain": [
              "True"
            ]
          },
          "metadata": {
            "tags": []
          },
          "execution_count": 145
        }
      ]
    },
    {
      "metadata": {
        "id": "8Keos47-bLNe",
        "colab_type": "code",
        "colab": {}
      },
      "cell_type": "code",
      "source": [
        "train0 = pd.read_csv('AskAPatient.fold-0.train.txt', encoding='ISO-8859-1', sep='\\t', header = None)\n",
        "train1 = pd.read_csv('AskAPatient.fold-1.train.txt', encoding='ISO-8859-1', sep='\\t', header = None)\n",
        "train2 = pd.read_csv('AskAPatient.fold-2.train.txt', encoding='ISO-8859-1', sep='\\t', header = None)\n",
        "train3 = pd.read_csv('AskAPatient.fold-3.train.txt', encoding='ISO-8859-1', sep='\\t', header = None)\n",
        "train4 = pd.read_csv('AskAPatient.fold-4.train.txt', encoding='ISO-8859-1', sep='\\t', header = None)\n",
        "train5 = pd.read_csv('AskAPatient.fold-5.train.txt', encoding='ISO-8859-1', sep='\\t', header = None)\n",
        "train6 = pd.read_csv('AskAPatient.fold-6.train.txt', encoding='ISO-8859-1', sep='\\t', header = None)\n",
        "train7 = pd.read_csv('AskAPatient.fold-7.train.txt', encoding='ISO-8859-1', sep='\\t', header = None)\n",
        "train8 = pd.read_csv('AskAPatient.fold-8.train.txt', encoding='ISO-8859-1', sep='\\t', header = None)\n",
        "train9 = pd.read_csv('AskAPatient.fold-9.train.txt', encoding='ISO-8859-1', sep='\\t', header = None)"
      ],
      "execution_count": 0,
      "outputs": []
    },
    {
      "metadata": {
        "id": "LRZkqrznbQeC",
        "colab_type": "code",
        "colab": {}
      },
      "cell_type": "code",
      "source": [
        "frames = [train0, train1, train2, train3, train4, train5, train6, train7, train8, train9]"
      ],
      "execution_count": 0,
      "outputs": []
    },
    {
      "metadata": {
        "id": "67y4ikL_bQhf",
        "colab_type": "code",
        "colab": {}
      },
      "cell_type": "code",
      "source": [
        "df = pd.concat(frames)"
      ],
      "execution_count": 0,
      "outputs": []
    },
    {
      "metadata": {
        "id": "r0qoYni-bQkt",
        "colab_type": "code",
        "outputId": "a2ca5dde-2af1-40fb-aab2-7c0b010d08c8",
        "colab": {
          "base_uri": "https://localhost:8080/",
          "height": 162
        }
      },
      "cell_type": "code",
      "source": [
        "df.info()"
      ],
      "execution_count": 0,
      "outputs": [
        {
          "output_type": "stream",
          "text": [
            "<class 'pandas.core.frame.DataFrame'>\n",
            "Int64Index: 156652 entries, 0 to 15715\n",
            "Data columns (total 3 columns):\n",
            "0    156652 non-null int64\n",
            "1    156652 non-null object\n",
            "2    156652 non-null object\n",
            "dtypes: int64(1), object(2)\n",
            "memory usage: 4.8+ MB\n"
          ],
          "name": "stdout"
        }
      ]
    },
    {
      "metadata": {
        "id": "mi6l398EbU-e",
        "colab_type": "code",
        "colab": {}
      },
      "cell_type": "code",
      "source": [
        "df = df.drop([2], axis = 1)"
      ],
      "execution_count": 0,
      "outputs": []
    },
    {
      "metadata": {
        "id": "7sAvc4VfbYrb",
        "colab_type": "code",
        "colab": {}
      },
      "cell_type": "code",
      "source": [
        "df.columns = ['CUID', 'Disease']"
      ],
      "execution_count": 0,
      "outputs": []
    },
    {
      "metadata": {
        "id": "1nsFxJWrbbMW",
        "colab_type": "code",
        "outputId": "80f58090-9881-4be1-a5ec-15e78d25880a",
        "colab": {
          "base_uri": "https://localhost:8080/",
          "height": 35
        }
      },
      "cell_type": "code",
      "source": [
        "df.CUID.nunique()"
      ],
      "execution_count": 0,
      "outputs": [
        {
          "output_type": "execute_result",
          "data": {
            "text/plain": [
              "1036"
            ]
          },
          "metadata": {
            "tags": []
          },
          "execution_count": 8
        }
      ]
    },
    {
      "metadata": {
        "id": "aKPVmJ_Sbc8F",
        "colab_type": "code",
        "outputId": "05eedc12-435d-4991-9398-64bced71295e",
        "colab": {
          "base_uri": "https://localhost:8080/",
          "height": 35
        }
      },
      "cell_type": "code",
      "source": [
        "df.Disease.nunique()"
      ],
      "execution_count": 0,
      "outputs": [
        {
          "output_type": "execute_result",
          "data": {
            "text/plain": [
              "1034"
            ]
          },
          "metadata": {
            "tags": []
          },
          "execution_count": 9
        }
      ]
    },
    {
      "metadata": {
        "id": "BiaOVL_FbiqW",
        "colab_type": "text"
      },
      "cell_type": "markdown",
      "source": [
        "More than one Disease mapped to same CUID"
      ]
    },
    {
      "metadata": {
        "id": "TwRqbJOab_B-",
        "colab_type": "code",
        "colab": {}
      },
      "cell_type": "code",
      "source": [
        "df = df.groupby(['Disease', 'CUID']).size().reset_index().rename(columns={0:'count'})"
      ],
      "execution_count": 0,
      "outputs": []
    },
    {
      "metadata": {
        "id": "FBG6IcYabhDC",
        "colab_type": "code",
        "outputId": "316910d3-6a6f-4500-afbd-5b9b6e91f0ca",
        "colab": {
          "base_uri": "https://localhost:8080/",
          "height": 112
        }
      },
      "cell_type": "code",
      "source": [
        "df[df[['Disease']].duplicated() == True]"
      ],
      "execution_count": 0,
      "outputs": [
        {
          "output_type": "execute_result",
          "data": {
            "text/html": [
              "<div>\n",
              "<style scoped>\n",
              "    .dataframe tbody tr th:only-of-type {\n",
              "        vertical-align: middle;\n",
              "    }\n",
              "\n",
              "    .dataframe tbody tr th {\n",
              "        vertical-align: top;\n",
              "    }\n",
              "\n",
              "    .dataframe thead th {\n",
              "        text-align: right;\n",
              "    }\n",
              "</style>\n",
              "<table border=\"1\" class=\"dataframe\">\n",
              "  <thead>\n",
              "    <tr style=\"text-align: right;\">\n",
              "      <th></th>\n",
              "      <th>Disease</th>\n",
              "      <th>CUID</th>\n",
              "      <th>count</th>\n",
              "    </tr>\n",
              "  </thead>\n",
              "  <tbody>\n",
              "    <tr>\n",
              "      <th>596</th>\n",
              "      <td>Neck pain</td>\n",
              "      <td>81680008</td>\n",
              "      <td>36</td>\n",
              "    </tr>\n",
              "    <tr>\n",
              "      <th>846</th>\n",
              "      <td>Tachycardia</td>\n",
              "      <td>6285003</td>\n",
              "      <td>19</td>\n",
              "    </tr>\n",
              "  </tbody>\n",
              "</table>\n",
              "</div>"
            ],
            "text/plain": [
              "         Disease      CUID  count\n",
              "596    Neck pain  81680008     36\n",
              "846  Tachycardia   6285003     19"
            ]
          },
          "metadata": {
            "tags": []
          },
          "execution_count": 118
        }
      ]
    },
    {
      "metadata": {
        "id": "yPhC7kiJbsAd",
        "colab_type": "code",
        "outputId": "a33e133c-1814-46bb-9656-6f1988fc2dd5",
        "colab": {
          "base_uri": "https://localhost:8080/",
          "height": 112
        }
      },
      "cell_type": "code",
      "source": [
        "df.loc[df['Disease'] == 'Neck pain']"
      ],
      "execution_count": 0,
      "outputs": [
        {
          "output_type": "execute_result",
          "data": {
            "text/html": [
              "<div>\n",
              "<style scoped>\n",
              "    .dataframe tbody tr th:only-of-type {\n",
              "        vertical-align: middle;\n",
              "    }\n",
              "\n",
              "    .dataframe tbody tr th {\n",
              "        vertical-align: top;\n",
              "    }\n",
              "\n",
              "    .dataframe thead th {\n",
              "        text-align: right;\n",
              "    }\n",
              "</style>\n",
              "<table border=\"1\" class=\"dataframe\">\n",
              "  <thead>\n",
              "    <tr style=\"text-align: right;\">\n",
              "      <th></th>\n",
              "      <th>Disease</th>\n",
              "      <th>CUID</th>\n",
              "      <th>count</th>\n",
              "    </tr>\n",
              "  </thead>\n",
              "  <tbody>\n",
              "    <tr>\n",
              "      <th>595</th>\n",
              "      <td>Neck pain</td>\n",
              "      <td>81680005</td>\n",
              "      <td>872</td>\n",
              "    </tr>\n",
              "    <tr>\n",
              "      <th>596</th>\n",
              "      <td>Neck pain</td>\n",
              "      <td>81680008</td>\n",
              "      <td>36</td>\n",
              "    </tr>\n",
              "  </tbody>\n",
              "</table>\n",
              "</div>"
            ],
            "text/plain": [
              "       Disease      CUID  count\n",
              "595  Neck pain  81680005    872\n",
              "596  Neck pain  81680008     36"
            ]
          },
          "metadata": {
            "tags": []
          },
          "execution_count": 15
        }
      ]
    },
    {
      "metadata": {
        "id": "awj49JITcGij",
        "colab_type": "code",
        "outputId": "ac5f640d-775b-47ca-f7ca-324e74f7b161",
        "colab": {
          "base_uri": "https://localhost:8080/",
          "height": 112
        }
      },
      "cell_type": "code",
      "source": [
        "df.loc[df['Disease'] == 'Tachycardia']"
      ],
      "execution_count": 0,
      "outputs": [
        {
          "output_type": "execute_result",
          "data": {
            "text/html": [
              "<div>\n",
              "<style scoped>\n",
              "    .dataframe tbody tr th:only-of-type {\n",
              "        vertical-align: middle;\n",
              "    }\n",
              "\n",
              "    .dataframe tbody tr th {\n",
              "        vertical-align: top;\n",
              "    }\n",
              "\n",
              "    .dataframe thead th {\n",
              "        text-align: right;\n",
              "    }\n",
              "</style>\n",
              "<table border=\"1\" class=\"dataframe\">\n",
              "  <thead>\n",
              "    <tr style=\"text-align: right;\">\n",
              "      <th></th>\n",
              "      <th>Disease</th>\n",
              "      <th>CUID</th>\n",
              "      <th>count</th>\n",
              "    </tr>\n",
              "  </thead>\n",
              "  <tbody>\n",
              "    <tr>\n",
              "      <th>845</th>\n",
              "      <td>Tachycardia</td>\n",
              "      <td>3424008</td>\n",
              "      <td>127</td>\n",
              "    </tr>\n",
              "    <tr>\n",
              "      <th>846</th>\n",
              "      <td>Tachycardia</td>\n",
              "      <td>6285003</td>\n",
              "      <td>19</td>\n",
              "    </tr>\n",
              "  </tbody>\n",
              "</table>\n",
              "</div>"
            ],
            "text/plain": [
              "         Disease     CUID  count\n",
              "845  Tachycardia  3424008    127\n",
              "846  Tachycardia  6285003     19"
            ]
          },
          "metadata": {
            "tags": []
          },
          "execution_count": 16
        }
      ]
    },
    {
      "metadata": {
        "id": "z6vF7mozcIzF",
        "colab_type": "code",
        "colab": {}
      },
      "cell_type": "code",
      "source": [
        "df = df.drop_duplicates(subset=['Disease'],keep='first')"
      ],
      "execution_count": 0,
      "outputs": []
    },
    {
      "metadata": {
        "id": "5E3d1ALdcQqK",
        "colab_type": "code",
        "outputId": "bc2ccce3-12ed-4477-fdbc-d37c373022ff",
        "colab": {
          "base_uri": "https://localhost:8080/",
          "height": 81
        }
      },
      "cell_type": "code",
      "source": [
        "df.loc[df['Disease'] == 'Neck pain']"
      ],
      "execution_count": 0,
      "outputs": [
        {
          "output_type": "execute_result",
          "data": {
            "text/html": [
              "<div>\n",
              "<style scoped>\n",
              "    .dataframe tbody tr th:only-of-type {\n",
              "        vertical-align: middle;\n",
              "    }\n",
              "\n",
              "    .dataframe tbody tr th {\n",
              "        vertical-align: top;\n",
              "    }\n",
              "\n",
              "    .dataframe thead th {\n",
              "        text-align: right;\n",
              "    }\n",
              "</style>\n",
              "<table border=\"1\" class=\"dataframe\">\n",
              "  <thead>\n",
              "    <tr style=\"text-align: right;\">\n",
              "      <th></th>\n",
              "      <th>Disease</th>\n",
              "      <th>CUID</th>\n",
              "      <th>count</th>\n",
              "    </tr>\n",
              "  </thead>\n",
              "  <tbody>\n",
              "    <tr>\n",
              "      <th>595</th>\n",
              "      <td>Neck pain</td>\n",
              "      <td>81680005</td>\n",
              "      <td>872</td>\n",
              "    </tr>\n",
              "  </tbody>\n",
              "</table>\n",
              "</div>"
            ],
            "text/plain": [
              "       Disease      CUID  count\n",
              "595  Neck pain  81680005    872"
            ]
          },
          "metadata": {
            "tags": []
          },
          "execution_count": 19
        }
      ]
    },
    {
      "metadata": {
        "id": "tMeWymRFcW2d",
        "colab_type": "code",
        "outputId": "58949e7a-1962-4b3c-ab02-bb21be696cca",
        "colab": {
          "base_uri": "https://localhost:8080/",
          "height": 81
        }
      },
      "cell_type": "code",
      "source": [
        "df.loc[df['Disease'] == 'Tachycardia']"
      ],
      "execution_count": 0,
      "outputs": [
        {
          "output_type": "execute_result",
          "data": {
            "text/html": [
              "<div>\n",
              "<style scoped>\n",
              "    .dataframe tbody tr th:only-of-type {\n",
              "        vertical-align: middle;\n",
              "    }\n",
              "\n",
              "    .dataframe tbody tr th {\n",
              "        vertical-align: top;\n",
              "    }\n",
              "\n",
              "    .dataframe thead th {\n",
              "        text-align: right;\n",
              "    }\n",
              "</style>\n",
              "<table border=\"1\" class=\"dataframe\">\n",
              "  <thead>\n",
              "    <tr style=\"text-align: right;\">\n",
              "      <th></th>\n",
              "      <th>Disease</th>\n",
              "      <th>CUID</th>\n",
              "      <th>count</th>\n",
              "    </tr>\n",
              "  </thead>\n",
              "  <tbody>\n",
              "    <tr>\n",
              "      <th>845</th>\n",
              "      <td>Tachycardia</td>\n",
              "      <td>3424008</td>\n",
              "      <td>127</td>\n",
              "    </tr>\n",
              "  </tbody>\n",
              "</table>\n",
              "</div>"
            ],
            "text/plain": [
              "         Disease     CUID  count\n",
              "845  Tachycardia  3424008    127"
            ]
          },
          "metadata": {
            "tags": []
          },
          "execution_count": 20
        }
      ]
    },
    {
      "metadata": {
        "id": "3BYEoVxacZbS",
        "colab_type": "code",
        "outputId": "ecfb4501-3ae8-4c5e-d444-910dd9336db1",
        "colab": {
          "base_uri": "https://localhost:8080/",
          "height": 35
        }
      },
      "cell_type": "code",
      "source": [
        "df.CUID.nunique()"
      ],
      "execution_count": 0,
      "outputs": [
        {
          "output_type": "execute_result",
          "data": {
            "text/plain": [
              "1034"
            ]
          },
          "metadata": {
            "tags": []
          },
          "execution_count": 21
        }
      ]
    },
    {
      "metadata": {
        "id": "hkpQD8-Occfs",
        "colab_type": "code",
        "outputId": "c21fa261-9d5d-4061-d095-72b824b4a23d",
        "colab": {
          "base_uri": "https://localhost:8080/",
          "height": 35
        }
      },
      "cell_type": "code",
      "source": [
        "df.Disease.nunique()"
      ],
      "execution_count": 0,
      "outputs": [
        {
          "output_type": "execute_result",
          "data": {
            "text/plain": [
              "1034"
            ]
          },
          "metadata": {
            "tags": []
          },
          "execution_count": 22
        }
      ]
    },
    {
      "metadata": {
        "id": "2a8BhtwuceWA",
        "colab_type": "code",
        "colab": {}
      },
      "cell_type": "code",
      "source": [
        "train = pd.concat(frames)"
      ],
      "execution_count": 0,
      "outputs": []
    },
    {
      "metadata": {
        "id": "HRIZYJpZclVw",
        "colab_type": "code",
        "colab": {}
      },
      "cell_type": "code",
      "source": [
        "train.columns = ['CUID', 'Disease', 'Patient Complaint Narrative']"
      ],
      "execution_count": 0,
      "outputs": []
    },
    {
      "metadata": {
        "id": "ujzLHA7GcmsR",
        "colab_type": "code",
        "colab": {}
      },
      "cell_type": "code",
      "source": [
        "train.head()"
      ],
      "execution_count": 0,
      "outputs": []
    },
    {
      "metadata": {
        "id": "T6X-wWpacpDe",
        "colab_type": "code",
        "outputId": "e28421f7-1c7e-44b3-ebe0-0ee8681ad151",
        "colab": {
          "base_uri": "https://localhost:8080/",
          "height": 35
        }
      },
      "cell_type": "code",
      "source": [
        "0.005 * 156652"
      ],
      "execution_count": 6,
      "outputs": [
        {
          "output_type": "execute_result",
          "data": {
            "text/plain": [
              "783.26"
            ]
          },
          "metadata": {
            "tags": []
          },
          "execution_count": 6
        }
      ]
    },
    {
      "metadata": {
        "id": "6Y5SrF71c4EB",
        "colab_type": "text"
      },
      "cell_type": "markdown",
      "source": [
        "Explore the dataset, consider only those diseases for labelling that make up more than .005% of the dataset"
      ]
    },
    {
      "metadata": {
        "id": "q3hGYcyscnpz",
        "colab_type": "code",
        "colab": {}
      },
      "cell_type": "code",
      "source": [
        "import csv\n",
        "df1 = df.groupby(['CUID']).size().reset_index().rename(columns={0:'count'})\n",
        "my_df = pd.DataFrame(df1)\n",
        "my_df.to_csv('unique_labels.csv', encoding='ISO-8859-1', index=False, sep=' ', header=False, quoting=csv.QUOTE_NONE, quotechar=\"\", escapechar=\" \")"
      ],
      "execution_count": 0,
      "outputs": []
    },
    {
      "metadata": {
        "id": "Jhv-XmCL_g-c",
        "colab_type": "text"
      },
      "cell_type": "markdown",
      "source": [
        "This is because Excel only stores 15 significant digits in a number, then changes the any remaining to zeros. This occurs because Excel interprets the numbers as being intended for calculation as the cells are formatted as numbers. OK, so can we just reformat them as text or something else, well no, once entered, you cannot just reformat. You will need to format new cells as Text then type in the numbers again."
      ]
    },
    {
      "metadata": {
        "id": "loJkqzX144Wo",
        "colab_type": "code",
        "colab": {}
      },
      "cell_type": "code",
      "source": [
        "my_df.to_html('unique_labels.html', index=False, header=False)"
      ],
      "execution_count": 0,
      "outputs": []
    },
    {
      "metadata": {
        "id": "dVx8_wcgdJRa",
        "colab_type": "text"
      },
      "cell_type": "markdown",
      "source": [
        "Because of the large number of entries, exporting the results to excel. Take them outside and inspect in excel, we found only the following unique entries have frequency greater than 760."
      ]
    },
    {
      "metadata": {
        "id": "LrNmi8pBiW8K",
        "colab_type": "text"
      },
      "cell_type": "markdown",
      "source": [
        "3877011000036101    \n",
        "22253000             \n",
        "68962001             \n",
        "76948002             \n",
        "55300003             \n",
        "84229001             \n",
        "57676002             \n",
        "35489007             \n",
        "162076009            \n",
        "25064002             \n",
        "13791008             \n",
        "161891005            \n",
        "10601006             \n",
        "62315008             \n",
        "26544005             \n",
        "449917004            \n",
        "62507009             \n",
        "48167000             \n",
        "193462001            \n",
        "49218002             \n",
        "404640003            \n",
        "228158008            \n",
        "422587007            \n",
        "30989003             \n",
        "3384011000036100     \n",
        "45326000             \n",
        "271681002            \n",
        "47933007              \n",
        "309774006             \n",
        "3723001               \n",
        "278040002             \n",
        "81680005              \n",
        "3904011000036106      \n",
        "22298006"
      ]
    },
    {
      "metadata": {
        "id": "IfPmA3dlGuKN",
        "colab_type": "text"
      },
      "cell_type": "markdown",
      "source": [
        "The rest 1002 CUIDs are discarded"
      ]
    },
    {
      "metadata": {
        "id": "uzbHFrsuBUx2",
        "colab_type": "code",
        "colab": {}
      },
      "cell_type": "code",
      "source": [
        "train = train[train.CUID != 1402001 ]\n",
        "train = train[train.CUID != 70323002 ]\n",
        "train = train[train.CUID != 249990003 ]\n",
        "train = train[train.CUID != 301717006 ]\n",
        "train = train[train.CUID != 424131007 ]\n",
        "train = train[train.CUID != 21540011000036109 ]\n",
        "train = train[train.CUID != 4106009 ]\n",
        "train = train[train.CUID != 14304000 ]\n",
        "train = train[train.CUID != 22193007 ]\n",
        "train = train[train.CUID != 38936003 ]\n",
        "train = train[train.CUID != 44169009 ]\n",
        "train = train[train.CUID != 52072009 ]\n",
        "train = train[train.CUID != 61462000 ]\n",
        "train = train[train.CUID != 69215007 ]\n",
        "train = train[train.CUID != 82883008 ]\n",
        "train = train[train.CUID != 90128006 ]\n",
        "train = train[train.CUID != 225473001 ]\n",
        "train = train[train.CUID != 247806005 ]\n",
        "train = train[train.CUID != 248581005 ]\n",
        "train = train[train.CUID != 271873000 ]\n",
        "train = train[train.CUID != 282475008 ]\n",
        "train = train[train.CUID != 289669005 ]\n",
        "train = train[train.CUID != 300888008 ]\n",
        "train = train[train.CUID != 308921004 ]\n",
        "train = train[train.CUID != 309256001 ]\n",
        "train = train[train.CUID != 414469009 ]\n",
        "train = train[train.CUID != 428724006 ]\n",
        "train = train[train.CUID != 443694000 ]\n",
        "train = train[train.CUID != 3934011000036103 ]\n",
        "train = train[train.CUID != 37787011000036104 ]\n",
        "train = train[train.CUID != 61777011000036104 ]\n",
        "train = train[train.CUID != 77426011000036108 ]\n",
        "train = train[train.CUID != 3716002 ]\n",
        "train = train[train.CUID != 9829001 ]\n",
        "train = train[train.CUID != 15188001 ]\n",
        "train = train[train.CUID != 23520002 ]\n",
        "train = train[train.CUID != 24982008 ]\n",
        "train = train[train.CUID != 37340000 ]\n",
        "train = train[train.CUID != 37567005 ]\n",
        "train = train[train.CUID != 40445007 ]\n",
        "train = train[train.CUID != 42345000 ]\n",
        "train = train[train.CUID != 44018007 ]\n",
        "train = train[train.CUID != 44564008 ]\n",
        "train = train[train.CUID != 46040000 ]\n",
        "train = train[train.CUID != 50829006 ]\n",
        "train = train[train.CUID != 59026006 ]\n",
        "train = train[train.CUID != 64206003 ]\n",
        "train = train[train.CUID != 64379006 ]\n",
        "train = train[train.CUID != 66383009 ]\n",
        "train = train[train.CUID != 68449006 ]\n",
        "train = train[train.CUID != 69322001 ]\n",
        "train = train[train.CUID != 70346000 ]\n",
        "train = train[train.CUID != 71262003 ]\n",
        "train = train[train.CUID != 82297005 ]\n",
        "train = train[train.CUID != 83901003 ]\n",
        "train = train[train.CUID != 85828009 ]\n",
        "train = train[train.CUID != 85898001 ]\n",
        "train = train[train.CUID != 95319004 ]\n",
        "train = train[train.CUID != 95655001 ]\n",
        "train = train[train.CUID != 102608004 ]\n",
        "train = train[train.CUID != 105981003 ]\n",
        "train = train[train.CUID != 128605003 ]\n",
        "train = train[train.CUID != 129899009 ]\n",
        "train = train[train.CUID != 161722004 ]\n",
        "train = train[train.CUID != 192085004 ]\n",
        "train = train[train.CUID != 193031009 ]\n",
        "train = train[train.CUID != 193570009 ]\n",
        "train = train[train.CUID != 209777000 ]\n",
        "train = train[train.CUID != 225005002 ]\n",
        "train = train[train.CUID != 235594008 ]\n",
        "train = train[train.CUID != 235999009 ]\n",
        "train = train[train.CUID != 240014001 ]\n",
        "train = train[train.CUID != 240015000 ]\n",
        "train = train[train.CUID != 247355005 ]\n",
        "train = train[train.CUID != 248256006 ]\n",
        "train = train[train.CUID != 248268002 ]\n",
        "train = train[train.CUID != 248648003 ]\n",
        "train = train[train.CUID != 249931001 ]\n",
        "train = train[train.CUID != 249985001 ]\n",
        "train = train[train.CUID != 262966007 ]\n",
        "train = train[train.CUID != 271585001 ]\n",
        "train = train[train.CUID != 271795006 ]\n",
        "train = train[train.CUID != 279028009 ]\n",
        "train = train[train.CUID != 282198006 ]\n",
        "train = train[train.CUID != 282966001 ]\n",
        "train = train[train.CUID != 283902008 ]\n",
        "train = train[train.CUID != 284146005 ]\n",
        "train = train[train.CUID != 284149003 ]\n",
        "train = train[train.CUID != 286387000 ]\n",
        "train = train[train.CUID != 297144002 ]\n",
        "train = train[train.CUID != 298203008 ]\n",
        "train = train[train.CUID != 298240000 ]\n",
        "train = train[train.CUID != 298941006 ]\n",
        "train = train[train.CUID != 299110002 ]\n",
        "train = train[train.CUID != 299377003 ]\n",
        "train = train[train.CUID != 300439004 ]\n",
        "train = train[train.CUID != 302188001 ]\n",
        "train = train[train.CUID != 307074005 ]\n",
        "train = train[train.CUID != 307731004 ]\n",
        "train = train[train.CUID != 315642008 ]\n",
        "train = train[train.CUID != 361138002 ]\n",
        "train = train[train.CUID != 386805003 ]\n",
        "train = train[train.CUID != 397541004 ]\n",
        "train = train[train.CUID != 398151007 ]\n",
        "train = train[train.CUID != 398979000 ]\n",
        "train = train[train.CUID != 402234004 ]\n",
        "train = train[train.CUID != 409589004 ]\n",
        "train = train[train.CUID != 416675009 ]\n",
        "train = train[train.CUID != 429360005 ]\n",
        "train = train[train.CUID != 443120002 ]\n",
        "train = train[train.CUID != 443798008 ]\n",
        "train = train[train.CUID != 444312002 ]\n",
        "train = train[train.CUID != 445197008 ]\n",
        "train = train[train.CUID != 450316000 ]\n",
        "train = train[train.CUID != 13481000168104 ]\n",
        "train = train[train.CUID != 250991000119100 ]\n",
        "train = train[train.CUID != 2922011000036103 ]\n",
        "train = train[train.CUID != 2940011000036100 ]\n",
        "train = train[train.CUID != 3066011000036105 ]\n",
        "train = train[train.CUID != 3527011000036101 ]\n",
        "train = train[train.CUID != 21589011000036108 ]\n",
        "train = train[train.CUID != 32972011000036104 ]\n",
        "train = train[train.CUID != 39592011000036106 ]\n",
        "train = train[train.CUID != 4308002 ]\n",
        "train = train[train.CUID != 6020002 ]\n",
        "train = train[train.CUID != 6389006 ]\n",
        "train = train[train.CUID != 7501002 ]\n",
        "train = train[train.CUID != 10085004 ]\n",
        "train = train[train.CUID != 11381005 ]\n",
        "train = train[train.CUID != 13644009 ]\n",
        "train = train[train.CUID != 15203004 ]\n",
        "train = train[train.CUID != 18156008 ]\n",
        "train = train[train.CUID != 21499005 ]\n",
        "train = train[train.CUID != 23388006 ]\n",
        "train = train[train.CUID != 23919004 ]\n",
        "train = train[train.CUID != 32402008 ]\n",
        "train = train[train.CUID != 34789001 ]\n",
        "train = train[train.CUID != 35064005 ]\n",
        "train = train[train.CUID != 41931001 ]\n",
        "train = train[train.CUID != 43364001 ]\n",
        "train = train[train.CUID != 49563000 ]\n",
        "train = train[train.CUID != 49601007 ]\n",
        "train = train[train.CUID != 50415004 ]\n",
        "train = train[train.CUID != 52754008 ]\n",
        "train = train[train.CUID != 55222007 ]\n",
        "train = train[train.CUID != 56018004 ]\n",
        "train = train[train.CUID != 59976005 ]\n",
        "train = train[train.CUID != 64531003 ]\n",
        "train = train[train.CUID != 67015007 ]\n",
        "train = train[train.CUID != 67362008 ]\n",
        "train = train[train.CUID != 68172002 ]\n",
        "train = train[train.CUID != 73442001 ]\n",
        "train = train[train.CUID != 74732009 ]\n",
        "train = train[train.CUID != 75183008 ]\n",
        "train = train[train.CUID != 77981007 ]\n",
        "train = train[train.CUID != 79015004 ]\n",
        "train = train[train.CUID != 79395009 ]\n",
        "train = train[train.CUID != 80515008 ]\n",
        "train = train[train.CUID != 80585000 ]\n",
        "train = train[train.CUID != 82470000 ]\n",
        "train = train[train.CUID != 83156004 ]\n",
        "train = train[train.CUID != 90834002 ]\n",
        "train = train[train.CUID != 93478000 ]\n",
        "train = train[train.CUID != 95677002 ]\n",
        "train = train[train.CUID != 102911000 ]\n",
        "train = train[train.CUID != 103281005 ]\n",
        "train = train[train.CUID != 108367008 ]\n",
        "train = train[train.CUID != 118930001 ]\n",
        "train = train[train.CUID != 118940003 ]\n",
        "train = train[train.CUID != 124042003 ]\n",
        "train = train[train.CUID != 128609009 ]\n",
        "train = train[train.CUID != 129859006 ]\n",
        "train = train[train.CUID != 131053002 ]\n",
        "train = train[train.CUID != 160591008 ]\n",
        "train = train[train.CUID != 161156004 ]\n",
        "train = train[train.CUID != 162315007 ]\n",
        "train = train[train.CUID != 162351000 ]\n",
        "train = train[train.CUID != 166702002 ]\n",
        "train = train[train.CUID != 183202003 ]\n",
        "train = train[train.CUID != 186748004 ]\n",
        "train = train[train.CUID != 191736004 ]\n",
        "train = train[train.CUID != 202609006 ]\n",
        "train = train[train.CUID != 225460000 ]\n",
        "train = train[train.CUID != 225482007 ]\n",
        "train = train[train.CUID != 230490003 ]\n",
        "train = train[train.CUID != 236071009 ]\n",
        "train = train[train.CUID != 237602007 ]\n",
        "train = train[train.CUID != 239725005 ]\n",
        "train = train[train.CUID != 247412007 ]\n",
        "train = train[train.CUID != 247761005 ]\n",
        "train = train[train.CUID != 248493003 ]\n",
        "train = train[train.CUID != 248657009 ]\n",
        "train = train[train.CUID != 248966006 ]\n",
        "train = train[train.CUID != 249544004 ]\n",
        "train = train[train.CUID != 249903005 ]\n",
        "train = train[train.CUID != 251377007 ]\n",
        "train = train[train.CUID != 253522006 ]\n",
        "train = train[train.CUID != 267076002 ]\n",
        "train = train[train.CUID != 271771009 ]\n",
        "train = train[train.CUID != 274135002 ]\n",
        "train = train[train.CUID != 274141009 ]\n",
        "train = train[train.CUID != 274646000 ]\n",
        "train = train[train.CUID != 274665008 ]\n",
        "train = train[train.CUID != 276294005 ]\n",
        "train = train[train.CUID != 276444007 ]\n",
        "train = train[train.CUID != 277890004 ]\n",
        "train = train[train.CUID != 278286009 ]\n",
        "train = train[train.CUID != 279043006 ]\n",
        "train = train[train.CUID != 279063004 ]\n",
        "train = train[train.CUID != 281794004 ]\n",
        "train = train[train.CUID != 282926000 ]\n",
        "train = train[train.CUID != 283121001 ]\n",
        "train = train[train.CUID != 283416005 ]\n",
        "train = train[train.CUID != 284136008 ]\n",
        "train = train[train.CUID != 284252000 ]\n",
        "train = train[train.CUID != 284977008 ]\n",
        "train = train[train.CUID != 286651000 ]\n",
        "train = train[train.CUID != 288225004 ]\n",
        "train = train[train.CUID != 289001005 ]\n",
        "train = train[train.CUID != 298170003 ]\n",
        "train = train[train.CUID != 300650009 ]\n",
        "train = train[train.CUID != 300895004 ]\n",
        "train = train[train.CUID != 301657001 ]\n",
        "train = train[train.CUID != 304297005 ]\n",
        "train = train[train.CUID != 308909003 ]\n",
        "train = train[train.CUID != 314642004 ]\n",
        "train = train[train.CUID != 332982000 ]\n",
        "train = train[train.CUID != 361122008 ]\n",
        "train = train[train.CUID != 363406005 ]\n",
        "train = train[train.CUID != 363499005 ]\n",
        "train = train[train.CUID != 366979004 ]\n",
        "train = train[train.CUID != 398114001 ]\n",
        "train = train[train.CUID != 398152000 ]\n",
        "train = train[train.CUID != 399044006 ]\n",
        "train = train[train.CUID != 399068003 ]\n",
        "train = train[train.CUID != 415692008 ]\n",
        "train = train[train.CUID != 419511003 ]\n",
        "train = train[train.CUID != 423849004 ]\n",
        "train = train[train.CUID != 424372002 ]\n",
        "train = train[train.CUID != 424582000 ]\n",
        "train = train[train.CUID != 426120002 ]\n",
        "train = train[train.CUID != 428281000 ]\n",
        "train = train[train.CUID != 429661002 ]\n",
        "train = train[train.CUID != 439953004 ]\n",
        "train = train[train.CUID != 443892003 ]\n",
        "train = train[train.CUID != 444003007 ]\n",
        "train = train[train.CUID != 444702007 ]\n",
        "train = train[train.CUID != 449618007 ]\n",
        "train = train[train.CUID != 699302001 ]\n",
        "train = train[train.CUID != 699376002 ]\n",
        "train = train[train.CUID != 571000119103 ]\n",
        "train = train[train.CUID != 14351000168102 ]\n",
        "train = train[train.CUID != 31911000168108 ]\n",
        "train = train[train.CUID != 38181000168109 ]\n",
        "train = train[train.CUID != 45291000168107 ]\n",
        "train = train[train.CUID != 47401000168109 ]\n",
        "train = train[train.CUID != 177241000036105 ]\n",
        "train = train[train.CUID != 3191011000036109 ]\n",
        "train = train[train.CUID != 3475011000036104 ]\n",
        "train = train[train.CUID != 3563011000036102 ]\n",
        "train = train[train.CUID != 3736011000036100 ]\n",
        "train = train[train.CUID != 6496011000036105 ]\n",
        "train = train[train.CUID != 21290011000036109 ]\n",
        "train = train[train.CUID != 21304011000036105 ]\n",
        "train = train[train.CUID != 21317011000036101 ]\n",
        "train = train[train.CUID != 21395011000036107 ]\n",
        "train = train[train.CUID != 21465011000036101 ]\n",
        "train = train[train.CUID != 21676011000036101 ]\n",
        "train = train[train.CUID != 21678011000036102 ]\n",
        "train = train[train.CUID != 21814011000036109 ]\n",
        "train = train[train.CUID != 37703011000036109 ]\n",
        "train = train[train.CUID != 39651011000036100 ]\n",
        "train = train[train.CUID != 39701011000036102 ]\n",
        "train = train[train.CUID != 69867011000036102 ]\n",
        "train = train[train.CUID != 83225011000036106 ]\n",
        "train = train[train.CUID != 1806006 ]\n",
        "train = train[train.CUID != 4969004 ]\n",
        "train = train[train.CUID != 5662003 ]\n",
        "train = train[train.CUID != 6211002 ]\n",
        "train = train[train.CUID != 7393007 ]\n",
        "train = train[train.CUID != 7973008 ]\n",
        "train = train[train.CUID != 8009008 ]\n",
        "train = train[train.CUID != 10001005 ]\n",
        "train = train[train.CUID != 12441001 ]\n",
        "train = train[train.CUID != 13164000 ]\n",
        "train = train[train.CUID != 13543005 ]\n",
        "train = train[train.CUID != 14669001 ]\n",
        "train = train[train.CUID != 15336001 ]\n",
        "train = train[train.CUID != 16001004 ]\n",
        "train = train[train.CUID != 18718003 ]\n",
        "train = train[train.CUID != 19155002 ]\n",
        "train = train[train.CUID != 25458004 ]\n",
        "train = train[train.CUID != 26677001 ]\n",
        "train = train[train.CUID != 35209006 ]\n",
        "train = train[train.CUID != 36163009 ]\n",
        "train = train[train.CUID != 38013005 ]\n",
        "train = train[train.CUID != 39423001 ]\n",
        "train = train[train.CUID != 40144003 ]\n",
        "train = train[train.CUID != 40739000 ]\n",
        "train = train[train.CUID != 41982003 ]\n",
        "train = train[train.CUID != 45534005 ]\n",
        "train = train[train.CUID != 46206005 ]\n",
        "train = train[train.CUID != 48661000 ]\n",
        "train = train[train.CUID != 51590001 ]\n",
        "train = train[train.CUID != 52526003 ]\n",
        "train = train[train.CUID != 54150009 ]\n",
        "train = train[train.CUID != 55260003 ]\n",
        "train = train[train.CUID != 55891002 ]\n",
        "train = train[train.CUID != 56273005 ]\n",
        "train = train[train.CUID != 56925008 ]\n",
        "train = train[train.CUID != 58901008 ]\n",
        "train = train[train.CUID != 63901009 ]\n",
        "train = train[train.CUID != 64766004 ]\n",
        "train = train[train.CUID != 64779008 ]\n",
        "train = train[train.CUID != 75408008 ]\n",
        "train = train[train.CUID != 76376003 ]\n",
        "train = train[train.CUID != 79012001 ]\n",
        "train = train[train.CUID != 80954004 ]\n",
        "train = train[train.CUID != 80967001 ]\n",
        "train = train[train.CUID != 81308009 ]\n",
        "train = train[train.CUID != 82639001 ]\n",
        "train = train[train.CUID != 84114007 ]\n",
        "train = train[train.CUID != 84480002 ]\n",
        "train = train[train.CUID != 86094006 ]\n",
        "train = train[train.CUID != 89419008 ]\n",
        "train = train[train.CUID != 95320005 ]\n",
        "train = train[train.CUID != 95453001 ]\n",
        "train = train[train.CUID != 95570007 ]\n",
        "train = train[train.CUID != 95673003 ]\n",
        "train = train[train.CUID != 102491009 ]\n",
        "train = train[train.CUID != 102564009 ]\n",
        "train = train[train.CUID != 102565005 ]\n",
        "train = train[train.CUID != 102938007 ]\n",
        "train = train[train.CUID != 103298005 ]\n",
        "train = train[train.CUID != 110288007 ]\n",
        "train = train[train.CUID != 111224002 ]\n",
        "train = train[train.CUID != 119416008 ]\n",
        "train = train[train.CUID != 125610000 ]\n",
        "train = train[train.CUID != 127354003 ]\n",
        "train = train[train.CUID != 128601007 ]\n",
        "train = train[train.CUID != 131078003 ]\n",
        "train = train[train.CUID != 160685001 ]\n",
        "train = train[train.CUID != 161833006 ]\n",
        "train = train[train.CUID != 161876008 ]\n",
        "train = train[train.CUID != 161968007 ]\n",
        "train = train[train.CUID != 162020001 ]\n",
        "train = train[train.CUID != 162308004 ]\n",
        "train = train[train.CUID != 166603001 ]\n",
        "train = train[train.CUID != 193000002 ]\n",
        "train = train[train.CUID != 194828000 ]\n",
        "train = train[train.CUID != 202484005 ]\n",
        "train = train[train.CUID != 202490009 ]\n",
        "train = train[train.CUID != 202617003 ]\n",
        "train = train[train.CUID != 225013001 ]\n",
        "train = train[train.CUID != 225508006 ]\n",
        "train = train[train.CUID != 230645003 ]\n",
        "train = train[train.CUID != 230736007 ]\n",
        "train = train[train.CUID != 236632007 ]\n",
        "train = train[train.CUID != 238539001 ]\n",
        "train = train[train.CUID != 239873007 ]\n",
        "train = train[train.CUID != 246682000 ]\n",
        "train = train[train.CUID != 246975001 ]\n",
        "train = train[train.CUID != 247408001 ]\n",
        "train = train[train.CUID != 247994001 ]\n",
        "train = train[train.CUID != 248223005 ]\n",
        "train = train[train.CUID != 248234008 ]\n",
        "train = train[train.CUID != 248422003 ]\n",
        "train = train[train.CUID != 248653008 ]\n",
        "train = train[train.CUID != 249366005 ]\n",
        "train = train[train.CUID != 249477003 ]\n",
        "train = train[train.CUID != 249912007 ]\n",
        "train = train[train.CUID != 249916005 ]\n",
        "train = train[train.CUID != 254935002 ]\n",
        "train = train[train.CUID != 267073005 ]\n",
        "train = train[train.CUID != 267078001 ]\n",
        "train = train[train.CUID != 267728009 ]\n",
        "train = train[train.CUID != 271584002 ]\n",
        "train = train[train.CUID != 271596009 ]\n",
        "train = train[train.CUID != 271599002 ]\n",
        "train = train[train.CUID != 271951008 ]\n",
        "train = train[train.CUID != 272022009 ]\n",
        "train = train[train.CUID != 278999000 ]\n",
        "train = train[train.CUID != 279093005 ]\n",
        "train = train[train.CUID != 282872002 ]\n",
        "train = train[train.CUID != 282937004 ]\n",
        "train = train[train.CUID != 283050005 ]\n",
        "train = train[train.CUID != 285305004 ]\n",
        "train = train[train.CUID != 285397001 ]\n",
        "train = train[train.CUID != 287046004 ]\n",
        "train = train[train.CUID != 289621007 ]\n",
        "train = train[train.CUID != 298241001 ]\n",
        "train = train[train.CUID != 298751004 ]\n",
        "train = train[train.CUID != 298870001 ]\n",
        "train = train[train.CUID != 299933002 ]\n",
        "train = train[train.CUID != 300043006 ]\n",
        "train = train[train.CUID != 300956001 ]\n",
        "train = train[train.CUID != 301026000 ]\n",
        "train = train[train.CUID != 301660008 ]\n",
        "train = train[train.CUID != 307077003 ]\n",
        "train = train[train.CUID != 307413004 ]\n",
        "train = train[train.CUID != 309257005 ]\n",
        "train = train[train.CUID != 309838005 ]\n",
        "train = train[train.CUID != 314983004 ]\n",
        "train = train[train.CUID != 363058009 ]\n",
        "train = train[train.CUID != 372283008 ]\n",
        "train = train[train.CUID != 387801000 ]\n",
        "train = train[train.CUID != 401269004 ]\n",
        "train = train[train.CUID != 420990001 ]\n",
        "train = train[train.CUID != 423052008 ]\n",
        "train = train[train.CUID != 425772008 ]\n",
        "train = train[train.CUID != 440630006 ]\n",
        "train = train[train.CUID != 473008002 ]\n",
        "train = train[train.CUID != 609410002 ]\n",
        "train = train[train.CUID != 699262001 ]\n",
        "train = train[train.CUID != 699368004 ]\n",
        "train = train[train.CUID != 3481000168101 ]\n",
        "train = train[train.CUID != 15611000168108 ]\n",
        "train = train[train.CUID != 25701000168107 ]\n",
        "train = train[train.CUID != 59781000168101 ]\n",
        "train = train[train.CUID != 3003011000036100 ]\n",
        "train = train[train.CUID != 3589011000036101 ]\n",
        "train = train[train.CUID != 3659011000036102 ]\n",
        "train = train[train.CUID != 3702011000036109 ]\n",
        "train = train[train.CUID != 4156011000036108 ]\n",
        "train = train[train.CUID != 21605011000036100 ]\n",
        "train = train[train.CUID != 21624011000036105 ]\n",
        "train = train[train.CUID != 21747011000036106 ]\n",
        "train = train[train.CUID != 21809011000036108 ]\n",
        "train = train[train.CUID != 21839011000036103 ]\n",
        "train = train[train.CUID != 21911011000036104 ]\n",
        "train = train[train.CUID != 22095011000036109 ]\n",
        "train = train[train.CUID != 31645011000036106 ]\n",
        "train = train[train.CUID != 37714011000036108 ]\n",
        "train = train[train.CUID != 54020011000036108 ]\n",
        "train = train[train.CUID != 69821011000036104 ]\n",
        "train = train[train.CUID != 70270011000036104 ]\n",
        "train = train[train.CUID != 77442011000036106 ]\n",
        "train = train[train.CUID != 923927011000036105 ]\n",
        "train = train[train.CUID != 102598000 ]\n",
        "train = train[train.CUID != 35918011000036106 ]\n",
        "train = train[train.CUID != 267038008 ]\n",
        "train = train[train.CUID != 444899003 ]\n",
        "train = train[train.CUID != 34839011000036106 ]\n",
        "train = train[train.CUID != 26413003 ]\n",
        "train = train[train.CUID != 30811009 ]\n",
        "train = train[train.CUID != 33308003 ]\n",
        "train = train[train.CUID != 39621005 ]\n",
        "train = train[train.CUID != 84946008 ]\n",
        "train = train[train.CUID != 91019004 ]\n",
        "train = train[train.CUID != 134407002 ]\n",
        "train = train[train.CUID != 233604007 ]\n",
        "train = train[train.CUID != 239965002 ]\n",
        "train = train[train.CUID != 249898006 ]\n",
        "train = train[train.CUID != 262558009 ]\n",
        "train = train[train.CUID != 3545003 ]\n",
        "train = train[train.CUID != 18165001 ]\n",
        "train = train[train.CUID != 23502006 ]\n",
        "train = train[train.CUID != 31681005 ]\n",
        "train = train[train.CUID != 40806005 ]\n",
        "train = train[train.CUID != 40930008 ]\n",
        "train = train[train.CUID != 44548000 ]\n",
        "train = train[train.CUID != 45979003 ]\n",
        "train = train[train.CUID != 56317004 ]\n",
        "train = train[train.CUID != 67233009 ]\n",
        "train = train[train.CUID != 68235000 ]\n",
        "train = train[train.CUID != 83421005 ]\n",
        "train = train[train.CUID != 95359001 ]\n",
        "train = train[train.CUID != 162221009 ]\n",
        "train = train[train.CUID != 228148009 ]\n",
        "train = train[train.CUID != 249940002 ]\n",
        "train = train[train.CUID != 267045008 ]\n",
        "train = train[train.CUID != 271737000 ]\n",
        "train = train[train.CUID != 271787007 ]\n",
        "train = train[train.CUID != 285849008 ]\n",
        "train = train[train.CUID != 288332005 ]\n",
        "train = train[train.CUID != 307496006 ]\n",
        "train = train[train.CUID != 310495003 ]\n",
        "train = train[train.CUID != 367466007 ]\n",
        "train = train[train.CUID != 427475007 ]\n",
        "train = train[train.CUID != 449614009 ]\n",
        "train = train[train.CUID != 473011001 ]\n",
        "train = train[train.CUID != 2531000168109 ]\n",
        "train = train[train.CUID != 2929011000036108 ]\n",
        "train = train[train.CUID != 21486011000036105 ]\n",
        "train = train[train.CUID != 18101008 ]\n",
        "train = train[train.CUID != 28743005 ]\n",
        "train = train[train.CUID != 29164008 ]\n",
        "train = train[train.CUID != 35678005 ]\n",
        "train = train[train.CUID != 59927004 ]\n",
        "train = train[train.CUID != 61387006 ]\n",
        "train = train[train.CUID != 61599003 ]\n",
        "train = train[train.CUID != 75088002 ]\n",
        "train = train[train.CUID != 77547008 ]\n",
        "train = train[train.CUID != 78860006 ]\n",
        "train = train[train.CUID != 81498004 ]\n",
        "train = train[train.CUID != 82272006 ]\n",
        "train = train[train.CUID != 102572006 ]\n",
        "train = train[train.CUID != 124055002 ]\n",
        "train = train[train.CUID != 165509000 ]\n",
        "train = train[train.CUID != 166584001 ]\n",
        "train = train[train.CUID != 202472008 ]\n",
        "train = train[train.CUID != 225549006 ]\n",
        "train = train[train.CUID != 225601007 ]\n",
        "train = train[train.CUID != 249902000 ]\n",
        "train = train[train.CUID != 266599000 ]\n",
        "train = train[train.CUID != 266601003 ]\n",
        "train = train[train.CUID != 267950000 ]\n",
        "train = train[train.CUID != 279069000 ]\n",
        "train = train[train.CUID != 284143002 ]\n",
        "train = train[train.CUID != 286369003 ]\n",
        "train = train[train.CUID != 286381004 ]\n",
        "train = train[train.CUID != 286755001 ]\n",
        "train = train[train.CUID != 299954009 ]\n",
        "train = train[train.CUID != 300381009 ]\n",
        "train = train[train.CUID != 300955002 ]\n",
        "train = train[train.CUID != 371081002 ]\n",
        "train = train[train.CUID != 373932008 ]\n",
        "train = train[train.CUID != 399269003 ]\n",
        "train = train[train.CUID != 418648005 ]\n",
        "train = train[train.CUID != 424196004 ]\n",
        "train = train[train.CUID != 4230011000036107 ]\n",
        "train = train[train.CUID != 4422011000036109 ]\n",
        "train = train[train.CUID != 21290011000036100 ]\n",
        "train = train[train.CUID != 21322011000036108 ]\n",
        "train = train[train.CUID != 32970011000036103 ]\n",
        "train = train[train.CUID != 78584011000036106 ]\n",
        "train = train[train.CUID != 2764000 ]\n",
        "train = train[train.CUID != 4249000 ]\n",
        "train = train[train.CUID != 11072008 ]\n",
        "train = train[train.CUID != 17369002 ]\n",
        "train = train[train.CUID != 17971005 ]\n",
        "train = train[train.CUID != 27355003 ]\n",
        "train = train[train.CUID != 36630001 ]\n",
        "train = train[train.CUID != 40095003 ]\n",
        "train = train[train.CUID != 40196000 ]\n",
        "train = train[train.CUID != 43005009 ]\n",
        "train = train[train.CUID != 46991000 ]\n",
        "train = train[train.CUID != 52448006 ]\n",
        "train = train[train.CUID != 60728008 ]\n",
        "train = train[train.CUID != 70076002 ]\n",
        "train = train[train.CUID != 70153002 ]\n",
        "train = train[train.CUID != 102617004 ]\n",
        "train = train[train.CUID != 102897001 ]\n",
        "train = train[train.CUID != 111516008 ]\n",
        "train = train[train.CUID != 161903000 ]\n",
        "train = train[train.CUID != 202852009 ]\n",
        "train = train[train.CUID != 225581002 ]\n",
        "train = train[train.CUID != 246676003 ]\n",
        "train = train[train.CUID != 248262001 ]\n",
        "train = train[train.CUID != 249918006 ]\n",
        "train = train[train.CUID != 271137009 ]\n",
        "train = train[train.CUID != 271713000 ]\n",
        "train = train[train.CUID != 271834000 ]\n",
        "train = train[train.CUID != 271835004 ]\n",
        "train = train[train.CUID != 274667000 ]\n",
        "train = train[train.CUID != 284151004 ]\n",
        "train = train[train.CUID != 284262007 ]\n",
        "train = train[train.CUID != 285395009 ]\n",
        "train = train[train.CUID != 287045000 ]\n",
        "train = train[train.CUID != 288335007 ]\n",
        "train = train[train.CUID != 304534000 ]\n",
        "train = train[train.CUID != 309249007 ]\n",
        "train = train[train.CUID != 419076005 ]\n",
        "train = train[train.CUID != 420103007 ]\n",
        "train = train[train.CUID != 429513001 ]\n",
        "train = train[train.CUID != 445178008 ]\n",
        "train = train[train.CUID != 609599003 ]\n",
        "train = train[train.CUID != 26171000168109 ]\n",
        "train = train[train.CUID != 2297011000036108 ]\n",
        "train = train[train.CUID != 21296011000036107 ]\n",
        "train = train[train.CUID != 21659011000036107 ]\n",
        "train = train[train.CUID != 76000011000036107 ]\n",
        "train = train[train.CUID != 77422011000036109 ]\n",
        "train = train[train.CUID != 21005005 ]\n",
        "train = train[train.CUID != 31384009 ]\n",
        "train = train[train.CUID != 41652007 ]\n",
        "train = train[train.CUID != 44186003 ]\n",
        "train = train[train.CUID != 105504002 ]\n",
        "train = train[train.CUID != 122481008 ]\n",
        "train = train[train.CUID != 128239009 ]\n",
        "train = train[train.CUID != 249914008 ]\n",
        "train = train[train.CUID != 249917001 ]\n",
        "train = train[train.CUID != 266257000 ]\n",
        "train = train[train.CUID != 267079009 ]\n",
        "train = train[train.CUID != 370143000 ]\n",
        "train = train[train.CUID != 371632003 ]\n",
        "train = train[train.CUID != 397803000 ]\n",
        "train = train[train.CUID != 415749005 ]\n",
        "train = train[train.CUID != 421262002 ]\n",
        "train = train[train.CUID != 426965005 ]\n",
        "train = train[train.CUID != 429340002 ]\n",
        "train = train[train.CUID != 21238011000036103 ]\n",
        "train = train[train.CUID != 68566005 ]\n",
        "train = train[train.CUID != 224962007 ]\n",
        "train = train[train.CUID != 16269008 ]\n",
        "train = train[train.CUID != 249489001 ]\n",
        "train = train[train.CUID != 3210011000036104 ]\n",
        "train = train[train.CUID != 21520011000036107 ]\n",
        "train = train[train.CUID != 3253007 ]\n",
        "train = train[train.CUID != 22631008 ]\n",
        "train = train[train.CUID != 46635009 ]\n",
        "train = train[train.CUID != 53741008 ]\n",
        "train = train[train.CUID != 80182007 ]\n",
        "train = train[train.CUID != 445445006 ]\n",
        "train = train[train.CUID != 21821011000036104 ]\n",
        "train = train[train.CUID != 7011001 ]\n",
        "train = train[train.CUID != 8392000 ]\n",
        "train = train[train.CUID != 13746004 ]\n",
        "train = train[train.CUID != 34095006 ]\n",
        "train = train[train.CUID != 36971009 ]\n",
        "train = train[train.CUID != 43498006 ]\n",
        "train = train[train.CUID != 67251005 ]\n",
        "train = train[train.CUID != 130989002 ]\n",
        "train = train[train.CUID != 165232002 ]\n",
        "train = train[train.CUID != 202482009 ]\n",
        "train = train[train.CUID != 225610004 ]\n",
        "train = train[train.CUID != 299037003 ]\n",
        "train = train[train.CUID != 3572011000036102 ]\n",
        "train = train[train.CUID != 6205011000036102 ]\n",
        "train = train[train.CUID != 21286011000036106 ]\n",
        "train = train[train.CUID != 10743008 ]\n",
        "train = train[train.CUID != 21134002 ]\n",
        "train = train[train.CUID != 30473006 ]\n",
        "train = train[train.CUID != 44695005 ]\n",
        "train = train[train.CUID != 52702003 ]\n",
        "train = train[train.CUID != 95421005 ]\n",
        "train = train[train.CUID != 95847005 ]\n",
        "train = train[train.CUID != 161898004 ]\n",
        "train = train[train.CUID != 167232003 ]\n",
        "train = train[train.CUID != 236423003 ]\n",
        "train = train[train.CUID != 237130006 ]\n",
        "train = train[train.CUID != 238131007 ]\n",
        "train = train[train.CUID != 239720000 ]\n",
        "train = train[train.CUID != 249472009 ]\n",
        "train = train[train.CUID != 271767006 ]\n",
        "train = train[train.CUID != 271801002 ]\n",
        "train = train[train.CUID != 274676007 ]\n",
        "train = train[train.CUID != 280816001 ]\n",
        "train = train[train.CUID != 299322007 ]\n",
        "train = train[train.CUID != 315224006 ]\n",
        "train = train[train.CUID != 361137007 ]\n",
        "train = train[train.CUID != 371405004 ]\n",
        "train = train[train.CUID != 397540003 ]\n",
        "train = train[train.CUID != 698247007 ]\n",
        "train = train[train.CUID != 69813011000036107 ]\n",
        "train = train[train.CUID != 4740000 ]\n",
        "train = train[train.CUID != 7006003 ]\n",
        "train = train[train.CUID != 14151009 ]\n",
        "train = train[train.CUID != 18193002 ]\n",
        "train = train[train.CUID != 26237000 ]\n",
        "train = train[train.CUID != 42984000 ]\n",
        "train = train[train.CUID != 48926009 ]\n",
        "train = train[train.CUID != 55350005 ]\n",
        "train = train[train.CUID != 61372001 ]\n",
        "train = train[train.CUID != 102498003 ]\n",
        "train = train[train.CUID != 102943000 ]\n",
        "train = train[train.CUID != 118932009 ]\n",
        "train = train[train.CUID != 247464001 ]\n",
        "train = train[train.CUID != 247472004 ]\n",
        "train = train[train.CUID != 275921007 ]\n",
        "train = train[train.CUID != 277223000 ]\n",
        "train = train[train.CUID != 308925008 ]\n",
        "train = train[train.CUID != 309557009 ]\n",
        "train = train[train.CUID != 448589005 ]\n",
        "train = train[train.CUID != 6206011000036109 ]\n",
        "train = train[train.CUID != 32643011000036106 ]\n",
        "train = train[train.CUID != 12584003 ]\n",
        "train = train[train.CUID != 22325002 ]\n",
        "train = train[train.CUID != 64226004 ]\n",
        "train = train[train.CUID != 82423001 ]\n",
        "train = train[train.CUID != 95418008 ]\n",
        "train = train[train.CUID != 103002009 ]\n",
        "train = train[train.CUID != 129103003 ]\n",
        "train = train[train.CUID != 166848004 ]\n",
        "train = train[train.CUID != 202855006 ]\n",
        "train = train[train.CUID != 279084009 ]\n",
        "train = train[train.CUID != 282180007 ]\n",
        "train = train[train.CUID != 417237009 ]\n",
        "train = train[train.CUID != 424647005 ]\n",
        "train = train[train.CUID != 429040005 ]\n",
        "train = train[train.CUID != 609600000 ]\n",
        "train = train[train.CUID != 101000119102 ]\n",
        "train = train[train.CUID != 21252011000036100 ]\n",
        "train = train[train.CUID != 21606011000036107 ]\n",
        "train = train[train.CUID != 26889001 ]\n",
        "train = train[train.CUID != 32798002 ]\n",
        "train = train[train.CUID != 90446007 ]\n",
        "train = train[train.CUID != 162116003 ]\n",
        "train = train[train.CUID != 248132003 ]\n",
        "train = train[train.CUID != 301679006 ]\n",
        "train = train[train.CUID != 310501001 ]\n",
        "train = train[train.CUID != 4138011000036106 ]\n",
        "train = train[train.CUID != 21662011000036107 ]\n",
        "train = train[train.CUID != 40733004 ]\n",
        "train = train[train.CUID != 281016006 ]\n",
        "train = train[train.CUID != 57406009 ]\n",
        "train = train[train.CUID != 418092006 ]\n",
        "train = train[train.CUID != 11654001 ]\n",
        "train = train[train.CUID != 76742009 ]\n",
        "train = train[train.CUID != 125667009 ]\n",
        "train = train[train.CUID != 287047008 ]\n",
        "train = train[train.CUID != 288227007 ]\n",
        "train = train[train.CUID != 12063002 ]\n",
        "train = train[train.CUID != 39400004 ]\n",
        "train = train[train.CUID != 59050008 ]\n",
        "train = train[train.CUID != 161874006 ]\n",
        "train = train[train.CUID != 225014007 ]\n",
        "train = train[train.CUID != 247441003 ]\n",
        "train = train[train.CUID != 373931001 ]\n",
        "train = train[train.CUID != 21433011000036107 ]\n",
        "train = train[train.CUID != 21719011000036107 ]\n",
        "train = train[train.CUID != 48532005 ]\n",
        "train = train[train.CUID != 54586004 ]\n",
        "train = train[train.CUID != 75694006 ]\n",
        "train = train[train.CUID != 83547004 ]\n",
        "train = train[train.CUID != 248236005 ]\n",
        "train = train[train.CUID != 275319005 ]\n",
        "train = train[train.CUID != 288885009 ]\n",
        "train = train[train.CUID != 309087008 ]\n",
        "train = train[train.CUID != 314109004 ]\n",
        "train = train[train.CUID != 396275006 ]\n",
        "train = train[train.CUID != 399122003 ]\n",
        "train = train[train.CUID != 444827008 ]\n",
        "train = train[train.CUID != 9126005 ]\n",
        "train = train[train.CUID != 26929004 ]\n",
        "train = train[train.CUID != 43116000 ]\n",
        "train = train[train.CUID != 50219008 ]\n",
        "train = train[train.CUID != 53430007 ]\n",
        "train = train[train.CUID != 56731001 ]\n",
        "train = train[train.CUID != 82971005 ]\n",
        "train = train[train.CUID != 249938007 ]\n",
        "train = train[train.CUID != 258155009 ]\n",
        "train = train[train.CUID != 281245003 ]\n",
        "train = train[train.CUID != 284140004 ]\n",
        "train = train[train.CUID != 299042006 ]\n",
        "train = train[train.CUID != 309536001 ]\n",
        "train = train[train.CUID != 397825006 ]\n",
        "train = train[train.CUID != 399114005 ]\n",
        "train = train[train.CUID != 432352001 ]\n",
        "train = train[train.CUID != 23056005 ]\n",
        "train = train[train.CUID != 32398004 ]\n",
        "train = train[train.CUID != 72405004 ]\n",
        "train = train[train.CUID != 116289008 ]\n",
        "train = train[train.CUID != 236620008 ]\n",
        "train = train[train.CUID != 247753000 ]\n",
        "train = train[train.CUID != 249915009 ]\n",
        "train = train[train.CUID != 428061005 ]\n",
        "train = train[train.CUID != 73589001 ]\n",
        "train = train[train.CUID != 87486003 ]\n",
        "train = train[train.CUID != 162043005 ]\n",
        "train = train[train.CUID != 267064002 ]\n",
        "train = train[train.CUID != 271870002 ]\n",
        "train = train[train.CUID != 299060006 ]\n",
        "train = train[train.CUID != 6471006 ]\n",
        "train = train[train.CUID != 53523011000036100 ]\n",
        "train = train[train.CUID != 47004009 ]\n",
        "train = train[train.CUID != 298753001 ]\n",
        "train = train[train.CUID != 70733008 ]\n",
        "train = train[train.CUID != 297217002 ]\n",
        "train = train[train.CUID != 419145002 ]\n",
        "train = train[train.CUID != 419581008 ]\n",
        "train = train[train.CUID != 24199005 ]\n",
        "train = train[train.CUID != 36955009 ]\n",
        "train = train[train.CUID != 85418005 ]\n",
        "train = train[train.CUID != 247323005 ]\n",
        "train = train[train.CUID != 247347003 ]\n",
        "train = train[train.CUID != 386806002 ]\n",
        "train = train[train.CUID != 405729008 ]\n",
        "train = train[train.CUID != 47268002 ]\n",
        "train = train[train.CUID != 55145008 ]\n",
        "train = train[train.CUID != 80690008 ]\n",
        "train = train[train.CUID != 248491001 ]\n",
        "train = train[train.CUID != 267949000 ]\n",
        "train = train[train.CUID != 267953003 ]\n",
        "train = train[train.CUID != 271594007 ]\n",
        "train = train[train.CUID != 274663001 ]\n",
        "train = train[train.CUID != 21343011000036103 ]\n",
        "train = train[train.CUID != 21545007 ]\n",
        "train = train[train.CUID != 193093009 ]\n",
        "train = train[train.CUID != 202480001 ]\n",
        "train = train[train.CUID != 274279008 ]\n",
        "train = train[train.CUID != 301202006 ]\n",
        "train = train[train.CUID != 77461011000036109 ]\n",
        "train = train[train.CUID != 84017003 ]\n",
        "train = train[train.CUID != 282195009 ]\n",
        "train = train[train.CUID != 363346000 ]\n",
        "train = train[train.CUID != 3298011000036103 ]\n",
        "train = train[train.CUID != 102480002 ]\n",
        "train = train[train.CUID != 3559011000036109 ]\n",
        "train = train[train.CUID != 86651002 ]\n",
        "train = train[train.CUID != 426899007 ]\n",
        "train = train[train.CUID != 18876004 ]\n",
        "train = train[train.CUID != 278528006 ]\n",
        "train = train[train.CUID != 4216011000036104 ]\n",
        "train = train[train.CUID != 21779011000036103 ]\n",
        "train = train[train.CUID != 56608008 ]\n",
        "train = train[train.CUID != 165247006 ]\n",
        "train = train[train.CUID != 195967001 ]\n",
        "train = train[train.CUID != 262286000 ]\n",
        "train = train[train.CUID != 279038004 ]\n",
        "train = train[train.CUID != 62476001 ]\n",
        "train = train[train.CUID != 197321007 ]\n",
        "train = train[train.CUID != 271832001 ]\n",
        "train = train[train.CUID != 288230000 ]\n",
        "train = train[train.CUID != 309539008 ]\n",
        "train = train[train.CUID != 4344011000036106 ]\n",
        "train = train[train.CUID != 21496011000036106 ]\n",
        "train = train[train.CUID != 162352007 ]\n",
        "train = train[train.CUID != 248096004 ]\n",
        "train = train[train.CUID != 249913002 ]\n",
        "train = train[train.CUID != 250082003 ]\n",
        "train = train[train.CUID != 420038007 ]\n",
        "train = train[train.CUID != 8708008 ]\n",
        "train = train[train.CUID != 52613005 ]\n",
        "train = train[train.CUID != 89362005 ]\n",
        "train = train[train.CUID != 309538000 ]\n",
        "train = train[train.CUID != 44054006 ]\n",
        "train = train[train.CUID != 3530011000036104 ]\n",
        "train = train[train.CUID != 213257006 ]\n",
        "train = train[train.CUID != 21565011000036108 ]\n",
        "train = train[train.CUID != 300306001 ]\n",
        "train = train[train.CUID != 162290004 ]\n",
        "train = train[train.CUID != 166892002 ]\n",
        "train = train[train.CUID != 250069006 ]\n",
        "train = train[train.CUID != 288228002 ]\n",
        "train = train[train.CUID != 3424008 ]\n",
        "train = train[train.CUID != 8510008 ]\n",
        "train = train[train.CUID != 225624000 ]\n",
        "train = train[train.CUID != 248277009 ]\n",
        "train = train[train.CUID != 267039000 ]\n",
        "train = train[train.CUID != 43724002 ]\n",
        "train = train[train.CUID != 57182000 ]\n",
        "train = train[train.CUID != 23924001 ]\n",
        "train = train[train.CUID != 398032003 ]\n",
        "train = train[train.CUID != 162397003 ]\n",
        "train = train[train.CUID != 449918009 ]\n",
        "train = train[train.CUID != 39575007 ]\n",
        "train = train[train.CUID != 202882003 ]\n",
        "train = train[train.CUID != 225609009 ]\n",
        "train = train[train.CUID != 288226003 ]\n",
        "train = train[train.CUID != 289195008 ]\n",
        "train = train[train.CUID != 415690000 ]\n",
        "train = train[train.CUID != 386661006 ]\n",
        "train = train[train.CUID != 29542008 ]\n",
        "train = train[train.CUID != 34436003 ]\n",
        "train = train[train.CUID != 36349006 ]\n",
        "train = train[train.CUID != 90708001 ]\n",
        "train = train[train.CUID != 240131006 ]\n",
        "train = train[train.CUID != 267044007 ]\n",
        "train = train[train.CUID != 288939007 ]\n",
        "train = train[train.CUID != 69791001 ]\n",
        "train = train[train.CUID != 309537005 ]\n",
        "train = train[train.CUID != 310497006 ]\n",
        "train = train[train.CUID != 3080011000036109 ]\n",
        "train = train[train.CUID != 203095000 ]\n",
        "train = train[train.CUID != 309086004 ]\n",
        "train = train[train.CUID != 42399005 ]\n",
        "train = train[train.CUID != 16046003 ]\n",
        "train = train[train.CUID != 297142003 ]\n",
        "train = train[train.CUID != 301676004 ]\n",
        "train = train[train.CUID != 16386004 ]\n",
        "train = train[train.CUID != 238810007 ]\n",
        "train = train[train.CUID != 161873000 ]\n",
        "train = train[train.CUID != 77436011000036106 ]\n",
        "train = train[train.CUID != 53215011000036102 ]\n",
        "train = train[train.CUID != 53458011000036102 ]\n",
        "train = train[train.CUID != 6142004 ]\n",
        "train = train[train.CUID != 69896004 ]\n",
        "train = train[train.CUID != 84445001 ]\n",
        "train = train[train.CUID != 16973004 ]\n",
        "train = train[train.CUID != 38341003 ]\n",
        "train = train[train.CUID != 48500005 ]\n",
        "train = train[train.CUID != 214264003 ]\n",
        "train = train[train.CUID != 429783005 ]\n",
        "train = train[train.CUID != 87715008 ]\n",
        "train = train[train.CUID != 931804011000036107 ]\n",
        "train = train[train.CUID != 16331000 ]\n",
        "train = train[train.CUID != 55533009 ]\n",
        "train = train[train.CUID != 73595000 ]\n",
        "train = train[train.CUID != 128139000 ]\n",
        "train = train[train.CUID != 2733002 ]\n",
        "train = train[train.CUID != 90560007 ]\n",
        "train = train[train.CUID != 230145002 ]\n",
        "train = train[train.CUID != 49727002 ]\n",
        "train = train[train.CUID != 79890006 ]\n",
        "train = train[train.CUID != 249966004 ]\n",
        "train = train[train.CUID != 282299006 ]\n",
        "train = train[train.CUID != 386692008 ]\n",
        "train = train[train.CUID != 418363000 ]\n",
        "train = train[train.CUID != 6285003 ]\n",
        "train = train[train.CUID != 81680008 ]\n",
        "train = train[train.CUID != 425423002 ]\n",
        "train = train[train.CUID != 166717003 ]\n",
        "train = train[train.CUID != 161882006 ]\n",
        "train = train[train.CUID != 166643006 ]\n",
        "train = train[train.CUID != 39104002 ]\n",
        "train = train[train.CUID != 286641001 ]\n",
        "train = train[train.CUID != 431416001 ]\n",
        "train = train[train.CUID != 77692006 ]\n",
        "train = train[train.CUID != 289903006 ]\n",
        "train = train[train.CUID != 21288011000036105 ]\n",
        "train = train[train.CUID != 26329005 ]\n",
        "train = train[train.CUID != 32914008 ]\n",
        "train = train[train.CUID != 36031001 ]\n",
        "train = train[train.CUID != 200936003 ]\n",
        "train = train[train.CUID != 285365001 ]\n",
        "train = train[train.CUID != 309521004 ]\n",
        "train = train[train.CUID != 9991008 ]\n",
        "train = train[train.CUID != 49049000 ]\n",
        "train = train[train.CUID != 78514002 ]\n",
        "train = train[train.CUID != 24184005 ]\n",
        "train = train[train.CUID != 21885011000036105 ]\n",
        "train = train[train.CUID != 162031009 ]\n",
        "train = train[train.CUID != 4171011000036100 ]\n",
        "train = train[train.CUID != 247640008 ]\n",
        "train = train[train.CUID != 267032009 ]\n",
        "train = train[train.CUID != 230690007 ]\n",
        "train = train[train.CUID != 24700007 ]\n",
        "train = train[train.CUID != 34840004 ]\n",
        "train = train[train.CUID != 80313002 ]\n",
        "train = train[train.CUID != 302226006 ]\n",
        "train = train[train.CUID != 102551008 ]\n",
        "train = train[train.CUID != 698065002 ]\n",
        "train = train[train.CUID != 67849003 ]\n",
        "train = train[train.CUID != 74323005 ]\n",
        "train = train[train.CUID != 426206001 ]\n",
        "train = train[train.CUID != 166830008 ]\n",
        "train = train[train.CUID != 271782001 ]\n",
        "train = train[train.CUID != 386033004 ]\n",
        "train = train[train.CUID != 21242011000036102 ]\n",
        "train = train[train.CUID != 37796009 ]\n",
        "train = train[train.CUID != 250084002 ]\n",
        "train = train[train.CUID != 53057004 ]\n",
        "train = train[train.CUID != 235856003 ]\n",
        "train = train[train.CUID != 45352006 ]\n",
        "train = train[train.CUID != 21417011000036105 ]\n",
        "train = train[train.CUID != 86044005 ]\n",
        "train = train[train.CUID != 40917007 ]\n",
        "train = train[train.CUID != 60862001 ]\n",
        "train = train[train.CUID != 277521002 ]\n",
        "train = train[train.CUID != 18963009 ]\n",
        "train = train[train.CUID != 65124004 ]\n",
        "train = train[train.CUID != 367391008 ]\n",
        "train = train[train.CUID != 73211009 ]\n",
        "train = train[train.CUID != 21930011000036101 ]\n",
        "train = train[train.CUID != 387603000 ]\n",
        "train = train[train.CUID != 24693007 ]\n",
        "train = train[train.CUID != 288231001 ]\n",
        "train = train[train.CUID != 422400008 ]\n",
        "train = train[train.CUID != 60238002 ]\n",
        "train = train[train.CUID != 247373008 ]\n",
        "train = train[train.CUID != 26079004 ]\n",
        "train = train[train.CUID != 60119000 ]\n",
        "train = train[train.CUID != 4031011000036106 ]\n",
        "train = train[train.CUID != 55929007 ]\n",
        "train = train[train.CUID != 289530006 ]\n",
        "train = train[train.CUID != 267052005 ]\n",
        "train = train[train.CUID != 267036007 ]\n",
        "train = train[train.CUID != 8943002 ]\n",
        "train = train[train.CUID != 267031002 ]\n",
        "train = train[train.CUID != 56265001 ]\n",
        "train = train[train.CUID != 8357008 ]\n",
        "train = train[train.CUID != 54981004 ]\n",
        "train = train[train.CUID != 418290006 ]\n",
        "train = train[train.CUID != 124054003 ]\n",
        "train = train[train.CUID != 77435011000036104 ]\n",
        "train = train[train.CUID != 248255005 ]\n",
        "train = train[train.CUID != 386705008 ]\n",
        "train = train[train.CUID != 90673000 ]\n",
        "train = train[train.CUID != 248274002 ]\n",
        "train = train[train.CUID != 21522001 ]\n",
        "train = train[train.CUID != 63102001 ]\n",
        "train = train[train.CUID != 60032008 ]\n",
        "train = train[train.CUID != 131148009 ]\n",
        "train = train[train.CUID != 301345002 ]\n",
        "train = train[train.CUID != 300954003 ]\n",
        "train = train[train.CUID != 102556003 ]\n",
        "train = train[train.CUID != 282145008 ]\n",
        "train = train[train.CUID != 399153001 ]\n",
        "train = train[train.CUID != 162059005 ]\n",
        "train = train[train.CUID != 271587009 ]\n",
        "train = train[train.CUID != 44077006 ]\n",
        "train = train[train.CUID != 95891005 ]\n",
        "train = train[train.CUID != 271807003 ]\n",
        "train = train[train.CUID != 28551000168108 ]\n",
        "train = train[train.CUID != 80449002 ]\n",
        "train = train[train.CUID != 51197009 ]\n",
        "train = train[train.CUID != 29857009 ]\n",
        "train = train[train.CUID != 3848011000036104 ]\n",
        "train = train[train.CUID != 247592009 ]\n",
        "train = train[train.CUID != 248490000 ]\n",
        "train = train[train.CUID != 129565002 ]\n",
        "train = train[train.CUID != 14760008 ]\n",
        "train = train[train.CUID != 48694002 ]\n",
        "train = train[train.CUID != 279039007 ]\n",
        "train = train[train.CUID != 246636008 ]\n",
        "train = train[train.CUID != 386807006 ]\n",
        "train = train[train.CUID != 82991003 ]\n",
        "train = train[train.CUID != 88092000 ]\n",
        "train = train[train.CUID != 224960004 ]\n",
        "train = train[train.CUID != 419723007 ]\n",
        "train = train[train.CUID != 77424011000036100 ]"
      ],
      "execution_count": 0,
      "outputs": []
    },
    {
      "metadata": {
        "id": "1lc54bRQdtgC",
        "colab_type": "code",
        "outputId": "4acd5313-4ab8-4d68-88d8-6de0ab230d77",
        "colab": {
          "base_uri": "https://localhost:8080/",
          "height": 35
        }
      },
      "cell_type": "code",
      "source": [
        "train.shape"
      ],
      "execution_count": 58,
      "outputs": [
        {
          "output_type": "execute_result",
          "data": {
            "text/plain": [
              "(76616, 3)"
            ]
          },
          "metadata": {
            "tags": []
          },
          "execution_count": 58
        }
      ]
    },
    {
      "metadata": {
        "id": "6d2PbUO9duYf",
        "colab_type": "code",
        "outputId": "39a27ba6-1c87-47f0-edf4-e860ae35bed7",
        "colab": {
          "base_uri": "https://localhost:8080/",
          "height": 35
        }
      },
      "cell_type": "code",
      "source": [
        "train.Disease.nunique()"
      ],
      "execution_count": 59,
      "outputs": [
        {
          "output_type": "execute_result",
          "data": {
            "text/plain": [
              "34"
            ]
          },
          "metadata": {
            "tags": []
          },
          "execution_count": 59
        }
      ]
    },
    {
      "metadata": {
        "id": "O_bMaw2zBwu6",
        "colab_type": "code",
        "outputId": "4282c128-dd8e-47ae-ba83-81f102aec673",
        "colab": {
          "base_uri": "https://localhost:8080/",
          "height": 35
        }
      },
      "cell_type": "code",
      "source": [
        "train.CUID.nunique()"
      ],
      "execution_count": 60,
      "outputs": [
        {
          "output_type": "execute_result",
          "data": {
            "text/plain": [
              "34"
            ]
          },
          "metadata": {
            "tags": []
          },
          "execution_count": 60
        }
      ]
    },
    {
      "metadata": {
        "id": "Fgo9xqp1eDPE",
        "colab_type": "code",
        "outputId": "168a280e-5f68-49a1-9abb-d50de719e4ef",
        "colab": {
          "base_uri": "https://localhost:8080/",
          "height": 653
        }
      },
      "cell_type": "code",
      "source": [
        "train.CUID.value_counts()"
      ],
      "execution_count": 61,
      "outputs": [
        {
          "output_type": "execute_result",
          "data": {
            "text/plain": [
              "3877011000036101    19352\n",
              "22253000             6707\n",
              "68962001             4796\n",
              "76948002             3538\n",
              "55300003             2514\n",
              "84229001             2510\n",
              "57676002             2463\n",
              "35489007             2146\n",
              "162076009            2131\n",
              "25064002             2076\n",
              "13791008             1937\n",
              "161891005            1525\n",
              "10601006             1523\n",
              "62315008             1363\n",
              "26544005             1327\n",
              "449917004            1321\n",
              "62507009             1315\n",
              "48167000             1306\n",
              "193462001            1281\n",
              "49218002             1278\n",
              "404640003            1213\n",
              "228158008            1157\n",
              "422587007            1149\n",
              "30989003             1132\n",
              "3384011000036100     1126\n",
              "45326000             1082\n",
              "271681002            1042\n",
              "47933007              985\n",
              "309774006             953\n",
              "3723001               919\n",
              "278040002             877\n",
              "81680005              872\n",
              "3904011000036106      871\n",
              "22298006              829\n",
              "Name: CUID, dtype: int64"
            ]
          },
          "metadata": {
            "tags": []
          },
          "execution_count": 61
        }
      ]
    },
    {
      "metadata": {
        "id": "rpwyrn7yCq6_",
        "colab_type": "code",
        "outputId": "48736210-3b75-4302-a00d-9cc3eea8a121",
        "colab": {
          "base_uri": "https://localhost:8080/",
          "height": 53
        }
      },
      "cell_type": "code",
      "source": [
        "def print_plot(index):\n",
        "    example = train[train.index == index][['Patient Complaint Narrative', 'Disease']].values[0]\n",
        "    if len(example) > 0:\n",
        "        print(example[0])\n",
        "        print('Disease:', example[1])\n",
        "\n",
        "print_plot(9)"
      ],
      "execution_count": 62,
      "outputs": [
        {
          "output_type": "stream",
          "text": [
            "Severe pain\n",
            "Disease: Severe pain\n"
          ],
          "name": "stdout"
        }
      ]
    },
    {
      "metadata": {
        "id": "XqGyKB0xEQPv",
        "colab_type": "code",
        "colab": {}
      },
      "cell_type": "code",
      "source": [
        "REPLACE_BY_SPACE_RE = re.compile('[/(){}\\[\\]\\|@,;]')\n",
        "BAD_SYMBOLS_RE = re.compile('[^0-9a-z #+_]')\n",
        "STOPWORDS = set(stopwords.words('english'))\n",
        "\n",
        "def clean_text(text):\n",
        "    \"\"\"\n",
        "        text: a string\n",
        "        \n",
        "        return: modified initial string\n",
        "    \"\"\"\n",
        "    text = text.lower() # lowercase text\n",
        "    text = REPLACE_BY_SPACE_RE.sub(' ', text) # replace REPLACE_BY_SPACE_RE symbols by space in text. substitute the matched string in REPLACE_BY_SPACE_RE with space.\n",
        "    text = BAD_SYMBOLS_RE.sub('', text) # remove symbols which are in BAD_SYMBOLS_RE from text. substitute the matched string in BAD_SYMBOLS_RE with nothing. \n",
        "    text = ' '.join(word for word in text.split() if word not in STOPWORDS) # remove stopwors from text\n",
        "    return text"
      ],
      "execution_count": 0,
      "outputs": []
    },
    {
      "metadata": {
        "id": "W8Eud28gEtyc",
        "colab_type": "code",
        "colab": {}
      },
      "cell_type": "code",
      "source": [
        "train['Patient Complaint Narrative'] = train['Patient Complaint Narrative'].apply(clean_text)\n",
        "train['Patient Complaint Narrative'] = train['Patient Complaint Narrative'].str.replace('\\d+', '')"
      ],
      "execution_count": 0,
      "outputs": []
    },
    {
      "metadata": {
        "id": "4FODACOmiKbf",
        "colab_type": "text"
      },
      "cell_type": "markdown",
      "source": [
        "Keras modelling with Bi directional LSTM"
      ]
    },
    {
      "metadata": {
        "id": "Mz4YdXclHUbv",
        "colab_type": "code",
        "outputId": "5287770f-f8b5-4c93-f698-c57d0151ffdd",
        "colab": {
          "base_uri": "https://localhost:8080/",
          "height": 35
        }
      },
      "cell_type": "code",
      "source": [
        "# The maximum number of words to be used. (most frequent)\n",
        "MAX_NB_WORDS = 5000\n",
        "# Max number of words in each complaint.\n",
        "MAX_SEQUENCE_LENGTH = 20\n",
        "# This is fixed.\n",
        "EMBEDDING_DIM = 100\n",
        "\n",
        "tokenizer = Tokenizer(num_words=MAX_NB_WORDS, filters='!\"#$%&()*+,-./:;<=>?@[\\]^_`{|}~', lower=True)\n",
        "tokenizer.fit_on_texts(train['Patient Complaint Narrative'].values)\n",
        "word_index = tokenizer.word_index\n",
        "print('Found %s unique tokens.' % len(word_index))"
      ],
      "execution_count": 0,
      "outputs": [
        {
          "output_type": "stream",
          "text": [
            "Found 540 unique tokens.\n"
          ],
          "name": "stdout"
        }
      ]
    },
    {
      "metadata": {
        "id": "lcB3e7ksHe_3",
        "colab_type": "code",
        "outputId": "ca10b6f7-5f31-40e4-b909-8ba75392c9ad",
        "colab": {
          "base_uri": "https://localhost:8080/",
          "height": 35
        }
      },
      "cell_type": "code",
      "source": [
        "X = tokenizer.texts_to_sequences(train['Patient Complaint Narrative'].values)\n",
        "X = pad_sequences(X, maxlen=MAX_SEQUENCE_LENGTH)\n",
        "print('Shape of data tensor:', X.shape)"
      ],
      "execution_count": 0,
      "outputs": [
        {
          "output_type": "stream",
          "text": [
            "Shape of data tensor: (76616, 20)\n"
          ],
          "name": "stdout"
        }
      ]
    },
    {
      "metadata": {
        "id": "XL4ZR0hKHnpi",
        "colab_type": "code",
        "outputId": "0e7aedff-c502-42b7-99c5-83b349f5f94e",
        "colab": {
          "base_uri": "https://localhost:8080/",
          "height": 35
        }
      },
      "cell_type": "code",
      "source": [
        "Y = pd.get_dummies(train['Disease']).values\n",
        "print('Shape of label tensor:', Y.shape)"
      ],
      "execution_count": 0,
      "outputs": [
        {
          "output_type": "stream",
          "text": [
            "Shape of label tensor: (76616, 34)\n"
          ],
          "name": "stdout"
        }
      ]
    },
    {
      "metadata": {
        "id": "Tz7z7nXVHto1",
        "colab_type": "code",
        "outputId": "7f660df6-987d-4d6d-b9c0-43f12023909e",
        "colab": {
          "base_uri": "https://localhost:8080/",
          "height": 53
        }
      },
      "cell_type": "code",
      "source": [
        "X_train, X_test, Y_train, Y_test = train_test_split(X,Y, test_size = 0.10, random_state = 42)\n",
        "print(X_train.shape,Y_train.shape)\n",
        "print(X_test.shape,Y_test.shape)"
      ],
      "execution_count": 0,
      "outputs": [
        {
          "output_type": "stream",
          "text": [
            "(68954, 20) (68954, 34)\n",
            "(7662, 20) (7662, 34)\n"
          ],
          "name": "stdout"
        }
      ]
    },
    {
      "metadata": {
        "id": "ZA7oKLMFH0ww",
        "colab_type": "code",
        "outputId": "79bf03fe-3bc2-4f69-a8be-2088280ba188",
        "colab": {
          "base_uri": "https://localhost:8080/",
          "height": 128
        }
      },
      "cell_type": "code",
      "source": [
        "model = Sequential()\n",
        "model.add(Embedding(MAX_NB_WORDS, EMBEDDING_DIM, input_length=X.shape[1]))\n",
        "model.add(SpatialDropout1D(0.2))\n",
        "model.add(LSTM(100, dropout=0.2, recurrent_dropout=0.2))\n",
        "model.add(Dense(34, activation='softmax'))\n",
        "model.compile(loss='categorical_crossentropy', optimizer='adam', metrics=['accuracy'])\n",
        "\n",
        "epochs = 2\n",
        "batch_size = 64\n",
        "\n",
        "history = model.fit(X_train, Y_train, epochs=epochs, batch_size=batch_size,validation_split=0.1,callbacks=[EarlyStopping(monitor='val_loss', patience=3, min_delta=0.0001)])"
      ],
      "execution_count": 0,
      "outputs": [
        {
          "output_type": "stream",
          "text": [
            "Train on 62058 samples, validate on 6896 samples\n",
            "Epoch 1/2\n",
            "62058/62058 [==============================] - 37s 604us/step - loss: 0.5709 - acc: 0.8694 - val_loss: 0.0256 - val_acc: 0.9948\n",
            "Epoch 2/2\n",
            "62058/62058 [==============================] - 38s 608us/step - loss: 0.0176 - acc: 0.9970 - val_loss: 0.0075 - val_acc: 0.9985\n"
          ],
          "name": "stdout"
        }
      ]
    },
    {
      "metadata": {
        "id": "B0ZNNp8rIz8u",
        "colab_type": "code",
        "outputId": "eed5a79e-2060-4594-ba16-6a44918c4a43",
        "colab": {
          "base_uri": "https://localhost:8080/",
          "height": 90
        }
      },
      "cell_type": "code",
      "source": [
        "accr = model.evaluate(X_test,Y_test)\n",
        "print('Test set\\n  Loss: {:0.3f}\\n  Accuracy: {:0.3f}'.format(accr[0],accr[1]))"
      ],
      "execution_count": 0,
      "outputs": [
        {
          "output_type": "stream",
          "text": [
            "7662/7662 [==============================] - 3s 440us/step\n",
            "Test set\n",
            "  Loss: 0.005\n",
            "  Accuracy: 0.999\n"
          ],
          "name": "stdout"
        }
      ]
    },
    {
      "metadata": {
        "id": "PyYsPPNlI2P5",
        "colab_type": "code",
        "outputId": "257f2cdb-53f8-4c2e-de8b-9915e3a378d9",
        "colab": {
          "base_uri": "https://localhost:8080/",
          "height": 281
        }
      },
      "cell_type": "code",
      "source": [
        "plt.title('Loss')\n",
        "plt.plot(history.history['loss'], label='train')\n",
        "plt.plot(history.history['val_loss'], label='test')\n",
        "plt.legend()\n",
        "plt.show();"
      ],
      "execution_count": 0,
      "outputs": [
        {
          "output_type": "display_data",
          "data": {
            "image/png": "[encoded data removed]",
            "text/plain": [
              "<Figure size 432x288 with 1 Axes>"
            ]
          },
          "metadata": {
            "tags": []
          }
        }
      ]
    },
    {
      "metadata": {
        "id": "_4gah6nVI8ym",
        "colab_type": "code",
        "outputId": "ed94778b-2841-42d5-ba37-dae8b6610440",
        "colab": {
          "base_uri": "https://localhost:8080/",
          "height": 281
        }
      },
      "cell_type": "code",
      "source": [
        "plt.title('Accuracy')\n",
        "plt.plot(history.history['acc'], label='train')\n",
        "plt.plot(history.history['val_acc'], label='test')\n",
        "plt.legend()\n",
        "plt.show();"
      ],
      "execution_count": 0,
      "outputs": [
        {
          "output_type": "display_data",
          "data": {
            "image/png": "[encoded data removed]",
            "text/plain": [
              "<Figure size 432x288 with 1 Axes>"
            ]
          },
          "metadata": {
            "tags": []
          }
        }
      ]
    },
    {
      "metadata": {
        "id": "CQ1dbc0SJFda",
        "colab_type": "code",
        "outputId": "bcb4c919-4236-4331-8b08-43dc607c437e",
        "colab": {
          "base_uri": "https://localhost:8080/",
          "height": 144
        }
      },
      "cell_type": "code",
      "source": [
        "new_complaint = ['Heartburn, gas, acidity']\n",
        "seq = tokenizer.texts_to_sequences(new_complaint)\n",
        "padded = pad_sequences(seq, maxlen=MAX_SEQUENCE_LENGTH)\n",
        "pred = model.predict(padded)\n",
        "labels = ['Lipitor', 'Pain', 'Myalgia', 'Severe pain', 'Muscle cramp', 'Fatigue', 'Arthralgia', 'Depression', 'Excessive upper gastrointestinal gas', 'Headache', 'Asthenia', 'Backache', 'Pain in lower limb', 'Diarrhoea', 'Muscle weakness', 'Cramp in lower limb', 'Pins and needles', 'Amnesia', 'Insomnia', 'Hip pain', 'Dizziness', 'Walking disability', 'Nausea', 'Knee pain', 'Arthrotec', 'Shoulder pain', 'Stomach ache', 'Foot pain', 'Weakness of limb', 'Arthritis', 'Loss of hair', 'Zocor', 'Myocardial infarction']\n",
        "print(pred, labels[np.argmax(pred)])"
      ],
      "execution_count": 0,
      "outputs": [
        {
          "output_type": "stream",
          "text": [
            "[[6.5255149e-06 1.2367371e-06 6.8735739e-07 1.1103700e-04 2.1820206e-06\n",
            "  5.1569725e-07 5.6433858e-09 1.5296577e-06 1.4268709e-06 4.2026411e-05\n",
            "  9.9962533e-01 1.0581390e-06 1.6182249e-06 1.3416008e-09 8.0776664e-07\n",
            "  6.5582790e-05 1.3703493e-07 3.1569733e-05 1.3636343e-05 1.9895127e-08\n",
            "  3.9592027e-07 2.0573853e-07 3.4947220e-06 2.0590438e-05 9.8878829e-08\n",
            "  1.1494516e-06 4.8613526e-08 2.2268096e-05 5.1114949e-07 4.8966922e-06\n",
            "  6.6794441e-09 3.0835716e-07 1.3134311e-08 3.8946335e-05]] Asthenia\n"
          ],
          "name": "stdout"
        }
      ]
    },
    {
      "metadata": {
        "id": "SndbKShPMjdo",
        "colab_type": "code",
        "outputId": "a944eba5-afb3-442b-8deb-9646c8074475",
        "colab": {
          "base_uri": "https://localhost:8080/",
          "height": 144
        }
      },
      "cell_type": "code",
      "source": [
        "another_complaint = ['Pain in the neck']\n",
        "seq = tokenizer.texts_to_sequences(another_complaint)\n",
        "padded = pad_sequences(seq, maxlen=MAX_SEQUENCE_LENGTH)\n",
        "pred = model.predict(padded)\n",
        "labels = ['Lipitor', 'Pain', 'Myalgia', 'Severe pain', 'Muscle cramp', 'Fatigue', 'Arthralgia', 'Depression', 'Excessive upper gastrointestinal gas', 'Headache', 'Asthenia', 'Backache', 'Pain in lower limb', 'Diarrhoea', 'Muscle weakness', 'Cramp in lower limb', 'Pins and needles', 'Amnesia', 'Insomnia', 'Hip pain', 'Dizziness', 'Walking disability', 'Nausea', 'Knee pain', 'Arthrotec', 'Shoulder pain', 'Stomach ache', 'Foot pain', 'Weakness of limb', 'Arthritis', 'Loss of hair', 'Zocor', 'Myocardial infarction']\n",
        "print(pred, labels[np.argmax(pred)])"
      ],
      "execution_count": 0,
      "outputs": [
        {
          "output_type": "stream",
          "text": [
            "[[4.9162634e-07 1.4958023e-05 9.1673131e-09 8.8487459e-06 5.6023939e-08\n",
            "  2.8447263e-05 2.4643050e-06 2.3910764e-07 1.3729545e-08 2.5413001e-07\n",
            "  1.1839016e-06 8.4864200e-07 1.1881411e-03 1.6185430e-06 7.8594872e-05\n",
            "  1.6700875e-05 1.1577443e-03 1.3739100e-09 5.8848843e-07 3.3959051e-08\n",
            "  1.7962117e-08 5.0684543e-05 2.6851720e-05 4.4982658e-09 9.9384511e-01\n",
            "  5.3269789e-05 1.3133249e-03 1.2916973e-05 2.6488685e-04 4.3194747e-04\n",
            "  1.8639152e-05 1.4283293e-03 8.3485736e-07 5.1904161e-05]] Arthrotec\n"
          ],
          "name": "stdout"
        }
      ]
    },
    {
      "metadata": {
        "id": "H8Lxm5keNSjO",
        "colab_type": "code",
        "colab": {}
      },
      "cell_type": "code",
      "source": [
        "test0 = pd.read_csv('AskAPatient.fold-0.test.txt', encoding='ISO-8859-1', sep='\\t', header = None)\n",
        "test1 = pd.read_csv('AskAPatient.fold-1.test.txt', encoding='ISO-8859-1', sep='\\t', header = None)\n",
        "test2 = pd.read_csv('AskAPatient.fold-2.test.txt', encoding='ISO-8859-1', sep='\\t', header = None)\n",
        "test3 = pd.read_csv('AskAPatient.fold-3.test.txt', encoding='ISO-8859-1', sep='\\t', header = None)\n",
        "test4 = pd.read_csv('AskAPatient.fold-4.test.txt', encoding='ISO-8859-1', sep='\\t', header = None)\n",
        "test5 = pd.read_csv('AskAPatient.fold-5.test.txt', encoding='ISO-8859-1', sep='\\t', header = None)\n",
        "test6 = pd.read_csv('AskAPatient.fold-6.test.txt', encoding='ISO-8859-1', sep='\\t', header = None)\n",
        "test7 = pd.read_csv('AskAPatient.fold-7.test.txt', encoding='ISO-8859-1', sep='\\t', header = None)\n",
        "test8 = pd.read_csv('AskAPatient.fold-8.test.txt', encoding='ISO-8859-1', sep='\\t', header = None)\n",
        "test9 = pd.read_csv('AskAPatient.fold-9.test.txt', encoding='ISO-8859-1', sep='\\t', header = None)"
      ],
      "execution_count": 0,
      "outputs": []
    },
    {
      "metadata": {
        "id": "xiTiEYf6NSy9",
        "colab_type": "code",
        "colab": {}
      },
      "cell_type": "code",
      "source": [
        "testframes = [test0, test1, test2, test3, test4, test5, test6, test7, test8, test9]"
      ],
      "execution_count": 0,
      "outputs": []
    },
    {
      "metadata": {
        "id": "Rs2-RlDONgxI",
        "colab_type": "code",
        "colab": {}
      },
      "cell_type": "code",
      "source": [
        "df = pd.concat(testframes)"
      ],
      "execution_count": 0,
      "outputs": []
    },
    {
      "metadata": {
        "id": "ck0ExIcKNjKA",
        "colab_type": "code",
        "colab": {}
      },
      "cell_type": "code",
      "source": [
        "df.columns = ['CUID', 'Disease', 'Patient Complaint Narrative']"
      ],
      "execution_count": 0,
      "outputs": []
    },
    {
      "metadata": {
        "id": "sWxS4mjPJA56",
        "colab_type": "code",
        "colab": {
          "base_uri": "https://localhost:8080/",
          "height": 35
        },
        "outputId": "90568126-6ce4-4358-d1cc-006409b066a7"
      },
      "cell_type": "code",
      "source": [
        "len(df)"
      ],
      "execution_count": 104,
      "outputs": [
        {
          "output_type": "execute_result",
          "data": {
            "text/plain": [
              "8662"
            ]
          },
          "metadata": {
            "tags": []
          },
          "execution_count": 104
        }
      ]
    },
    {
      "metadata": {
        "id": "cP7KkB8dJEXW",
        "colab_type": "text"
      },
      "cell_type": "markdown",
      "source": [
        "Not a lot of data in the test dataset, so we combine them with the validation set."
      ]
    },
    {
      "metadata": {
        "id": "Kyjee3iFJB3g",
        "colab_type": "code",
        "colab": {}
      },
      "cell_type": "code",
      "source": [
        "valid0 = pd.read_csv('AskAPatient.fold-0.validation.txt', encoding='ISO-8859-1', sep='\\t', header = None)\n",
        "valid1 = pd.read_csv('AskAPatient.fold-1.validation.txt', encoding='ISO-8859-1', sep='\\t', header = None)\n",
        "valid2 = pd.read_csv('AskAPatient.fold-2.validation.txt', encoding='ISO-8859-1', sep='\\t', header = None)\n",
        "valid3 = pd.read_csv('AskAPatient.fold-3.validation.txt', encoding='ISO-8859-1', sep='\\t', header = None)\n",
        "valid4 = pd.read_csv('AskAPatient.fold-4.validation.txt', encoding='ISO-8859-1', sep='\\t', header = None)\n",
        "valid5 = pd.read_csv('AskAPatient.fold-5.validation.txt', encoding='ISO-8859-1', sep='\\t', header = None)\n",
        "valid6 = pd.read_csv('AskAPatient.fold-6.validation.txt', encoding='ISO-8859-1', sep='\\t', header = None)\n",
        "valid7 = pd.read_csv('AskAPatient.fold-7.validation.txt', encoding='ISO-8859-1', sep='\\t', header = None)\n",
        "valid8 = pd.read_csv('AskAPatient.fold-8.validation.txt', encoding='ISO-8859-1', sep='\\t', header = None)\n",
        "valid9 = pd.read_csv('AskAPatient.fold-9.validation.txt', encoding='ISO-8859-1', sep='\\t', header = None)"
      ],
      "execution_count": 0,
      "outputs": []
    },
    {
      "metadata": {
        "id": "EkXfeU3-JT2j",
        "colab_type": "code",
        "colab": {
          "base_uri": "https://localhost:8080/",
          "height": 35
        },
        "outputId": "d05b9606-3a99-4581-fb67-934a9db913fe"
      },
      "cell_type": "code",
      "source": [
        "validframes = [valid0, valid1, valid2, valid3, valid4, valid5, valid6, valid7, valid8, valid9]\n",
        "valid= pd.concat(validframes)\n",
        "#valid.columns = ['CUID', 'Disease', 'Patient Complaint Narrative']\n",
        "valid.shape"
      ],
      "execution_count": 105,
      "outputs": [
        {
          "output_type": "execute_result",
          "data": {
            "text/plain": [
              "(7926, 3)"
            ]
          },
          "metadata": {
            "tags": []
          },
          "execution_count": 105
        }
      ]
    },
    {
      "metadata": {
        "id": "Dz3mXMo9JUDG",
        "colab_type": "code",
        "colab": {}
      },
      "cell_type": "code",
      "source": [
        "test = pd.DataFrame(np.concatenate((df.values,valid.values)),columns=df.columns)"
      ],
      "execution_count": 0,
      "outputs": []
    },
    {
      "metadata": {
        "id": "C2fvkjtUJUOI",
        "colab_type": "code",
        "colab": {
          "base_uri": "https://localhost:8080/",
          "height": 35
        },
        "outputId": "be72cdfe-274d-43a8-c05d-0e7bdfeb5f6a"
      },
      "cell_type": "code",
      "source": [
        "test.shape"
      ],
      "execution_count": 18,
      "outputs": [
        {
          "output_type": "execute_result",
          "data": {
            "text/plain": [
              "(16588, 3)"
            ]
          },
          "metadata": {
            "tags": []
          },
          "execution_count": 18
        }
      ]
    },
    {
      "metadata": {
        "id": "4xgyPtf2Jtit",
        "colab_type": "code",
        "colab": {
          "base_uri": "https://localhost:8080/",
          "height": 206
        },
        "outputId": "5d376fe3-7b03-4592-a7fa-8212e626e769"
      },
      "cell_type": "code",
      "source": [
        "test.head()"
      ],
      "execution_count": 19,
      "outputs": [
        {
          "output_type": "execute_result",
          "data": {
            "text/html": [
              "<div>\n",
              "<style scoped>\n",
              "    .dataframe tbody tr th:only-of-type {\n",
              "        vertical-align: middle;\n",
              "    }\n",
              "\n",
              "    .dataframe tbody tr th {\n",
              "        vertical-align: top;\n",
              "    }\n",
              "\n",
              "    .dataframe thead th {\n",
              "        text-align: right;\n",
              "    }\n",
              "</style>\n",
              "<table border=\"1\" class=\"dataframe\">\n",
              "  <thead>\n",
              "    <tr style=\"text-align: right;\">\n",
              "      <th></th>\n",
              "      <th>CUID</th>\n",
              "      <th>Disease</th>\n",
              "      <th>Patient Complaint Narrative</th>\n",
              "    </tr>\n",
              "  </thead>\n",
              "  <tbody>\n",
              "    <tr>\n",
              "      <th>0</th>\n",
              "      <td>108367008</td>\n",
              "      <td>Dislocation of joint</td>\n",
              "      <td>dislocating</td>\n",
              "    </tr>\n",
              "    <tr>\n",
              "      <th>1</th>\n",
              "      <td>3384011000036100</td>\n",
              "      <td>Arthrotec</td>\n",
              "      <td>Arthrotec</td>\n",
              "    </tr>\n",
              "    <tr>\n",
              "      <th>2</th>\n",
              "      <td>166717003</td>\n",
              "      <td>Serum creatinine raised</td>\n",
              "      <td>elevated creatine</td>\n",
              "    </tr>\n",
              "    <tr>\n",
              "      <th>3</th>\n",
              "      <td>3877011000036101</td>\n",
              "      <td>Lipitor</td>\n",
              "      <td>Lipitor</td>\n",
              "    </tr>\n",
              "    <tr>\n",
              "      <th>4</th>\n",
              "      <td>402234004</td>\n",
              "      <td>Foot eczema</td>\n",
              "      <td>Eczema on feet</td>\n",
              "    </tr>\n",
              "  </tbody>\n",
              "</table>\n",
              "</div>"
            ],
            "text/plain": [
              "               CUID                  Disease Patient Complaint Narrative\n",
              "0         108367008     Dislocation of joint                 dislocating\n",
              "1  3384011000036100                Arthrotec                   Arthrotec\n",
              "2         166717003  Serum creatinine raised           elevated creatine\n",
              "3  3877011000036101                  Lipitor                     Lipitor\n",
              "4         402234004              Foot eczema              Eczema on feet"
            ]
          },
          "metadata": {
            "tags": []
          },
          "execution_count": 19
        }
      ]
    },
    {
      "metadata": {
        "id": "ggII_1kJJw2T",
        "colab_type": "code",
        "colab": {
          "base_uri": "https://localhost:8080/",
          "height": 35
        },
        "outputId": "e4666331-29b9-47fc-b45d-0520f0d75ad1"
      },
      "cell_type": "code",
      "source": [
        "df.CUID.nunique()"
      ],
      "execution_count": 17,
      "outputs": [
        {
          "output_type": "execute_result",
          "data": {
            "text/plain": [
              "1036"
            ]
          },
          "metadata": {
            "tags": []
          },
          "execution_count": 17
        }
      ]
    },
    {
      "metadata": {
        "id": "Kmy_IayAJzYP",
        "colab_type": "code",
        "colab": {
          "base_uri": "https://localhost:8080/",
          "height": 35
        },
        "outputId": "52c51982-5a51-4841-aa68-410c4d2bf413"
      },
      "cell_type": "code",
      "source": [
        "df.Disease.nunique()"
      ],
      "execution_count": 18,
      "outputs": [
        {
          "output_type": "execute_result",
          "data": {
            "text/plain": [
              "1040"
            ]
          },
          "metadata": {
            "tags": []
          },
          "execution_count": 18
        }
      ]
    },
    {
      "metadata": {
        "id": "J1PDbSLjJ7Jg",
        "colab_type": "text"
      },
      "cell_type": "markdown",
      "source": [
        "We already know there are 2 Diseases mapped to more than one CUID from the training dataset."
      ]
    },
    {
      "metadata": {
        "id": "Ht4oyS-8KjCX",
        "colab_type": "text"
      },
      "cell_type": "markdown",
      "source": [
        " Now we need to find out duplicated CUIDs ( 1 CUID mapped to more than 1 Disease)"
      ]
    },
    {
      "metadata": {
        "id": "z11S3FGrL6qK",
        "colab_type": "code",
        "colab": {
          "base_uri": "https://localhost:8080/",
          "height": 18202
        },
        "outputId": "7cb5255c-e565-4ab7-c045-ce8d568e3f3e"
      },
      "cell_type": "code",
      "source": [
        "test.groupby('CUID')['Disease'].apply(lambda x: x.unique().tolist()).to_dict()                           , "
      ],
      "execution_count": 28,
      "outputs": [
        {
          "output_type": "execute_result",
          "data": {
            "text/plain": [
              "({1402001: ['Fear'],\n",
              "  1806006: ['Eruption'],\n",
              "  2733002: ['Heel pain'],\n",
              "  2764000: ['Joint crepitus'],\n",
              "  3253007: ['Discolouration of skin'],\n",
              "  3424008: ['Tachycardia'],\n",
              "  3545003: ['Diastolic dysfunction'],\n",
              "  3716002: ['Goitre'],\n",
              "  3723001: ['Arthritis'],\n",
              "  4106009: ['Rotator cuff syndrome'],\n",
              "  4249000: ['Poor peripheral circulation'],\n",
              "  4308002: ['Repetitive strain injury'],\n",
              "  4740000: ['Herpes zoster'],\n",
              "  4969004: ['Sinus pain'],\n",
              "  5662003: ['Contusion of hand'],\n",
              "  6020002: ['Tinea pedis'],\n",
              "  6142004: ['Influenza'],\n",
              "  6211002: ['Polyarthritis associated with another disorder'],\n",
              "  6285003: ['Tachycardia'],\n",
              "  6389006: ['Disturbance in physical behaviour'],\n",
              "  6471006: ['Suicidal thoughts'],\n",
              "  7006003: ['Clumsiness'],\n",
              "  7011001: ['Hallucinations'],\n",
              "  7393007: ['Disorder of nasal sinus'],\n",
              "  7501002: ['Increased lactic acid level'],\n",
              "  7973008: ['Abnormal vision'],\n",
              "  8009008: ['Nocturnal enuresis'],\n",
              "  8357008: ['Reduced libido'],\n",
              "  8392000: ['Non-smoker'],\n",
              "  8510008: ['Reduced mobility'],\n",
              "  8708008: ['Sharp pain'],\n",
              "  8943002: ['Weight gain'],\n",
              "  9126005: ['Menstrual spotting'],\n",
              "  9829001: ['Gastric ulcer with perforation'],\n",
              "  9991008: ['Abdominal colic'],\n",
              "  10001005: ['Bacterial sepsis'],\n",
              "  10085004: ['Metatarsalgia'],\n",
              "  10601006: ['Pain in lower limb'],\n",
              "  10743008: ['Irritable bowel syndrome'],\n",
              "  11072008: ['Nonspecific abdominal symptom'],\n",
              "  11381005: ['Acne'],\n",
              "  11654001: ['Achilles tendonitis'],\n",
              "  12063002: ['Rectal haemorrhage'],\n",
              "  12441001: ['Epistaxis'],\n",
              "  12584003: ['Bone pain'],\n",
              "  13164000: ['Reduced visual acuity'],\n",
              "  13543005: ['Pressure'],\n",
              "  13644009: ['Hypercholesterolaemia'],\n",
              "  13746004: ['Bipolar disorder'],\n",
              "  13791008: ['Asthenia'],\n",
              "  14151009: ['Hyperaesthesia'],\n",
              "  14304000: ['Thyroid disease'],\n",
              "  14669001: ['Acute renal failure'],\n",
              "  14760008: ['Constipation'],\n",
              "  15188001: ['Hearing loss'],\n",
              "  15203004: ['Sudden visual loss'],\n",
              "  15336001: ['Cold extremities'],\n",
              "  16001004: ['Otalgia'],\n",
              "  16046003: ['Muscle rigidity'],\n",
              "  16269008: ['Neuralgia'],\n",
              "  16331000: ['Heartburn'],\n",
              "  16386004: ['Dry skin'],\n",
              "  16973004: ['Limping'],\n",
              "  17369002: ['Miscarriage'],\n",
              "  17971005: ['Sedated'],\n",
              "  18101008: ['Hyperactive bowel sounds'],\n",
              "  18156008: ['Abdominal hyperaesthesia'],\n",
              "  18165001: ['Jaundice'],\n",
              "  18193002: ['Hypochondriasis'],\n",
              "  18718003: ['Gingival disease'],\n",
              "  18876004: ['Pain in finger'],\n",
              "  18963009: ['Mood swings'],\n",
              "  19155002: ['Dysfunctional uterine bleeding'],\n",
              "  21005005: ['Burning epigastric pain'],\n",
              "  21134002: ['Disability'],\n",
              "  21499005: ['Feeling agitated 232 249'],\n",
              "  21522001: ['Abdominal pain'],\n",
              "  21545007: ['Tenalgia'],\n",
              "  22193007: ['Osteoarthrosis of hand'],\n",
              "  22253000: ['Pain'],\n",
              "  22298006: ['Myocardial infarction'],\n",
              "  22325002: ['Abnormal gait'],\n",
              "  22631008: ['Unsteady when walking'],\n",
              "  23056005: ['Sciatica'],\n",
              "  23388006: ['Visual field scotoma'],\n",
              "  23502006: ['Lyme disease'],\n",
              "  23520002: ['Decreased venous pressure'],\n",
              "  23919004: ['Labyrinthitis'],\n",
              "  23924001: ['Tight chest'],\n",
              "  24184005: ['Finding of increased blood pressure'],\n",
              "  24199005: ['Feeling agitated'],\n",
              "  24693007: ['Fibromyalgia'],\n",
              "  24700007: ['Multiple sclerosis'],\n",
              "  24982008: ['Diplopia'],\n",
              "  25064002: ['Headache'],\n",
              "  25458004: ['Acute gastritis'],\n",
              "  26079004: ['Tremor'],\n",
              "  26237000: ['Ankle oedema'],\n",
              "  26329005: ['Poor concentration'],\n",
              "  26413003: ['Low motivation'],\n",
              "  26544005: ['Muscle weakness'],\n",
              "  26677001: ['Sleep pattern disturbance'],\n",
              "  26889001: ['Myositis'],\n",
              "  26929004: [\"Alzheimer's disease\"],\n",
              "  27355003: ['Toothache'],\n",
              "  28743005: ['Productive cough'],\n",
              "  29164008: ['Speech impairment'],\n",
              "  29542008: ['Uterine spasm'],\n",
              "  29857009: ['Chest pain'],\n",
              "  30473006: ['Pain in pelvis'],\n",
              "  30811009: ['Ulcer of oesophagus'],\n",
              "  30989003: ['Knee pain'],\n",
              "  31384009: ['Polymyositis'],\n",
              "  31681005: ['Trigeminal neuralgia'],\n",
              "  32398004: ['Bronchitis'],\n",
              "  32402008: ['Facial spasm'],\n",
              "  32798002: ['Parkinsonism'],\n",
              "  32914008: ['Restless legs'],\n",
              "  33308003: ['Disorder of back'],\n",
              "  34095006: ['Dehydration'],\n",
              "  34436003: ['Haematuria'],\n",
              "  34789001: ['Pain in the coccyx'],\n",
              "  34840004: ['Tendonitis'],\n",
              "  35064005: ['Dark stools'],\n",
              "  35209006: ['Sensitivity'],\n",
              "  35489007: ['Depression'],\n",
              "  35678005: ['Arthralgia of multiple joints'],\n",
              "  36031001: ['Burning feet'],\n",
              "  36163009: ['Night pain'],\n",
              "  36349006: ['Burning pain'],\n",
              "  36630001: ['Deep pain'],\n",
              "  36955009: ['Loss of taste'],\n",
              "  36971009: ['Sinusitis'],\n",
              "  37340000: ['Motor neurone disease'],\n",
              "  37567005: ['Acenaesthesia'],\n",
              "  37796009: ['Migraine'],\n",
              "  38013005: ['Immunosuppression'],\n",
              "  38341003: ['Hypertension'],\n",
              "  38936003: ['Abnormal blood pressure'],\n",
              "  39104002: ['Illness'],\n",
              "  39400004: ['Hepatic trauma'],\n",
              "  39423001: ['Stammering'],\n",
              "  39575007: ['Urine looks dark'],\n",
              "  39621005: ['Gallbladder disorder'],\n",
              "  40095003: ['Renal injury'],\n",
              "  40144003: ['Morning stiffness - joint'],\n",
              "  40196000: ['Mild pain'],\n",
              "  40445007: ['Heart valve regurgitation'],\n",
              "  40733004: ['Infection'],\n",
              "  40739000: ['Dysphagia'],\n",
              "  40806005: ['Derealisation'],\n",
              "  40917007: ['Confusion'],\n",
              "  40930008: ['Hypothyroidism'],\n",
              "  41652007: ['Eye pain'],\n",
              "  41931001: ['Abdominal distension'],\n",
              "  41982003: ['Male climacteric'],\n",
              "  42345000: ['Polyneuropathy'],\n",
              "  42399005: ['Renal failure'],\n",
              "  42984000: ['Night sweats'],\n",
              "  43005009: ['Shuffling gait'],\n",
              "  43116000: ['Eczema'],\n",
              "  43364001: ['Abdominal discomfort'],\n",
              "  43498006: ['Body fluid retention'],\n",
              "  43724002: ['Chill'],\n",
              "  44018007: ['Cholestatic jaundice syndrome'],\n",
              "  44054006: ['Type 2 diabetes mellitus'],\n",
              "  44077006: ['Numbness'],\n",
              "  44169009: ['Loss of sense of smell'],\n",
              "  44186003: ['Dyssomnia'],\n",
              "  44548000: ['Hyperactive behaviour'],\n",
              "  44564008: ['Loss of voice'],\n",
              "  44695005: ['Paralysis'],\n",
              "  45326000: ['Shoulder pain'],\n",
              "  45352006: ['Spasm'],\n",
              "  45534005: ['Glossitis'],\n",
              "  45979003: ['Abdominal wind pain'],\n",
              "  46040000: ['Ulceration of colon'],\n",
              "  46206005: ['Mood disorder'],\n",
              "  46635009: ['Type 1 diabetes mellitus'],\n",
              "  46991000: ['Absent minded'],\n",
              "  47004009: ['Dysphonia'],\n",
              "  47268002: ['Reflux'],\n",
              "  47933007: ['Foot pain'],\n",
              "  48167000: ['Amnesia'],\n",
              "  48500005: ['Delusional disorder'],\n",
              "  48532005: ['Muscle strain'],\n",
              "  48661000: ['Peritonitis'],\n",
              "  48694002: ['Anxiety'],\n",
              "  48926009: ['Pain in spine'],\n",
              "  49049000: [\"Parkinson's disease\"],\n",
              "  49218002: ['Hip pain'],\n",
              "  49563000: ['Periorbital oedema'],\n",
              "  49601007: ['Cardiovascular disease'],\n",
              "  49727002: ['Cough'],\n",
              "  50219008: ['Hoarse'],\n",
              "  50415004: ['Moderate pain'],\n",
              "  50829006: ['Basic learning problem'],\n",
              "  51197009: ['Stomach cramps'],\n",
              "  51590001: ['Increased pressure'],\n",
              "  52072009: ['Heat stroke'],\n",
              "  52448006: ['Dementia'],\n",
              "  52526003: ['Sweating problem'],\n",
              "  52613005: ['Excessive sweating'],\n",
              "  52702003: ['Chronic fatigue syndrome'],\n",
              "  52754008: ['Polymenorrhoea'],\n",
              "  53057004: ['Hand pain'],\n",
              "  53430007: ['Mastalgia'],\n",
              "  53741008: ['Coronary arteriosclerosis'],\n",
              "  54150009: ['Upper respiratory tract infection'],\n",
              "  54586004: ['Lower abdominal pain'],\n",
              "  54981004: ['Charleyhorse'],\n",
              "  55145008: ['Stabbing pain'],\n",
              "  55222007: ['Breast tenderness'],\n",
              "  55260003: ['Calcaneal spur'],\n",
              "  55300003: ['Muscle cramp', 'Cramp', 'Muscle Cramp'],\n",
              "  55350005: ['Hungry'],\n",
              "  55533009: ['Forgetful'],\n",
              "  55891002: ['Problem of visual accommodation'],\n",
              "  55929007: ['Feeling irritable'],\n",
              "  56018004: ['Wheezing'],\n",
              "  56265001: ['Heart disease'],\n",
              "  56273005: ['Abnormal muscle function'],\n",
              "  56317004: ['Alopecia'],\n",
              "  56608008: ['Pain in wrist'],\n",
              "  56731001: ['Hypertonia'],\n",
              "  56925008: ['Sexual dysfunction'],\n",
              "  57182000: ['Nerve injury'],\n",
              "  57406009: ['Carpal tunnel syndrome'],\n",
              "  57676002: ['Arthralgia', 'Joint pain'],\n",
              "  58901008: ['Excitement'],\n",
              "  59026006: ['Blepharospasm'],\n",
              "  59050008: ['Initial insomnia'],\n",
              "  59927004: ['Hepatic failure'],\n",
              "  59976005: ['Increased belching'],\n",
              "  60032008: ['Unable to concentrate'],\n",
              "  60119000: ['Exhaustion'],\n",
              "  60238002: ['Muscle twitch'],\n",
              "  60728008: ['Abdominal swelling'],\n",
              "  60862001: ['Tinnitus'],\n",
              "  61372001: ['Aggression'],\n",
              "  61387006: ['Moderate anxiety'],\n",
              "  61462000: ['Malaria'],\n",
              "  61599003: ['Phlebitis'],\n",
              "  62315008: ['Diarrhoea'],\n",
              "  62476001: ['Disorientated'],\n",
              "  62507009: ['Pins and needles'],\n",
              "  63102001: ['Visual disturbance'],\n",
              "  63901009: ['Orchidodynia'],\n",
              "  64206003: ['Hypomenorrhoea'],\n",
              "  64226004: ['Colitis'],\n",
              "  64379006: ['Decrease in appetite'],\n",
              "  64531003: ['Nasal discharge'],\n",
              "  64766004: ['Ulcerative colitis'],\n",
              "  64779008: ['Blood coagulation disorder'],\n",
              "  65124004: ['Swelling'],\n",
              "  66383009: ['Gingivitis'],\n",
              "  67015007: ['Abnormal large bowel motility'],\n",
              "  67233009: ['Middle insomnia'],\n",
              "  67251005: ['Increased liver function'],\n",
              "  67362008: ['Aortic aneurysm'],\n",
              "  67849003: ['Excruciating pain'],\n",
              "  68172002: ['Disorder of tendon'],\n",
              "  68235000: ['Nasal congestion'],\n",
              "  68449006: ['Arthritis of hip'],\n",
              "  68566005: ['Urinary tract infection'],\n",
              "  68962001: ['Myalgia'],\n",
              "  69215007: ['Intolerant of heat'],\n",
              "  69322001: ['Psychotic disorder'],\n",
              "  69791001: ['Increased venous pressure'],\n",
              "  69896004: ['Rheumatoid arthritis'],\n",
              "  70076002: ['Rhinitis'],\n",
              "  70153002: ['Haemorrhoids'],\n",
              "  70323002: ['Eye strain'],\n",
              "  70346000: ['Gingival oedema'],\n",
              "  70733008: ['Limitation of joint movement'],\n",
              "  71262003: ['Ulceration of gingivae'],\n",
              "  72405004: ['Increased appetite'],\n",
              "  73211009: ['Diabetes mellitus'],\n",
              "  73442001: ['Stevens-Johnson syndrome'],\n",
              "  73589001: ['Intervertebral disc prolapse'],\n",
              "  73595000: ['Stress'],\n",
              "  74323005: ['Pain in elbow'],\n",
              "  74732009: ['Mental disorder'],\n",
              "  75088002: ['Urgent desire to urinate'],\n",
              "  75183008: ['Abnormal liver function'],\n",
              "  75408008: ['Feeling angry'],\n",
              "  75694006: ['Pancreatitis'],\n",
              "  76376003: ['Endometriosis of uterus'],\n",
              "  76742009: ['Postmenopausal bleeding'],\n",
              "  76948002: ['Severe pain'],\n",
              "  77547008: ['Degeneration of intervertebral disc'],\n",
              "  77692006: ['Hypersomnia'],\n",
              "  77981007: ['Decreased liver function'],\n",
              "  78514002: ['Thigh pain'],\n",
              "  78860006: ['Heavy feeling in eyelids'],\n",
              "  79012001: ['Vaginospasm'],\n",
              "  79015004: ['Worried'],\n",
              "  79395009: ['Dry hair'],\n",
              "  79890006: ['Loss of appetite'],\n",
              "  80182007: ['Irregular menstruation'],\n",
              "  80313002: ['Palpitations'],\n",
              "  80449002: ['Muscle fatigue'],\n",
              "  80515008: ['Hepatomegaly'],\n",
              "  80585000: ['Intolerant of cold'],\n",
              "  80690008: ['Degenerative disease of the central nervous system'],\n",
              "  80954004: ['Respiratory depression'],\n",
              "  80967001: ['Dental caries'],\n",
              "  81308009: ['Encephalopathy'],\n",
              "  81498004: ['Bursitis of hip'],\n",
              "  81680005: ['Neck pain'],\n",
              "  81680008: ['Neck pain'],\n",
              "  82272006: ['Common cold'],\n",
              "  82297005: ['Congestion of nasal sinus'],\n",
              "  82423001: ['Chronic pain'],\n",
              "  82470000: ['Muscle fasciculation'],\n",
              "  82639001: ['Premenstrual tension syndrome'],\n",
              "  82883008: ['Disturbance in speech rhythm'],\n",
              "  82971005: ['Impaired mobility'],\n",
              "  82991003: ['Generalised aches and pains'],\n",
              "  83156004: ['Sense of smell impaired'],\n",
              "  83421005: ['Failure to lose weight'],\n",
              "  83547004: ['Cold sweat'],\n",
              "  83901003: [\"Sjögren's syndrome\"],\n",
              "  84017003: ['Bursitis'],\n",
              "  84114007: ['Heart failure'],\n",
              "  84229001: ['Fatigue'],\n",
              "  84445001: ['Joint stiffness'],\n",
              "  84480002: ['Retching'],\n",
              "  84946008: ['Extreme exhaustion'],\n",
              "  85418005: ['Abnormal dreams'],\n",
              "  85828009: ['Autoimmune disease'],\n",
              "  85898001: ['Cardiomyopathy'],\n",
              "  86044005: ['Amyotrophic lateral sclerosis'],\n",
              "  86094006: ['Chronic rhinitis'],\n",
              "  86651002: ['Pulse fast'],\n",
              "  87486003: ['Aphasia'],\n",
              "  87715008: ['Aptyalism'],\n",
              "  88092000: ['Muscle atrophy'],\n",
              "  89362005: ['Weight loss'],\n",
              "  89419008: ['Loss of equilibrium'],\n",
              "  90128006: ['Photosensitivity'],\n",
              "  90446007: ['Pruritus ani'],\n",
              "  90560007: ['Gout'],\n",
              "  90673000: ['Burning sensation'],\n",
              "  90708001: ['Kidney disease'],\n",
              "  90834002: ['Pain in limb'],\n",
              "  91019004: ['Paraesthesia'],\n",
              "  93478000: ['Intraocular haemorrhage'],\n",
              "  95319004: ['Skin nodule'],\n",
              "  95320005: ['Disorder of skin'],\n",
              "  95359001: ['Mucosal numbness'],\n",
              "  95418008: ['Muscle spasms of head AND/OR neck'],\n",
              "  95421005: ['Intercostal myalgia'],\n",
              "  95453001: ['Subdural haematoma'],\n",
              "  95570007: ['Renal calculus'],\n",
              "  95655001: ['Ophthalmic migraine'],\n",
              "  95673003: ['Paraesthesia of upper limb'],\n",
              "  95677002: ['Disorder of vision'],\n",
              "  95847005: ['Injury of muscle', 'Muscle injury'],\n",
              "  95891005: ['Influenza-like illness'],\n",
              "  102480002: ['Generalised acute body pains'],\n",
              "  102491009: ['Immobile'],\n",
              "  102498003: ['Agony'],\n",
              "  102551008: ['Cramp in foot'],\n",
              "  102556003: ['Pain in upper limb'],\n",
              "  102564009: ['Oedema of hand'],\n",
              "  102565005: ['Oedema of finger'],\n",
              "  102572006: ['Oedema of lower extremity'],\n",
              "  102598000: ['Clammy skin'],\n",
              "  102608004: ['Excessive appetite'],\n",
              "  102617004: ['Congestion of throat'],\n",
              "  102897001: ['Feeling intoxicated'],\n",
              "  102911000: ['Thoughts of self harm'],\n",
              "  102938007: ['Difficulty writing'],\n",
              "  102943000: ['Personality change'],\n",
              "  103002009: ['Sensation of hot and cold'],\n",
              "  103281005: ['Blocked ears'],\n",
              "  103298005: ['Severe vertigo'],\n",
              "  105504002: ['Dependance on walking stick'],\n",
              "  105981003: ['Disorder of cardiac function'],\n",
              "  108367008: ['Dislocation of joint'],\n",
              "  110288007: ['Joint tenderness'],\n",
              "  111224002: ['Derangement of meniscus'],\n",
              "  111516008: ['Blurring of visual image'],\n",
              "  116289008: ['Abdominal bloating'],\n",
              "  118930001: ['Disorder of face'],\n",
              "  118932009: ['Disorder of foot'],\n",
              "  118940003: ['Disorder of nervous system'],\n",
              "  119416008: ['Epigastric discomfort'],\n",
              "  122481008: ['Hammer toe'],\n",
              "  124042003: ['Increased lipid'],\n",
              "  124054003: ['Increased cholesterol esters'],\n",
              "  124055002: ['Decreased cholesterol esters'],\n",
              "  125610000: ['Joint injury'],\n",
              "  125667009: ['Contusion'],\n",
              "  127354003: ['Increased albumin'],\n",
              "  128139000: ['Inflammatory disorder'],\n",
              "  128239009: ['Injury of nervous system'],\n",
              "  128601007: ['Infectious disease of lung'],\n",
              "  128605003: ['Disorder of extremity'],\n",
              "  128609009: ['Intracranial aneurysm'],\n",
              "  129103003: ['Endometriosis'],\n",
              "  129565002: ['Myopathy', 'Disorder of muscle'],\n",
              "  129859006: ['Impaired bed mobility'],\n",
              "  129899009: ['Blood pressure alteration'],\n",
              "  130989002: ['Sleep deprivation'],\n",
              "  131053002: ['Decreased progesterone level'],\n",
              "  131078003: ['Decreased testosterone level'],\n",
              "  131148009: ['Bleeding'],\n",
              "  134407002: ['Chronic back pain'],\n",
              "  160591008: ['Drinks wine'],\n",
              "  160685001: ['Bed-ridden'],\n",
              "  161156004: ['Language difficulty'],\n",
              "  161722004: ['Menstrual loss increasing'],\n",
              "  161833006: ['Abnormal weight gain'],\n",
              "  161873000: ['Heavy legs'],\n",
              "  161874006: ['Heavy feeling'],\n",
              "  161876008: ['Gland symptom'],\n",
              "  161882006: ['Stiff neck'],\n",
              "  161891005: ['Backache'],\n",
              "  161898004: ['Falls'],\n",
              "  161903000: ['Unable to stand'],\n",
              "  161968007: ['Bumping heart'],\n",
              "  162020001: ['Difficulty chewing'],\n",
              "  162031009: ['Indigestion'],\n",
              "  162043005: ['Hunger pain'],\n",
              "  162059005: ['Upset stomach'],\n",
              "  162076009: ['Excessive upper gastrointestinal gas'],\n",
              "  162116003: ['Urinary frequency'],\n",
              "  162221009: ['Restlessness'],\n",
              "  162290004: ['Dry eyes'],\n",
              "  162308004: ['Throbbing headache'],\n",
              "  162315007: ['Morbid thoughts'],\n",
              "  162351000: ['Buzzing in ear'],\n",
              "  162352007: ['Ringing in ear'],\n",
              "  162397003: ['Pain in throat'],\n",
              "  165232002: ['Urinary incontinence'],\n",
              "  165247006: ['Unable to climb stairs'],\n",
              "  165509000: ['White blood cell count abnormal'],\n",
              "  166584001: ['C-reactive protein abnormal'],\n",
              "  166603001: ['Liver function tests abnormal'],\n",
              "  166643006: ['Liver enzymes abnormal'],\n",
              "  166702002: ['Raised serum calcium level'],\n",
              "  166717003: ['Serum creatinine raised'],\n",
              "  166830008: ['Serum cholesterol raised'],\n",
              "  166848004: ['Serum triglycerides raised'],\n",
              "  166892002: ['Random blood sugar raised'],\n",
              "  167232003: ['Urine: dark/concentrated'],\n",
              "  183202003: ['Shin splint'],\n",
              "  186748004: ['Parvovirus infection'],\n",
              "  191736004: ['Obsessive-compulsive disorder'],\n",
              "  192085004: ['Anger reaction'],\n",
              "  193000002: ['Temporal lobe epilepsy'],\n",
              "  193031009: ['Cluster headache'],\n",
              "  193093009: [\"Bell's palsy\"],\n",
              "  193462001: ['Insomnia'],\n",
              "  193570009: ['Cataract'],\n",
              "  194828000: ['Angina'],\n",
              "  195967001: ['Asthma'],\n",
              "  197321007: ['Steatosis of liver'],\n",
              "  200936003: ['Lupus erythematosus'],\n",
              "  202472008: ['Hand joint pain'],\n",
              "  202480001: ['Elbow joint pain'],\n",
              "  202482009: ['Wrist joint pain'],\n",
              "  202484005: ['Proximal interphalangeal joint of finger pain'],\n",
              "  202490009: ['Ankle joint pain'],\n",
              "  202609006: ['Clicking knee'],\n",
              "  202617003: ['Clicking interphalangeal joint of toe'],\n",
              "  202852009: ['Shoulder tendonitis'],\n",
              "  202855006: ['Lateral epicondylitis'],\n",
              "  202882003: ['Plantar fasciitis'],\n",
              "  203095000: ['Spasm of back muscles'],\n",
              "  209777000: ['Rupture tendon thigh'],\n",
              "  213257006: ['Generally unwell'],\n",
              "  214264003: ['Lethargy'],\n",
              "  224960004: ['Tired'],\n",
              "  224962007: ['Hot sweats'],\n",
              "  225005002: ['Unable to control anger'],\n",
              "  225013001: ['Feeling bad'],\n",
              "  225014007: ['Feeling empty'],\n",
              "  225460000: ['Constantly crying'],\n",
              "  225473001: ['Feels everything is futile'],\n",
              "  225482007: ['Lacks confidence'],\n",
              "  225508006: ['Poor self-image'],\n",
              "  225549006: ['Yellow skin'],\n",
              "  225581002: ['Sight deteriorating'],\n",
              "  225601007: ['Unable to move'],\n",
              "  225609009: ['Stiff legs'],\n",
              "  225610004: ['Stiff limbs'],\n",
              "  225624000: ['Panic attack'],\n",
              "  228148009: ['Fine motor impairment'],\n",
              "  228158008: ['Walking disability'],\n",
              "  230145002: ['Difficulty breathing'],\n",
              "  230490003: ['Excessive day and night-time sleepiness'],\n",
              "  230645003: ['Compression neuropathy of trunk'],\n",
              "  230690007: ['Cerebrovascular accident'],\n",
              "  230736007: ['Transient global amnesia'],\n",
              "  233604007: ['Pneumonia'],\n",
              "  235594008: ['Bowel dysfunction'],\n",
              "  235856003: ['Liver disease'],\n",
              "  235999009: ['Intra-abdominal haematoma'],\n",
              "  236071009: ['Chronic diarrhoea'],\n",
              "  236423003: ['Renal impairment'],\n",
              "  236620008: ['Infective cystitis'],\n",
              "  236632007: ['Functional disorder of bladder'],\n",
              "  237130006: ['Bleeding between periods'],\n",
              "  237602007: ['Metabolic syndrome X'],\n",
              "  238131007: ['Overweight'],\n",
              "  238539001: ['Hand eczema'],\n",
              "  238810007: ['Flushing'],\n",
              "  239720000: ['Tear of meniscus of knee'],\n",
              "  239725005: ['Rupture of anterior cruciate ligament'],\n",
              "  239873007: ['Osteoarthritis of knee'],\n",
              "  239965002: ['Tendonitis AND/OR tenosynovitis of the elbow region'],\n",
              "  240014001: ['Rupture of tendon of lower leg and ankle'],\n",
              "  240015000: ['Contracture of tendon of ankle region'],\n",
              "  240131006: ['Rhabdomyolysis'],\n",
              "  246636008: ['Blurred vision - hazy'],\n",
              "  246676003: ['Hyperaemia of surface of eye'],\n",
              "  246682000: ['Blood clot in eye'],\n",
              "  246975001: ['Scleral icterus'],\n",
              "  247323005: ['Tightness in throat'],\n",
              "  247347003: ['Discomfort'],\n",
              "  247355005: ['Flank pain'],\n",
              "  247373008: ['Ankle pain'],\n",
              "  247408001: ['High pain threshold'],\n",
              "  247412007: ['Labour pain'],\n",
              "  247441003: ['Erythema'],\n",
              "  247464001: ['Blistering rash'],\n",
              "  247472004: ['Hives'],\n",
              "  247592009: ['Poor short-term memory'],\n",
              "  247640008: ['Unable to think clearly'],\n",
              "  247753000: ['Loss of interest'],\n",
              "  247761005: ['Reduced concentration'],\n",
              "  247806005: ['Ill-at-ease'],\n",
              "  247994001: ['Noise intolerance'],\n",
              "  248096004: ['Lack of libido'],\n",
              "  248132003: ['Craving for food or drink'],\n",
              "  248223005: ['Feeling faint'],\n",
              "  248234008: ['Mentally alert'],\n",
              "  248236005: ['Mentally vague'],\n",
              "  248255005: ['Cannot sleep at all'],\n",
              "  248256006: ['Not getting enough sleep'],\n",
              "  248262001: ['Always sleepy'],\n",
              "  248268002: ['Tires quickly'],\n",
              "  248274002: ['Lack of energy'],\n",
              "  248277009: ['Lack of stamina'],\n",
              "  248422003: ['Warm hands'],\n",
              "  248490000: ['Bloating symptom'],\n",
              "  248491001: ['Swollen knee'],\n",
              "  248493003: ['Distention of blood vessel'],\n",
              "  248581005: ['Rapid shallow breathing'],\n",
              "  248648003: ['Palpitations - rapid'],\n",
              "  248653008: ['Dropped beats - heart'],\n",
              "  248657009: ['Pounding heart'],\n",
              "  248966006: ['Prolonged periods'],\n",
              "  249366005: ['Bleeding from nose'],\n",
              "  249472009: ['Always hungry'],\n",
              "  249477003: ['Increased thirst'],\n",
              "  249489001: ['Choking'],\n",
              "  249544004: ['Abdominal muscles tense'],\n",
              "  249898006: ['Slow on legs'],\n",
              "  249902000: ['Difficulty standing'],\n",
              "  249903005: ['Difficulty standing up'],\n",
              "  249912007: ['Ankle stiff'],\n",
              "  249913002: ['Knee stiff'],\n",
              "  249914008: ['Hip stiff'],\n",
              "  249915009: ['Hand joint stiff'],\n",
              "  249916005: ['Wrist stiff'],\n",
              "  249917001: ['Elbow stiff'],\n",
              "  249918006: ['Shoulder stiff'],\n",
              "  249931001: ['Weakness of neck'],\n",
              "  249938007: ['Weakness of back'],\n",
              "  249940002: ['Shoulder girdle weakness'],\n",
              "  249966004: ['Spasmodic movement'],\n",
              "  249985001: ['Poor balance'],\n",
              "  249990003: ['Unsteady when standing'],\n",
              "  250069006: ['Muscle tension'],\n",
              "  250082003: ['Hand cramps'],\n",
              "  250084002: ['Cramp in calf'],\n",
              "  251377007: ['Abdominal pressure'],\n",
              "  253522006: ['Right ventricular dilatation'],\n",
              "  254935002: ['Intracranial tumour'],\n",
              "  258155009: ['Photosensitisation due to sun'],\n",
              "  262286000: ['Weight increased'],\n",
              "  262558009: ['Deep bruising'],\n",
              "  262966007: ['Rupture of muscle'],\n",
              "  266257000: ['Transient ischaemic attack'],\n",
              "  266599000: ['Dysmenorrhoea'],\n",
              "  266601003: ['Excessive and frequent menstruation'],\n",
              "  267031002: ['Tiredness symptom'],\n",
              "  267032009: ['Tired all the time'],\n",
              "  267036007: ['Dyspnoea'],\n",
              "  267038008: ['Oedema'],\n",
              "  267039000: ['Swollen ankle'],\n",
              "  267044007: ['Impaired exercise tolerance'],\n",
              "  267045008: ['Gastrointestinal symptom'],\n",
              "  267052005: ['Flatulence/wind'],\n",
              "  267064002: ['Urinary retention'],\n",
              "  267073005: ['Suicidal'],\n",
              "  267076002: ['Feeling lonely'],\n",
              "  267078001: ['Involuntary movement'],\n",
              "  267079009: ['Trembles'],\n",
              "  267728009: ['Blind or low vision - one eye only'],\n",
              "  267949000: ['Shoulder joint pain'],\n",
              "  267950000: ['Arthralgia of the upper arm'],\n",
              "  267953003: ['Arthralgia of the lower leg'],\n",
              "  271137009: ['Bad circulation - vasomotor change'],\n",
              "  271584002: ['Cold hands'],\n",
              "  271585001: ['Cold feet'],\n",
              "  271587009: ['Stiffness'],\n",
              "  271594007: ['Syncope'],\n",
              "  271596009: ['Mental distress'],\n",
              "  271599002: ['Feeling content'],\n",
              "  271681002: ['Stomach ache'],\n",
              "  271713000: ['General unsteadiness'],\n",
              "  271737000: ['Anaemia'],\n",
              "  271767006: ['Peeling of skin'],\n",
              "  271771009: ['Joint swelling'],\n",
              "  271782001: ['Drowsy'],\n",
              "  271787007: ['Collapse'],\n",
              "  271795006: ['Malaise and fatigue'],\n",
              "  271801002: ['Taste sense altered'],\n",
              "  271807003: ['Rash'],\n",
              "  271832001: ['Flatulence, eructation and gas pain'],\n",
              "  271834000: ['Burping'],\n",
              "  271835004: ['Abdominal distension, gaseous'],\n",
              "  271870002: ['Low blood pressure reading'],\n",
              "  271873000: ['Senility'],\n",
              "  271951008: ['Crying associated with mood'],\n",
              "  272022009: ['C/O - feeling depressed'],\n",
              "  274135002: ['Arthritis/arthrosis'],\n",
              "  274141009: ['Tendon contracture'],\n",
              "  274279008: ['Renal pain'],\n",
              "  274646000: ['Irritability and anger'],\n",
              "  274663001: ['Acute pain'],\n",
              "  274665008: ['Chronic intractable pain'],\n",
              "  274667000: ['Jaw pain'],\n",
              "  274676007: ['Tingling of skin'],\n",
              "  275319005: ['Swollen legs'],\n",
              "  275921007: ['Scalp itchy'],\n",
              "  276294005: ['Isolated memory skills'],\n",
              "  276444007: ['Generalised pruritus'],\n",
              "  277223000: ['Swollen nasal mucosa'],\n",
              "  277521002: ['Loss of motivation'],\n",
              "  277890004: ['Toe swelling'],\n",
              "  278040002: ['Loss of hair'],\n",
              "  278286009: ['Right hemiparesis'],\n",
              "  278528006: ['Facial swelling'],\n",
              "  278999000: ['Skin tenderness'],\n",
              "  279028009: ['Ovarian pain'],\n",
              "  279038004: ['Thoracic back pain'],\n",
              "  279039007: ['Low back pain'],\n",
              "  279043006: ['Pain in buttock'],\n",
              "  279063004: ['Lumbar facet joint pain'],\n",
              "  279069000: ['Musculoskeletal pain'],\n",
              "  279084009: ['Chest discomfort'],\n",
              "  279093005: ['Cramping pain'],\n",
              "  280816001: ['Facial palsy'],\n",
              "  281016006: ['Incoordination'],\n",
              "  281245003: ['Musculoskeletal chest pain'],\n",
              "  281794004: ['Viral upper respiratory tract infection'],\n",
              "  282145008: ['Unable to walk'],\n",
              "  282180007: ['Unable to walk up step'],\n",
              "  282195009: ['Difficulty walking up stairs'],\n",
              "  282198006: ['Unable to walk down stairs'],\n",
              "  282299006: ['Unable to balance'],\n",
              "  282475008: ['Unable to run'],\n",
              "  282872002: ['Unable to stand up'],\n",
              "  282926000: ['Unable to lie down'],\n",
              "  282937004: ['Unable to bend down'],\n",
              "  282966001: ['Unable to sit'],\n",
              "  283050005: ['Abrasion of eye region'],\n",
              "  283121001: ['Traumatic blister of mouth'],\n",
              "  283416005: ['Cut of hand'],\n",
              "  283902008: ['Has delayed recall'],\n",
              "  284136008: ['Unable to move all four limbs'],\n",
              "  284140004: ['Unable to move arm'],\n",
              "  284143002: ['Difficulty moving arm'],\n",
              "  284146005: ['Unable to move hand'],\n",
              "  284149003: ['Difficulty moving hand'],\n",
              "  284151004: ['Unable to move leg'],\n",
              "  284252000: ['Unable to make a fist'],\n",
              "  284262007: ['Difficulty gripping'],\n",
              "  284977008: ['Difficulty dressing'],\n",
              "  285305004: ['Spots on skin'],\n",
              "  285365001: ['Pain in toe'],\n",
              "  285395009: ['Strain of calf muscle'],\n",
              "  285397001: ['Tightness in arm'],\n",
              "  285849008: ['Difficulty controlling anger'],\n",
              "  286369003: ['Unable to speak'],\n",
              "  286381004: ['Unable to find words'],\n",
              "  286387000: ['Unable to initiate words'],\n",
              "  286641001: ['Moody'],\n",
              "  286651000: ['Fragile self-esteem'],\n",
              "  286755001: ['Impatient character'],\n",
              "  287045000: ['Pain in left arm'],\n",
              "  287046004: ['Pain in right arm'],\n",
              "  287047008: ['Pain in left leg'],\n",
              "  288225004: ['Myalgia/myositis - multiple'],\n",
              "  288226003: ['Myalgia/myositis - shoulder'],\n",
              "  288227007: ['Myalgia/myositis - upper arm'],\n",
              "  288228002: ['Myalgia/myositis - forearm'],\n",
              "  288230000: ['Myalgia/myositis -pelvis/thigh'],\n",
              "  288231001: ['Myalgia/myositis - lower leg'],\n",
              "  288332005: ['Unable to lift'],\n",
              "  288335007: ['Difficulty lifting'],\n",
              "  288885009: ['Unable to eat'],\n",
              "  288939007: ['Difficulty swallowing'],\n",
              "  289001005: ['Unable to feed self'],\n",
              "  289195008: ['Slurred speech'],\n",
              "  289530006: ['Vaginal bleeding'],\n",
              "  289621007: ['Uterus problem'],\n",
              "  289669005: ['Pain of uterus'],\n",
              "  289903006: ['Menopause present'],\n",
              "  297142003: ['Foot swelling'],\n",
              "  297144002: ['Swollen feet'],\n",
              "  297217002: ['Rib pain'],\n",
              "  298170003: ['Knee joint inflamed'],\n",
              "  298203008: ['Joint laxity'],\n",
              "  298240000: ['Sacroiliac joint stiff'],\n",
              "  298241001: ['Foot joint stiff'],\n",
              "  298751004: ['Tenderness of upper limb'],\n",
              "  298753001: ['Numbness of upper limb'],\n",
              "  298870001: ['Elbow joint swelling'],\n",
              "  298941006: ['Swelling of wrist joint'],\n",
              "  299037003: ['Swelling of hand'],\n",
              "  299042006: ['Weakness of hand'],\n",
              "  299060006: ['Swelling of finger'],\n",
              "  299110002: ['Finger joint locking'],\n",
              "  299322007: ['Swelling of knee joint'],\n",
              "  299377003: ['Knee joint painful on movement'],\n",
              "  299933002: ['Vibration sensation present'],\n",
              "  299954009: ['Tightness sensation'],\n",
              "  300043006: ['Reduction of bulk of muscle'],\n",
              "  300306001: ['Stomach problem'],\n",
              "  300381009: ['Frequent defaecation'],\n",
              "  300439004: ['Gastrointestinal tract problem'],\n",
              "  300650009: ['Difficulty riding a bicycle'],\n",
              "  300888008: ['Swelling of body region'],\n",
              "  300895004: ['Anxiety attack'],\n",
              "  300954003: ['Pain in calf'],\n",
              "  300955002: ['Pain in thumb'],\n",
              "  300956001: ['Low back strain'],\n",
              "  301026000: ['Loss of confidence'],\n",
              "  301202006: ['Nasal sinus problem'],\n",
              "  301345002: ['Difficulty sleeping'],\n",
              "  301657001: ['Unable to get out of a chair'],\n",
              "  301660008: ['Difficulty getting out of a chair'],\n",
              "  301676004: ['Unable to get off a bed'],\n",
              "  301679006: ['Difficulty getting off a bed'],\n",
              "  301717006: ['Right upper quadrant pain'],\n",
              "  302188001: ['Bad taste in mouth'],\n",
              "  302226006: ['Peripheral neuropathy'],\n",
              "  304297005: ['Decreased range of shoulder movement'],\n",
              "  304534000: ['Crying'],\n",
              "  307074005: ['Feeling high'],\n",
              "  307077003: ['Feeling hopeless'],\n",
              "  307413004: ['Transient memory loss'],\n",
              "  307496006: ['Diverticulitis'],\n",
              "  307731004: ['Injury of tendon of the rotator cuff of shoulder'],\n",
              "  308909003: ['Parkinsonian tremor'],\n",
              "  308921004: ['Neurological symptom'],\n",
              "  308925008: ['Digestive symptom'],\n",
              "  309086004: ['Paraesthesia of hand'],\n",
              "  309087008: ['Paraesthesia of foot'],\n",
              "  309249007: ['Calf muscle weakness'],\n",
              "  309256001: ['Cold foot'],\n",
              "  309257005: ['Excessive weight loss'],\n",
              "  309521004: ['Numbness of hand'],\n",
              "  309536001: ['Numbness of finger'],\n",
              "  309537005: ['Numbness of lower limb'],\n",
              "  309538000: ['Numbness of foot'],\n",
              "  309539008: ['Numbness of toe'],\n",
              "  309557009: ['Numbness of face'],\n",
              "  309774006: ['Weakness of limb'],\n",
              "  309838005: ['Emotional upset'],\n",
              "  310495003: ['Mild depression'],\n",
              "  310497006: ['Severe depression'],\n",
              "  310501001: ['Numbness of limbs'],\n",
              "  314109004: ['Feeling tired'],\n",
              "  314642004: ['Intermittent pain'],\n",
              "  314983004: ['Deteriorating renal function'],\n",
              "  315224006: ['Heavy episode of vaginal bleeding'],\n",
              "  315642008: ['Influenza-like symptoms'],\n",
              "  332982000: ['Uncontrollable vomiting'],\n",
              "  361122008: ['Impairment level of vision'],\n",
              "  361137007: ['Irregular heart beat'],\n",
              "  361138002: ['Irregular heart rate'],\n",
              "  363058009: ['Degenerative disorder of muscle'],\n",
              "  363346000: ['Malignant neoplastic disease'],\n",
              "  363406005: ['Malignant tumour of colon'],\n",
              "  363499005: ['Malignant tumour of spleen'],\n",
              "  366979004: ['Depressed mood'],\n",
              "  367391008: ['Malaise'],\n",
              "  367466007: ['Skin irritation'],\n",
              "  370143000: ['Major depressive disorder'],\n",
              "  371081002: ['Arthritis of knee'],\n",
              "  371405004: ['Disorder of eye'],\n",
              "  371632003: ['Coma'],\n",
              "  372283008: ['Large breast'],\n",
              "  373931001: ['Sensation of heaviness in limbs'],\n",
              "  373932008: ['Feels hot'],\n",
              "  386033004: ['Neuropathy'],\n",
              "  386661006: ['Fever'],\n",
              "  386692008: ['Menorrhagia'],\n",
              "  386705008: ['Lightheadedness'],\n",
              "  386805003: ['Mild cognitive disorder'],\n",
              "  386806002: ['Impaired cognition'],\n",
              "  386807006: ['Memory impairment'],\n",
              "  387603000: ['Impairment of balance'],\n",
              "  387801000: ['Cervical arthritis'],\n",
              "  396275006: ['Osteoarthritis'],\n",
              "  397540003: ['Visual impairment'],\n",
              "  397541004: ['Severe visual impairment'],\n",
              "  397803000: ['Erectile dysfunction'],\n",
              "  397825006: ['Gastric ulcer'],\n",
              "  398032003: ['Loose stool'],\n",
              "  398114001: ['Ehlers-Danlos syndrome'],\n",
              "  398151007: ['Decreased muscle tone'],\n",
              "  398152000: ['Poor muscle tone'],\n",
              "  398979000: ['Pale complexion'],\n",
              "  399044006: ['Glossopyrosis'],\n",
              "  399068003: ['Malignant tumour of prostate'],\n",
              "  399114005: ['Adhesive capsulitis of shoulder'],\n",
              "  399122003: ['Swallowing problem'],\n",
              "  399153001: ['Vertigo'],\n",
              "  399269003: ['Arthropathy'],\n",
              "  401269004: ['Fear of falling'],\n",
              "  402234004: ['Foot eczema'],\n",
              "  404640003: ['Dizziness'],\n",
              "  405729008: ['Haematochezia'],\n",
              "  409589004: ['Scab of skin'],\n",
              "  414469009: ['Impending shock'],\n",
              "  415690000: ['Sweating'],\n",
              "  415692008: ['Bunion'],\n",
              "  415749005: ['Rupture of tendon'],\n",
              "  416675009: ['Furuncle'],\n",
              "  417237009: ['Blister'],\n",
              "  418092006: ['Respiratory tract congestion'],\n",
              "  418290006: ['Itching'],\n",
              "  418363000: ['Itching of skin'],\n",
              "  418648005: ['Blackout'],\n",
              "  419076005: ['Allergic reaction'],\n",
              "  419145002: ['Nightmares'],\n",
              "  419511003: ['Propensity to adverse reactions to drug'],\n",
              "  419581008: ['Bizarre dreams'],\n",
              "  419723007: ['Mentally dull'],\n",
              "  420038007: ['Feeling unhappy'],\n",
              "  420103007: ['Watery eye'],\n",
              "  420990001: ['Tunnel vision'],\n",
              "  421262002: ['Tongue swelling'],\n",
              "  422400008: ['Vomiting'],\n",
              "  422587007: ['Nausea'],\n",
              "  423052008: ['Frequent night waking'],\n",
              "  423849004: ['Iliotibial band friction syndrome'],\n",
              "  424131007: ['Easy bruising'],\n",
              "  424196004: ['Feeling nervous', 'Nervousness'],\n",
              "  424372002: ['Oedema of extremity'],\n",
              "  424582000: ['Stress overload'],\n",
              "  424647005: ['Cramp in limb'],\n",
              "  425423002: ['Pain provoked by movement'],\n",
              "  425772008: ['Tendonitis of foot'],\n",
              "  426120002: ['Pain provoked by rest'],\n",
              "  426206001: ['Constant pain'],\n",
              "  426899007: ['Pain provoked by walking'],\n",
              "  426965005: ['Aphthous ulcer'],\n",
              "  427475007: ['Pain radiating to lumbar region of back'],\n",
              "  428061005: ['Malignant neoplasm of brain'],\n",
              "  428281000: ['Malignant neoplasm of bone'],\n",
              "  428724006: ['Arthropathy of knee joint'],\n",
              "  429040005: ['Ulcer'],\n",
              "  429340002: ['Traumatic injury of skeletal muscle'],\n",
              "  429360005: ['Tendonitis of knee'],\n",
              "  429513001: ['Rupture of Achilles tendon'],\n",
              "  429661002: ['Neuroma of foot'],\n",
              "  429783005: ['Paraesthesia of lower extremity'],\n",
              "  431416001: ['Menstrual cramp'],\n",
              "  432352001: ['Increased creatine kinase level'],\n",
              "  439953004: ['Elevated cholesterol/high density lipoprotein ratio'],\n",
              "  440630006: ['Irritable bowel syndrome characterised by constipation'],\n",
              "  443120002: ['Inflammation of ligament'],\n",
              "  443694000: ['Type II diabetes mellitus uncontrolled'],\n",
              "  443798008: ['Arthritis of shoulder region joint'],\n",
              "  443892003: ['Neuroma'],\n",
              "  444003007: ['Disorder of joint of shoulder region'],\n",
              "  444312002: ['Haemorrhage of abdominal cavity structure'],\n",
              "  444702007: ['Irregular bowel habits'],\n",
              "  444827008: ['Erythema of skin'],\n",
              "  444899003: ['Pain in forearm'],\n",
              "  445178008: ['Burning sensation of vagina'],\n",
              "  445197008: ['White discolouration of skin'],\n",
              "  445445006: ['Raised low density lipoprotein cholesterol'],\n",
              "  448589005: ['Arthritis of hand'],\n",
              "  449614009: ['Swelling of lower limb'],\n",
              "  449618007: ['Swelling of upper limb'],\n",
              "  449917004: ['Cramp in lower limb'],\n",
              "  449918009: ['Cramp in lower leg'],\n",
              "  450316000: ['Severe dehydration'],\n",
              "  473008002: ['Pain in cheek'],\n",
              "  473011001: ['Allergic condition'],\n",
              "  609410002: ['Necrosis of anatomical site'],\n",
              "  609599003: ['Neuropathy of upper limb'],\n",
              "  609600000: ['Neuropathy of lower limb'],\n",
              "  698065002: ['Acid reflux'],\n",
              "  698247007: ['Cardiac arrhythmia'],\n",
              "  699262001: ['Post traumatic osteoarthritis'],\n",
              "  699302001: ['Lumbar arthritis'],\n",
              "  699368004: ['Symptom of ankle'],\n",
              "  699376002: ['Lip swelling'],\n",
              "  101000119102: ['Numbness and tingling sensation of skin'],\n",
              "  571000119103: ['Daily headache'],\n",
              "  2531000168109: ['Andrews Tums Antacid'],\n",
              "  3481000168101: ['Nasonex Aqueous'],\n",
              "  13481000168104: ['Panadeine'],\n",
              "  14351000168102: ['Seroquel'],\n",
              "  15611000168108: ['Naprosyn'],\n",
              "  25701000168107: ['Enbrel'],\n",
              "  26171000168109: ['Lasix'],\n",
              "  28551000168108: ['Voltaren'],\n",
              "  31911000168108: ['Rhinocort Aqueous'],\n",
              "  38181000168109: ['Voltaren Emulgel'],\n",
              "  45291000168107: ['Efexor-XR'],\n",
              "  47401000168109: ['Lescol'],\n",
              "  59781000168101: ['Epipen Auto-Injector'],\n",
              "  177241000036105: ['paracetamol + ibuprofen'],\n",
              "  250991000119100: ['Stumbling gait'],\n",
              "  2297011000036108: ['magnesium'],\n",
              "  2922011000036103: ['Fosamax'],\n",
              "  2929011000036108: ['Nexium'],\n",
              "  2940011000036100: ['Premarin'],\n",
              "  3003011000036100: ['Tagamet'],\n",
              "  3066011000036105: ['Olmetec'],\n",
              "  3080011000036109: ['Tylenol'],\n",
              "  3191011000036109: ['Prinivil'],\n",
              "  3210011000036104: ['Lexapro'],\n",
              "  3298011000036103: ['Lipex'],\n",
              "  3384011000036100: ['Arthrotec'],\n",
              "  3475011000036104: ['Plavix'],\n",
              "  3527011000036101: ['Xanax'],\n",
              "  3530011000036104: ['Lopid'],\n",
              "  3559011000036109: ['Zoloft'],\n",
              "  3563011000036102: ['Zantac'],\n",
              "  3572011000036102: ['Mobic'],\n",
              "  3589011000036101: ['Ezetrol'],\n",
              "  3659011000036102: ['Atacand'],\n",
              "  3702011000036109: ['Oxycontin'],\n",
              "  3736011000036100: ['Avandia'],\n",
              "  3848011000036104: ['Pravachol'],\n",
              "  3877011000036101: ['Lipitor'],\n",
              "  3904011000036106: ['Zocor'],\n",
              "  3934011000036103: ['Capoten'],\n",
              "  4031011000036106: ['Crestor'],\n",
              "  4138011000036106: ['Lipidil'],\n",
              "  4156011000036108: ['Deseril'],\n",
              "  4171011000036100: ['Celebrex'],\n",
              "  4216011000036104: ['Norvasc'],\n",
              "  4230011000036107: ['Zestril'],\n",
              "  4344011000036106: ['Neurontin'],\n",
              "  4422011000036109: ['Noten'],\n",
              "  6205011000036102: ['Lipitor 20 mg tablet: film-coated'],\n",
              "  6206011000036109: ['Lipitor 40 mg tablet: film-coated'],\n",
              "  6496011000036105: ['Celebrex 200 mg capsule: hard'],\n",
              "  21238011000036103: ['oestradiol'],\n",
              "  21242011000036102: ['simvastatin'],\n",
              "  21252011000036100: ['morphine'],\n",
              "  21286011000036106: ['paracetamol + codeine'],\n",
              "  21288011000036105: ['diclofenac'],\n",
              "  21290011000036100: ['Testosterone'],\n",
              "  21290011000036109: ['testosterone'],\n",
              "  21296011000036107: ['rabeprazole'],\n",
              "  21304011000036105: ['naproxen'],\n",
              "  21317011000036101: ['enalapril'],\n",
              "  21322011000036108: ['amlodipine'],\n",
              "  21343011000036103: ['atorvastatin'],\n",
              "  21395011000036107: ['ramipril'],\n",
              "  21417011000036105: ['fenofibrate'],\n",
              "  21433011000036107: ['paracetamol'],\n",
              "  21465011000036101: ['lisinopril'],\n",
              "  21486011000036105: ['tramadol'],\n",
              "  21496011000036106: ['prednisone'],\n",
              "  21520011000036107: ['misoprostol'],\n",
              "  21540011000036109: ['pseudoephedrine'],\n",
              "  21565011000036108: ['ezetimibe + simvastatin'],\n",
              "  21589011000036108: ['clonidine'],\n",
              "  21605011000036100: ['methylprednisolone'],\n",
              "  21606011000036107: ['pravastatin'],\n",
              "  21624011000036105: ['atenolol'],\n",
              "  21659011000036107: ['gemfibrozil'],\n",
              "  21662011000036107: ['metoprolol'],\n",
              "  21676011000036101: ['omeprazole'],\n",
              "  21678011000036102: ['meloxicam'],\n",
              "  21719011000036107: ['aspirin'],\n",
              "  21747011000036106: ['glipizide'],\n",
              "  21779011000036103: ['cortisone'],\n",
              "  21809011000036108: ['diclofenac + misoprostol'],\n",
              "  21814011000036109: ['hydrochlorothiazide'],\n",
              "  21821011000036104: ['codeine'],\n",
              "  21839011000036103: ['bisoprolol'],\n",
              "  21885011000036105: ['ibuprofen'],\n",
              "  ...},)"
            ]
          },
          "metadata": {
            "tags": []
          },
          "execution_count": 28
        }
      ]
    },
    {
      "metadata": {
        "id": "BZQxU3ntdV0O",
        "colab_type": "text"
      },
      "cell_type": "markdown",
      "source": [
        "55300003: ['Cramp', 'Muscle Cramp', 'Muscle cramp']\n",
        "57676002: ['Arthralgia', 'Joint pain'],\n",
        "95847005: ['Injury of muscle', 'Muscle injury']\n",
        "129565002: ['Disorder of muscle', 'Myopathy'],\n",
        "424196004: ['Feeling nervous', 'Nervousness'],"
      ]
    },
    {
      "metadata": {
        "id": "htjizpNFdzcN",
        "colab_type": "text"
      },
      "cell_type": "markdown",
      "source": [
        "Figure out frequency of duplicated CUIDs across Diseases."
      ]
    },
    {
      "metadata": {
        "id": "HQPnjashdUAa",
        "colab_type": "code",
        "colab": {
          "base_uri": "https://localhost:8080/",
          "height": 35
        },
        "outputId": "3149ce5e-9064-4aee-d2e6-910c60a9b4e2"
      },
      "cell_type": "code",
      "source": [
        "(test['Disease']=='Cramp').sum()"
      ],
      "execution_count": 29,
      "outputs": [
        {
          "output_type": "execute_result",
          "data": {
            "text/plain": [
              "3"
            ]
          },
          "metadata": {
            "tags": []
          },
          "execution_count": 29
        }
      ]
    },
    {
      "metadata": {
        "id": "5hu1k8f6eD3Y",
        "colab_type": "code",
        "colab": {
          "base_uri": "https://localhost:8080/",
          "height": 35
        },
        "outputId": "09d5140b-c72e-4950-a614-d38772636ab6"
      },
      "cell_type": "code",
      "source": [
        "(test['Disease']=='Muscle Cramp').sum()"
      ],
      "execution_count": 30,
      "outputs": [
        {
          "output_type": "execute_result",
          "data": {
            "text/plain": [
              "1"
            ]
          },
          "metadata": {
            "tags": []
          },
          "execution_count": 30
        }
      ]
    },
    {
      "metadata": {
        "id": "66xeklX2eIn_",
        "colab_type": "code",
        "colab": {
          "base_uri": "https://localhost:8080/",
          "height": 35
        },
        "outputId": "53472f40-9c8d-4464-c825-eb9b4bc98c5f"
      },
      "cell_type": "code",
      "source": [
        "(test['Disease']=='Muscle cramp').sum()"
      ],
      "execution_count": 32,
      "outputs": [
        {
          "output_type": "execute_result",
          "data": {
            "text/plain": [
              "262"
            ]
          },
          "metadata": {
            "tags": []
          },
          "execution_count": 32
        }
      ]
    },
    {
      "metadata": {
        "id": "EQ_vv1O8eLbZ",
        "colab_type": "code",
        "colab": {
          "base_uri": "https://localhost:8080/",
          "height": 35
        },
        "outputId": "da3ba9d9-396a-4081-e6b1-8f3db02d646e"
      },
      "cell_type": "code",
      "source": [
        "(test['Disease']=='Feeling nervous').sum()"
      ],
      "execution_count": 33,
      "outputs": [
        {
          "output_type": "execute_result",
          "data": {
            "text/plain": [
              "3"
            ]
          },
          "metadata": {
            "tags": []
          },
          "execution_count": 33
        }
      ]
    },
    {
      "metadata": {
        "id": "KzjNzLJfeTF6",
        "colab_type": "code",
        "colab": {
          "base_uri": "https://localhost:8080/",
          "height": 35
        },
        "outputId": "33cbe287-baa4-4837-c937-849cd0b2814d"
      },
      "cell_type": "code",
      "source": [
        "(test['Disease']=='Nervousness').sum()"
      ],
      "execution_count": 34,
      "outputs": [
        {
          "output_type": "execute_result",
          "data": {
            "text/plain": [
              "1"
            ]
          },
          "metadata": {
            "tags": []
          },
          "execution_count": 34
        }
      ]
    },
    {
      "metadata": {
        "id": "FKtr0AizeWqG",
        "colab_type": "code",
        "colab": {
          "base_uri": "https://localhost:8080/",
          "height": 35
        },
        "outputId": "0039821e-64c0-4861-8e0f-9a57b19bbf75"
      },
      "cell_type": "code",
      "source": [
        "(test['Disease']=='Joint pain').sum()"
      ],
      "execution_count": 35,
      "outputs": [
        {
          "output_type": "execute_result",
          "data": {
            "text/plain": [
              "1"
            ]
          },
          "metadata": {
            "tags": []
          },
          "execution_count": 35
        }
      ]
    },
    {
      "metadata": {
        "id": "9jGnDX9NecGG",
        "colab_type": "code",
        "colab": {
          "base_uri": "https://localhost:8080/",
          "height": 35
        },
        "outputId": "2d2cbede-1b26-4cfa-8cce-4a282c744727"
      },
      "cell_type": "code",
      "source": [
        "(test['Disease']=='Arthralgia').sum()"
      ],
      "execution_count": 36,
      "outputs": [
        {
          "output_type": "execute_result",
          "data": {
            "text/plain": [
              "256"
            ]
          },
          "metadata": {
            "tags": []
          },
          "execution_count": 36
        }
      ]
    },
    {
      "metadata": {
        "id": "VB6Sg6feef99",
        "colab_type": "code",
        "colab": {
          "base_uri": "https://localhost:8080/",
          "height": 35
        },
        "outputId": "72f5e46d-9c96-417a-844d-84224be66ee0"
      },
      "cell_type": "code",
      "source": [
        "(test['Disease']=='Injury of muscle').sum()"
      ],
      "execution_count": 37,
      "outputs": [
        {
          "output_type": "execute_result",
          "data": {
            "text/plain": [
              "5"
            ]
          },
          "metadata": {
            "tags": []
          },
          "execution_count": 37
        }
      ]
    },
    {
      "metadata": {
        "id": "dQZeQuHTejWD",
        "colab_type": "code",
        "colab": {
          "base_uri": "https://localhost:8080/",
          "height": 35
        },
        "outputId": "ae3d6d00-d79e-47c8-aa6a-dc327c544c43"
      },
      "cell_type": "code",
      "source": [
        "(test['Disease']=='Muscle injury').sum()"
      ],
      "execution_count": 38,
      "outputs": [
        {
          "output_type": "execute_result",
          "data": {
            "text/plain": [
              "1"
            ]
          },
          "metadata": {
            "tags": []
          },
          "execution_count": 38
        }
      ]
    },
    {
      "metadata": {
        "id": "Zrhm--swemqj",
        "colab_type": "code",
        "colab": {
          "base_uri": "https://localhost:8080/",
          "height": 35
        },
        "outputId": "8de1d90c-0c7a-416e-cc0e-62ca8be167ba"
      },
      "cell_type": "code",
      "source": [
        "(test['Disease']=='Disorder of muscle').sum()"
      ],
      "execution_count": 39,
      "outputs": [
        {
          "output_type": "execute_result",
          "data": {
            "text/plain": [
              "4"
            ]
          },
          "metadata": {
            "tags": []
          },
          "execution_count": 39
        }
      ]
    },
    {
      "metadata": {
        "id": "TIjJ1G3fer-b",
        "colab_type": "code",
        "colab": {
          "base_uri": "https://localhost:8080/",
          "height": 35
        },
        "outputId": "d418894b-2f81-406f-f4b7-4bab0cdb1fef"
      },
      "cell_type": "code",
      "source": [
        "(test['Disease']=='Myopathy').sum()"
      ],
      "execution_count": 40,
      "outputs": [
        {
          "output_type": "execute_result",
          "data": {
            "text/plain": [
              "59"
            ]
          },
          "metadata": {
            "tags": []
          },
          "execution_count": 40
        }
      ]
    },
    {
      "metadata": {
        "id": "rlsOrXjqexaG",
        "colab_type": "text"
      },
      "cell_type": "markdown",
      "source": [
        "There is not a lot of information to be gained by keeping the duplicated labels, so we drop the Diseases with lower frequency."
      ]
    },
    {
      "metadata": {
        "id": "xaru9ThQfBBL",
        "colab_type": "text"
      },
      "cell_type": "markdown",
      "source": [
        "Lablel Consolidation to have one-to-one mapping between CUID & Disease."
      ]
    },
    {
      "metadata": {
        "id": "G-78k1fnev4h",
        "colab_type": "code",
        "colab": {}
      },
      "cell_type": "code",
      "source": [
        "test = test[test.Disease != 'Nervousness']\n",
        "test = test[test.Disease != 'Cramp']\n",
        "test = test[test.Disease != 'Joint pain']\n",
        "test = test[test.Disease != 'Muscle Cramp']\n",
        "test = test[test.Disease != 'Muscle injury']\n",
        "test = test[test.Disease != 'Disorder of muscle']"
      ],
      "execution_count": 0,
      "outputs": []
    },
    {
      "metadata": {
        "id": "_kX7cykUfI5m",
        "colab_type": "code",
        "colab": {
          "base_uri": "https://localhost:8080/",
          "height": 35
        },
        "outputId": "55098b24-4ec1-4897-9620-4d2d4931d8ee"
      },
      "cell_type": "code",
      "source": [
        "test.Disease.nunique()"
      ],
      "execution_count": 108,
      "outputs": [
        {
          "output_type": "execute_result",
          "data": {
            "text/plain": [
              "1034"
            ]
          },
          "metadata": {
            "tags": []
          },
          "execution_count": 108
        }
      ]
    },
    {
      "metadata": {
        "id": "mJ6X_aPWfikw",
        "colab_type": "text"
      },
      "cell_type": "markdown",
      "source": [
        "Now we will remove all rows corresponding to CUIDs that are less than 0.05% of the dataset, same procedure followed for training set."
      ]
    },
    {
      "metadata": {
        "id": "vHy6BaubfLja",
        "colab_type": "code",
        "colab": {}
      },
      "cell_type": "code",
      "source": [
        "test = test[test.CUID != 1402001 ]\n",
        "test = test[test.CUID != 70323002 ]\n",
        "test = test[test.CUID != 249990003 ]\n",
        "test = test[test.CUID != 301717006 ]\n",
        "test = test[test.CUID != 424131007 ]\n",
        "test = test[test.CUID != 21540011000036109 ]\n",
        "test = test[test.CUID != 4106009 ]\n",
        "test = test[test.CUID != 14304000 ]\n",
        "test = test[test.CUID != 22193007 ]\n",
        "test = test[test.CUID != 38936003 ]\n",
        "test = test[test.CUID != 44169009 ]\n",
        "test = test[test.CUID != 52072009 ]\n",
        "test = test[test.CUID != 61462000 ]\n",
        "test = test[test.CUID != 69215007 ]\n",
        "test = test[test.CUID != 82883008 ]\n",
        "test = test[test.CUID != 90128006 ]\n",
        "test = test[test.CUID != 225473001 ]\n",
        "test = test[test.CUID != 247806005 ]\n",
        "test = test[test.CUID != 248581005 ]\n",
        "test = test[test.CUID != 271873000 ]\n",
        "test = test[test.CUID != 282475008 ]\n",
        "test = test[test.CUID != 289669005 ]\n",
        "test = test[test.CUID != 300888008 ]\n",
        "test = test[test.CUID != 308921004 ]\n",
        "test = test[test.CUID != 309256001 ]\n",
        "test = test[test.CUID != 414469009 ]\n",
        "test = test[test.CUID != 428724006 ]\n",
        "test = test[test.CUID != 443694000 ]\n",
        "test = test[test.CUID != 3934011000036103 ]\n",
        "test = test[test.CUID != 37787011000036104 ]\n",
        "test = test[test.CUID != 61777011000036104 ]\n",
        "test = test[test.CUID != 77426011000036108 ]\n",
        "test = test[test.CUID != 3716002 ]\n",
        "test = test[test.CUID != 9829001 ]\n",
        "test = test[test.CUID != 15188001 ]\n",
        "test = test[test.CUID != 23520002 ]\n",
        "test = test[test.CUID != 24982008 ]\n",
        "test = test[test.CUID != 37340000 ]\n",
        "test = test[test.CUID != 37567005 ]\n",
        "test = test[test.CUID != 40445007 ]\n",
        "test = test[test.CUID != 42345000 ]\n",
        "test = test[test.CUID != 44018007 ]\n",
        "test = test[test.CUID != 44564008 ]\n",
        "test = test[test.CUID != 46040000 ]\n",
        "test = test[test.CUID != 50829006 ]\n",
        "test = test[test.CUID != 59026006 ]\n",
        "test = test[test.CUID != 64206003 ]\n",
        "test = test[test.CUID != 64379006 ]\n",
        "test = test[test.CUID != 66383009 ]\n",
        "test = test[test.CUID != 68449006 ]\n",
        "test = test[test.CUID != 69322001 ]\n",
        "test = test[test.CUID != 70346000 ]\n",
        "test = test[test.CUID != 71262003 ]\n",
        "test = test[test.CUID != 82297005 ]\n",
        "test = test[test.CUID != 83901003 ]\n",
        "test = test[test.CUID != 85828009 ]\n",
        "test = test[test.CUID != 85898001 ]\n",
        "test = test[test.CUID != 95319004 ]\n",
        "test = test[test.CUID != 95655001 ]\n",
        "test = test[test.CUID != 102608004 ]\n",
        "test = test[test.CUID != 105981003 ]\n",
        "test = test[test.CUID != 128605003 ]\n",
        "test = test[test.CUID != 129899009 ]\n",
        "test = test[test.CUID != 161722004 ]\n",
        "test = test[test.CUID != 192085004 ]\n",
        "test = test[test.CUID != 193031009 ]\n",
        "test = test[test.CUID != 193570009 ]\n",
        "test = test[test.CUID != 209777000 ]\n",
        "test = test[test.CUID != 225005002 ]\n",
        "test = test[test.CUID != 235594008 ]\n",
        "test = test[test.CUID != 235999009 ]\n",
        "test = test[test.CUID != 240014001 ]\n",
        "test = test[test.CUID != 240015000 ]\n",
        "test = test[test.CUID != 247355005 ]\n",
        "test = test[test.CUID != 248256006 ]\n",
        "test = test[test.CUID != 248268002 ]\n",
        "test = test[test.CUID != 248648003 ]\n",
        "test = test[test.CUID != 249931001 ]\n",
        "test = test[test.CUID != 249985001 ]\n",
        "test = test[test.CUID != 262966007 ]\n",
        "test = test[test.CUID != 271585001 ]\n",
        "test = test[test.CUID != 271795006 ]\n",
        "test = test[test.CUID != 279028009 ]\n",
        "test = test[test.CUID != 282198006 ]\n",
        "test = test[test.CUID != 282966001 ]\n",
        "test = test[test.CUID != 283902008 ]\n",
        "test = test[test.CUID != 284146005 ]\n",
        "test = test[test.CUID != 284149003 ]\n",
        "test = test[test.CUID != 286387000 ]\n",
        "test = test[test.CUID != 297144002 ]\n",
        "test = test[test.CUID != 298203008 ]\n",
        "test = test[test.CUID != 298240000 ]\n",
        "test = test[test.CUID != 298941006 ]\n",
        "test = test[test.CUID != 299110002 ]\n",
        "test = test[test.CUID != 299377003 ]\n",
        "test = test[test.CUID != 300439004 ]\n",
        "test = test[test.CUID != 302188001 ]\n",
        "test = test[test.CUID != 307074005 ]\n",
        "test = test[test.CUID != 307731004 ]\n",
        "test = test[test.CUID != 315642008 ]\n",
        "test = test[test.CUID != 361138002 ]\n",
        "test = test[test.CUID != 386805003 ]\n",
        "test = test[test.CUID != 397541004 ]\n",
        "test = test[test.CUID != 398151007 ]\n",
        "test = test[test.CUID != 398979000 ]\n",
        "test = test[test.CUID != 402234004 ]\n",
        "test = test[test.CUID != 409589004 ]\n",
        "test = test[test.CUID != 416675009 ]\n",
        "test = test[test.CUID != 429360005 ]\n",
        "test = test[test.CUID != 443120002 ]\n",
        "test = test[test.CUID != 443798008 ]\n",
        "test = test[test.CUID != 444312002 ]\n",
        "test = test[test.CUID != 445197008 ]\n",
        "test = test[test.CUID != 450316000 ]\n",
        "test = test[test.CUID != 13481000168104 ]\n",
        "test = test[test.CUID != 250991000119100 ]\n",
        "test = test[test.CUID != 2922011000036103 ]\n",
        "test = test[test.CUID != 2940011000036100 ]\n",
        "test = test[test.CUID != 3066011000036105 ]\n",
        "test = test[test.CUID != 3527011000036101 ]\n",
        "test = test[test.CUID != 21589011000036108 ]\n",
        "test = test[test.CUID != 32972011000036104 ]\n",
        "test = test[test.CUID != 39592011000036106 ]\n",
        "test = test[test.CUID != 4308002 ]\n",
        "test = test[test.CUID != 6020002 ]\n",
        "test = test[test.CUID != 6389006 ]\n",
        "test = test[test.CUID != 7501002 ]\n",
        "test = test[test.CUID != 10085004 ]\n",
        "test = test[test.CUID != 11381005 ]\n",
        "test = test[test.CUID != 13644009 ]\n",
        "test = test[test.CUID != 15203004 ]\n",
        "test = test[test.CUID != 18156008 ]\n",
        "test = test[test.CUID != 21499005 ]\n",
        "test = test[test.CUID != 23388006 ]\n",
        "test = test[test.CUID != 23919004 ]\n",
        "test = test[test.CUID != 32402008 ]\n",
        "test = test[test.CUID != 34789001 ]\n",
        "test = test[test.CUID != 35064005 ]\n",
        "test = test[test.CUID != 41931001 ]\n",
        "test = test[test.CUID != 43364001 ]\n",
        "test = test[test.CUID != 49563000 ]\n",
        "test = test[test.CUID != 49601007 ]\n",
        "test = test[test.CUID != 50415004 ]\n",
        "test = test[test.CUID != 52754008 ]\n",
        "test = test[test.CUID != 55222007 ]\n",
        "test = test[test.CUID != 56018004 ]\n",
        "test = test[test.CUID != 59976005 ]\n",
        "test = test[test.CUID != 64531003 ]\n",
        "test = test[test.CUID != 67015007 ]\n",
        "test = test[test.CUID != 67362008 ]\n",
        "test = test[test.CUID != 68172002 ]\n",
        "test = test[test.CUID != 73442001 ]\n",
        "test = test[test.CUID != 74732009 ]\n",
        "test = test[test.CUID != 75183008 ]\n",
        "test = test[test.CUID != 77981007 ]\n",
        "test = test[test.CUID != 79015004 ]\n",
        "test = test[test.CUID != 79395009 ]\n",
        "test = test[test.CUID != 80515008 ]\n",
        "test = test[test.CUID != 80585000 ]\n",
        "test = test[test.CUID != 82470000 ]\n",
        "test = test[test.CUID != 83156004 ]\n",
        "test = test[test.CUID != 90834002 ]\n",
        "test = test[test.CUID != 93478000 ]\n",
        "test = test[test.CUID != 95677002 ]\n",
        "test = test[test.CUID != 102911000 ]\n",
        "test = test[test.CUID != 103281005 ]\n",
        "test = test[test.CUID != 108367008 ]\n",
        "test = test[test.CUID != 118930001 ]\n",
        "test = test[test.CUID != 118940003 ]\n",
        "test = test[test.CUID != 124042003 ]\n",
        "test = test[test.CUID != 128609009 ]\n",
        "test = test[test.CUID != 129859006 ]\n",
        "test = test[test.CUID != 131053002 ]\n",
        "test = test[test.CUID != 160591008 ]\n",
        "test = test[test.CUID != 161156004 ]\n",
        "test = test[test.CUID != 162315007 ]\n",
        "test = test[test.CUID != 162351000 ]\n",
        "test = test[test.CUID != 166702002 ]\n",
        "test = test[test.CUID != 183202003 ]\n",
        "test = test[test.CUID != 186748004 ]\n",
        "test = test[test.CUID != 191736004 ]\n",
        "test = test[test.CUID != 202609006 ]\n",
        "test = test[test.CUID != 225460000 ]\n",
        "test = test[test.CUID != 225482007 ]\n",
        "test = test[test.CUID != 230490003 ]\n",
        "test = test[test.CUID != 236071009 ]\n",
        "test = test[test.CUID != 237602007 ]\n",
        "test = test[test.CUID != 239725005 ]\n",
        "test = test[test.CUID != 247412007 ]\n",
        "test = test[test.CUID != 247761005 ]\n",
        "test = test[test.CUID != 248493003 ]\n",
        "test = test[test.CUID != 248657009 ]\n",
        "test = test[test.CUID != 248966006 ]\n",
        "test = test[test.CUID != 249544004 ]\n",
        "test = test[test.CUID != 249903005 ]\n",
        "test = test[test.CUID != 251377007 ]\n",
        "test = test[test.CUID != 253522006 ]\n",
        "test = test[test.CUID != 267076002 ]\n",
        "test = test[test.CUID != 271771009 ]\n",
        "test = test[test.CUID != 274135002 ]\n",
        "test = test[test.CUID != 274141009 ]\n",
        "test = test[test.CUID != 274646000 ]\n",
        "test = test[test.CUID != 274665008 ]\n",
        "test = test[test.CUID != 276294005 ]\n",
        "test = test[test.CUID != 276444007 ]\n",
        "test = test[test.CUID != 277890004 ]\n",
        "test = test[test.CUID != 278286009 ]\n",
        "test = test[test.CUID != 279043006 ]\n",
        "test = test[test.CUID != 279063004 ]\n",
        "test = test[test.CUID != 281794004 ]\n",
        "test = test[test.CUID != 282926000 ]\n",
        "test = test[test.CUID != 283121001 ]\n",
        "test = test[test.CUID != 283416005 ]\n",
        "test = test[test.CUID != 284136008 ]\n",
        "test = test[test.CUID != 284252000 ]\n",
        "test = test[test.CUID != 284977008 ]\n",
        "test = test[test.CUID != 286651000 ]\n",
        "test = test[test.CUID != 288225004 ]\n",
        "test = test[test.CUID != 289001005 ]\n",
        "test = test[test.CUID != 298170003 ]\n",
        "test = test[test.CUID != 300650009 ]\n",
        "test = test[test.CUID != 300895004 ]\n",
        "test = test[test.CUID != 301657001 ]\n",
        "test = test[test.CUID != 304297005 ]\n",
        "test = test[test.CUID != 308909003 ]\n",
        "test = test[test.CUID != 314642004 ]\n",
        "test = test[test.CUID != 332982000 ]\n",
        "test = test[test.CUID != 361122008 ]\n",
        "test = test[test.CUID != 363406005 ]\n",
        "test = test[test.CUID != 363499005 ]\n",
        "test = test[test.CUID != 366979004 ]\n",
        "test = test[test.CUID != 398114001 ]\n",
        "test = test[test.CUID != 398152000 ]\n",
        "test = test[test.CUID != 399044006 ]\n",
        "test = test[test.CUID != 399068003 ]\n",
        "test = test[test.CUID != 415692008 ]\n",
        "test = test[test.CUID != 419511003 ]\n",
        "test = test[test.CUID != 423849004 ]\n",
        "test = test[test.CUID != 424372002 ]\n",
        "test = test[test.CUID != 424582000 ]\n",
        "test = test[test.CUID != 426120002 ]\n",
        "test = test[test.CUID != 428281000 ]\n",
        "test = test[test.CUID != 429661002 ]\n",
        "test = test[test.CUID != 439953004 ]\n",
        "test = test[test.CUID != 443892003 ]\n",
        "test = test[test.CUID != 444003007 ]\n",
        "test = test[test.CUID != 444702007 ]\n",
        "test = test[test.CUID != 449618007 ]\n",
        "test = test[test.CUID != 699302001 ]\n",
        "test = test[test.CUID != 699376002 ]\n",
        "test = test[test.CUID != 571000119103 ]\n",
        "test = test[test.CUID != 14351000168102 ]\n",
        "test = test[test.CUID != 31911000168108 ]\n",
        "test = test[test.CUID != 38181000168109 ]\n",
        "test = test[test.CUID != 45291000168107 ]\n",
        "test = test[test.CUID != 47401000168109 ]\n",
        "test = test[test.CUID != 177241000036105 ]\n",
        "test = test[test.CUID != 3191011000036109 ]\n",
        "test = test[test.CUID != 3475011000036104 ]\n",
        "test = test[test.CUID != 3563011000036102 ]\n",
        "test = test[test.CUID != 3736011000036100 ]\n",
        "test = test[test.CUID != 6496011000036105 ]\n",
        "test = test[test.CUID != 21290011000036109 ]\n",
        "test = test[test.CUID != 21304011000036105 ]\n",
        "test = test[test.CUID != 21317011000036101 ]\n",
        "test = test[test.CUID != 21395011000036107 ]\n",
        "test = test[test.CUID != 21465011000036101 ]\n",
        "test = test[test.CUID != 21676011000036101 ]\n",
        "test = test[test.CUID != 21678011000036102 ]\n",
        "test = test[test.CUID != 21814011000036109 ]\n",
        "test = test[test.CUID != 37703011000036109 ]\n",
        "test = test[test.CUID != 39651011000036100 ]\n",
        "test = test[test.CUID != 39701011000036102 ]\n",
        "test = test[test.CUID != 69867011000036102 ]\n",
        "test = test[test.CUID != 83225011000036106 ]\n",
        "test = test[test.CUID != 1806006 ]\n",
        "test = test[test.CUID != 4969004 ]\n",
        "test = test[test.CUID != 5662003 ]\n",
        "test = test[test.CUID != 6211002 ]\n",
        "test = test[test.CUID != 7393007 ]\n",
        "test = test[test.CUID != 7973008 ]\n",
        "test = test[test.CUID != 8009008 ]\n",
        "test = test[test.CUID != 10001005 ]\n",
        "test = test[test.CUID != 12441001 ]\n",
        "test = test[test.CUID != 13164000 ]\n",
        "test = test[test.CUID != 13543005 ]\n",
        "test = test[test.CUID != 14669001 ]\n",
        "test = test[test.CUID != 15336001 ]\n",
        "test = test[test.CUID != 16001004 ]\n",
        "test = test[test.CUID != 18718003 ]\n",
        "test = test[test.CUID != 19155002 ]\n",
        "test = test[test.CUID != 25458004 ]\n",
        "test = test[test.CUID != 26677001 ]\n",
        "test = test[test.CUID != 35209006 ]\n",
        "test = test[test.CUID != 36163009 ]\n",
        "test = test[test.CUID != 38013005 ]\n",
        "test = test[test.CUID != 39423001 ]\n",
        "test = test[test.CUID != 40144003 ]\n",
        "test = test[test.CUID != 40739000 ]\n",
        "test = test[test.CUID != 41982003 ]\n",
        "test = test[test.CUID != 45534005 ]\n",
        "test = test[test.CUID != 46206005 ]\n",
        "test = test[test.CUID != 48661000 ]\n",
        "test = test[test.CUID != 51590001 ]\n",
        "test = test[test.CUID != 52526003 ]\n",
        "test = test[test.CUID != 54150009 ]\n",
        "test = test[test.CUID != 55260003 ]\n",
        "test = test[test.CUID != 55891002 ]\n",
        "test = test[test.CUID != 56273005 ]\n",
        "test = test[test.CUID != 56925008 ]\n",
        "test = test[test.CUID != 58901008 ]\n",
        "test = test[test.CUID != 63901009 ]\n",
        "test = test[test.CUID != 64766004 ]\n",
        "test = test[test.CUID != 64779008 ]\n",
        "test = test[test.CUID != 75408008 ]\n",
        "test = test[test.CUID != 76376003 ]\n",
        "test = test[test.CUID != 79012001 ]\n",
        "test = test[test.CUID != 80954004 ]\n",
        "test = test[test.CUID != 80967001 ]\n",
        "test = test[test.CUID != 81308009 ]\n",
        "test = test[test.CUID != 82639001 ]\n",
        "test = test[test.CUID != 84114007 ]\n",
        "test = test[test.CUID != 84480002 ]\n",
        "test = test[test.CUID != 86094006 ]\n",
        "test = test[test.CUID != 89419008 ]\n",
        "test = test[test.CUID != 95320005 ]\n",
        "test = test[test.CUID != 95453001 ]\n",
        "test = test[test.CUID != 95570007 ]\n",
        "test = test[test.CUID != 95673003 ]\n",
        "test = test[test.CUID != 102491009 ]\n",
        "test = test[test.CUID != 102564009 ]\n",
        "test = test[test.CUID != 102565005 ]\n",
        "test = test[test.CUID != 102938007 ]\n",
        "test = test[test.CUID != 103298005 ]\n",
        "test = test[test.CUID != 110288007 ]\n",
        "test = test[test.CUID != 111224002 ]\n",
        "test = test[test.CUID != 119416008 ]\n",
        "test = test[test.CUID != 125610000 ]\n",
        "test = test[test.CUID != 127354003 ]\n",
        "test = test[test.CUID != 128601007 ]\n",
        "test = test[test.CUID != 131078003 ]\n",
        "test = test[test.CUID != 160685001 ]\n",
        "test = test[test.CUID != 161833006 ]\n",
        "test = test[test.CUID != 161876008 ]\n",
        "test = test[test.CUID != 161968007 ]\n",
        "test = test[test.CUID != 162020001 ]\n",
        "test = test[test.CUID != 162308004 ]\n",
        "test = test[test.CUID != 166603001 ]\n",
        "test = test[test.CUID != 193000002 ]\n",
        "test = test[test.CUID != 194828000 ]\n",
        "test = test[test.CUID != 202484005 ]\n",
        "test = test[test.CUID != 202490009 ]\n",
        "test = test[test.CUID != 202617003 ]\n",
        "test = test[test.CUID != 225013001 ]\n",
        "test = test[test.CUID != 225508006 ]\n",
        "test = test[test.CUID != 230645003 ]\n",
        "test = test[test.CUID != 230736007 ]\n",
        "test = test[test.CUID != 236632007 ]\n",
        "test = test[test.CUID != 238539001 ]\n",
        "test = test[test.CUID != 239873007 ]\n",
        "test = test[test.CUID != 246682000 ]\n",
        "test = test[test.CUID != 246975001 ]\n",
        "test = test[test.CUID != 247408001 ]\n",
        "test = test[test.CUID != 247994001 ]\n",
        "test = test[test.CUID != 248223005 ]\n",
        "test = test[test.CUID != 248234008 ]\n",
        "test = test[test.CUID != 248422003 ]\n",
        "test = test[test.CUID != 248653008 ]\n",
        "test = test[test.CUID != 249366005 ]\n",
        "test = test[test.CUID != 249477003 ]\n",
        "test = test[test.CUID != 249912007 ]\n",
        "test = test[test.CUID != 249916005 ]\n",
        "test = test[test.CUID != 254935002 ]\n",
        "test = test[test.CUID != 267073005 ]\n",
        "test = test[test.CUID != 267078001 ]\n",
        "test = test[test.CUID != 267728009 ]\n",
        "test = test[test.CUID != 271584002 ]\n",
        "test = test[test.CUID != 271596009 ]\n",
        "test = test[test.CUID != 271599002 ]\n",
        "test = test[test.CUID != 271951008 ]\n",
        "test = test[test.CUID != 272022009 ]\n",
        "test = test[test.CUID != 278999000 ]\n",
        "test = test[test.CUID != 279093005 ]\n",
        "test = test[test.CUID != 282872002 ]\n",
        "test = test[test.CUID != 282937004 ]\n",
        "test = test[test.CUID != 283050005 ]\n",
        "test = test[test.CUID != 285305004 ]\n",
        "test = test[test.CUID != 285397001 ]\n",
        "test = test[test.CUID != 287046004 ]\n",
        "test = test[test.CUID != 289621007 ]\n",
        "test = test[test.CUID != 298241001 ]\n",
        "test = test[test.CUID != 298751004 ]\n",
        "test = test[test.CUID != 298870001 ]\n",
        "test = test[test.CUID != 299933002 ]\n",
        "test = test[test.CUID != 300043006 ]\n",
        "test = test[test.CUID != 300956001 ]\n",
        "test = test[test.CUID != 301026000 ]\n",
        "test = test[test.CUID != 301660008 ]\n",
        "test = test[test.CUID != 307077003 ]\n",
        "test = test[test.CUID != 307413004 ]\n",
        "test = test[test.CUID != 309257005 ]\n",
        "test = test[test.CUID != 309838005 ]\n",
        "test = test[test.CUID != 314983004 ]\n",
        "test = test[test.CUID != 363058009 ]\n",
        "test = test[test.CUID != 372283008 ]\n",
        "test = test[test.CUID != 387801000 ]\n",
        "test = test[test.CUID != 401269004 ]\n",
        "test = test[test.CUID != 420990001 ]\n",
        "test = test[test.CUID != 423052008 ]\n",
        "test = test[test.CUID != 425772008 ]\n",
        "test = test[test.CUID != 440630006 ]\n",
        "test = test[test.CUID != 473008002 ]\n",
        "test = test[test.CUID != 609410002 ]\n",
        "test = test[test.CUID != 699262001 ]\n",
        "test = test[test.CUID != 699368004 ]\n",
        "test = test[test.CUID != 3481000168101 ]\n",
        "test = test[test.CUID != 15611000168108 ]\n",
        "test = test[test.CUID != 25701000168107 ]\n",
        "test = test[test.CUID != 59781000168101 ]\n",
        "test = test[test.CUID != 3003011000036100 ]\n",
        "test = test[test.CUID != 3589011000036101 ]\n",
        "test = test[test.CUID != 3659011000036102 ]\n",
        "test = test[test.CUID != 3702011000036109 ]\n",
        "test = test[test.CUID != 4156011000036108 ]\n",
        "test = test[test.CUID != 21605011000036100 ]\n",
        "test = test[test.CUID != 21624011000036105 ]\n",
        "test = test[test.CUID != 21747011000036106 ]\n",
        "test = test[test.CUID != 21809011000036108 ]\n",
        "test = test[test.CUID != 21839011000036103 ]\n",
        "test = test[test.CUID != 21911011000036104 ]\n",
        "test = test[test.CUID != 22095011000036109 ]\n",
        "test = test[test.CUID != 31645011000036106 ]\n",
        "test = test[test.CUID != 37714011000036108 ]\n",
        "test = test[test.CUID != 54020011000036108 ]\n",
        "test = test[test.CUID != 69821011000036104 ]\n",
        "test = test[test.CUID != 70270011000036104 ]\n",
        "test = test[test.CUID != 77442011000036106 ]\n",
        "test = test[test.CUID != 923927011000036105 ]\n",
        "test = test[test.CUID != 102598000 ]\n",
        "test = test[test.CUID != 35918011000036106 ]\n",
        "test = test[test.CUID != 267038008 ]\n",
        "test = test[test.CUID != 444899003 ]\n",
        "test = test[test.CUID != 34839011000036106 ]\n",
        "test = test[test.CUID != 26413003 ]\n",
        "test = test[test.CUID != 30811009 ]\n",
        "test = test[test.CUID != 33308003 ]\n",
        "test = test[test.CUID != 39621005 ]\n",
        "test = test[test.CUID != 84946008 ]\n",
        "test = test[test.CUID != 91019004 ]\n",
        "test = test[test.CUID != 134407002 ]\n",
        "test = test[test.CUID != 233604007 ]\n",
        "test = test[test.CUID != 239965002 ]\n",
        "test = test[test.CUID != 249898006 ]\n",
        "test = test[test.CUID != 262558009 ]\n",
        "test = test[test.CUID != 3545003 ]\n",
        "test = test[test.CUID != 18165001 ]\n",
        "test = test[test.CUID != 23502006 ]\n",
        "test = test[test.CUID != 31681005 ]\n",
        "test = test[test.CUID != 40806005 ]\n",
        "test = test[test.CUID != 40930008 ]\n",
        "test = test[test.CUID != 44548000 ]\n",
        "test = test[test.CUID != 45979003 ]\n",
        "test = test[test.CUID != 56317004 ]\n",
        "test = test[test.CUID != 67233009 ]\n",
        "test = test[test.CUID != 68235000 ]\n",
        "test = test[test.CUID != 83421005 ]\n",
        "test = test[test.CUID != 95359001 ]\n",
        "test = test[test.CUID != 162221009 ]\n",
        "test = test[test.CUID != 228148009 ]\n",
        "test = test[test.CUID != 249940002 ]\n",
        "test = test[test.CUID != 267045008 ]\n",
        "test = test[test.CUID != 271737000 ]\n",
        "test = test[test.CUID != 271787007 ]\n",
        "test = test[test.CUID != 285849008 ]\n",
        "test = test[test.CUID != 288332005 ]\n",
        "test = test[test.CUID != 307496006 ]\n",
        "test = test[test.CUID != 310495003 ]\n",
        "test = test[test.CUID != 367466007 ]\n",
        "test = test[test.CUID != 427475007 ]\n",
        "test = test[test.CUID != 449614009 ]\n",
        "test = test[test.CUID != 473011001 ]\n",
        "test = test[test.CUID != 2531000168109 ]\n",
        "test = test[test.CUID != 2929011000036108 ]\n",
        "test = test[test.CUID != 21486011000036105 ]\n",
        "test = test[test.CUID != 18101008 ]\n",
        "test = test[test.CUID != 28743005 ]\n",
        "test = test[test.CUID != 29164008 ]\n",
        "test = test[test.CUID != 35678005 ]\n",
        "test = test[test.CUID != 59927004 ]\n",
        "test = test[test.CUID != 61387006 ]\n",
        "test = test[test.CUID != 61599003 ]\n",
        "test = test[test.CUID != 75088002 ]\n",
        "test = test[test.CUID != 77547008 ]\n",
        "test = test[test.CUID != 78860006 ]\n",
        "test = test[test.CUID != 81498004 ]\n",
        "test = test[test.CUID != 82272006 ]\n",
        "test = test[test.CUID != 102572006 ]\n",
        "test = test[test.CUID != 124055002 ]\n",
        "test = test[test.CUID != 165509000 ]\n",
        "test = test[test.CUID != 166584001 ]\n",
        "test = test[test.CUID != 202472008 ]\n",
        "test = test[test.CUID != 225549006 ]\n",
        "test = test[test.CUID != 225601007 ]\n",
        "test = test[test.CUID != 249902000 ]\n",
        "test = test[test.CUID != 266599000 ]\n",
        "test = test[test.CUID != 266601003 ]\n",
        "test = test[test.CUID != 267950000 ]\n",
        "test = test[test.CUID != 279069000 ]\n",
        "test = test[test.CUID != 284143002 ]\n",
        "test = test[test.CUID != 286369003 ]\n",
        "test = test[test.CUID != 286381004 ]\n",
        "test = test[test.CUID != 286755001 ]\n",
        "test = test[test.CUID != 299954009 ]\n",
        "test = test[test.CUID != 300381009 ]\n",
        "test = test[test.CUID != 300955002 ]\n",
        "test = test[test.CUID != 371081002 ]\n",
        "test = test[test.CUID != 373932008 ]\n",
        "test = test[test.CUID != 399269003 ]\n",
        "test = test[test.CUID != 418648005 ]\n",
        "test = test[test.CUID != 424196004 ]\n",
        "test = test[test.CUID != 4230011000036107 ]\n",
        "test = test[test.CUID != 4422011000036109 ]\n",
        "test = test[test.CUID != 21290011000036100 ]\n",
        "test = test[test.CUID != 21322011000036108 ]\n",
        "test = test[test.CUID != 32970011000036103 ]\n",
        "test = test[test.CUID != 78584011000036106 ]\n",
        "test = test[test.CUID != 2764000 ]\n",
        "test = test[test.CUID != 4249000 ]\n",
        "test = test[test.CUID != 11072008 ]\n",
        "test = test[test.CUID != 17369002 ]\n",
        "test = test[test.CUID != 17971005 ]\n",
        "test = test[test.CUID != 27355003 ]\n",
        "test = test[test.CUID != 36630001 ]\n",
        "test = test[test.CUID != 40095003 ]\n",
        "test = test[test.CUID != 40196000 ]\n",
        "test = test[test.CUID != 43005009 ]\n",
        "test = test[test.CUID != 46991000 ]\n",
        "test = test[test.CUID != 52448006 ]\n",
        "test = test[test.CUID != 60728008 ]\n",
        "test = test[test.CUID != 70076002 ]\n",
        "test = test[test.CUID != 70153002 ]\n",
        "test = test[test.CUID != 102617004 ]\n",
        "test = test[test.CUID != 102897001 ]\n",
        "test = test[test.CUID != 111516008 ]\n",
        "test = test[test.CUID != 161903000 ]\n",
        "test = test[test.CUID != 202852009 ]\n",
        "test = test[test.CUID != 225581002 ]\n",
        "test = test[test.CUID != 246676003 ]\n",
        "test = test[test.CUID != 248262001 ]\n",
        "test = test[test.CUID != 249918006 ]\n",
        "test = test[test.CUID != 271137009 ]\n",
        "test = test[test.CUID != 271713000 ]\n",
        "test = test[test.CUID != 271834000 ]\n",
        "test = test[test.CUID != 271835004 ]\n",
        "test = test[test.CUID != 274667000 ]\n",
        "test = test[test.CUID != 284151004 ]\n",
        "test = test[test.CUID != 284262007 ]\n",
        "test = test[test.CUID != 285395009 ]\n",
        "test = test[test.CUID != 287045000 ]\n",
        "test = test[test.CUID != 288335007 ]\n",
        "test = test[test.CUID != 304534000 ]\n",
        "test = test[test.CUID != 309249007 ]\n",
        "test = test[test.CUID != 419076005 ]\n",
        "test = test[test.CUID != 420103007 ]\n",
        "test = test[test.CUID != 429513001 ]\n",
        "test = test[test.CUID != 445178008 ]\n",
        "test = test[test.CUID != 609599003 ]\n",
        "test = test[test.CUID != 26171000168109 ]\n",
        "test = test[test.CUID != 2297011000036108 ]\n",
        "test = test[test.CUID != 21296011000036107 ]\n",
        "test = test[test.CUID != 21659011000036107 ]\n",
        "test = test[test.CUID != 76000011000036107 ]\n",
        "test = test[test.CUID != 77422011000036109 ]\n",
        "test = test[test.CUID != 21005005 ]\n",
        "test = test[test.CUID != 31384009 ]\n",
        "test = test[test.CUID != 41652007 ]\n",
        "test = test[test.CUID != 44186003 ]\n",
        "test = test[test.CUID != 105504002 ]\n",
        "test = test[test.CUID != 122481008 ]\n",
        "test = test[test.CUID != 128239009 ]\n",
        "test = test[test.CUID != 249914008 ]\n",
        "test = test[test.CUID != 249917001 ]\n",
        "test = test[test.CUID != 266257000 ]\n",
        "test = test[test.CUID != 267079009 ]\n",
        "test = test[test.CUID != 370143000 ]\n",
        "test = test[test.CUID != 371632003 ]\n",
        "test = test[test.CUID != 397803000 ]\n",
        "test = test[test.CUID != 415749005 ]\n",
        "test = test[test.CUID != 421262002 ]\n",
        "test = test[test.CUID != 426965005 ]\n",
        "test = test[test.CUID != 429340002 ]\n",
        "test = test[test.CUID != 21238011000036103 ]\n",
        "test = test[test.CUID != 68566005 ]\n",
        "test = test[test.CUID != 224962007 ]\n",
        "test = test[test.CUID != 16269008 ]\n",
        "test = test[test.CUID != 249489001 ]\n",
        "test = test[test.CUID != 3210011000036104 ]\n",
        "test = test[test.CUID != 21520011000036107 ]\n",
        "test = test[test.CUID != 3253007 ]\n",
        "test = test[test.CUID != 22631008 ]\n",
        "test = test[test.CUID != 46635009 ]\n",
        "test = test[test.CUID != 53741008 ]\n",
        "test = test[test.CUID != 80182007 ]\n",
        "test = test[test.CUID != 445445006 ]\n",
        "test = test[test.CUID != 21821011000036104 ]\n",
        "test = test[test.CUID != 7011001 ]\n",
        "test = test[test.CUID != 8392000 ]\n",
        "test = test[test.CUID != 13746004 ]\n",
        "test = test[test.CUID != 34095006 ]\n",
        "test = test[test.CUID != 36971009 ]\n",
        "test = test[test.CUID != 43498006 ]\n",
        "test = test[test.CUID != 67251005 ]\n",
        "test = test[test.CUID != 130989002 ]\n",
        "test = test[test.CUID != 165232002 ]\n",
        "test = test[test.CUID != 202482009 ]\n",
        "test = test[test.CUID != 225610004 ]\n",
        "test = test[test.CUID != 299037003 ]\n",
        "test = test[test.CUID != 3572011000036102 ]\n",
        "test = test[test.CUID != 6205011000036102 ]\n",
        "test = test[test.CUID != 21286011000036106 ]\n",
        "test = test[test.CUID != 10743008 ]\n",
        "test = test[test.CUID != 21134002 ]\n",
        "test = test[test.CUID != 30473006 ]\n",
        "test = test[test.CUID != 44695005 ]\n",
        "test = test[test.CUID != 52702003 ]\n",
        "test = test[test.CUID != 95421005 ]\n",
        "test = test[test.CUID != 95847005 ]\n",
        "test = test[test.CUID != 161898004 ]\n",
        "test = test[test.CUID != 167232003 ]\n",
        "test = test[test.CUID != 236423003 ]\n",
        "test = test[test.CUID != 237130006 ]\n",
        "test = test[test.CUID != 238131007 ]\n",
        "test = test[test.CUID != 239720000 ]\n",
        "test = test[test.CUID != 249472009 ]\n",
        "test = test[test.CUID != 271767006 ]\n",
        "test = test[test.CUID != 271801002 ]\n",
        "test = test[test.CUID != 274676007 ]\n",
        "test = test[test.CUID != 280816001 ]\n",
        "test = test[test.CUID != 299322007 ]\n",
        "test = test[test.CUID != 315224006 ]\n",
        "test = test[test.CUID != 361137007 ]\n",
        "test = test[test.CUID != 371405004 ]\n",
        "test = test[test.CUID != 397540003 ]\n",
        "test = test[test.CUID != 698247007 ]\n",
        "test = test[test.CUID != 69813011000036107 ]\n",
        "test = test[test.CUID != 4740000 ]\n",
        "test = test[test.CUID != 7006003 ]\n",
        "test = test[test.CUID != 14151009 ]\n",
        "test = test[test.CUID != 18193002 ]\n",
        "test = test[test.CUID != 26237000 ]\n",
        "test = test[test.CUID != 42984000 ]\n",
        "test = test[test.CUID != 48926009 ]\n",
        "test = test[test.CUID != 55350005 ]\n",
        "test = test[test.CUID != 61372001 ]\n",
        "test = test[test.CUID != 102498003 ]\n",
        "test = test[test.CUID != 102943000 ]\n",
        "test = test[test.CUID != 118932009 ]\n",
        "test = test[test.CUID != 247464001 ]\n",
        "test = test[test.CUID != 247472004 ]\n",
        "test = test[test.CUID != 275921007 ]\n",
        "test = test[test.CUID != 277223000 ]\n",
        "test = test[test.CUID != 308925008 ]\n",
        "test = test[test.CUID != 309557009 ]\n",
        "test = test[test.CUID != 448589005 ]\n",
        "test = test[test.CUID != 6206011000036109 ]\n",
        "test = test[test.CUID != 32643011000036106 ]\n",
        "test = test[test.CUID != 12584003 ]\n",
        "test = test[test.CUID != 22325002 ]\n",
        "test = test[test.CUID != 64226004 ]\n",
        "test = test[test.CUID != 82423001 ]\n",
        "test = test[test.CUID != 95418008 ]\n",
        "test = test[test.CUID != 103002009 ]\n",
        "test = test[test.CUID != 129103003 ]\n",
        "test = test[test.CUID != 166848004 ]\n",
        "test = test[test.CUID != 202855006 ]\n",
        "test = test[test.CUID != 279084009 ]\n",
        "test = test[test.CUID != 282180007 ]\n",
        "test = test[test.CUID != 417237009 ]\n",
        "test = test[test.CUID != 424647005 ]\n",
        "test = test[test.CUID != 429040005 ]\n",
        "test = test[test.CUID != 609600000 ]\n",
        "test = test[test.CUID != 101000119102 ]\n",
        "test = test[test.CUID != 21252011000036100 ]\n",
        "test = test[test.CUID != 21606011000036107 ]\n",
        "test = test[test.CUID != 26889001 ]\n",
        "test = test[test.CUID != 32798002 ]\n",
        "test = test[test.CUID != 90446007 ]\n",
        "test = test[test.CUID != 162116003 ]\n",
        "test = test[test.CUID != 248132003 ]\n",
        "test = test[test.CUID != 301679006 ]\n",
        "test = test[test.CUID != 310501001 ]\n",
        "test = test[test.CUID != 4138011000036106 ]\n",
        "test = test[test.CUID != 21662011000036107 ]\n",
        "test = test[test.CUID != 40733004 ]\n",
        "test = test[test.CUID != 281016006 ]\n",
        "test = test[test.CUID != 57406009 ]\n",
        "test = test[test.CUID != 418092006 ]\n",
        "test = test[test.CUID != 11654001 ]\n",
        "test = test[test.CUID != 76742009 ]\n",
        "test = test[test.CUID != 125667009 ]\n",
        "test = test[test.CUID != 287047008 ]\n",
        "test = test[test.CUID != 288227007 ]\n",
        "test = test[test.CUID != 12063002 ]\n",
        "test = test[test.CUID != 39400004 ]\n",
        "test = test[test.CUID != 59050008 ]\n",
        "test = test[test.CUID != 161874006 ]\n",
        "test = test[test.CUID != 225014007 ]\n",
        "test = test[test.CUID != 247441003 ]\n",
        "test = test[test.CUID != 373931001 ]\n",
        "test = test[test.CUID != 21433011000036107 ]\n",
        "test = test[test.CUID != 21719011000036107 ]\n",
        "test = test[test.CUID != 48532005 ]\n",
        "test = test[test.CUID != 54586004 ]\n",
        "test = test[test.CUID != 75694006 ]\n",
        "test = test[test.CUID != 83547004 ]\n",
        "test = test[test.CUID != 248236005 ]\n",
        "test = test[test.CUID != 275319005 ]\n",
        "test = test[test.CUID != 288885009 ]\n",
        "test = test[test.CUID != 309087008 ]\n",
        "test = test[test.CUID != 314109004 ]\n",
        "test = test[test.CUID != 396275006 ]\n",
        "test = test[test.CUID != 399122003 ]\n",
        "test = test[test.CUID != 444827008 ]\n",
        "test = test[test.CUID != 9126005 ]\n",
        "test = test[test.CUID != 26929004 ]\n",
        "test = test[test.CUID != 43116000 ]\n",
        "test = test[test.CUID != 50219008 ]\n",
        "test = test[test.CUID != 53430007 ]\n",
        "test = test[test.CUID != 56731001 ]\n",
        "test = test[test.CUID != 82971005 ]\n",
        "test = test[test.CUID != 249938007 ]\n",
        "test = test[test.CUID != 258155009 ]\n",
        "test = test[test.CUID != 281245003 ]\n",
        "test = test[test.CUID != 284140004 ]\n",
        "test = test[test.CUID != 299042006 ]\n",
        "test = test[test.CUID != 309536001 ]\n",
        "test = test[test.CUID != 397825006 ]\n",
        "test = test[test.CUID != 399114005 ]\n",
        "test = test[test.CUID != 432352001 ]\n",
        "test = test[test.CUID != 23056005 ]\n",
        "test = test[test.CUID != 32398004 ]\n",
        "test = test[test.CUID != 72405004 ]\n",
        "test = test[test.CUID != 116289008 ]\n",
        "test = test[test.CUID != 236620008 ]\n",
        "test = test[test.CUID != 247753000 ]\n",
        "test = test[test.CUID != 249915009 ]\n",
        "test = test[test.CUID != 428061005 ]\n",
        "test = test[test.CUID != 73589001 ]\n",
        "test = test[test.CUID != 87486003 ]\n",
        "test = test[test.CUID != 162043005 ]\n",
        "test = test[test.CUID != 267064002 ]\n",
        "test = test[test.CUID != 271870002 ]\n",
        "test = test[test.CUID != 299060006 ]\n",
        "test = test[test.CUID != 6471006 ]\n",
        "test = test[test.CUID != 53523011000036100 ]\n",
        "test = test[test.CUID != 47004009 ]\n",
        "test = test[test.CUID != 298753001 ]\n",
        "test = test[test.CUID != 70733008 ]\n",
        "test = test[test.CUID != 297217002 ]\n",
        "test = test[test.CUID != 419145002 ]\n",
        "test = test[test.CUID != 419581008 ]\n",
        "test = test[test.CUID != 24199005 ]\n",
        "test = test[test.CUID != 36955009 ]\n",
        "test = test[test.CUID != 85418005 ]\n",
        "test = test[test.CUID != 247323005 ]\n",
        "test = test[test.CUID != 247347003 ]\n",
        "test = test[test.CUID != 386806002 ]\n",
        "test = test[test.CUID != 405729008 ]\n",
        "test = test[test.CUID != 47268002 ]\n",
        "test = test[test.CUID != 55145008 ]\n",
        "test = test[test.CUID != 80690008 ]\n",
        "test = test[test.CUID != 248491001 ]\n",
        "test = test[test.CUID != 267949000 ]\n",
        "test = test[test.CUID != 267953003 ]\n",
        "test = test[test.CUID != 271594007 ]\n",
        "test = test[test.CUID != 274663001 ]\n",
        "test = test[test.CUID != 21343011000036103 ]\n",
        "test = test[test.CUID != 21545007 ]\n",
        "test = test[test.CUID != 193093009 ]\n",
        "test = test[test.CUID != 202480001 ]\n",
        "test = test[test.CUID != 274279008 ]\n",
        "test = test[test.CUID != 301202006 ]\n",
        "test = test[test.CUID != 77461011000036109 ]\n",
        "test = test[test.CUID != 84017003 ]\n",
        "test = test[test.CUID != 282195009 ]\n",
        "test = test[test.CUID != 363346000 ]\n",
        "test = test[test.CUID != 3298011000036103 ]\n",
        "test = test[test.CUID != 102480002 ]\n",
        "test = test[test.CUID != 3559011000036109 ]\n",
        "test = test[test.CUID != 86651002 ]\n",
        "test = test[test.CUID != 426899007 ]\n",
        "test = test[test.CUID != 18876004 ]\n",
        "test = test[test.CUID != 278528006 ]\n",
        "test = test[test.CUID != 4216011000036104 ]\n",
        "test = test[test.CUID != 21779011000036103 ]\n",
        "test = test[test.CUID != 56608008 ]\n",
        "test = test[test.CUID != 165247006 ]\n",
        "test = test[test.CUID != 195967001 ]\n",
        "test = test[test.CUID != 262286000 ]\n",
        "test = test[test.CUID != 279038004 ]\n",
        "test = test[test.CUID != 62476001 ]\n",
        "test = test[test.CUID != 197321007 ]\n",
        "test = test[test.CUID != 271832001 ]\n",
        "test = test[test.CUID != 288230000 ]\n",
        "test = test[test.CUID != 309539008 ]\n",
        "test = test[test.CUID != 4344011000036106 ]\n",
        "test = test[test.CUID != 21496011000036106 ]\n",
        "test = test[test.CUID != 162352007 ]\n",
        "test = test[test.CUID != 248096004 ]\n",
        "test = test[test.CUID != 249913002 ]\n",
        "test = test[test.CUID != 250082003 ]\n",
        "test = test[test.CUID != 420038007 ]\n",
        "test = test[test.CUID != 8708008 ]\n",
        "test = test[test.CUID != 52613005 ]\n",
        "test = test[test.CUID != 89362005 ]\n",
        "test = test[test.CUID != 309538000 ]\n",
        "test = test[test.CUID != 44054006 ]\n",
        "test = test[test.CUID != 3530011000036104 ]\n",
        "test = test[test.CUID != 213257006 ]\n",
        "test = test[test.CUID != 21565011000036108 ]\n",
        "test = test[test.CUID != 300306001 ]\n",
        "test = test[test.CUID != 162290004 ]\n",
        "test = test[test.CUID != 166892002 ]\n",
        "test = test[test.CUID != 250069006 ]\n",
        "test = test[test.CUID != 288228002 ]\n",
        "test = test[test.CUID != 3424008 ]\n",
        "test = test[test.CUID != 8510008 ]\n",
        "test = test[test.CUID != 225624000 ]\n",
        "test = test[test.CUID != 248277009 ]\n",
        "test = test[test.CUID != 267039000 ]\n",
        "test = test[test.CUID != 43724002 ]\n",
        "test = test[test.CUID != 57182000 ]\n",
        "test = test[test.CUID != 23924001 ]\n",
        "test = test[test.CUID != 398032003 ]\n",
        "test = test[test.CUID != 162397003 ]\n",
        "test = test[test.CUID != 449918009 ]\n",
        "test = test[test.CUID != 39575007 ]\n",
        "test = test[test.CUID != 202882003 ]\n",
        "test = test[test.CUID != 225609009 ]\n",
        "test = test[test.CUID != 288226003 ]\n",
        "test = test[test.CUID != 289195008 ]\n",
        "test = test[test.CUID != 415690000 ]\n",
        "test = test[test.CUID != 386661006 ]\n",
        "test = test[test.CUID != 29542008 ]\n",
        "test = test[test.CUID != 34436003 ]\n",
        "test = test[test.CUID != 36349006 ]\n",
        "test = test[test.CUID != 90708001 ]\n",
        "test = test[test.CUID != 240131006 ]\n",
        "test = test[test.CUID != 267044007 ]\n",
        "test = test[test.CUID != 288939007 ]\n",
        "test = test[test.CUID != 69791001 ]\n",
        "test = test[test.CUID != 309537005 ]\n",
        "test = test[test.CUID != 310497006 ]\n",
        "test = test[test.CUID != 3080011000036109 ]\n",
        "test = test[test.CUID != 203095000 ]\n",
        "test = test[test.CUID != 309086004 ]\n",
        "test = test[test.CUID != 42399005 ]\n",
        "test = test[test.CUID != 16046003 ]\n",
        "test = test[test.CUID != 297142003 ]\n",
        "test = test[test.CUID != 301676004 ]\n",
        "test = test[test.CUID != 16386004 ]\n",
        "test = test[test.CUID != 238810007 ]\n",
        "test = test[test.CUID != 161873000 ]\n",
        "test = test[test.CUID != 77436011000036106 ]\n",
        "test = test[test.CUID != 53215011000036102 ]\n",
        "test = test[test.CUID != 53458011000036102 ]\n",
        "test = test[test.CUID != 6142004 ]\n",
        "test = test[test.CUID != 69896004 ]\n",
        "test = test[test.CUID != 84445001 ]\n",
        "test = test[test.CUID != 16973004 ]\n",
        "test = test[test.CUID != 38341003 ]\n",
        "test = test[test.CUID != 48500005 ]\n",
        "test = test[test.CUID != 214264003 ]\n",
        "test = test[test.CUID != 429783005 ]\n",
        "test = test[test.CUID != 87715008 ]\n",
        "test = test[test.CUID != 931804011000036107 ]\n",
        "test = test[test.CUID != 16331000 ]\n",
        "test = test[test.CUID != 55533009 ]\n",
        "test = test[test.CUID != 73595000 ]\n",
        "test = test[test.CUID != 128139000 ]\n",
        "test = test[test.CUID != 2733002 ]\n",
        "test = test[test.CUID != 90560007 ]\n",
        "test = test[test.CUID != 230145002 ]\n",
        "test = test[test.CUID != 49727002 ]\n",
        "test = test[test.CUID != 79890006 ]\n",
        "test = test[test.CUID != 249966004 ]\n",
        "test = test[test.CUID != 282299006 ]\n",
        "test = test[test.CUID != 386692008 ]\n",
        "test = test[test.CUID != 418363000 ]\n",
        "test = test[test.CUID != 6285003 ]\n",
        "test = test[test.CUID != 81680008 ]\n",
        "test = test[test.CUID != 425423002 ]\n",
        "test = test[test.CUID != 166717003 ]\n",
        "test = test[test.CUID != 161882006 ]\n",
        "test = test[test.CUID != 166643006 ]\n",
        "test = test[test.CUID != 39104002 ]\n",
        "test = test[test.CUID != 286641001 ]\n",
        "test = test[test.CUID != 431416001 ]\n",
        "test = test[test.CUID != 77692006 ]\n",
        "test = test[test.CUID != 289903006 ]\n",
        "test = test[test.CUID != 21288011000036105 ]\n",
        "test = test[test.CUID != 26329005 ]\n",
        "test = test[test.CUID != 32914008 ]\n",
        "test = test[test.CUID != 36031001 ]\n",
        "test = test[test.CUID != 200936003 ]\n",
        "test = test[test.CUID != 285365001 ]\n",
        "test = test[test.CUID != 309521004 ]\n",
        "test = test[test.CUID != 9991008 ]\n",
        "test = test[test.CUID != 49049000 ]\n",
        "test = test[test.CUID != 78514002 ]\n",
        "test = test[test.CUID != 24184005 ]\n",
        "test = test[test.CUID != 21885011000036105 ]\n",
        "test = test[test.CUID != 162031009 ]\n",
        "test = test[test.CUID != 4171011000036100 ]\n",
        "test = test[test.CUID != 247640008 ]\n",
        "test = test[test.CUID != 267032009 ]\n",
        "test = test[test.CUID != 230690007 ]\n",
        "test = test[test.CUID != 24700007 ]\n",
        "test = test[test.CUID != 34840004 ]\n",
        "test = test[test.CUID != 80313002 ]\n",
        "test = test[test.CUID != 302226006 ]\n",
        "test = test[test.CUID != 102551008 ]\n",
        "test = test[test.CUID != 698065002 ]\n",
        "test = test[test.CUID != 67849003 ]\n",
        "test = test[test.CUID != 74323005 ]\n",
        "test = test[test.CUID != 426206001 ]\n",
        "test = test[test.CUID != 166830008 ]\n",
        "test = test[test.CUID != 271782001 ]\n",
        "test = test[test.CUID != 386033004 ]\n",
        "test = test[test.CUID != 21242011000036102 ]\n",
        "test = test[test.CUID != 37796009 ]\n",
        "test = test[test.CUID != 250084002 ]\n",
        "test = test[test.CUID != 53057004 ]\n",
        "test = test[test.CUID != 235856003 ]\n",
        "test = test[test.CUID != 45352006 ]\n",
        "test = test[test.CUID != 21417011000036105 ]\n",
        "test = test[test.CUID != 86044005 ]\n",
        "test = test[test.CUID != 40917007 ]\n",
        "test = test[test.CUID != 60862001 ]\n",
        "test = test[test.CUID != 277521002 ]\n",
        "test = test[test.CUID != 18963009 ]\n",
        "test = test[test.CUID != 65124004 ]\n",
        "test = test[test.CUID != 367391008 ]\n",
        "test = test[test.CUID != 73211009 ]\n",
        "test = test[test.CUID != 21930011000036101 ]\n",
        "test = test[test.CUID != 387603000 ]\n",
        "test = test[test.CUID != 24693007 ]\n",
        "test = test[test.CUID != 288231001 ]\n",
        "test = test[test.CUID != 422400008 ]\n",
        "test = test[test.CUID != 60238002 ]\n",
        "test = test[test.CUID != 247373008 ]\n",
        "test = test[test.CUID != 26079004 ]\n",
        "test = test[test.CUID != 60119000 ]\n",
        "test = test[test.CUID != 4031011000036106 ]\n",
        "test = test[test.CUID != 55929007 ]\n",
        "test = test[test.CUID != 289530006 ]\n",
        "test = test[test.CUID != 267052005 ]\n",
        "test = test[test.CUID != 267036007 ]\n",
        "test = test[test.CUID != 8943002 ]\n",
        "test = test[test.CUID != 267031002 ]\n",
        "test = test[test.CUID != 56265001 ]\n",
        "test = test[test.CUID != 8357008 ]\n",
        "test = test[test.CUID != 54981004 ]\n",
        "test = test[test.CUID != 418290006 ]\n",
        "test = test[test.CUID != 124054003 ]\n",
        "test = test[test.CUID != 77435011000036104 ]\n",
        "test = test[test.CUID != 248255005 ]\n",
        "test = test[test.CUID != 386705008 ]\n",
        "test = test[test.CUID != 90673000 ]\n",
        "test = test[test.CUID != 248274002 ]\n",
        "test = test[test.CUID != 21522001 ]\n",
        "test = test[test.CUID != 63102001 ]\n",
        "test = test[test.CUID != 60032008 ]\n",
        "test = test[test.CUID != 131148009 ]\n",
        "test = test[test.CUID != 301345002 ]\n",
        "test = test[test.CUID != 300954003 ]\n",
        "test = test[test.CUID != 102556003 ]\n",
        "test = test[test.CUID != 282145008 ]\n",
        "test = test[test.CUID != 399153001 ]\n",
        "test = test[test.CUID != 162059005 ]\n",
        "test = test[test.CUID != 271587009 ]\n",
        "test = test[test.CUID != 44077006 ]\n",
        "test = test[test.CUID != 95891005 ]\n",
        "test = test[test.CUID != 271807003 ]\n",
        "test = test[test.CUID != 28551000168108 ]\n",
        "test = test[test.CUID != 80449002 ]\n",
        "test = test[test.CUID != 51197009 ]\n",
        "test = test[test.CUID != 29857009 ]\n",
        "test = test[test.CUID != 3848011000036104 ]\n",
        "test = test[test.CUID != 247592009 ]\n",
        "test = test[test.CUID != 248490000 ]\n",
        "test = test[test.CUID != 129565002 ]\n",
        "test = test[test.CUID != 14760008 ]\n",
        "test = test[test.CUID != 48694002 ]\n",
        "test = test[test.CUID != 279039007 ]\n",
        "test = test[test.CUID != 246636008 ]\n",
        "test = test[test.CUID != 386807006 ]\n",
        "test = test[test.CUID != 82991003 ]\n",
        "test = test[test.CUID != 88092000 ]\n",
        "test = test[test.CUID != 224960004 ]\n",
        "test = test[test.CUID != 419723007 ]\n",
        "test = test[test.CUID != 77424011000036100 ]"
      ],
      "execution_count": 0,
      "outputs": []
    },
    {
      "metadata": {
        "id": "_7X3hDB3f7zm",
        "colab_type": "code",
        "colab": {
          "base_uri": "https://localhost:8080/",
          "height": 35
        },
        "outputId": "5519c142-2802-4c82-ace8-43aca1a75cb8"
      },
      "cell_type": "code",
      "source": [
        "test.shape"
      ],
      "execution_count": 110,
      "outputs": [
        {
          "output_type": "execute_result",
          "data": {
            "text/plain": [
              "(8159, 3)"
            ]
          },
          "metadata": {
            "tags": []
          },
          "execution_count": 110
        }
      ]
    },
    {
      "metadata": {
        "id": "kMTB87W3gAWb",
        "colab_type": "code",
        "colab": {
          "base_uri": "https://localhost:8080/",
          "height": 35
        },
        "outputId": "59264b28-ddaa-46a5-bdd4-ff6d9dcd9039"
      },
      "cell_type": "code",
      "source": [
        "test.CUID.nunique()"
      ],
      "execution_count": 111,
      "outputs": [
        {
          "output_type": "execute_result",
          "data": {
            "text/plain": [
              "34"
            ]
          },
          "metadata": {
            "tags": []
          },
          "execution_count": 111
        }
      ]
    },
    {
      "metadata": {
        "id": "VoAa5LpQgDh2",
        "colab_type": "code",
        "colab": {
          "base_uri": "https://localhost:8080/",
          "height": 35
        },
        "outputId": "e14f79e2-4479-42c3-fecc-4cc117133a2f"
      },
      "cell_type": "code",
      "source": [
        "test.Disease.nunique()"
      ],
      "execution_count": 112,
      "outputs": [
        {
          "output_type": "execute_result",
          "data": {
            "text/plain": [
              "34"
            ]
          },
          "metadata": {
            "tags": []
          },
          "execution_count": 112
        }
      ]
    },
    {
      "metadata": {
        "id": "EqAgwvQwgF5X",
        "colab_type": "code",
        "colab": {
          "base_uri": "https://localhost:8080/",
          "height": 653
        },
        "outputId": "0446348a-5df1-4774-a951-e8f3aa10ab7c"
      },
      "cell_type": "code",
      "source": [
        "test.Disease.value_counts()"
      ],
      "execution_count": 47,
      "outputs": [
        {
          "output_type": "execute_result",
          "data": {
            "text/plain": [
              "Lipitor                                 2108\n",
              "Pain                                     713\n",
              "Myalgia                                  504\n",
              "Severe pain                              362\n",
              "Fatigue                                  290\n",
              "Muscle cramp                             262\n",
              "Arthralgia                               256\n",
              "Depression                               234\n",
              "Excessive upper gastrointestinal gas     229\n",
              "Headache                                 224\n",
              "Asthenia                                 203\n",
              "Pain in lower limb                       157\n",
              "Backache                                 155\n",
              "Pins and needles                         145\n",
              "Insomnia                                 139\n",
              "Cramp in lower limb                      139\n",
              "Diarrhoea                                137\n",
              "Amnesia                                  134\n",
              "Muscle weakness                          133\n",
              "Knee pain                                128\n",
              "Dizziness                                127\n",
              "Walking disability                       123\n",
              "Hip pain                                 122\n",
              "Shoulder pain                            118\n",
              "Foot pain                                115\n",
              "Arthrotec                                114\n",
              "Nausea                                   111\n",
              "Neck pain                                108\n",
              "Weakness of limb                         107\n",
              "Arthritis                                101\n",
              "Stomach ache                              98\n",
              "Myocardial infarction                     91\n",
              "Zocor                                     89\n",
              "Loss of hair                              83\n",
              "Name: Disease, dtype: int64"
            ]
          },
          "metadata": {
            "tags": []
          },
          "execution_count": 47
        }
      ]
    },
    {
      "metadata": {
        "id": "LtAOWaV1gKgS",
        "colab_type": "code",
        "colab": {}
      },
      "cell_type": "code",
      "source": [
        "test['Patient Complaint Narrative'] = test['Patient Complaint Narrative'].apply(clean_text)\n",
        "test['Patient Complaint Narrative'] = test['Patient Complaint Narrative'].str.replace('\\d+', '')"
      ],
      "execution_count": 0,
      "outputs": []
    },
    {
      "metadata": {
        "id": "1BLBEvpEhcjz",
        "colab_type": "text"
      },
      "cell_type": "markdown",
      "source": [
        "BERT"
      ]
    },
    {
      "metadata": {
        "id": "2HWVSfuRhR7_",
        "colab_type": "code",
        "colab": {
          "base_uri": "https://localhost:8080/",
          "height": 182
        },
        "outputId": "a937eb75-59ef-44ff-b4f4-daccfea7ce45"
      },
      "cell_type": "code",
      "source": [
        "!pip install bert-tensorflow\n",
        "import pandas as pd\n",
        "import tensorflow as tf\n",
        "import tensorflow_hub as hub\n",
        "import pickle\n",
        "import bert\n",
        "from bert import run_classifier\n",
        "from bert import optimization\n",
        "from bert import tokenization\n",
        "def pretty_print(result):\n",
        "    df = pd.DataFrame([result]).T\n",
        "    df.columns = [\"values\"]\n",
        "    return df\n",
        "def create_tokenizer_from_hub_module(bert_model_hub):\n",
        "  \"\"\"Get the vocab file and casing info from the Hub module.\"\"\"\n",
        "  with tf.Graph().as_default():\n",
        "    bert_module = hub.Module(bert_model_hub)\n",
        "    tokenization_info = bert_module(signature=\"tokenization_info\", as_dict=True)\n",
        "    with tf.Session() as sess:\n",
        "      vocab_file, do_lower_case = sess.run([tokenization_info[\"vocab_file\"],\n",
        "                                            tokenization_info[\"do_lower_case\"]])\n",
        "      \n",
        "  return bert.tokenization.FullTokenizer(\n",
        "      vocab_file=vocab_file, do_lower_case=do_lower_case)\n",
        "\n",
        "def make_features(dataset, label_list, MAX_SEQ_LENGTH, tokenizer, DATA_COLUMN, LABEL_COLUMN):\n",
        "    input_example = dataset.apply(lambda x: bert.run_classifier.InputExample(guid=None, \n",
        "                                                                   text_a = x[DATA_COLUMN], \n",
        "                                                                   text_b = None, \n",
        "                                                                   label = x[LABEL_COLUMN]), axis = 1)\n",
        "    features = bert.run_classifier.convert_examples_to_features(input_example, label_list, MAX_SEQ_LENGTH, tokenizer)\n",
        "    return features\n",
        "\n",
        "def create_model(bert_model_hub, is_predicting, input_ids, input_mask, segment_ids, labels,\n",
        "                 num_labels):\n",
        "  \"\"\"Creates a classification model.\"\"\"\n",
        "\n",
        "  bert_module = hub.Module(\n",
        "      bert_model_hub,\n",
        "      trainable=True)\n",
        "  bert_inputs = dict(\n",
        "      input_ids=input_ids,\n",
        "      input_mask=input_mask,\n",
        "      segment_ids=segment_ids)\n",
        "  bert_outputs = bert_module(\n",
        "      inputs=bert_inputs,\n",
        "      signature=\"tokens\",\n",
        "      as_dict=True)\n",
        "\n",
        "  # Use \"pooled_output\" for classification tasks on an entire sentence.\n",
        "  # Use \"sequence_outputs\" for token-level output.\n",
        "  output_layer = bert_outputs[\"pooled_output\"]\n",
        "\n",
        "  hidden_size = output_layer.shape[-1].value\n",
        "\n",
        "  # Create our own layer to tune for politeness data.\n",
        "  output_weights = tf.get_variable(\n",
        "      \"output_weights\", [num_labels, hidden_size],\n",
        "      initializer=tf.truncated_normal_initializer(stddev=0.02))\n",
        "\n",
        "  output_bias = tf.get_variable(\n",
        "      \"output_bias\", [num_labels], initializer=tf.zeros_initializer())\n",
        "\n",
        "  with tf.variable_scope(\"loss\"):\n",
        "\n",
        "    # Dropout helps prevent overfitting\n",
        "    output_layer = tf.nn.dropout(output_layer, keep_prob=0.9)\n",
        "\n",
        "    logits = tf.matmul(output_layer, output_weights, transpose_b=True)\n",
        "    logits = tf.nn.bias_add(logits, output_bias)\n",
        "    log_probs = tf.nn.log_softmax(logits, axis=-1)\n",
        "\n",
        "    # Convert labels into one-hot encoding\n",
        "    one_hot_labels = tf.one_hot(labels, depth=num_labels, dtype=tf.float32)\n",
        "\n",
        "    predicted_labels = tf.squeeze(tf.argmax(log_probs, axis=-1, output_type=tf.int32))\n",
        "    # If we're predicting, we want predicted labels and the probabiltiies.\n",
        "    if is_predicting:\n",
        "      return (predicted_labels, log_probs)\n",
        "\n",
        "    # If we're train/eval, compute loss between predicted and actual label\n",
        "    per_example_loss = -tf.reduce_sum(one_hot_labels * log_probs, axis=-1)\n",
        "    loss = tf.reduce_mean(per_example_loss)\n",
        "    return (loss, predicted_labels, log_probs)\n",
        "\n",
        "# model_fn_builder actually creates our model function\n",
        "# using the passed parameters for num_labels, learning_rate, etc.\n",
        "def model_fn_builder(bert_model_hub, num_labels, learning_rate, num_train_steps,\n",
        "                     num_warmup_steps):\n",
        "  \"\"\"Returns `model_fn` closure for TPUEstimator.\"\"\"\n",
        "  def model_fn(features, labels, mode, params):  # pylint: disable=unused-argument\n",
        "    \"\"\"The `model_fn` for TPUEstimator.\"\"\"\n",
        "\n",
        "    input_ids = features[\"input_ids\"]\n",
        "    input_mask = features[\"input_mask\"]\n",
        "    segment_ids = features[\"segment_ids\"]\n",
        "    label_ids = features[\"label_ids\"]\n",
        "\n",
        "    is_predicting = (mode == tf.estimator.ModeKeys.PREDICT)\n",
        "    \n",
        "    # TRAIN and EVAL\n",
        "    if not is_predicting:\n",
        "\n",
        "      (loss, predicted_labels, log_probs) = create_model(\n",
        "        bert_model_hub, is_predicting, input_ids, input_mask, segment_ids, label_ids, num_labels)\n",
        "\n",
        "      train_op = bert.optimization.create_optimizer(\n",
        "          loss, learning_rate, num_train_steps, num_warmup_steps, use_tpu=False)\n",
        "\n",
        "      # Calculate evaluation metrics. \n",
        "      def metric_fn(label_ids, predicted_labels):\n",
        "        accuracy = tf.metrics.accuracy(label_ids, predicted_labels)\n",
        "#         f1_score = tf.contrib.metrics.f1_score(\n",
        "#             label_ids,\n",
        "#             predicted_labels)\n",
        "#         auc = tf.metrics.auc(\n",
        "#             label_ids,\n",
        "#             predicted_labels)\n",
        "#         recall = tf.metrics.recall(\n",
        "#             label_ids,\n",
        "#             predicted_labels)\n",
        "#         precision = tf.metrics.precision(\n",
        "#             label_ids,\n",
        "#             predicted_labels) \n",
        "#         true_pos = tf.metrics.true_positives(\n",
        "#             label_ids,\n",
        "#             predicted_labels)\n",
        "#         true_neg = tf.metrics.true_negatives(\n",
        "#             label_ids,\n",
        "#             predicted_labels)   \n",
        "#         false_pos = tf.metrics.false_positives(\n",
        "#             label_ids,\n",
        "#             predicted_labels)  \n",
        "#         false_neg = tf.metrics.false_negatives(\n",
        "#             label_ids,\n",
        "#             predicted_labels)\n",
        "        return {\n",
        "            \"eval_accuracy\": accuracy\n",
        "#             \"f1_score\": f1_score,\n",
        "#             \"auc\": auc,\n",
        "#             \"precision\": precision,\n",
        "#             \"recall\": recall,\n",
        "#             \"true_positives\": true_pos,\n",
        "#             \"true_negatives\": true_neg,\n",
        "#             \"false_positives\": false_pos,\n",
        "#             \"false_negatives\": false_neg\n",
        "        }\n",
        "\n",
        "      eval_metrics = metric_fn(label_ids, predicted_labels)\n",
        "\n",
        "      if mode == tf.estimator.ModeKeys.TRAIN:\n",
        "        return tf.estimator.EstimatorSpec(mode=mode,\n",
        "          loss=loss,\n",
        "          train_op=train_op)\n",
        "      else:\n",
        "          return tf.estimator.EstimatorSpec(mode=mode,\n",
        "            loss=loss,\n",
        "            eval_metric_ops=eval_metrics)\n",
        "    else:\n",
        "      (predicted_labels, log_probs) = create_model(\n",
        "        bert_model_hub, is_predicting, input_ids, input_mask, segment_ids, label_ids, num_labels)\n",
        "\n",
        "      predictions = {\n",
        "          'probabilities': log_probs,\n",
        "          'labels': predicted_labels\n",
        "      }\n",
        "      return tf.estimator.EstimatorSpec(mode, predictions=predictions)\n",
        "\n",
        "  # Return the actual model function in the closure\n",
        "  return model_fn\n",
        "\n",
        "def estimator_builder(bert_model_hub, OUTPUT_DIR, SAVE_SUMMARY_STEPS, SAVE_CHECKPOINTS_STEPS, label_list, LEARNING_RATE, num_train_steps, num_warmup_steps, BATCH_SIZE):\n",
        "\n",
        "    # Specify outpit directory and number of checkpoint steps to save\n",
        "    run_config = tf.estimator.RunConfig(\n",
        "        model_dir=OUTPUT_DIR,\n",
        "        save_summary_steps=SAVE_SUMMARY_STEPS,\n",
        "        save_checkpoints_steps=SAVE_CHECKPOINTS_STEPS)\n",
        "\n",
        "    model_fn = model_fn_builder(\n",
        "      bert_model_hub = bert_model_hub,\n",
        "      num_labels=len(label_list),\n",
        "      learning_rate=LEARNING_RATE,\n",
        "      num_train_steps=num_train_steps,\n",
        "      num_warmup_steps=num_warmup_steps)\n",
        "\n",
        "    estimator = tf.estimator.Estimator(\n",
        "      model_fn=model_fn,\n",
        "      config=run_config,\n",
        "      params={\"batch_size\": BATCH_SIZE})\n",
        "    return estimator, model_fn, run_config\n",
        "\n",
        "def run_on_dfs(train, test, DATA_COLUMN, LABEL_COLUMN, \n",
        "               MAX_SEQ_LENGTH = 128,\n",
        "              BATCH_SIZE = 32,\n",
        "              LEARNING_RATE = 2e-5,\n",
        "              NUM_TRAIN_EPOCHS = 3.0,\n",
        "              WARMUP_PROPORTION = 0.1,\n",
        "              SAVE_SUMMARY_STEPS = 100,\n",
        "               SAVE_CHECKPOINTS_STEPS = 10000,\n",
        "              bert_model_hub = \"https://tfhub.dev/google/bert_uncased_L-12_H-768_A-12/1\"):\n",
        "\n",
        "    label_list = train[LABEL_COLUMN].unique().tolist()\n",
        "    \n",
        "    tokenizer = create_tokenizer_from_hub_module(bert_model_hub)\n",
        "\n",
        "    train_features = make_features(train, label_list, MAX_SEQ_LENGTH, tokenizer, DATA_COLUMN, LABEL_COLUMN)\n",
        "    test_features = make_features(test, label_list, MAX_SEQ_LENGTH, tokenizer, DATA_COLUMN, LABEL_COLUMN)\n",
        "\n",
        "    num_train_steps = int(len(train_features) / BATCH_SIZE * NUM_TRAIN_EPOCHS)\n",
        "    num_warmup_steps = int(num_train_steps * WARMUP_PROPORTION)\n",
        "\n",
        "    estimator, model_fn, run_config = estimator_builder(\n",
        "                                  bert_model_hub, \n",
        "                                  OUTPUT_DIR, \n",
        "                                  SAVE_SUMMARY_STEPS, \n",
        "                                  SAVE_CHECKPOINTS_STEPS, \n",
        "                                  label_list, \n",
        "                                  LEARNING_RATE, \n",
        "                                  num_train_steps, \n",
        "                                  num_warmup_steps, \n",
        "                                  BATCH_SIZE)\n",
        "\n",
        "    train_input_fn = bert.run_classifier.input_fn_builder(\n",
        "        features=train_features,\n",
        "        seq_length=MAX_SEQ_LENGTH,\n",
        "        is_training=True,\n",
        "        drop_remainder=False)\n",
        "\n",
        "    estimator.train(input_fn=train_input_fn, max_steps=num_train_steps)\n",
        "\n",
        "    test_input_fn = run_classifier.input_fn_builder(\n",
        "        features=test_features,\n",
        "        seq_length=MAX_SEQ_LENGTH,\n",
        "        is_training=False,\n",
        "        drop_remainder=False)\n",
        "\n",
        "    result_dict = estimator.evaluate(input_fn=test_input_fn, steps=None)\n",
        "    return result_dict, estimator\n",
        "    \n",
        "import random\n",
        "random.seed(10)\n",
        "OUTPUT_DIR = 'output'"
      ],
      "execution_count": 50,
      "outputs": [
        {
          "output_type": "stream",
          "text": [
            "Collecting bert-tensorflow\n",
            "\u001b[?25l  Downloading https://files.pythonhosted.org/packages/a6/66/7eb4e8b6ea35b7cc54c322c816f976167a43019750279a8473d355800a93/bert_tensorflow-1.0.1-py2.py3-none-any.whl (67kB)\n",
            "\u001b[K    100% |████████████████████████████████| 71kB 27.5MB/s \n",
            "\u001b[?25hRequirement already satisfied: six in /usr/local/lib/python3.6/dist-packages (from bert-tensorflow) (1.12.0)\n",
            "Installing collected packages: bert-tensorflow\n",
            "Successfully installed bert-tensorflow-1.0.1\n"
          ],
          "name": "stdout"
        },
        {
          "output_type": "stream",
          "text": [
            "WARNING: Logging before flag parsing goes to stderr.\n",
            "W0428 19:57:13.060235 140065210144640 __init__.py:56] Some hub symbols are not available because TensorFlow version is less than 1.14\n"
          ],
          "name": "stderr"
        }
      ]
    },
    {
      "metadata": {
        "id": "w33urKpsi631",
        "colab_type": "text"
      },
      "cell_type": "markdown",
      "source": [
        "Shuffle the training and test datasets"
      ]
    },
    {
      "metadata": {
        "id": "RWGoPaH_heKk",
        "colab_type": "code",
        "colab": {}
      },
      "cell_type": "code",
      "source": [
        "train = train.sample(len(train))"
      ],
      "execution_count": 0,
      "outputs": []
    },
    {
      "metadata": {
        "id": "QKzWtHF3jAd2",
        "colab_type": "code",
        "colab": {}
      },
      "cell_type": "code",
      "source": [
        "test = test.sample(len(test))"
      ],
      "execution_count": 0,
      "outputs": []
    },
    {
      "metadata": {
        "id": "pgP7WJhQjGCg",
        "colab_type": "code",
        "colab": {}
      },
      "cell_type": "code",
      "source": [
        "myparam = {\n",
        "    \"DATA_COLUMN\": \"Patient Complaint Narrative\",\n",
        "    \"LABEL_COLUMN\": \"CUID\",\n",
        "    \"LEARNING_RATE\": 2e-5,\n",
        "    \"NUM_TRAIN_EPOCHS\": 2\n",
        "}"
      ],
      "execution_count": 0,
      "outputs": []
    },
    {
      "metadata": {
        "id": "eQIE_ikEjM6G",
        "colab_type": "code",
        "colab": {}
      },
      "cell_type": "code",
      "source": [
        "import tensorflow as tf\n",
        "tf.logging.set_verbosity(tf.logging.INFO)"
      ],
      "execution_count": 0,
      "outputs": []
    },
    {
      "metadata": {
        "id": "XDAishFTjQps",
        "colab_type": "code",
        "colab": {
          "base_uri": "https://localhost:8080/",
          "height": 8357
        },
        "outputId": "705dd799-bc97-4f7b-cd79-055d47f4b303"
      },
      "cell_type": "code",
      "source": [
        "result, estimator = run_on_dfs(train, test, **myparam)"
      ],
      "execution_count": 72,
      "outputs": [
        {
          "output_type": "stream",
          "text": [
            "WARNING:tensorflow:From /usr/local/lib/python3.6/dist-packages/tensorflow/python/ops/control_flow_ops.py:3632: colocate_with (from tensorflow.python.framework.ops) is deprecated and will be removed in a future version.\n",
            "Instructions for updating:\n",
            "Colocations handled automatically by placer.\n"
          ],
          "name": "stdout"
        },
        {
          "output_type": "stream",
          "text": [
            "W0428 20:05:17.973958 140065210144640 deprecation.py:323] From /usr/local/lib/python3.6/dist-packages/tensorflow/python/ops/control_flow_ops.py:3632: colocate_with (from tensorflow.python.framework.ops) is deprecated and will be removed in a future version.\n",
            "Instructions for updating:\n",
            "Colocations handled automatically by placer.\n"
          ],
          "name": "stderr"
        },
        {
          "output_type": "stream",
          "text": [
            "INFO:tensorflow:Saver not created because there are no variables in the graph to restore\n"
          ],
          "name": "stdout"
        },
        {
          "output_type": "stream",
          "text": [
            "I0428 20:05:19.884446 140065210144640 saver.py:1483] Saver not created because there are no variables in the graph to restore\n"
          ],
          "name": "stderr"
        },
        {
          "output_type": "stream",
          "text": [
            "INFO:tensorflow:Writing example 0 of 76616\n"
          ],
          "name": "stdout"
        },
        {
          "output_type": "stream",
          "text": [
            "I0428 20:05:23.692831 140065210144640 run_classifier.py:774] Writing example 0 of 76616\n"
          ],
          "name": "stderr"
        },
        {
          "output_type": "stream",
          "text": [
            "INFO:tensorflow:*** Example ***\n"
          ],
          "name": "stdout"
        },
        {
          "output_type": "stream",
          "text": [
            "I0428 20:05:23.698815 140065210144640 run_classifier.py:461] *** Example ***\n"
          ],
          "name": "stderr"
        },
        {
          "output_type": "stream",
          "text": [
            "INFO:tensorflow:guid: None\n"
          ],
          "name": "stdout"
        },
        {
          "output_type": "stream",
          "text": [
            "I0428 20:05:23.701193 140065210144640 run_classifier.py:462] guid: None\n"
          ],
          "name": "stderr"
        },
        {
          "output_type": "stream",
          "text": [
            "INFO:tensorflow:tokens: [CLS] lip ##itor [SEP]\n"
          ],
          "name": "stdout"
        },
        {
          "output_type": "stream",
          "text": [
            "I0428 20:05:23.704654 140065210144640 run_classifier.py:464] tokens: [CLS] lip ##itor [SEP]\n"
          ],
          "name": "stderr"
        },
        {
          "output_type": "stream",
          "text": [
            "INFO:tensorflow:input_ids: 101 5423 15660 102 0 0 0 0 0 0 0 0 0 0 0 0 0 0 0 0 0 0 0 0 0 0 0 0 0 0 0 0 0 0 0 0 0 0 0 0 0 0 0 0 0 0 0 0 0 0 0 0 0 0 0 0 0 0 0 0 0 0 0 0 0 0 0 0 0 0 0 0 0 0 0 0 0 0 0 0 0 0 0 0 0 0 0 0 0 0 0 0 0 0 0 0 0 0 0 0 0 0 0 0 0 0 0 0 0 0 0 0 0 0 0 0 0 0 0 0 0 0 0 0 0 0 0 0\n"
          ],
          "name": "stdout"
        },
        {
          "output_type": "stream",
          "text": [
            "I0428 20:05:23.708181 140065210144640 run_classifier.py:465] input_ids: 101 5423 15660 102 0 0 0 0 0 0 0 0 0 0 0 0 0 0 0 0 0 0 0 0 0 0 0 0 0 0 0 0 0 0 0 0 0 0 0 0 0 0 0 0 0 0 0 0 0 0 0 0 0 0 0 0 0 0 0 0 0 0 0 0 0 0 0 0 0 0 0 0 0 0 0 0 0 0 0 0 0 0 0 0 0 0 0 0 0 0 0 0 0 0 0 0 0 0 0 0 0 0 0 0 0 0 0 0 0 0 0 0 0 0 0 0 0 0 0 0 0 0 0 0 0 0 0 0\n"
          ],
          "name": "stderr"
        },
        {
          "output_type": "stream",
          "text": [
            "INFO:tensorflow:input_mask: 1 1 1 1 0 0 0 0 0 0 0 0 0 0 0 0 0 0 0 0 0 0 0 0 0 0 0 0 0 0 0 0 0 0 0 0 0 0 0 0 0 0 0 0 0 0 0 0 0 0 0 0 0 0 0 0 0 0 0 0 0 0 0 0 0 0 0 0 0 0 0 0 0 0 0 0 0 0 0 0 0 0 0 0 0 0 0 0 0 0 0 0 0 0 0 0 0 0 0 0 0 0 0 0 0 0 0 0 0 0 0 0 0 0 0 0 0 0 0 0 0 0 0 0 0 0 0 0\n"
          ],
          "name": "stdout"
        },
        {
          "output_type": "stream",
          "text": [
            "I0428 20:05:23.711582 140065210144640 run_classifier.py:466] input_mask: 1 1 1 1 0 0 0 0 0 0 0 0 0 0 0 0 0 0 0 0 0 0 0 0 0 0 0 0 0 0 0 0 0 0 0 0 0 0 0 0 0 0 0 0 0 0 0 0 0 0 0 0 0 0 0 0 0 0 0 0 0 0 0 0 0 0 0 0 0 0 0 0 0 0 0 0 0 0 0 0 0 0 0 0 0 0 0 0 0 0 0 0 0 0 0 0 0 0 0 0 0 0 0 0 0 0 0 0 0 0 0 0 0 0 0 0 0 0 0 0 0 0 0 0 0 0 0 0\n"
          ],
          "name": "stderr"
        },
        {
          "output_type": "stream",
          "text": [
            "INFO:tensorflow:segment_ids: 0 0 0 0 0 0 0 0 0 0 0 0 0 0 0 0 0 0 0 0 0 0 0 0 0 0 0 0 0 0 0 0 0 0 0 0 0 0 0 0 0 0 0 0 0 0 0 0 0 0 0 0 0 0 0 0 0 0 0 0 0 0 0 0 0 0 0 0 0 0 0 0 0 0 0 0 0 0 0 0 0 0 0 0 0 0 0 0 0 0 0 0 0 0 0 0 0 0 0 0 0 0 0 0 0 0 0 0 0 0 0 0 0 0 0 0 0 0 0 0 0 0 0 0 0 0 0 0\n"
          ],
          "name": "stdout"
        },
        {
          "output_type": "stream",
          "text": [
            "I0428 20:05:23.714922 140065210144640 run_classifier.py:467] segment_ids: 0 0 0 0 0 0 0 0 0 0 0 0 0 0 0 0 0 0 0 0 0 0 0 0 0 0 0 0 0 0 0 0 0 0 0 0 0 0 0 0 0 0 0 0 0 0 0 0 0 0 0 0 0 0 0 0 0 0 0 0 0 0 0 0 0 0 0 0 0 0 0 0 0 0 0 0 0 0 0 0 0 0 0 0 0 0 0 0 0 0 0 0 0 0 0 0 0 0 0 0 0 0 0 0 0 0 0 0 0 0 0 0 0 0 0 0 0 0 0 0 0 0 0 0 0 0 0 0\n"
          ],
          "name": "stderr"
        },
        {
          "output_type": "stream",
          "text": [
            "INFO:tensorflow:label: 3877011000036101 (id = 0)\n"
          ],
          "name": "stdout"
        },
        {
          "output_type": "stream",
          "text": [
            "I0428 20:05:23.718126 140065210144640 run_classifier.py:468] label: 3877011000036101 (id = 0)\n"
          ],
          "name": "stderr"
        },
        {
          "output_type": "stream",
          "text": [
            "INFO:tensorflow:*** Example ***\n"
          ],
          "name": "stdout"
        },
        {
          "output_type": "stream",
          "text": [
            "I0428 20:05:23.721572 140065210144640 run_classifier.py:461] *** Example ***\n"
          ],
          "name": "stderr"
        },
        {
          "output_type": "stream",
          "text": [
            "INFO:tensorflow:guid: None\n"
          ],
          "name": "stdout"
        },
        {
          "output_type": "stream",
          "text": [
            "I0428 20:05:23.724570 140065210144640 run_classifier.py:462] guid: None\n"
          ],
          "name": "stderr"
        },
        {
          "output_type": "stream",
          "text": [
            "INFO:tensorflow:tokens: [CLS] severe lower back pain [SEP]\n"
          ],
          "name": "stdout"
        },
        {
          "output_type": "stream",
          "text": [
            "I0428 20:05:23.727777 140065210144640 run_classifier.py:464] tokens: [CLS] severe lower back pain [SEP]\n"
          ],
          "name": "stderr"
        },
        {
          "output_type": "stream",
          "text": [
            "INFO:tensorflow:input_ids: 101 5729 2896 2067 3255 102 0 0 0 0 0 0 0 0 0 0 0 0 0 0 0 0 0 0 0 0 0 0 0 0 0 0 0 0 0 0 0 0 0 0 0 0 0 0 0 0 0 0 0 0 0 0 0 0 0 0 0 0 0 0 0 0 0 0 0 0 0 0 0 0 0 0 0 0 0 0 0 0 0 0 0 0 0 0 0 0 0 0 0 0 0 0 0 0 0 0 0 0 0 0 0 0 0 0 0 0 0 0 0 0 0 0 0 0 0 0 0 0 0 0 0 0 0 0 0 0 0 0\n"
          ],
          "name": "stdout"
        },
        {
          "output_type": "stream",
          "text": [
            "I0428 20:05:23.730994 140065210144640 run_classifier.py:465] input_ids: 101 5729 2896 2067 3255 102 0 0 0 0 0 0 0 0 0 0 0 0 0 0 0 0 0 0 0 0 0 0 0 0 0 0 0 0 0 0 0 0 0 0 0 0 0 0 0 0 0 0 0 0 0 0 0 0 0 0 0 0 0 0 0 0 0 0 0 0 0 0 0 0 0 0 0 0 0 0 0 0 0 0 0 0 0 0 0 0 0 0 0 0 0 0 0 0 0 0 0 0 0 0 0 0 0 0 0 0 0 0 0 0 0 0 0 0 0 0 0 0 0 0 0 0 0 0 0 0 0 0\n"
          ],
          "name": "stderr"
        },
        {
          "output_type": "stream",
          "text": [
            "INFO:tensorflow:input_mask: 1 1 1 1 1 1 0 0 0 0 0 0 0 0 0 0 0 0 0 0 0 0 0 0 0 0 0 0 0 0 0 0 0 0 0 0 0 0 0 0 0 0 0 0 0 0 0 0 0 0 0 0 0 0 0 0 0 0 0 0 0 0 0 0 0 0 0 0 0 0 0 0 0 0 0 0 0 0 0 0 0 0 0 0 0 0 0 0 0 0 0 0 0 0 0 0 0 0 0 0 0 0 0 0 0 0 0 0 0 0 0 0 0 0 0 0 0 0 0 0 0 0 0 0 0 0 0 0\n"
          ],
          "name": "stdout"
        },
        {
          "output_type": "stream",
          "text": [
            "I0428 20:05:23.733461 140065210144640 run_classifier.py:466] input_mask: 1 1 1 1 1 1 0 0 0 0 0 0 0 0 0 0 0 0 0 0 0 0 0 0 0 0 0 0 0 0 0 0 0 0 0 0 0 0 0 0 0 0 0 0 0 0 0 0 0 0 0 0 0 0 0 0 0 0 0 0 0 0 0 0 0 0 0 0 0 0 0 0 0 0 0 0 0 0 0 0 0 0 0 0 0 0 0 0 0 0 0 0 0 0 0 0 0 0 0 0 0 0 0 0 0 0 0 0 0 0 0 0 0 0 0 0 0 0 0 0 0 0 0 0 0 0 0 0\n"
          ],
          "name": "stderr"
        },
        {
          "output_type": "stream",
          "text": [
            "INFO:tensorflow:segment_ids: 0 0 0 0 0 0 0 0 0 0 0 0 0 0 0 0 0 0 0 0 0 0 0 0 0 0 0 0 0 0 0 0 0 0 0 0 0 0 0 0 0 0 0 0 0 0 0 0 0 0 0 0 0 0 0 0 0 0 0 0 0 0 0 0 0 0 0 0 0 0 0 0 0 0 0 0 0 0 0 0 0 0 0 0 0 0 0 0 0 0 0 0 0 0 0 0 0 0 0 0 0 0 0 0 0 0 0 0 0 0 0 0 0 0 0 0 0 0 0 0 0 0 0 0 0 0 0 0\n"
          ],
          "name": "stdout"
        },
        {
          "output_type": "stream",
          "text": [
            "I0428 20:05:23.735379 140065210144640 run_classifier.py:467] segment_ids: 0 0 0 0 0 0 0 0 0 0 0 0 0 0 0 0 0 0 0 0 0 0 0 0 0 0 0 0 0 0 0 0 0 0 0 0 0 0 0 0 0 0 0 0 0 0 0 0 0 0 0 0 0 0 0 0 0 0 0 0 0 0 0 0 0 0 0 0 0 0 0 0 0 0 0 0 0 0 0 0 0 0 0 0 0 0 0 0 0 0 0 0 0 0 0 0 0 0 0 0 0 0 0 0 0 0 0 0 0 0 0 0 0 0 0 0 0 0 0 0 0 0 0 0 0 0 0 0\n"
          ],
          "name": "stderr"
        },
        {
          "output_type": "stream",
          "text": [
            "INFO:tensorflow:label: 76948002 (id = 1)\n"
          ],
          "name": "stdout"
        },
        {
          "output_type": "stream",
          "text": [
            "I0428 20:05:23.737402 140065210144640 run_classifier.py:468] label: 76948002 (id = 1)\n"
          ],
          "name": "stderr"
        },
        {
          "output_type": "stream",
          "text": [
            "INFO:tensorflow:*** Example ***\n"
          ],
          "name": "stdout"
        },
        {
          "output_type": "stream",
          "text": [
            "I0428 20:05:23.739365 140065210144640 run_classifier.py:461] *** Example ***\n"
          ],
          "name": "stderr"
        },
        {
          "output_type": "stream",
          "text": [
            "INFO:tensorflow:guid: None\n"
          ],
          "name": "stdout"
        },
        {
          "output_type": "stream",
          "text": [
            "I0428 20:05:23.741125 140065210144640 run_classifier.py:462] guid: None\n"
          ],
          "name": "stderr"
        },
        {
          "output_type": "stream",
          "text": [
            "INFO:tensorflow:tokens: [CLS] back ##ache [SEP]\n"
          ],
          "name": "stdout"
        },
        {
          "output_type": "stream",
          "text": [
            "I0428 20:05:23.743172 140065210144640 run_classifier.py:464] tokens: [CLS] back ##ache [SEP]\n"
          ],
          "name": "stderr"
        },
        {
          "output_type": "stream",
          "text": [
            "INFO:tensorflow:input_ids: 101 2067 15395 102 0 0 0 0 0 0 0 0 0 0 0 0 0 0 0 0 0 0 0 0 0 0 0 0 0 0 0 0 0 0 0 0 0 0 0 0 0 0 0 0 0 0 0 0 0 0 0 0 0 0 0 0 0 0 0 0 0 0 0 0 0 0 0 0 0 0 0 0 0 0 0 0 0 0 0 0 0 0 0 0 0 0 0 0 0 0 0 0 0 0 0 0 0 0 0 0 0 0 0 0 0 0 0 0 0 0 0 0 0 0 0 0 0 0 0 0 0 0 0 0 0 0 0 0\n"
          ],
          "name": "stdout"
        },
        {
          "output_type": "stream",
          "text": [
            "I0428 20:05:23.744992 140065210144640 run_classifier.py:465] input_ids: 101 2067 15395 102 0 0 0 0 0 0 0 0 0 0 0 0 0 0 0 0 0 0 0 0 0 0 0 0 0 0 0 0 0 0 0 0 0 0 0 0 0 0 0 0 0 0 0 0 0 0 0 0 0 0 0 0 0 0 0 0 0 0 0 0 0 0 0 0 0 0 0 0 0 0 0 0 0 0 0 0 0 0 0 0 0 0 0 0 0 0 0 0 0 0 0 0 0 0 0 0 0 0 0 0 0 0 0 0 0 0 0 0 0 0 0 0 0 0 0 0 0 0 0 0 0 0 0 0\n"
          ],
          "name": "stderr"
        },
        {
          "output_type": "stream",
          "text": [
            "INFO:tensorflow:input_mask: 1 1 1 1 0 0 0 0 0 0 0 0 0 0 0 0 0 0 0 0 0 0 0 0 0 0 0 0 0 0 0 0 0 0 0 0 0 0 0 0 0 0 0 0 0 0 0 0 0 0 0 0 0 0 0 0 0 0 0 0 0 0 0 0 0 0 0 0 0 0 0 0 0 0 0 0 0 0 0 0 0 0 0 0 0 0 0 0 0 0 0 0 0 0 0 0 0 0 0 0 0 0 0 0 0 0 0 0 0 0 0 0 0 0 0 0 0 0 0 0 0 0 0 0 0 0 0 0\n"
          ],
          "name": "stdout"
        },
        {
          "output_type": "stream",
          "text": [
            "I0428 20:05:23.746842 140065210144640 run_classifier.py:466] input_mask: 1 1 1 1 0 0 0 0 0 0 0 0 0 0 0 0 0 0 0 0 0 0 0 0 0 0 0 0 0 0 0 0 0 0 0 0 0 0 0 0 0 0 0 0 0 0 0 0 0 0 0 0 0 0 0 0 0 0 0 0 0 0 0 0 0 0 0 0 0 0 0 0 0 0 0 0 0 0 0 0 0 0 0 0 0 0 0 0 0 0 0 0 0 0 0 0 0 0 0 0 0 0 0 0 0 0 0 0 0 0 0 0 0 0 0 0 0 0 0 0 0 0 0 0 0 0 0 0\n"
          ],
          "name": "stderr"
        },
        {
          "output_type": "stream",
          "text": [
            "INFO:tensorflow:segment_ids: 0 0 0 0 0 0 0 0 0 0 0 0 0 0 0 0 0 0 0 0 0 0 0 0 0 0 0 0 0 0 0 0 0 0 0 0 0 0 0 0 0 0 0 0 0 0 0 0 0 0 0 0 0 0 0 0 0 0 0 0 0 0 0 0 0 0 0 0 0 0 0 0 0 0 0 0 0 0 0 0 0 0 0 0 0 0 0 0 0 0 0 0 0 0 0 0 0 0 0 0 0 0 0 0 0 0 0 0 0 0 0 0 0 0 0 0 0 0 0 0 0 0 0 0 0 0 0 0\n"
          ],
          "name": "stdout"
        },
        {
          "output_type": "stream",
          "text": [
            "I0428 20:05:23.748634 140065210144640 run_classifier.py:467] segment_ids: 0 0 0 0 0 0 0 0 0 0 0 0 0 0 0 0 0 0 0 0 0 0 0 0 0 0 0 0 0 0 0 0 0 0 0 0 0 0 0 0 0 0 0 0 0 0 0 0 0 0 0 0 0 0 0 0 0 0 0 0 0 0 0 0 0 0 0 0 0 0 0 0 0 0 0 0 0 0 0 0 0 0 0 0 0 0 0 0 0 0 0 0 0 0 0 0 0 0 0 0 0 0 0 0 0 0 0 0 0 0 0 0 0 0 0 0 0 0 0 0 0 0 0 0 0 0 0 0\n"
          ],
          "name": "stderr"
        },
        {
          "output_type": "stream",
          "text": [
            "INFO:tensorflow:label: 161891005 (id = 2)\n"
          ],
          "name": "stdout"
        },
        {
          "output_type": "stream",
          "text": [
            "I0428 20:05:23.750646 140065210144640 run_classifier.py:468] label: 161891005 (id = 2)\n"
          ],
          "name": "stderr"
        },
        {
          "output_type": "stream",
          "text": [
            "INFO:tensorflow:*** Example ***\n"
          ],
          "name": "stdout"
        },
        {
          "output_type": "stream",
          "text": [
            "I0428 20:05:23.752572 140065210144640 run_classifier.py:461] *** Example ***\n"
          ],
          "name": "stderr"
        },
        {
          "output_type": "stream",
          "text": [
            "INFO:tensorflow:guid: None\n"
          ],
          "name": "stdout"
        },
        {
          "output_type": "stream",
          "text": [
            "I0428 20:05:23.754436 140065210144640 run_classifier.py:462] guid: None\n"
          ],
          "name": "stderr"
        },
        {
          "output_type": "stream",
          "text": [
            "INFO:tensorflow:tokens: [CLS] lip ##itor [SEP]\n"
          ],
          "name": "stdout"
        },
        {
          "output_type": "stream",
          "text": [
            "I0428 20:05:23.756488 140065210144640 run_classifier.py:464] tokens: [CLS] lip ##itor [SEP]\n"
          ],
          "name": "stderr"
        },
        {
          "output_type": "stream",
          "text": [
            "INFO:tensorflow:input_ids: 101 5423 15660 102 0 0 0 0 0 0 0 0 0 0 0 0 0 0 0 0 0 0 0 0 0 0 0 0 0 0 0 0 0 0 0 0 0 0 0 0 0 0 0 0 0 0 0 0 0 0 0 0 0 0 0 0 0 0 0 0 0 0 0 0 0 0 0 0 0 0 0 0 0 0 0 0 0 0 0 0 0 0 0 0 0 0 0 0 0 0 0 0 0 0 0 0 0 0 0 0 0 0 0 0 0 0 0 0 0 0 0 0 0 0 0 0 0 0 0 0 0 0 0 0 0 0 0 0\n"
          ],
          "name": "stdout"
        },
        {
          "output_type": "stream",
          "text": [
            "I0428 20:05:23.758412 140065210144640 run_classifier.py:465] input_ids: 101 5423 15660 102 0 0 0 0 0 0 0 0 0 0 0 0 0 0 0 0 0 0 0 0 0 0 0 0 0 0 0 0 0 0 0 0 0 0 0 0 0 0 0 0 0 0 0 0 0 0 0 0 0 0 0 0 0 0 0 0 0 0 0 0 0 0 0 0 0 0 0 0 0 0 0 0 0 0 0 0 0 0 0 0 0 0 0 0 0 0 0 0 0 0 0 0 0 0 0 0 0 0 0 0 0 0 0 0 0 0 0 0 0 0 0 0 0 0 0 0 0 0 0 0 0 0 0 0\n"
          ],
          "name": "stderr"
        },
        {
          "output_type": "stream",
          "text": [
            "INFO:tensorflow:input_mask: 1 1 1 1 0 0 0 0 0 0 0 0 0 0 0 0 0 0 0 0 0 0 0 0 0 0 0 0 0 0 0 0 0 0 0 0 0 0 0 0 0 0 0 0 0 0 0 0 0 0 0 0 0 0 0 0 0 0 0 0 0 0 0 0 0 0 0 0 0 0 0 0 0 0 0 0 0 0 0 0 0 0 0 0 0 0 0 0 0 0 0 0 0 0 0 0 0 0 0 0 0 0 0 0 0 0 0 0 0 0 0 0 0 0 0 0 0 0 0 0 0 0 0 0 0 0 0 0\n"
          ],
          "name": "stdout"
        },
        {
          "output_type": "stream",
          "text": [
            "I0428 20:05:23.760599 140065210144640 run_classifier.py:466] input_mask: 1 1 1 1 0 0 0 0 0 0 0 0 0 0 0 0 0 0 0 0 0 0 0 0 0 0 0 0 0 0 0 0 0 0 0 0 0 0 0 0 0 0 0 0 0 0 0 0 0 0 0 0 0 0 0 0 0 0 0 0 0 0 0 0 0 0 0 0 0 0 0 0 0 0 0 0 0 0 0 0 0 0 0 0 0 0 0 0 0 0 0 0 0 0 0 0 0 0 0 0 0 0 0 0 0 0 0 0 0 0 0 0 0 0 0 0 0 0 0 0 0 0 0 0 0 0 0 0\n"
          ],
          "name": "stderr"
        },
        {
          "output_type": "stream",
          "text": [
            "INFO:tensorflow:segment_ids: 0 0 0 0 0 0 0 0 0 0 0 0 0 0 0 0 0 0 0 0 0 0 0 0 0 0 0 0 0 0 0 0 0 0 0 0 0 0 0 0 0 0 0 0 0 0 0 0 0 0 0 0 0 0 0 0 0 0 0 0 0 0 0 0 0 0 0 0 0 0 0 0 0 0 0 0 0 0 0 0 0 0 0 0 0 0 0 0 0 0 0 0 0 0 0 0 0 0 0 0 0 0 0 0 0 0 0 0 0 0 0 0 0 0 0 0 0 0 0 0 0 0 0 0 0 0 0 0\n"
          ],
          "name": "stdout"
        },
        {
          "output_type": "stream",
          "text": [
            "I0428 20:05:23.762614 140065210144640 run_classifier.py:467] segment_ids: 0 0 0 0 0 0 0 0 0 0 0 0 0 0 0 0 0 0 0 0 0 0 0 0 0 0 0 0 0 0 0 0 0 0 0 0 0 0 0 0 0 0 0 0 0 0 0 0 0 0 0 0 0 0 0 0 0 0 0 0 0 0 0 0 0 0 0 0 0 0 0 0 0 0 0 0 0 0 0 0 0 0 0 0 0 0 0 0 0 0 0 0 0 0 0 0 0 0 0 0 0 0 0 0 0 0 0 0 0 0 0 0 0 0 0 0 0 0 0 0 0 0 0 0 0 0 0 0\n"
          ],
          "name": "stderr"
        },
        {
          "output_type": "stream",
          "text": [
            "INFO:tensorflow:label: 3877011000036101 (id = 0)\n"
          ],
          "name": "stdout"
        },
        {
          "output_type": "stream",
          "text": [
            "I0428 20:05:23.764592 140065210144640 run_classifier.py:468] label: 3877011000036101 (id = 0)\n"
          ],
          "name": "stderr"
        },
        {
          "output_type": "stream",
          "text": [
            "INFO:tensorflow:*** Example ***\n"
          ],
          "name": "stdout"
        },
        {
          "output_type": "stream",
          "text": [
            "I0428 20:05:23.766956 140065210144640 run_classifier.py:461] *** Example ***\n"
          ],
          "name": "stderr"
        },
        {
          "output_type": "stream",
          "text": [
            "INFO:tensorflow:guid: None\n"
          ],
          "name": "stdout"
        },
        {
          "output_type": "stream",
          "text": [
            "I0428 20:05:23.768877 140065210144640 run_classifier.py:462] guid: None\n"
          ],
          "name": "stderr"
        },
        {
          "output_type": "stream",
          "text": [
            "INFO:tensorflow:tokens: [CLS] depression [SEP]\n"
          ],
          "name": "stdout"
        },
        {
          "output_type": "stream",
          "text": [
            "I0428 20:05:23.770771 140065210144640 run_classifier.py:464] tokens: [CLS] depression [SEP]\n"
          ],
          "name": "stderr"
        },
        {
          "output_type": "stream",
          "text": [
            "INFO:tensorflow:input_ids: 101 6245 102 0 0 0 0 0 0 0 0 0 0 0 0 0 0 0 0 0 0 0 0 0 0 0 0 0 0 0 0 0 0 0 0 0 0 0 0 0 0 0 0 0 0 0 0 0 0 0 0 0 0 0 0 0 0 0 0 0 0 0 0 0 0 0 0 0 0 0 0 0 0 0 0 0 0 0 0 0 0 0 0 0 0 0 0 0 0 0 0 0 0 0 0 0 0 0 0 0 0 0 0 0 0 0 0 0 0 0 0 0 0 0 0 0 0 0 0 0 0 0 0 0 0 0 0 0\n"
          ],
          "name": "stdout"
        },
        {
          "output_type": "stream",
          "text": [
            "I0428 20:05:23.772709 140065210144640 run_classifier.py:465] input_ids: 101 6245 102 0 0 0 0 0 0 0 0 0 0 0 0 0 0 0 0 0 0 0 0 0 0 0 0 0 0 0 0 0 0 0 0 0 0 0 0 0 0 0 0 0 0 0 0 0 0 0 0 0 0 0 0 0 0 0 0 0 0 0 0 0 0 0 0 0 0 0 0 0 0 0 0 0 0 0 0 0 0 0 0 0 0 0 0 0 0 0 0 0 0 0 0 0 0 0 0 0 0 0 0 0 0 0 0 0 0 0 0 0 0 0 0 0 0 0 0 0 0 0 0 0 0 0 0 0\n"
          ],
          "name": "stderr"
        },
        {
          "output_type": "stream",
          "text": [
            "INFO:tensorflow:input_mask: 1 1 1 0 0 0 0 0 0 0 0 0 0 0 0 0 0 0 0 0 0 0 0 0 0 0 0 0 0 0 0 0 0 0 0 0 0 0 0 0 0 0 0 0 0 0 0 0 0 0 0 0 0 0 0 0 0 0 0 0 0 0 0 0 0 0 0 0 0 0 0 0 0 0 0 0 0 0 0 0 0 0 0 0 0 0 0 0 0 0 0 0 0 0 0 0 0 0 0 0 0 0 0 0 0 0 0 0 0 0 0 0 0 0 0 0 0 0 0 0 0 0 0 0 0 0 0 0\n"
          ],
          "name": "stdout"
        },
        {
          "output_type": "stream",
          "text": [
            "I0428 20:05:23.775038 140065210144640 run_classifier.py:466] input_mask: 1 1 1 0 0 0 0 0 0 0 0 0 0 0 0 0 0 0 0 0 0 0 0 0 0 0 0 0 0 0 0 0 0 0 0 0 0 0 0 0 0 0 0 0 0 0 0 0 0 0 0 0 0 0 0 0 0 0 0 0 0 0 0 0 0 0 0 0 0 0 0 0 0 0 0 0 0 0 0 0 0 0 0 0 0 0 0 0 0 0 0 0 0 0 0 0 0 0 0 0 0 0 0 0 0 0 0 0 0 0 0 0 0 0 0 0 0 0 0 0 0 0 0 0 0 0 0 0\n"
          ],
          "name": "stderr"
        },
        {
          "output_type": "stream",
          "text": [
            "INFO:tensorflow:segment_ids: 0 0 0 0 0 0 0 0 0 0 0 0 0 0 0 0 0 0 0 0 0 0 0 0 0 0 0 0 0 0 0 0 0 0 0 0 0 0 0 0 0 0 0 0 0 0 0 0 0 0 0 0 0 0 0 0 0 0 0 0 0 0 0 0 0 0 0 0 0 0 0 0 0 0 0 0 0 0 0 0 0 0 0 0 0 0 0 0 0 0 0 0 0 0 0 0 0 0 0 0 0 0 0 0 0 0 0 0 0 0 0 0 0 0 0 0 0 0 0 0 0 0 0 0 0 0 0 0\n"
          ],
          "name": "stdout"
        },
        {
          "output_type": "stream",
          "text": [
            "I0428 20:05:23.776840 140065210144640 run_classifier.py:467] segment_ids: 0 0 0 0 0 0 0 0 0 0 0 0 0 0 0 0 0 0 0 0 0 0 0 0 0 0 0 0 0 0 0 0 0 0 0 0 0 0 0 0 0 0 0 0 0 0 0 0 0 0 0 0 0 0 0 0 0 0 0 0 0 0 0 0 0 0 0 0 0 0 0 0 0 0 0 0 0 0 0 0 0 0 0 0 0 0 0 0 0 0 0 0 0 0 0 0 0 0 0 0 0 0 0 0 0 0 0 0 0 0 0 0 0 0 0 0 0 0 0 0 0 0 0 0 0 0 0 0\n"
          ],
          "name": "stderr"
        },
        {
          "output_type": "stream",
          "text": [
            "INFO:tensorflow:label: 35489007 (id = 3)\n"
          ],
          "name": "stdout"
        },
        {
          "output_type": "stream",
          "text": [
            "I0428 20:05:23.778972 140065210144640 run_classifier.py:468] label: 35489007 (id = 3)\n"
          ],
          "name": "stderr"
        },
        {
          "output_type": "stream",
          "text": [
            "INFO:tensorflow:Writing example 10000 of 76616\n"
          ],
          "name": "stdout"
        },
        {
          "output_type": "stream",
          "text": [
            "I0428 20:05:24.896277 140065210144640 run_classifier.py:774] Writing example 10000 of 76616\n"
          ],
          "name": "stderr"
        },
        {
          "output_type": "stream",
          "text": [
            "INFO:tensorflow:Writing example 20000 of 76616\n"
          ],
          "name": "stdout"
        },
        {
          "output_type": "stream",
          "text": [
            "I0428 20:05:25.859078 140065210144640 run_classifier.py:774] Writing example 20000 of 76616\n"
          ],
          "name": "stderr"
        },
        {
          "output_type": "stream",
          "text": [
            "INFO:tensorflow:Writing example 30000 of 76616\n"
          ],
          "name": "stdout"
        },
        {
          "output_type": "stream",
          "text": [
            "I0428 20:05:27.005501 140065210144640 run_classifier.py:774] Writing example 30000 of 76616\n"
          ],
          "name": "stderr"
        },
        {
          "output_type": "stream",
          "text": [
            "INFO:tensorflow:Writing example 40000 of 76616\n"
          ],
          "name": "stdout"
        },
        {
          "output_type": "stream",
          "text": [
            "I0428 20:05:27.983731 140065210144640 run_classifier.py:774] Writing example 40000 of 76616\n"
          ],
          "name": "stderr"
        },
        {
          "output_type": "stream",
          "text": [
            "INFO:tensorflow:Writing example 50000 of 76616\n"
          ],
          "name": "stdout"
        },
        {
          "output_type": "stream",
          "text": [
            "I0428 20:05:29.193648 140065210144640 run_classifier.py:774] Writing example 50000 of 76616\n"
          ],
          "name": "stderr"
        },
        {
          "output_type": "stream",
          "text": [
            "INFO:tensorflow:Writing example 60000 of 76616\n"
          ],
          "name": "stdout"
        },
        {
          "output_type": "stream",
          "text": [
            "I0428 20:05:30.151731 140065210144640 run_classifier.py:774] Writing example 60000 of 76616\n"
          ],
          "name": "stderr"
        },
        {
          "output_type": "stream",
          "text": [
            "INFO:tensorflow:Writing example 70000 of 76616\n"
          ],
          "name": "stdout"
        },
        {
          "output_type": "stream",
          "text": [
            "I0428 20:05:31.108490 140065210144640 run_classifier.py:774] Writing example 70000 of 76616\n"
          ],
          "name": "stderr"
        },
        {
          "output_type": "stream",
          "text": [
            "INFO:tensorflow:Writing example 0 of 8159\n"
          ],
          "name": "stdout"
        },
        {
          "output_type": "stream",
          "text": [
            "I0428 20:05:31.923051 140065210144640 run_classifier.py:774] Writing example 0 of 8159\n"
          ],
          "name": "stderr"
        },
        {
          "output_type": "stream",
          "text": [
            "INFO:tensorflow:*** Example ***\n"
          ],
          "name": "stdout"
        },
        {
          "output_type": "stream",
          "text": [
            "I0428 20:05:31.924980 140065210144640 run_classifier.py:461] *** Example ***\n"
          ],
          "name": "stderr"
        },
        {
          "output_type": "stream",
          "text": [
            "INFO:tensorflow:guid: None\n"
          ],
          "name": "stdout"
        },
        {
          "output_type": "stream",
          "text": [
            "I0428 20:05:31.926449 140065210144640 run_classifier.py:462] guid: None\n"
          ],
          "name": "stderr"
        },
        {
          "output_type": "stream",
          "text": [
            "INFO:tensorflow:tokens: [CLS] lip ##itor [SEP]\n"
          ],
          "name": "stdout"
        },
        {
          "output_type": "stream",
          "text": [
            "I0428 20:05:31.927977 140065210144640 run_classifier.py:464] tokens: [CLS] lip ##itor [SEP]\n"
          ],
          "name": "stderr"
        },
        {
          "output_type": "stream",
          "text": [
            "INFO:tensorflow:input_ids: 101 5423 15660 102 0 0 0 0 0 0 0 0 0 0 0 0 0 0 0 0 0 0 0 0 0 0 0 0 0 0 0 0 0 0 0 0 0 0 0 0 0 0 0 0 0 0 0 0 0 0 0 0 0 0 0 0 0 0 0 0 0 0 0 0 0 0 0 0 0 0 0 0 0 0 0 0 0 0 0 0 0 0 0 0 0 0 0 0 0 0 0 0 0 0 0 0 0 0 0 0 0 0 0 0 0 0 0 0 0 0 0 0 0 0 0 0 0 0 0 0 0 0 0 0 0 0 0 0\n"
          ],
          "name": "stdout"
        },
        {
          "output_type": "stream",
          "text": [
            "I0428 20:05:31.929735 140065210144640 run_classifier.py:465] input_ids: 101 5423 15660 102 0 0 0 0 0 0 0 0 0 0 0 0 0 0 0 0 0 0 0 0 0 0 0 0 0 0 0 0 0 0 0 0 0 0 0 0 0 0 0 0 0 0 0 0 0 0 0 0 0 0 0 0 0 0 0 0 0 0 0 0 0 0 0 0 0 0 0 0 0 0 0 0 0 0 0 0 0 0 0 0 0 0 0 0 0 0 0 0 0 0 0 0 0 0 0 0 0 0 0 0 0 0 0 0 0 0 0 0 0 0 0 0 0 0 0 0 0 0 0 0 0 0 0 0\n"
          ],
          "name": "stderr"
        },
        {
          "output_type": "stream",
          "text": [
            "INFO:tensorflow:input_mask: 1 1 1 1 0 0 0 0 0 0 0 0 0 0 0 0 0 0 0 0 0 0 0 0 0 0 0 0 0 0 0 0 0 0 0 0 0 0 0 0 0 0 0 0 0 0 0 0 0 0 0 0 0 0 0 0 0 0 0 0 0 0 0 0 0 0 0 0 0 0 0 0 0 0 0 0 0 0 0 0 0 0 0 0 0 0 0 0 0 0 0 0 0 0 0 0 0 0 0 0 0 0 0 0 0 0 0 0 0 0 0 0 0 0 0 0 0 0 0 0 0 0 0 0 0 0 0 0\n"
          ],
          "name": "stdout"
        },
        {
          "output_type": "stream",
          "text": [
            "I0428 20:05:31.933910 140065210144640 run_classifier.py:466] input_mask: 1 1 1 1 0 0 0 0 0 0 0 0 0 0 0 0 0 0 0 0 0 0 0 0 0 0 0 0 0 0 0 0 0 0 0 0 0 0 0 0 0 0 0 0 0 0 0 0 0 0 0 0 0 0 0 0 0 0 0 0 0 0 0 0 0 0 0 0 0 0 0 0 0 0 0 0 0 0 0 0 0 0 0 0 0 0 0 0 0 0 0 0 0 0 0 0 0 0 0 0 0 0 0 0 0 0 0 0 0 0 0 0 0 0 0 0 0 0 0 0 0 0 0 0 0 0 0 0\n"
          ],
          "name": "stderr"
        },
        {
          "output_type": "stream",
          "text": [
            "INFO:tensorflow:segment_ids: 0 0 0 0 0 0 0 0 0 0 0 0 0 0 0 0 0 0 0 0 0 0 0 0 0 0 0 0 0 0 0 0 0 0 0 0 0 0 0 0 0 0 0 0 0 0 0 0 0 0 0 0 0 0 0 0 0 0 0 0 0 0 0 0 0 0 0 0 0 0 0 0 0 0 0 0 0 0 0 0 0 0 0 0 0 0 0 0 0 0 0 0 0 0 0 0 0 0 0 0 0 0 0 0 0 0 0 0 0 0 0 0 0 0 0 0 0 0 0 0 0 0 0 0 0 0 0 0\n"
          ],
          "name": "stdout"
        },
        {
          "output_type": "stream",
          "text": [
            "I0428 20:05:31.936716 140065210144640 run_classifier.py:467] segment_ids: 0 0 0 0 0 0 0 0 0 0 0 0 0 0 0 0 0 0 0 0 0 0 0 0 0 0 0 0 0 0 0 0 0 0 0 0 0 0 0 0 0 0 0 0 0 0 0 0 0 0 0 0 0 0 0 0 0 0 0 0 0 0 0 0 0 0 0 0 0 0 0 0 0 0 0 0 0 0 0 0 0 0 0 0 0 0 0 0 0 0 0 0 0 0 0 0 0 0 0 0 0 0 0 0 0 0 0 0 0 0 0 0 0 0 0 0 0 0 0 0 0 0 0 0 0 0 0 0\n"
          ],
          "name": "stderr"
        },
        {
          "output_type": "stream",
          "text": [
            "INFO:tensorflow:label: 3877011000036101 (id = 0)\n"
          ],
          "name": "stdout"
        },
        {
          "output_type": "stream",
          "text": [
            "I0428 20:05:31.939437 140065210144640 run_classifier.py:468] label: 3877011000036101 (id = 0)\n"
          ],
          "name": "stderr"
        },
        {
          "output_type": "stream",
          "text": [
            "INFO:tensorflow:*** Example ***\n"
          ],
          "name": "stdout"
        },
        {
          "output_type": "stream",
          "text": [
            "I0428 20:05:31.942728 140065210144640 run_classifier.py:461] *** Example ***\n"
          ],
          "name": "stderr"
        },
        {
          "output_type": "stream",
          "text": [
            "INFO:tensorflow:guid: None\n"
          ],
          "name": "stdout"
        },
        {
          "output_type": "stream",
          "text": [
            "I0428 20:05:31.950407 140065210144640 run_classifier.py:462] guid: None\n"
          ],
          "name": "stderr"
        },
        {
          "output_type": "stream",
          "text": [
            "INFO:tensorflow:tokens: [CLS] pain [SEP]\n"
          ],
          "name": "stdout"
        },
        {
          "output_type": "stream",
          "text": [
            "I0428 20:05:31.953927 140065210144640 run_classifier.py:464] tokens: [CLS] pain [SEP]\n"
          ],
          "name": "stderr"
        },
        {
          "output_type": "stream",
          "text": [
            "INFO:tensorflow:input_ids: 101 3255 102 0 0 0 0 0 0 0 0 0 0 0 0 0 0 0 0 0 0 0 0 0 0 0 0 0 0 0 0 0 0 0 0 0 0 0 0 0 0 0 0 0 0 0 0 0 0 0 0 0 0 0 0 0 0 0 0 0 0 0 0 0 0 0 0 0 0 0 0 0 0 0 0 0 0 0 0 0 0 0 0 0 0 0 0 0 0 0 0 0 0 0 0 0 0 0 0 0 0 0 0 0 0 0 0 0 0 0 0 0 0 0 0 0 0 0 0 0 0 0 0 0 0 0 0 0\n"
          ],
          "name": "stdout"
        },
        {
          "output_type": "stream",
          "text": [
            "I0428 20:05:31.955490 140065210144640 run_classifier.py:465] input_ids: 101 3255 102 0 0 0 0 0 0 0 0 0 0 0 0 0 0 0 0 0 0 0 0 0 0 0 0 0 0 0 0 0 0 0 0 0 0 0 0 0 0 0 0 0 0 0 0 0 0 0 0 0 0 0 0 0 0 0 0 0 0 0 0 0 0 0 0 0 0 0 0 0 0 0 0 0 0 0 0 0 0 0 0 0 0 0 0 0 0 0 0 0 0 0 0 0 0 0 0 0 0 0 0 0 0 0 0 0 0 0 0 0 0 0 0 0 0 0 0 0 0 0 0 0 0 0 0 0\n"
          ],
          "name": "stderr"
        },
        {
          "output_type": "stream",
          "text": [
            "INFO:tensorflow:input_mask: 1 1 1 0 0 0 0 0 0 0 0 0 0 0 0 0 0 0 0 0 0 0 0 0 0 0 0 0 0 0 0 0 0 0 0 0 0 0 0 0 0 0 0 0 0 0 0 0 0 0 0 0 0 0 0 0 0 0 0 0 0 0 0 0 0 0 0 0 0 0 0 0 0 0 0 0 0 0 0 0 0 0 0 0 0 0 0 0 0 0 0 0 0 0 0 0 0 0 0 0 0 0 0 0 0 0 0 0 0 0 0 0 0 0 0 0 0 0 0 0 0 0 0 0 0 0 0 0\n"
          ],
          "name": "stdout"
        },
        {
          "output_type": "stream",
          "text": [
            "I0428 20:05:31.957832 140065210144640 run_classifier.py:466] input_mask: 1 1 1 0 0 0 0 0 0 0 0 0 0 0 0 0 0 0 0 0 0 0 0 0 0 0 0 0 0 0 0 0 0 0 0 0 0 0 0 0 0 0 0 0 0 0 0 0 0 0 0 0 0 0 0 0 0 0 0 0 0 0 0 0 0 0 0 0 0 0 0 0 0 0 0 0 0 0 0 0 0 0 0 0 0 0 0 0 0 0 0 0 0 0 0 0 0 0 0 0 0 0 0 0 0 0 0 0 0 0 0 0 0 0 0 0 0 0 0 0 0 0 0 0 0 0 0 0\n"
          ],
          "name": "stderr"
        },
        {
          "output_type": "stream",
          "text": [
            "INFO:tensorflow:segment_ids: 0 0 0 0 0 0 0 0 0 0 0 0 0 0 0 0 0 0 0 0 0 0 0 0 0 0 0 0 0 0 0 0 0 0 0 0 0 0 0 0 0 0 0 0 0 0 0 0 0 0 0 0 0 0 0 0 0 0 0 0 0 0 0 0 0 0 0 0 0 0 0 0 0 0 0 0 0 0 0 0 0 0 0 0 0 0 0 0 0 0 0 0 0 0 0 0 0 0 0 0 0 0 0 0 0 0 0 0 0 0 0 0 0 0 0 0 0 0 0 0 0 0 0 0 0 0 0 0\n"
          ],
          "name": "stdout"
        },
        {
          "output_type": "stream",
          "text": [
            "I0428 20:05:31.960772 140065210144640 run_classifier.py:467] segment_ids: 0 0 0 0 0 0 0 0 0 0 0 0 0 0 0 0 0 0 0 0 0 0 0 0 0 0 0 0 0 0 0 0 0 0 0 0 0 0 0 0 0 0 0 0 0 0 0 0 0 0 0 0 0 0 0 0 0 0 0 0 0 0 0 0 0 0 0 0 0 0 0 0 0 0 0 0 0 0 0 0 0 0 0 0 0 0 0 0 0 0 0 0 0 0 0 0 0 0 0 0 0 0 0 0 0 0 0 0 0 0 0 0 0 0 0 0 0 0 0 0 0 0 0 0 0 0 0 0\n"
          ],
          "name": "stderr"
        },
        {
          "output_type": "stream",
          "text": [
            "INFO:tensorflow:label: 22253000 (id = 4)\n"
          ],
          "name": "stdout"
        },
        {
          "output_type": "stream",
          "text": [
            "I0428 20:05:31.963914 140065210144640 run_classifier.py:468] label: 22253000 (id = 4)\n"
          ],
          "name": "stderr"
        },
        {
          "output_type": "stream",
          "text": [
            "INFO:tensorflow:*** Example ***\n"
          ],
          "name": "stdout"
        },
        {
          "output_type": "stream",
          "text": [
            "I0428 20:05:31.966857 140065210144640 run_classifier.py:461] *** Example ***\n"
          ],
          "name": "stderr"
        },
        {
          "output_type": "stream",
          "text": [
            "INFO:tensorflow:guid: None\n"
          ],
          "name": "stdout"
        },
        {
          "output_type": "stream",
          "text": [
            "I0428 20:05:31.969743 140065210144640 run_classifier.py:462] guid: None\n"
          ],
          "name": "stderr"
        },
        {
          "output_type": "stream",
          "text": [
            "INFO:tensorflow:tokens: [CLS] cr ##amp ##ing [SEP]\n"
          ],
          "name": "stdout"
        },
        {
          "output_type": "stream",
          "text": [
            "I0428 20:05:31.972484 140065210144640 run_classifier.py:464] tokens: [CLS] cr ##amp ##ing [SEP]\n"
          ],
          "name": "stderr"
        },
        {
          "output_type": "stream",
          "text": [
            "INFO:tensorflow:input_ids: 101 13675 16613 2075 102 0 0 0 0 0 0 0 0 0 0 0 0 0 0 0 0 0 0 0 0 0 0 0 0 0 0 0 0 0 0 0 0 0 0 0 0 0 0 0 0 0 0 0 0 0 0 0 0 0 0 0 0 0 0 0 0 0 0 0 0 0 0 0 0 0 0 0 0 0 0 0 0 0 0 0 0 0 0 0 0 0 0 0 0 0 0 0 0 0 0 0 0 0 0 0 0 0 0 0 0 0 0 0 0 0 0 0 0 0 0 0 0 0 0 0 0 0 0 0 0 0 0 0\n"
          ],
          "name": "stdout"
        },
        {
          "output_type": "stream",
          "text": [
            "I0428 20:05:31.975304 140065210144640 run_classifier.py:465] input_ids: 101 13675 16613 2075 102 0 0 0 0 0 0 0 0 0 0 0 0 0 0 0 0 0 0 0 0 0 0 0 0 0 0 0 0 0 0 0 0 0 0 0 0 0 0 0 0 0 0 0 0 0 0 0 0 0 0 0 0 0 0 0 0 0 0 0 0 0 0 0 0 0 0 0 0 0 0 0 0 0 0 0 0 0 0 0 0 0 0 0 0 0 0 0 0 0 0 0 0 0 0 0 0 0 0 0 0 0 0 0 0 0 0 0 0 0 0 0 0 0 0 0 0 0 0 0 0 0 0 0\n"
          ],
          "name": "stderr"
        },
        {
          "output_type": "stream",
          "text": [
            "INFO:tensorflow:input_mask: 1 1 1 1 1 0 0 0 0 0 0 0 0 0 0 0 0 0 0 0 0 0 0 0 0 0 0 0 0 0 0 0 0 0 0 0 0 0 0 0 0 0 0 0 0 0 0 0 0 0 0 0 0 0 0 0 0 0 0 0 0 0 0 0 0 0 0 0 0 0 0 0 0 0 0 0 0 0 0 0 0 0 0 0 0 0 0 0 0 0 0 0 0 0 0 0 0 0 0 0 0 0 0 0 0 0 0 0 0 0 0 0 0 0 0 0 0 0 0 0 0 0 0 0 0 0 0 0\n"
          ],
          "name": "stdout"
        },
        {
          "output_type": "stream",
          "text": [
            "I0428 20:05:31.979086 140065210144640 run_classifier.py:466] input_mask: 1 1 1 1 1 0 0 0 0 0 0 0 0 0 0 0 0 0 0 0 0 0 0 0 0 0 0 0 0 0 0 0 0 0 0 0 0 0 0 0 0 0 0 0 0 0 0 0 0 0 0 0 0 0 0 0 0 0 0 0 0 0 0 0 0 0 0 0 0 0 0 0 0 0 0 0 0 0 0 0 0 0 0 0 0 0 0 0 0 0 0 0 0 0 0 0 0 0 0 0 0 0 0 0 0 0 0 0 0 0 0 0 0 0 0 0 0 0 0 0 0 0 0 0 0 0 0 0\n"
          ],
          "name": "stderr"
        },
        {
          "output_type": "stream",
          "text": [
            "INFO:tensorflow:segment_ids: 0 0 0 0 0 0 0 0 0 0 0 0 0 0 0 0 0 0 0 0 0 0 0 0 0 0 0 0 0 0 0 0 0 0 0 0 0 0 0 0 0 0 0 0 0 0 0 0 0 0 0 0 0 0 0 0 0 0 0 0 0 0 0 0 0 0 0 0 0 0 0 0 0 0 0 0 0 0 0 0 0 0 0 0 0 0 0 0 0 0 0 0 0 0 0 0 0 0 0 0 0 0 0 0 0 0 0 0 0 0 0 0 0 0 0 0 0 0 0 0 0 0 0 0 0 0 0 0\n"
          ],
          "name": "stdout"
        },
        {
          "output_type": "stream",
          "text": [
            "I0428 20:05:31.981777 140065210144640 run_classifier.py:467] segment_ids: 0 0 0 0 0 0 0 0 0 0 0 0 0 0 0 0 0 0 0 0 0 0 0 0 0 0 0 0 0 0 0 0 0 0 0 0 0 0 0 0 0 0 0 0 0 0 0 0 0 0 0 0 0 0 0 0 0 0 0 0 0 0 0 0 0 0 0 0 0 0 0 0 0 0 0 0 0 0 0 0 0 0 0 0 0 0 0 0 0 0 0 0 0 0 0 0 0 0 0 0 0 0 0 0 0 0 0 0 0 0 0 0 0 0 0 0 0 0 0 0 0 0 0 0 0 0 0 0\n"
          ],
          "name": "stderr"
        },
        {
          "output_type": "stream",
          "text": [
            "INFO:tensorflow:label: 55300003 (id = 10)\n"
          ],
          "name": "stdout"
        },
        {
          "output_type": "stream",
          "text": [
            "I0428 20:05:31.983818 140065210144640 run_classifier.py:468] label: 55300003 (id = 10)\n"
          ],
          "name": "stderr"
        },
        {
          "output_type": "stream",
          "text": [
            "INFO:tensorflow:*** Example ***\n"
          ],
          "name": "stdout"
        },
        {
          "output_type": "stream",
          "text": [
            "I0428 20:05:31.986309 140065210144640 run_classifier.py:461] *** Example ***\n"
          ],
          "name": "stderr"
        },
        {
          "output_type": "stream",
          "text": [
            "INFO:tensorflow:guid: None\n"
          ],
          "name": "stdout"
        },
        {
          "output_type": "stream",
          "text": [
            "I0428 20:05:31.988615 140065210144640 run_classifier.py:462] guid: None\n"
          ],
          "name": "stderr"
        },
        {
          "output_type": "stream",
          "text": [
            "INFO:tensorflow:tokens: [CLS] lip ##itor [SEP]\n"
          ],
          "name": "stdout"
        },
        {
          "output_type": "stream",
          "text": [
            "I0428 20:05:31.990939 140065210144640 run_classifier.py:464] tokens: [CLS] lip ##itor [SEP]\n"
          ],
          "name": "stderr"
        },
        {
          "output_type": "stream",
          "text": [
            "INFO:tensorflow:input_ids: 101 5423 15660 102 0 0 0 0 0 0 0 0 0 0 0 0 0 0 0 0 0 0 0 0 0 0 0 0 0 0 0 0 0 0 0 0 0 0 0 0 0 0 0 0 0 0 0 0 0 0 0 0 0 0 0 0 0 0 0 0 0 0 0 0 0 0 0 0 0 0 0 0 0 0 0 0 0 0 0 0 0 0 0 0 0 0 0 0 0 0 0 0 0 0 0 0 0 0 0 0 0 0 0 0 0 0 0 0 0 0 0 0 0 0 0 0 0 0 0 0 0 0 0 0 0 0 0 0\n"
          ],
          "name": "stdout"
        },
        {
          "output_type": "stream",
          "text": [
            "I0428 20:05:31.993069 140065210144640 run_classifier.py:465] input_ids: 101 5423 15660 102 0 0 0 0 0 0 0 0 0 0 0 0 0 0 0 0 0 0 0 0 0 0 0 0 0 0 0 0 0 0 0 0 0 0 0 0 0 0 0 0 0 0 0 0 0 0 0 0 0 0 0 0 0 0 0 0 0 0 0 0 0 0 0 0 0 0 0 0 0 0 0 0 0 0 0 0 0 0 0 0 0 0 0 0 0 0 0 0 0 0 0 0 0 0 0 0 0 0 0 0 0 0 0 0 0 0 0 0 0 0 0 0 0 0 0 0 0 0 0 0 0 0 0 0\n"
          ],
          "name": "stderr"
        },
        {
          "output_type": "stream",
          "text": [
            "INFO:tensorflow:input_mask: 1 1 1 1 0 0 0 0 0 0 0 0 0 0 0 0 0 0 0 0 0 0 0 0 0 0 0 0 0 0 0 0 0 0 0 0 0 0 0 0 0 0 0 0 0 0 0 0 0 0 0 0 0 0 0 0 0 0 0 0 0 0 0 0 0 0 0 0 0 0 0 0 0 0 0 0 0 0 0 0 0 0 0 0 0 0 0 0 0 0 0 0 0 0 0 0 0 0 0 0 0 0 0 0 0 0 0 0 0 0 0 0 0 0 0 0 0 0 0 0 0 0 0 0 0 0 0 0\n"
          ],
          "name": "stdout"
        },
        {
          "output_type": "stream",
          "text": [
            "I0428 20:05:31.995375 140065210144640 run_classifier.py:466] input_mask: 1 1 1 1 0 0 0 0 0 0 0 0 0 0 0 0 0 0 0 0 0 0 0 0 0 0 0 0 0 0 0 0 0 0 0 0 0 0 0 0 0 0 0 0 0 0 0 0 0 0 0 0 0 0 0 0 0 0 0 0 0 0 0 0 0 0 0 0 0 0 0 0 0 0 0 0 0 0 0 0 0 0 0 0 0 0 0 0 0 0 0 0 0 0 0 0 0 0 0 0 0 0 0 0 0 0 0 0 0 0 0 0 0 0 0 0 0 0 0 0 0 0 0 0 0 0 0 0\n"
          ],
          "name": "stderr"
        },
        {
          "output_type": "stream",
          "text": [
            "INFO:tensorflow:segment_ids: 0 0 0 0 0 0 0 0 0 0 0 0 0 0 0 0 0 0 0 0 0 0 0 0 0 0 0 0 0 0 0 0 0 0 0 0 0 0 0 0 0 0 0 0 0 0 0 0 0 0 0 0 0 0 0 0 0 0 0 0 0 0 0 0 0 0 0 0 0 0 0 0 0 0 0 0 0 0 0 0 0 0 0 0 0 0 0 0 0 0 0 0 0 0 0 0 0 0 0 0 0 0 0 0 0 0 0 0 0 0 0 0 0 0 0 0 0 0 0 0 0 0 0 0 0 0 0 0\n"
          ],
          "name": "stdout"
        },
        {
          "output_type": "stream",
          "text": [
            "I0428 20:05:31.997725 140065210144640 run_classifier.py:467] segment_ids: 0 0 0 0 0 0 0 0 0 0 0 0 0 0 0 0 0 0 0 0 0 0 0 0 0 0 0 0 0 0 0 0 0 0 0 0 0 0 0 0 0 0 0 0 0 0 0 0 0 0 0 0 0 0 0 0 0 0 0 0 0 0 0 0 0 0 0 0 0 0 0 0 0 0 0 0 0 0 0 0 0 0 0 0 0 0 0 0 0 0 0 0 0 0 0 0 0 0 0 0 0 0 0 0 0 0 0 0 0 0 0 0 0 0 0 0 0 0 0 0 0 0 0 0 0 0 0 0\n"
          ],
          "name": "stderr"
        },
        {
          "output_type": "stream",
          "text": [
            "INFO:tensorflow:label: 3877011000036101 (id = 0)\n"
          ],
          "name": "stdout"
        },
        {
          "output_type": "stream",
          "text": [
            "I0428 20:05:31.999594 140065210144640 run_classifier.py:468] label: 3877011000036101 (id = 0)\n"
          ],
          "name": "stderr"
        },
        {
          "output_type": "stream",
          "text": [
            "INFO:tensorflow:*** Example ***\n"
          ],
          "name": "stdout"
        },
        {
          "output_type": "stream",
          "text": [
            "I0428 20:05:32.002083 140065210144640 run_classifier.py:461] *** Example ***\n"
          ],
          "name": "stderr"
        },
        {
          "output_type": "stream",
          "text": [
            "INFO:tensorflow:guid: None\n"
          ],
          "name": "stdout"
        },
        {
          "output_type": "stream",
          "text": [
            "I0428 20:05:32.004426 140065210144640 run_classifier.py:462] guid: None\n"
          ],
          "name": "stderr"
        },
        {
          "output_type": "stream",
          "text": [
            "INFO:tensorflow:tokens: [CLS] lass ##itude [SEP]\n"
          ],
          "name": "stdout"
        },
        {
          "output_type": "stream",
          "text": [
            "I0428 20:05:32.006765 140065210144640 run_classifier.py:464] tokens: [CLS] lass ##itude [SEP]\n"
          ],
          "name": "stderr"
        },
        {
          "output_type": "stream",
          "text": [
            "INFO:tensorflow:input_ids: 101 27333 18679 102 0 0 0 0 0 0 0 0 0 0 0 0 0 0 0 0 0 0 0 0 0 0 0 0 0 0 0 0 0 0 0 0 0 0 0 0 0 0 0 0 0 0 0 0 0 0 0 0 0 0 0 0 0 0 0 0 0 0 0 0 0 0 0 0 0 0 0 0 0 0 0 0 0 0 0 0 0 0 0 0 0 0 0 0 0 0 0 0 0 0 0 0 0 0 0 0 0 0 0 0 0 0 0 0 0 0 0 0 0 0 0 0 0 0 0 0 0 0 0 0 0 0 0 0\n"
          ],
          "name": "stdout"
        },
        {
          "output_type": "stream",
          "text": [
            "I0428 20:05:32.008765 140065210144640 run_classifier.py:465] input_ids: 101 27333 18679 102 0 0 0 0 0 0 0 0 0 0 0 0 0 0 0 0 0 0 0 0 0 0 0 0 0 0 0 0 0 0 0 0 0 0 0 0 0 0 0 0 0 0 0 0 0 0 0 0 0 0 0 0 0 0 0 0 0 0 0 0 0 0 0 0 0 0 0 0 0 0 0 0 0 0 0 0 0 0 0 0 0 0 0 0 0 0 0 0 0 0 0 0 0 0 0 0 0 0 0 0 0 0 0 0 0 0 0 0 0 0 0 0 0 0 0 0 0 0 0 0 0 0 0 0\n"
          ],
          "name": "stderr"
        },
        {
          "output_type": "stream",
          "text": [
            "INFO:tensorflow:input_mask: 1 1 1 1 0 0 0 0 0 0 0 0 0 0 0 0 0 0 0 0 0 0 0 0 0 0 0 0 0 0 0 0 0 0 0 0 0 0 0 0 0 0 0 0 0 0 0 0 0 0 0 0 0 0 0 0 0 0 0 0 0 0 0 0 0 0 0 0 0 0 0 0 0 0 0 0 0 0 0 0 0 0 0 0 0 0 0 0 0 0 0 0 0 0 0 0 0 0 0 0 0 0 0 0 0 0 0 0 0 0 0 0 0 0 0 0 0 0 0 0 0 0 0 0 0 0 0 0\n"
          ],
          "name": "stdout"
        },
        {
          "output_type": "stream",
          "text": [
            "I0428 20:05:32.011176 140065210144640 run_classifier.py:466] input_mask: 1 1 1 1 0 0 0 0 0 0 0 0 0 0 0 0 0 0 0 0 0 0 0 0 0 0 0 0 0 0 0 0 0 0 0 0 0 0 0 0 0 0 0 0 0 0 0 0 0 0 0 0 0 0 0 0 0 0 0 0 0 0 0 0 0 0 0 0 0 0 0 0 0 0 0 0 0 0 0 0 0 0 0 0 0 0 0 0 0 0 0 0 0 0 0 0 0 0 0 0 0 0 0 0 0 0 0 0 0 0 0 0 0 0 0 0 0 0 0 0 0 0 0 0 0 0 0 0\n"
          ],
          "name": "stderr"
        },
        {
          "output_type": "stream",
          "text": [
            "INFO:tensorflow:segment_ids: 0 0 0 0 0 0 0 0 0 0 0 0 0 0 0 0 0 0 0 0 0 0 0 0 0 0 0 0 0 0 0 0 0 0 0 0 0 0 0 0 0 0 0 0 0 0 0 0 0 0 0 0 0 0 0 0 0 0 0 0 0 0 0 0 0 0 0 0 0 0 0 0 0 0 0 0 0 0 0 0 0 0 0 0 0 0 0 0 0 0 0 0 0 0 0 0 0 0 0 0 0 0 0 0 0 0 0 0 0 0 0 0 0 0 0 0 0 0 0 0 0 0 0 0 0 0 0 0\n"
          ],
          "name": "stdout"
        },
        {
          "output_type": "stream",
          "text": [
            "I0428 20:05:32.013238 140065210144640 run_classifier.py:467] segment_ids: 0 0 0 0 0 0 0 0 0 0 0 0 0 0 0 0 0 0 0 0 0 0 0 0 0 0 0 0 0 0 0 0 0 0 0 0 0 0 0 0 0 0 0 0 0 0 0 0 0 0 0 0 0 0 0 0 0 0 0 0 0 0 0 0 0 0 0 0 0 0 0 0 0 0 0 0 0 0 0 0 0 0 0 0 0 0 0 0 0 0 0 0 0 0 0 0 0 0 0 0 0 0 0 0 0 0 0 0 0 0 0 0 0 0 0 0 0 0 0 0 0 0 0 0 0 0 0 0\n"
          ],
          "name": "stderr"
        },
        {
          "output_type": "stream",
          "text": [
            "INFO:tensorflow:label: 13791008 (id = 29)\n"
          ],
          "name": "stdout"
        },
        {
          "output_type": "stream",
          "text": [
            "I0428 20:05:32.015487 140065210144640 run_classifier.py:468] label: 13791008 (id = 29)\n"
          ],
          "name": "stderr"
        },
        {
          "output_type": "stream",
          "text": [
            "INFO:tensorflow:Using config: {'_model_dir': 'output', '_tf_random_seed': None, '_save_summary_steps': 100, '_save_checkpoints_steps': 10000, '_save_checkpoints_secs': None, '_session_config': allow_soft_placement: true\n",
            "graph_options {\n",
            "  rewrite_options {\n",
            "    meta_optimizer_iterations: ONE\n",
            "  }\n",
            "}\n",
            ", '_keep_checkpoint_max': 5, '_keep_checkpoint_every_n_hours': 10000, '_log_step_count_steps': 100, '_train_distribute': None, '_device_fn': None, '_protocol': None, '_eval_distribute': None, '_experimental_distribute': None, '_service': None, '_cluster_spec': <tensorflow.python.training.server_lib.ClusterSpec object at 0x7f6304fd7470>, '_task_type': 'worker', '_task_id': 0, '_global_id_in_cluster': 0, '_master': '', '_evaluation_master': '', '_is_chief': True, '_num_ps_replicas': 0, '_num_worker_replicas': 1}\n"
          ],
          "name": "stdout"
        },
        {
          "output_type": "stream",
          "text": [
            "I0428 20:05:33.198300 140065210144640 estimator.py:201] Using config: {'_model_dir': 'output', '_tf_random_seed': None, '_save_summary_steps': 100, '_save_checkpoints_steps': 10000, '_save_checkpoints_secs': None, '_session_config': allow_soft_placement: true\n",
            "graph_options {\n",
            "  rewrite_options {\n",
            "    meta_optimizer_iterations: ONE\n",
            "  }\n",
            "}\n",
            ", '_keep_checkpoint_max': 5, '_keep_checkpoint_every_n_hours': 10000, '_log_step_count_steps': 100, '_train_distribute': None, '_device_fn': None, '_protocol': None, '_eval_distribute': None, '_experimental_distribute': None, '_service': None, '_cluster_spec': <tensorflow.python.training.server_lib.ClusterSpec object at 0x7f6304fd7470>, '_task_type': 'worker', '_task_id': 0, '_global_id_in_cluster': 0, '_master': '', '_evaluation_master': '', '_is_chief': True, '_num_ps_replicas': 0, '_num_worker_replicas': 1}\n"
          ],
          "name": "stderr"
        },
        {
          "output_type": "stream",
          "text": [
            "INFO:tensorflow:Calling model_fn.\n"
          ],
          "name": "stdout"
        },
        {
          "output_type": "stream",
          "text": [
            "I0428 20:06:12.190469 140065210144640 estimator.py:1111] Calling model_fn.\n"
          ],
          "name": "stderr"
        },
        {
          "output_type": "stream",
          "text": [
            "INFO:tensorflow:Saver not created because there are no variables in the graph to restore\n"
          ],
          "name": "stdout"
        },
        {
          "output_type": "stream",
          "text": [
            "I0428 20:06:15.618184 140065210144640 saver.py:1483] Saver not created because there are no variables in the graph to restore\n"
          ],
          "name": "stderr"
        },
        {
          "output_type": "stream",
          "text": [
            "WARNING:tensorflow:From <ipython-input-50-68baafc3d0f7>:67: calling dropout (from tensorflow.python.ops.nn_ops) with keep_prob is deprecated and will be removed in a future version.\n",
            "Instructions for updating:\n",
            "Please use `rate` instead of `keep_prob`. Rate should be set to `rate = 1 - keep_prob`.\n"
          ],
          "name": "stdout"
        },
        {
          "output_type": "stream",
          "text": [
            "W0428 20:06:15.754382 140065210144640 deprecation.py:506] From <ipython-input-50-68baafc3d0f7>:67: calling dropout (from tensorflow.python.ops.nn_ops) with keep_prob is deprecated and will be removed in a future version.\n",
            "Instructions for updating:\n",
            "Please use `rate` instead of `keep_prob`. Rate should be set to `rate = 1 - keep_prob`.\n"
          ],
          "name": "stderr"
        },
        {
          "output_type": "stream",
          "text": [
            "WARNING:tensorflow:From /usr/local/lib/python3.6/dist-packages/tensorflow/python/training/learning_rate_decay_v2.py:321: div (from tensorflow.python.ops.math_ops) is deprecated and will be removed in a future version.\n",
            "Instructions for updating:\n",
            "Deprecated in favor of operator or tf.math.divide.\n"
          ],
          "name": "stdout"
        },
        {
          "output_type": "stream",
          "text": [
            "W0428 20:06:15.805460 140065210144640 deprecation.py:323] From /usr/local/lib/python3.6/dist-packages/tensorflow/python/training/learning_rate_decay_v2.py:321: div (from tensorflow.python.ops.math_ops) is deprecated and will be removed in a future version.\n",
            "Instructions for updating:\n",
            "Deprecated in favor of operator or tf.math.divide.\n"
          ],
          "name": "stderr"
        },
        {
          "output_type": "stream",
          "text": [
            "WARNING:tensorflow:From /usr/local/lib/python3.6/dist-packages/tensorflow/python/ops/math_ops.py:3066: to_int32 (from tensorflow.python.ops.math_ops) is deprecated and will be removed in a future version.\n",
            "Instructions for updating:\n",
            "Use tf.cast instead.\n"
          ],
          "name": "stdout"
        },
        {
          "output_type": "stream",
          "text": [
            "W0428 20:06:15.894107 140065210144640 deprecation.py:323] From /usr/local/lib/python3.6/dist-packages/tensorflow/python/ops/math_ops.py:3066: to_int32 (from tensorflow.python.ops.math_ops) is deprecated and will be removed in a future version.\n",
            "Instructions for updating:\n",
            "Use tf.cast instead.\n",
            "/usr/local/lib/python3.6/dist-packages/tensorflow/python/ops/gradients_impl.py:110: UserWarning:\n",
            "\n",
            "Converting sparse IndexedSlices to a dense Tensor of unknown shape. This may consume a large amount of memory.\n",
            "\n",
            "/usr/local/lib/python3.6/dist-packages/tensorflow/python/ops/gradients_impl.py:110: UserWarning:\n",
            "\n",
            "Converting sparse IndexedSlices to a dense Tensor of unknown shape. This may consume a large amount of memory.\n",
            "\n"
          ],
          "name": "stderr"
        },
        {
          "output_type": "stream",
          "text": [
            "WARNING:tensorflow:From /usr/local/lib/python3.6/dist-packages/tensorflow/python/ops/metrics_impl.py:455: to_float (from tensorflow.python.ops.math_ops) is deprecated and will be removed in a future version.\n",
            "Instructions for updating:\n",
            "Use tf.cast instead.\n"
          ],
          "name": "stdout"
        },
        {
          "output_type": "stream",
          "text": [
            "W0428 20:06:24.924339 140065210144640 deprecation.py:323] From /usr/local/lib/python3.6/dist-packages/tensorflow/python/ops/metrics_impl.py:455: to_float (from tensorflow.python.ops.math_ops) is deprecated and will be removed in a future version.\n",
            "Instructions for updating:\n",
            "Use tf.cast instead.\n"
          ],
          "name": "stderr"
        },
        {
          "output_type": "stream",
          "text": [
            "INFO:tensorflow:Done calling model_fn.\n"
          ],
          "name": "stdout"
        },
        {
          "output_type": "stream",
          "text": [
            "I0428 20:06:24.945197 140065210144640 estimator.py:1113] Done calling model_fn.\n"
          ],
          "name": "stderr"
        },
        {
          "output_type": "stream",
          "text": [
            "INFO:tensorflow:Create CheckpointSaverHook.\n"
          ],
          "name": "stdout"
        },
        {
          "output_type": "stream",
          "text": [
            "I0428 20:06:24.948764 140065210144640 basic_session_run_hooks.py:527] Create CheckpointSaverHook.\n"
          ],
          "name": "stderr"
        },
        {
          "output_type": "stream",
          "text": [
            "INFO:tensorflow:Graph was finalized.\n"
          ],
          "name": "stdout"
        },
        {
          "output_type": "stream",
          "text": [
            "I0428 20:06:29.820400 140065210144640 monitored_session.py:222] Graph was finalized.\n"
          ],
          "name": "stderr"
        },
        {
          "output_type": "stream",
          "text": [
            "INFO:tensorflow:Running local_init_op.\n"
          ],
          "name": "stdout"
        },
        {
          "output_type": "stream",
          "text": [
            "I0428 20:06:34.224690 140065210144640 session_manager.py:491] Running local_init_op.\n"
          ],
          "name": "stderr"
        },
        {
          "output_type": "stream",
          "text": [
            "INFO:tensorflow:Done running local_init_op.\n"
          ],
          "name": "stdout"
        },
        {
          "output_type": "stream",
          "text": [
            "I0428 20:06:34.410010 140065210144640 session_manager.py:493] Done running local_init_op.\n"
          ],
          "name": "stderr"
        },
        {
          "output_type": "stream",
          "text": [
            "INFO:tensorflow:Saving checkpoints for 0 into output/model.ckpt.\n"
          ],
          "name": "stdout"
        },
        {
          "output_type": "stream",
          "text": [
            "I0428 20:07:08.602130 140065210144640 basic_session_run_hooks.py:594] Saving checkpoints for 0 into output/model.ckpt.\n"
          ],
          "name": "stderr"
        },
        {
          "output_type": "stream",
          "text": [
            "INFO:tensorflow:loss = 3.689167, step = 0\n"
          ],
          "name": "stdout"
        },
        {
          "output_type": "stream",
          "text": [
            "I0428 20:07:26.117032 140065210144640 basic_session_run_hooks.py:249] loss = 3.689167, step = 0\n"
          ],
          "name": "stderr"
        },
        {
          "output_type": "stream",
          "text": [
            "INFO:tensorflow:global_step/sec: 1.0843\n"
          ],
          "name": "stdout"
        },
        {
          "output_type": "stream",
          "text": [
            "I0428 20:08:58.342025 140065210144640 basic_session_run_hooks.py:680] global_step/sec: 1.0843\n"
          ],
          "name": "stderr"
        },
        {
          "output_type": "stream",
          "text": [
            "INFO:tensorflow:loss = 2.1454618, step = 100 (92.232 sec)\n"
          ],
          "name": "stdout"
        },
        {
          "output_type": "stream",
          "text": [
            "I0428 20:08:58.349461 140065210144640 basic_session_run_hooks.py:247] loss = 2.1454618, step = 100 (92.232 sec)\n"
          ],
          "name": "stderr"
        },
        {
          "output_type": "stream",
          "text": [
            "INFO:tensorflow:global_step/sec: 1.21482\n"
          ],
          "name": "stdout"
        },
        {
          "output_type": "stream",
          "text": [
            "I0428 20:10:20.658796 140065210144640 basic_session_run_hooks.py:680] global_step/sec: 1.21482\n"
          ],
          "name": "stderr"
        },
        {
          "output_type": "stream",
          "text": [
            "INFO:tensorflow:loss = 0.8054373, step = 200 (82.316 sec)\n"
          ],
          "name": "stdout"
        },
        {
          "output_type": "stream",
          "text": [
            "I0428 20:10:20.665618 140065210144640 basic_session_run_hooks.py:247] loss = 0.8054373, step = 200 (82.316 sec)\n"
          ],
          "name": "stderr"
        },
        {
          "output_type": "stream",
          "text": [
            "INFO:tensorflow:global_step/sec: 1.21325\n"
          ],
          "name": "stdout"
        },
        {
          "output_type": "stream",
          "text": [
            "I0428 20:11:43.082163 140065210144640 basic_session_run_hooks.py:680] global_step/sec: 1.21325\n"
          ],
          "name": "stderr"
        },
        {
          "output_type": "stream",
          "text": [
            "INFO:tensorflow:loss = 0.33940518, step = 300 (82.419 sec)\n"
          ],
          "name": "stdout"
        },
        {
          "output_type": "stream",
          "text": [
            "I0428 20:11:43.084766 140065210144640 basic_session_run_hooks.py:247] loss = 0.33940518, step = 300 (82.419 sec)\n"
          ],
          "name": "stderr"
        },
        {
          "output_type": "stream",
          "text": [
            "INFO:tensorflow:global_step/sec: 1.21436\n"
          ],
          "name": "stdout"
        },
        {
          "output_type": "stream",
          "text": [
            "I0428 20:13:05.430342 140065210144640 basic_session_run_hooks.py:680] global_step/sec: 1.21436\n"
          ],
          "name": "stderr"
        },
        {
          "output_type": "stream",
          "text": [
            "INFO:tensorflow:loss = 0.16827881, step = 400 (82.351 sec)\n"
          ],
          "name": "stdout"
        },
        {
          "output_type": "stream",
          "text": [
            "I0428 20:13:05.435337 140065210144640 basic_session_run_hooks.py:247] loss = 0.16827881, step = 400 (82.351 sec)\n"
          ],
          "name": "stderr"
        },
        {
          "output_type": "stream",
          "text": [
            "INFO:tensorflow:global_step/sec: 1.21454\n"
          ],
          "name": "stdout"
        },
        {
          "output_type": "stream",
          "text": [
            "I0428 20:14:27.766331 140065210144640 basic_session_run_hooks.py:680] global_step/sec: 1.21454\n"
          ],
          "name": "stderr"
        },
        {
          "output_type": "stream",
          "text": [
            "INFO:tensorflow:loss = 0.039399102, step = 500 (82.334 sec)\n"
          ],
          "name": "stdout"
        },
        {
          "output_type": "stream",
          "text": [
            "I0428 20:14:27.769626 140065210144640 basic_session_run_hooks.py:247] loss = 0.039399102, step = 500 (82.334 sec)\n"
          ],
          "name": "stderr"
        },
        {
          "output_type": "stream",
          "text": [
            "INFO:tensorflow:global_step/sec: 1.214\n"
          ],
          "name": "stdout"
        },
        {
          "output_type": "stream",
          "text": [
            "I0428 20:15:50.138803 140065210144640 basic_session_run_hooks.py:680] global_step/sec: 1.214\n"
          ],
          "name": "stderr"
        },
        {
          "output_type": "stream",
          "text": [
            "INFO:tensorflow:loss = 0.025514461, step = 600 (82.376 sec)\n"
          ],
          "name": "stdout"
        },
        {
          "output_type": "stream",
          "text": [
            "I0428 20:15:50.145228 140065210144640 basic_session_run_hooks.py:247] loss = 0.025514461, step = 600 (82.376 sec)\n"
          ],
          "name": "stderr"
        },
        {
          "output_type": "stream",
          "text": [
            "INFO:tensorflow:global_step/sec: 1.21392\n"
          ],
          "name": "stdout"
        },
        {
          "output_type": "stream",
          "text": [
            "I0428 20:17:12.516631 140065210144640 basic_session_run_hooks.py:680] global_step/sec: 1.21392\n"
          ],
          "name": "stderr"
        },
        {
          "output_type": "stream",
          "text": [
            "INFO:tensorflow:loss = 0.042575706, step = 700 (82.374 sec)\n"
          ],
          "name": "stdout"
        },
        {
          "output_type": "stream",
          "text": [
            "I0428 20:17:12.519232 140065210144640 basic_session_run_hooks.py:247] loss = 0.042575706, step = 700 (82.374 sec)\n"
          ],
          "name": "stderr"
        },
        {
          "output_type": "stream",
          "text": [
            "INFO:tensorflow:global_step/sec: 1.21529\n"
          ],
          "name": "stdout"
        },
        {
          "output_type": "stream",
          "text": [
            "I0428 20:18:34.801327 140065210144640 basic_session_run_hooks.py:680] global_step/sec: 1.21529\n"
          ],
          "name": "stderr"
        },
        {
          "output_type": "stream",
          "text": [
            "INFO:tensorflow:loss = 0.016486987, step = 800 (82.285 sec)\n"
          ],
          "name": "stdout"
        },
        {
          "output_type": "stream",
          "text": [
            "I0428 20:18:34.803984 140065210144640 basic_session_run_hooks.py:247] loss = 0.016486987, step = 800 (82.285 sec)\n"
          ],
          "name": "stderr"
        },
        {
          "output_type": "stream",
          "text": [
            "INFO:tensorflow:global_step/sec: 1.21529\n"
          ],
          "name": "stdout"
        },
        {
          "output_type": "stream",
          "text": [
            "I0428 20:19:57.085937 140065210144640 basic_session_run_hooks.py:680] global_step/sec: 1.21529\n"
          ],
          "name": "stderr"
        },
        {
          "output_type": "stream",
          "text": [
            "INFO:tensorflow:loss = 0.015944201, step = 900 (82.287 sec)\n"
          ],
          "name": "stdout"
        },
        {
          "output_type": "stream",
          "text": [
            "I0428 20:19:57.090497 140065210144640 basic_session_run_hooks.py:247] loss = 0.015944201, step = 900 (82.287 sec)\n"
          ],
          "name": "stderr"
        },
        {
          "output_type": "stream",
          "text": [
            "INFO:tensorflow:global_step/sec: 1.21558\n"
          ],
          "name": "stdout"
        },
        {
          "output_type": "stream",
          "text": [
            "I0428 20:21:19.351007 140065210144640 basic_session_run_hooks.py:680] global_step/sec: 1.21558\n"
          ],
          "name": "stderr"
        },
        {
          "output_type": "stream",
          "text": [
            "INFO:tensorflow:loss = 0.017382205, step = 1000 (82.265 sec)\n"
          ],
          "name": "stdout"
        },
        {
          "output_type": "stream",
          "text": [
            "I0428 20:21:19.355200 140065210144640 basic_session_run_hooks.py:247] loss = 0.017382205, step = 1000 (82.265 sec)\n"
          ],
          "name": "stderr"
        },
        {
          "output_type": "stream",
          "text": [
            "INFO:tensorflow:global_step/sec: 1.21628\n"
          ],
          "name": "stdout"
        },
        {
          "output_type": "stream",
          "text": [
            "I0428 20:22:41.568627 140065210144640 basic_session_run_hooks.py:680] global_step/sec: 1.21628\n"
          ],
          "name": "stderr"
        },
        {
          "output_type": "stream",
          "text": [
            "INFO:tensorflow:loss = 0.010494926, step = 1100 (82.220 sec)\n"
          ],
          "name": "stdout"
        },
        {
          "output_type": "stream",
          "text": [
            "I0428 20:22:41.574920 140065210144640 basic_session_run_hooks.py:247] loss = 0.010494926, step = 1100 (82.220 sec)\n"
          ],
          "name": "stderr"
        },
        {
          "output_type": "stream",
          "text": [
            "INFO:tensorflow:global_step/sec: 1.21644\n"
          ],
          "name": "stdout"
        },
        {
          "output_type": "stream",
          "text": [
            "I0428 20:24:03.775862 140065210144640 basic_session_run_hooks.py:680] global_step/sec: 1.21644\n"
          ],
          "name": "stderr"
        },
        {
          "output_type": "stream",
          "text": [
            "INFO:tensorflow:loss = 0.008499403, step = 1200 (82.205 sec)\n"
          ],
          "name": "stdout"
        },
        {
          "output_type": "stream",
          "text": [
            "I0428 20:24:03.780320 140065210144640 basic_session_run_hooks.py:247] loss = 0.008499403, step = 1200 (82.205 sec)\n"
          ],
          "name": "stderr"
        },
        {
          "output_type": "stream",
          "text": [
            "INFO:tensorflow:global_step/sec: 1.21453\n"
          ],
          "name": "stdout"
        },
        {
          "output_type": "stream",
          "text": [
            "I0428 20:25:26.112324 140065210144640 basic_session_run_hooks.py:680] global_step/sec: 1.21453\n"
          ],
          "name": "stderr"
        },
        {
          "output_type": "stream",
          "text": [
            "INFO:tensorflow:loss = 0.005955285, step = 1300 (82.336 sec)\n"
          ],
          "name": "stdout"
        },
        {
          "output_type": "stream",
          "text": [
            "I0428 20:25:26.117415 140065210144640 basic_session_run_hooks.py:247] loss = 0.005955285, step = 1300 (82.336 sec)\n"
          ],
          "name": "stderr"
        },
        {
          "output_type": "stream",
          "text": [
            "INFO:tensorflow:global_step/sec: 1.21536\n"
          ],
          "name": "stdout"
        },
        {
          "output_type": "stream",
          "text": [
            "I0428 20:26:48.392227 140065210144640 basic_session_run_hooks.py:680] global_step/sec: 1.21536\n"
          ],
          "name": "stderr"
        },
        {
          "output_type": "stream",
          "text": [
            "INFO:tensorflow:loss = 0.00556003, step = 1400 (82.278 sec)\n"
          ],
          "name": "stdout"
        },
        {
          "output_type": "stream",
          "text": [
            "I0428 20:26:48.394394 140065210144640 basic_session_run_hooks.py:247] loss = 0.00556003, step = 1400 (82.278 sec)\n"
          ],
          "name": "stderr"
        },
        {
          "output_type": "stream",
          "text": [
            "INFO:tensorflow:global_step/sec: 1.21565\n"
          ],
          "name": "stdout"
        },
        {
          "output_type": "stream",
          "text": [
            "I0428 20:28:10.652733 140065210144640 basic_session_run_hooks.py:680] global_step/sec: 1.21565\n"
          ],
          "name": "stderr"
        },
        {
          "output_type": "stream",
          "text": [
            "INFO:tensorflow:loss = 0.0051469915, step = 1500 (82.263 sec)\n"
          ],
          "name": "stdout"
        },
        {
          "output_type": "stream",
          "text": [
            "I0428 20:28:10.657716 140065210144640 basic_session_run_hooks.py:247] loss = 0.0051469915, step = 1500 (82.263 sec)\n"
          ],
          "name": "stderr"
        },
        {
          "output_type": "stream",
          "text": [
            "INFO:tensorflow:global_step/sec: 1.21642\n"
          ],
          "name": "stdout"
        },
        {
          "output_type": "stream",
          "text": [
            "I0428 20:29:32.860817 140065210144640 basic_session_run_hooks.py:680] global_step/sec: 1.21642\n"
          ],
          "name": "stderr"
        },
        {
          "output_type": "stream",
          "text": [
            "INFO:tensorflow:loss = 0.0059061814, step = 1600 (82.209 sec)\n"
          ],
          "name": "stdout"
        },
        {
          "output_type": "stream",
          "text": [
            "I0428 20:29:32.867727 140065210144640 basic_session_run_hooks.py:247] loss = 0.0059061814, step = 1600 (82.209 sec)\n"
          ],
          "name": "stderr"
        },
        {
          "output_type": "stream",
          "text": [
            "INFO:tensorflow:global_step/sec: 1.21658\n"
          ],
          "name": "stdout"
        },
        {
          "output_type": "stream",
          "text": [
            "I0428 20:30:55.058643 140065210144640 basic_session_run_hooks.py:680] global_step/sec: 1.21658\n"
          ],
          "name": "stderr"
        },
        {
          "output_type": "stream",
          "text": [
            "INFO:tensorflow:loss = 0.0033819028, step = 1700 (82.195 sec)\n"
          ],
          "name": "stdout"
        },
        {
          "output_type": "stream",
          "text": [
            "I0428 20:30:55.061980 140065210144640 basic_session_run_hooks.py:247] loss = 0.0033819028, step = 1700 (82.195 sec)\n"
          ],
          "name": "stderr"
        },
        {
          "output_type": "stream",
          "text": [
            "INFO:tensorflow:global_step/sec: 1.21597\n"
          ],
          "name": "stdout"
        },
        {
          "output_type": "stream",
          "text": [
            "I0428 20:32:17.297811 140065210144640 basic_session_run_hooks.py:680] global_step/sec: 1.21597\n"
          ],
          "name": "stderr"
        },
        {
          "output_type": "stream",
          "text": [
            "INFO:tensorflow:loss = 0.11510964, step = 1800 (82.238 sec)\n"
          ],
          "name": "stdout"
        },
        {
          "output_type": "stream",
          "text": [
            "I0428 20:32:17.300017 140065210144640 basic_session_run_hooks.py:247] loss = 0.11510964, step = 1800 (82.238 sec)\n"
          ],
          "name": "stderr"
        },
        {
          "output_type": "stream",
          "text": [
            "INFO:tensorflow:global_step/sec: 1.21557\n"
          ],
          "name": "stdout"
        },
        {
          "output_type": "stream",
          "text": [
            "I0428 20:33:39.563991 140065210144640 basic_session_run_hooks.py:680] global_step/sec: 1.21557\n"
          ],
          "name": "stderr"
        },
        {
          "output_type": "stream",
          "text": [
            "INFO:tensorflow:loss = 0.003365789, step = 1900 (82.266 sec)\n"
          ],
          "name": "stdout"
        },
        {
          "output_type": "stream",
          "text": [
            "I0428 20:33:39.566138 140065210144640 basic_session_run_hooks.py:247] loss = 0.003365789, step = 1900 (82.266 sec)\n"
          ],
          "name": "stderr"
        },
        {
          "output_type": "stream",
          "text": [
            "INFO:tensorflow:global_step/sec: 1.21605\n"
          ],
          "name": "stdout"
        },
        {
          "output_type": "stream",
          "text": [
            "I0428 20:35:01.797558 140065210144640 basic_session_run_hooks.py:680] global_step/sec: 1.21605\n"
          ],
          "name": "stderr"
        },
        {
          "output_type": "stream",
          "text": [
            "INFO:tensorflow:loss = 0.0034095156, step = 2000 (82.233 sec)\n"
          ],
          "name": "stdout"
        },
        {
          "output_type": "stream",
          "text": [
            "I0428 20:35:01.799636 140065210144640 basic_session_run_hooks.py:247] loss = 0.0034095156, step = 2000 (82.233 sec)\n"
          ],
          "name": "stderr"
        },
        {
          "output_type": "stream",
          "text": [
            "INFO:tensorflow:global_step/sec: 1.21606\n"
          ],
          "name": "stdout"
        },
        {
          "output_type": "stream",
          "text": [
            "I0428 20:36:24.030334 140065210144640 basic_session_run_hooks.py:680] global_step/sec: 1.21606\n"
          ],
          "name": "stderr"
        },
        {
          "output_type": "stream",
          "text": [
            "INFO:tensorflow:loss = 0.003397765, step = 2100 (82.233 sec)\n"
          ],
          "name": "stdout"
        },
        {
          "output_type": "stream",
          "text": [
            "I0428 20:36:24.032980 140065210144640 basic_session_run_hooks.py:247] loss = 0.003397765, step = 2100 (82.233 sec)\n"
          ],
          "name": "stderr"
        },
        {
          "output_type": "stream",
          "text": [
            "INFO:tensorflow:global_step/sec: 1.21546\n"
          ],
          "name": "stdout"
        },
        {
          "output_type": "stream",
          "text": [
            "I0428 20:37:46.303877 140065210144640 basic_session_run_hooks.py:680] global_step/sec: 1.21546\n"
          ],
          "name": "stderr"
        },
        {
          "output_type": "stream",
          "text": [
            "INFO:tensorflow:loss = 0.0027317917, step = 2200 (82.273 sec)\n"
          ],
          "name": "stdout"
        },
        {
          "output_type": "stream",
          "text": [
            "I0428 20:37:46.305986 140065210144640 basic_session_run_hooks.py:247] loss = 0.0027317917, step = 2200 (82.273 sec)\n"
          ],
          "name": "stderr"
        },
        {
          "output_type": "stream",
          "text": [
            "INFO:tensorflow:global_step/sec: 1.21623\n"
          ],
          "name": "stdout"
        },
        {
          "output_type": "stream",
          "text": [
            "I0428 20:39:08.525151 140065210144640 basic_session_run_hooks.py:680] global_step/sec: 1.21623\n"
          ],
          "name": "stderr"
        },
        {
          "output_type": "stream",
          "text": [
            "INFO:tensorflow:loss = 0.0027981321, step = 2300 (82.221 sec)\n"
          ],
          "name": "stdout"
        },
        {
          "output_type": "stream",
          "text": [
            "I0428 20:39:08.527250 140065210144640 basic_session_run_hooks.py:247] loss = 0.0027981321, step = 2300 (82.221 sec)\n"
          ],
          "name": "stderr"
        },
        {
          "output_type": "stream",
          "text": [
            "INFO:tensorflow:global_step/sec: 1.21587\n"
          ],
          "name": "stdout"
        },
        {
          "output_type": "stream",
          "text": [
            "I0428 20:40:30.771041 140065210144640 basic_session_run_hooks.py:680] global_step/sec: 1.21587\n"
          ],
          "name": "stderr"
        },
        {
          "output_type": "stream",
          "text": [
            "INFO:tensorflow:loss = 0.0021761272, step = 2400 (82.246 sec)\n"
          ],
          "name": "stdout"
        },
        {
          "output_type": "stream",
          "text": [
            "I0428 20:40:30.773493 140065210144640 basic_session_run_hooks.py:247] loss = 0.0021761272, step = 2400 (82.246 sec)\n"
          ],
          "name": "stderr"
        },
        {
          "output_type": "stream",
          "text": [
            "INFO:tensorflow:global_step/sec: 1.21627\n"
          ],
          "name": "stdout"
        },
        {
          "output_type": "stream",
          "text": [
            "I0428 20:41:52.989768 140065210144640 basic_session_run_hooks.py:680] global_step/sec: 1.21627\n"
          ],
          "name": "stderr"
        },
        {
          "output_type": "stream",
          "text": [
            "INFO:tensorflow:loss = 0.0024057939, step = 2500 (82.218 sec)\n"
          ],
          "name": "stdout"
        },
        {
          "output_type": "stream",
          "text": [
            "I0428 20:41:52.991779 140065210144640 basic_session_run_hooks.py:247] loss = 0.0024057939, step = 2500 (82.218 sec)\n"
          ],
          "name": "stderr"
        },
        {
          "output_type": "stream",
          "text": [
            "INFO:tensorflow:global_step/sec: 1.21477\n"
          ],
          "name": "stdout"
        },
        {
          "output_type": "stream",
          "text": [
            "I0428 20:43:15.309838 140065210144640 basic_session_run_hooks.py:680] global_step/sec: 1.21477\n"
          ],
          "name": "stderr"
        },
        {
          "output_type": "stream",
          "text": [
            "INFO:tensorflow:loss = 0.0023626476, step = 2600 (82.323 sec)\n"
          ],
          "name": "stdout"
        },
        {
          "output_type": "stream",
          "text": [
            "I0428 20:43:15.314939 140065210144640 basic_session_run_hooks.py:247] loss = 0.0023626476, step = 2600 (82.323 sec)\n"
          ],
          "name": "stderr"
        },
        {
          "output_type": "stream",
          "text": [
            "INFO:tensorflow:global_step/sec: 1.21412\n"
          ],
          "name": "stdout"
        },
        {
          "output_type": "stream",
          "text": [
            "I0428 20:44:37.674220 140065210144640 basic_session_run_hooks.py:680] global_step/sec: 1.21412\n"
          ],
          "name": "stderr"
        },
        {
          "output_type": "stream",
          "text": [
            "INFO:tensorflow:loss = 0.0019692876, step = 2700 (82.362 sec)\n"
          ],
          "name": "stdout"
        },
        {
          "output_type": "stream",
          "text": [
            "I0428 20:44:37.676904 140065210144640 basic_session_run_hooks.py:247] loss = 0.0019692876, step = 2700 (82.362 sec)\n"
          ],
          "name": "stderr"
        },
        {
          "output_type": "stream",
          "text": [
            "INFO:tensorflow:global_step/sec: 1.21438\n"
          ],
          "name": "stdout"
        },
        {
          "output_type": "stream",
          "text": [
            "I0428 20:46:00.020499 140065210144640 basic_session_run_hooks.py:680] global_step/sec: 1.21438\n"
          ],
          "name": "stderr"
        },
        {
          "output_type": "stream",
          "text": [
            "INFO:tensorflow:loss = 0.0026076057, step = 2800 (82.348 sec)\n"
          ],
          "name": "stdout"
        },
        {
          "output_type": "stream",
          "text": [
            "I0428 20:46:00.024414 140065210144640 basic_session_run_hooks.py:247] loss = 0.0026076057, step = 2800 (82.348 sec)\n"
          ],
          "name": "stderr"
        },
        {
          "output_type": "stream",
          "text": [
            "INFO:tensorflow:global_step/sec: 1.21391\n"
          ],
          "name": "stdout"
        },
        {
          "output_type": "stream",
          "text": [
            "I0428 20:47:22.398918 140065210144640 basic_session_run_hooks.py:680] global_step/sec: 1.21391\n"
          ],
          "name": "stderr"
        },
        {
          "output_type": "stream",
          "text": [
            "INFO:tensorflow:loss = 0.0022026098, step = 2900 (82.380 sec)\n"
          ],
          "name": "stdout"
        },
        {
          "output_type": "stream",
          "text": [
            "I0428 20:47:22.404387 140065210144640 basic_session_run_hooks.py:247] loss = 0.0022026098, step = 2900 (82.380 sec)\n"
          ],
          "name": "stderr"
        },
        {
          "output_type": "stream",
          "text": [
            "INFO:tensorflow:global_step/sec: 1.21322\n"
          ],
          "name": "stdout"
        },
        {
          "output_type": "stream",
          "text": [
            "I0428 20:48:44.824097 140065210144640 basic_session_run_hooks.py:680] global_step/sec: 1.21322\n"
          ],
          "name": "stderr"
        },
        {
          "output_type": "stream",
          "text": [
            "INFO:tensorflow:loss = 0.0034671943, step = 3000 (82.424 sec)\n"
          ],
          "name": "stdout"
        },
        {
          "output_type": "stream",
          "text": [
            "I0428 20:48:44.828829 140065210144640 basic_session_run_hooks.py:247] loss = 0.0034671943, step = 3000 (82.424 sec)\n"
          ],
          "name": "stderr"
        },
        {
          "output_type": "stream",
          "text": [
            "INFO:tensorflow:global_step/sec: 1.21461\n"
          ],
          "name": "stdout"
        },
        {
          "output_type": "stream",
          "text": [
            "I0428 20:50:07.155068 140065210144640 basic_session_run_hooks.py:680] global_step/sec: 1.21461\n"
          ],
          "name": "stderr"
        },
        {
          "output_type": "stream",
          "text": [
            "INFO:tensorflow:loss = 0.0015899389, step = 3100 (82.329 sec)\n"
          ],
          "name": "stdout"
        },
        {
          "output_type": "stream",
          "text": [
            "I0428 20:50:07.157294 140065210144640 basic_session_run_hooks.py:247] loss = 0.0015899389, step = 3100 (82.329 sec)\n"
          ],
          "name": "stderr"
        },
        {
          "output_type": "stream",
          "text": [
            "INFO:tensorflow:global_step/sec: 1.21446\n"
          ],
          "name": "stdout"
        },
        {
          "output_type": "stream",
          "text": [
            "I0428 20:51:29.496000 140065210144640 basic_session_run_hooks.py:680] global_step/sec: 1.21446\n"
          ],
          "name": "stderr"
        },
        {
          "output_type": "stream",
          "text": [
            "INFO:tensorflow:loss = 0.0018258407, step = 3200 (82.341 sec)\n"
          ],
          "name": "stdout"
        },
        {
          "output_type": "stream",
          "text": [
            "I0428 20:51:29.498104 140065210144640 basic_session_run_hooks.py:247] loss = 0.0018258407, step = 3200 (82.341 sec)\n"
          ],
          "name": "stderr"
        },
        {
          "output_type": "stream",
          "text": [
            "INFO:tensorflow:global_step/sec: 1.21572\n"
          ],
          "name": "stdout"
        },
        {
          "output_type": "stream",
          "text": [
            "I0428 20:52:51.751548 140065210144640 basic_session_run_hooks.py:680] global_step/sec: 1.21572\n"
          ],
          "name": "stderr"
        },
        {
          "output_type": "stream",
          "text": [
            "INFO:tensorflow:loss = 0.0014625553, step = 3300 (82.260 sec)\n"
          ],
          "name": "stdout"
        },
        {
          "output_type": "stream",
          "text": [
            "I0428 20:52:51.758006 140065210144640 basic_session_run_hooks.py:247] loss = 0.0014625553, step = 3300 (82.260 sec)\n"
          ],
          "name": "stderr"
        },
        {
          "output_type": "stream",
          "text": [
            "INFO:tensorflow:global_step/sec: 1.21622\n"
          ],
          "name": "stdout"
        },
        {
          "output_type": "stream",
          "text": [
            "I0428 20:54:13.973249 140065210144640 basic_session_run_hooks.py:680] global_step/sec: 1.21622\n"
          ],
          "name": "stderr"
        },
        {
          "output_type": "stream",
          "text": [
            "INFO:tensorflow:loss = 0.0017732114, step = 3400 (82.218 sec)\n"
          ],
          "name": "stdout"
        },
        {
          "output_type": "stream",
          "text": [
            "I0428 20:54:13.975681 140065210144640 basic_session_run_hooks.py:247] loss = 0.0017732114, step = 3400 (82.218 sec)\n"
          ],
          "name": "stderr"
        },
        {
          "output_type": "stream",
          "text": [
            "INFO:tensorflow:global_step/sec: 1.21675\n"
          ],
          "name": "stdout"
        },
        {
          "output_type": "stream",
          "text": [
            "I0428 20:55:36.159314 140065210144640 basic_session_run_hooks.py:680] global_step/sec: 1.21675\n"
          ],
          "name": "stderr"
        },
        {
          "output_type": "stream",
          "text": [
            "INFO:tensorflow:loss = 0.12896118, step = 3500 (82.191 sec)\n"
          ],
          "name": "stdout"
        },
        {
          "output_type": "stream",
          "text": [
            "I0428 20:55:36.166481 140065210144640 basic_session_run_hooks.py:247] loss = 0.12896118, step = 3500 (82.191 sec)\n"
          ],
          "name": "stderr"
        },
        {
          "output_type": "stream",
          "text": [
            "INFO:tensorflow:global_step/sec: 1.21634\n"
          ],
          "name": "stdout"
        },
        {
          "output_type": "stream",
          "text": [
            "I0428 20:56:58.373119 140065210144640 basic_session_run_hooks.py:680] global_step/sec: 1.21634\n"
          ],
          "name": "stderr"
        },
        {
          "output_type": "stream",
          "text": [
            "INFO:tensorflow:loss = 0.001431486, step = 3600 (82.209 sec)\n"
          ],
          "name": "stdout"
        },
        {
          "output_type": "stream",
          "text": [
            "I0428 20:56:58.375534 140065210144640 basic_session_run_hooks.py:247] loss = 0.001431486, step = 3600 (82.209 sec)\n"
          ],
          "name": "stderr"
        },
        {
          "output_type": "stream",
          "text": [
            "INFO:tensorflow:global_step/sec: 1.2155\n"
          ],
          "name": "stdout"
        },
        {
          "output_type": "stream",
          "text": [
            "I0428 20:58:20.643614 140065210144640 basic_session_run_hooks.py:680] global_step/sec: 1.2155\n"
          ],
          "name": "stderr"
        },
        {
          "output_type": "stream",
          "text": [
            "INFO:tensorflow:loss = 0.0015695256, step = 3700 (82.273 sec)\n"
          ],
          "name": "stdout"
        },
        {
          "output_type": "stream",
          "text": [
            "I0428 20:58:20.648282 140065210144640 basic_session_run_hooks.py:247] loss = 0.0015695256, step = 3700 (82.273 sec)\n"
          ],
          "name": "stderr"
        },
        {
          "output_type": "stream",
          "text": [
            "INFO:tensorflow:global_step/sec: 1.21666\n"
          ],
          "name": "stdout"
        },
        {
          "output_type": "stream",
          "text": [
            "I0428 20:59:42.835823 140065210144640 basic_session_run_hooks.py:680] global_step/sec: 1.21666\n"
          ],
          "name": "stderr"
        },
        {
          "output_type": "stream",
          "text": [
            "INFO:tensorflow:loss = 0.00162163, step = 3800 (82.192 sec)\n"
          ],
          "name": "stdout"
        },
        {
          "output_type": "stream",
          "text": [
            "I0428 20:59:42.840205 140065210144640 basic_session_run_hooks.py:247] loss = 0.00162163, step = 3800 (82.192 sec)\n"
          ],
          "name": "stderr"
        },
        {
          "output_type": "stream",
          "text": [
            "INFO:tensorflow:global_step/sec: 1.21677\n"
          ],
          "name": "stdout"
        },
        {
          "output_type": "stream",
          "text": [
            "I0428 21:01:05.020832 140065210144640 basic_session_run_hooks.py:680] global_step/sec: 1.21677\n"
          ],
          "name": "stderr"
        },
        {
          "output_type": "stream",
          "text": [
            "INFO:tensorflow:loss = 0.0013536083, step = 3900 (82.188 sec)\n"
          ],
          "name": "stdout"
        },
        {
          "output_type": "stream",
          "text": [
            "I0428 21:01:05.027907 140065210144640 basic_session_run_hooks.py:247] loss = 0.0013536083, step = 3900 (82.188 sec)\n"
          ],
          "name": "stderr"
        },
        {
          "output_type": "stream",
          "text": [
            "INFO:tensorflow:global_step/sec: 1.21703\n"
          ],
          "name": "stdout"
        },
        {
          "output_type": "stream",
          "text": [
            "I0428 21:02:27.188207 140065210144640 basic_session_run_hooks.py:680] global_step/sec: 1.21703\n"
          ],
          "name": "stderr"
        },
        {
          "output_type": "stream",
          "text": [
            "INFO:tensorflow:loss = 0.0013155465, step = 4000 (82.163 sec)\n"
          ],
          "name": "stdout"
        },
        {
          "output_type": "stream",
          "text": [
            "I0428 21:02:27.191010 140065210144640 basic_session_run_hooks.py:247] loss = 0.0013155465, step = 4000 (82.163 sec)\n"
          ],
          "name": "stderr"
        },
        {
          "output_type": "stream",
          "text": [
            "INFO:tensorflow:global_step/sec: 1.21556\n"
          ],
          "name": "stdout"
        },
        {
          "output_type": "stream",
          "text": [
            "I0428 21:03:49.454563 140065210144640 basic_session_run_hooks.py:680] global_step/sec: 1.21556\n"
          ],
          "name": "stderr"
        },
        {
          "output_type": "stream",
          "text": [
            "INFO:tensorflow:loss = 0.0013726784, step = 4100 (82.266 sec)\n"
          ],
          "name": "stdout"
        },
        {
          "output_type": "stream",
          "text": [
            "I0428 21:03:49.456657 140065210144640 basic_session_run_hooks.py:247] loss = 0.0013726784, step = 4100 (82.266 sec)\n"
          ],
          "name": "stderr"
        },
        {
          "output_type": "stream",
          "text": [
            "INFO:tensorflow:global_step/sec: 1.21508\n"
          ],
          "name": "stdout"
        },
        {
          "output_type": "stream",
          "text": [
            "I0428 21:05:11.753431 140065210144640 basic_session_run_hooks.py:680] global_step/sec: 1.21508\n"
          ],
          "name": "stderr"
        },
        {
          "output_type": "stream",
          "text": [
            "INFO:tensorflow:loss = 0.0012592764, step = 4200 (82.299 sec)\n"
          ],
          "name": "stdout"
        },
        {
          "output_type": "stream",
          "text": [
            "I0428 21:05:11.755739 140065210144640 basic_session_run_hooks.py:247] loss = 0.0012592764, step = 4200 (82.299 sec)\n"
          ],
          "name": "stderr"
        },
        {
          "output_type": "stream",
          "text": [
            "INFO:tensorflow:global_step/sec: 1.21585\n"
          ],
          "name": "stdout"
        },
        {
          "output_type": "stream",
          "text": [
            "I0428 21:06:34.000554 140065210144640 basic_session_run_hooks.py:680] global_step/sec: 1.21585\n"
          ],
          "name": "stderr"
        },
        {
          "output_type": "stream",
          "text": [
            "INFO:tensorflow:loss = 0.0018862518, step = 4300 (82.248 sec)\n"
          ],
          "name": "stdout"
        },
        {
          "output_type": "stream",
          "text": [
            "I0428 21:06:34.003913 140065210144640 basic_session_run_hooks.py:247] loss = 0.0018862518, step = 4300 (82.248 sec)\n"
          ],
          "name": "stderr"
        },
        {
          "output_type": "stream",
          "text": [
            "INFO:tensorflow:global_step/sec: 1.21664\n"
          ],
          "name": "stdout"
        },
        {
          "output_type": "stream",
          "text": [
            "I0428 21:07:56.194179 140065210144640 basic_session_run_hooks.py:680] global_step/sec: 1.21664\n"
          ],
          "name": "stderr"
        },
        {
          "output_type": "stream",
          "text": [
            "INFO:tensorflow:loss = 0.001183694, step = 4400 (82.197 sec)\n"
          ],
          "name": "stdout"
        },
        {
          "output_type": "stream",
          "text": [
            "I0428 21:07:56.201159 140065210144640 basic_session_run_hooks.py:247] loss = 0.001183694, step = 4400 (82.197 sec)\n"
          ],
          "name": "stderr"
        },
        {
          "output_type": "stream",
          "text": [
            "INFO:tensorflow:global_step/sec: 1.21597\n"
          ],
          "name": "stdout"
        },
        {
          "output_type": "stream",
          "text": [
            "I0428 21:09:18.432900 140065210144640 basic_session_run_hooks.py:680] global_step/sec: 1.21597\n"
          ],
          "name": "stderr"
        },
        {
          "output_type": "stream",
          "text": [
            "INFO:tensorflow:loss = 0.0012403375, step = 4500 (82.236 sec)\n"
          ],
          "name": "stdout"
        },
        {
          "output_type": "stream",
          "text": [
            "I0428 21:09:18.437471 140065210144640 basic_session_run_hooks.py:247] loss = 0.0012403375, step = 4500 (82.236 sec)\n"
          ],
          "name": "stderr"
        },
        {
          "output_type": "stream",
          "text": [
            "INFO:tensorflow:global_step/sec: 1.21417\n"
          ],
          "name": "stdout"
        },
        {
          "output_type": "stream",
          "text": [
            "I0428 21:10:40.793591 140065210144640 basic_session_run_hooks.py:680] global_step/sec: 1.21417\n"
          ],
          "name": "stderr"
        },
        {
          "output_type": "stream",
          "text": [
            "INFO:tensorflow:loss = 0.0025794506, step = 4600 (82.360 sec)\n"
          ],
          "name": "stdout"
        },
        {
          "output_type": "stream",
          "text": [
            "I0428 21:10:40.797770 140065210144640 basic_session_run_hooks.py:247] loss = 0.0025794506, step = 4600 (82.360 sec)\n"
          ],
          "name": "stderr"
        },
        {
          "output_type": "stream",
          "text": [
            "INFO:tensorflow:global_step/sec: 1.21567\n"
          ],
          "name": "stdout"
        },
        {
          "output_type": "stream",
          "text": [
            "I0428 21:12:03.052891 140065210144640 basic_session_run_hooks.py:680] global_step/sec: 1.21567\n"
          ],
          "name": "stderr"
        },
        {
          "output_type": "stream",
          "text": [
            "INFO:tensorflow:loss = 0.0016832815, step = 4700 (82.259 sec)\n"
          ],
          "name": "stdout"
        },
        {
          "output_type": "stream",
          "text": [
            "I0428 21:12:03.057004 140065210144640 basic_session_run_hooks.py:247] loss = 0.0016832815, step = 4700 (82.259 sec)\n"
          ],
          "name": "stderr"
        },
        {
          "output_type": "stream",
          "text": [
            "INFO:tensorflow:Saving checkpoints for 4788 into output/model.ckpt.\n"
          ],
          "name": "stdout"
        },
        {
          "output_type": "stream",
          "text": [
            "I0428 21:13:14.669210 140065210144640 basic_session_run_hooks.py:594] Saving checkpoints for 4788 into output/model.ckpt.\n"
          ],
          "name": "stderr"
        },
        {
          "output_type": "stream",
          "text": [
            "INFO:tensorflow:Loss for final step: 0.0011584957.\n"
          ],
          "name": "stdout"
        },
        {
          "output_type": "stream",
          "text": [
            "I0428 21:13:25.152693 140065210144640 estimator.py:359] Loss for final step: 0.0011584957.\n"
          ],
          "name": "stderr"
        },
        {
          "output_type": "stream",
          "text": [
            "INFO:tensorflow:Calling model_fn.\n"
          ],
          "name": "stdout"
        },
        {
          "output_type": "stream",
          "text": [
            "I0428 21:13:29.408139 140065210144640 estimator.py:1111] Calling model_fn.\n"
          ],
          "name": "stderr"
        },
        {
          "output_type": "stream",
          "text": [
            "INFO:tensorflow:Saver not created because there are no variables in the graph to restore\n"
          ],
          "name": "stdout"
        },
        {
          "output_type": "stream",
          "text": [
            "I0428 21:13:32.597729 140065210144640 saver.py:1483] Saver not created because there are no variables in the graph to restore\n",
            "/usr/local/lib/python3.6/dist-packages/tensorflow/python/ops/gradients_impl.py:110: UserWarning:\n",
            "\n",
            "Converting sparse IndexedSlices to a dense Tensor of unknown shape. This may consume a large amount of memory.\n",
            "\n",
            "/usr/local/lib/python3.6/dist-packages/tensorflow/python/ops/gradients_impl.py:110: UserWarning:\n",
            "\n",
            "Converting sparse IndexedSlices to a dense Tensor of unknown shape. This may consume a large amount of memory.\n",
            "\n"
          ],
          "name": "stderr"
        },
        {
          "output_type": "stream",
          "text": [
            "INFO:tensorflow:Done calling model_fn.\n"
          ],
          "name": "stdout"
        },
        {
          "output_type": "stream",
          "text": [
            "I0428 21:13:41.056391 140065210144640 estimator.py:1113] Done calling model_fn.\n"
          ],
          "name": "stderr"
        },
        {
          "output_type": "stream",
          "text": [
            "INFO:tensorflow:Starting evaluation at 2019-04-28T21:13:41Z\n"
          ],
          "name": "stdout"
        },
        {
          "output_type": "stream",
          "text": [
            "I0428 21:13:41.080495 140065210144640 evaluation.py:257] Starting evaluation at 2019-04-28T21:13:41Z\n"
          ],
          "name": "stderr"
        },
        {
          "output_type": "stream",
          "text": [
            "INFO:tensorflow:Graph was finalized.\n"
          ],
          "name": "stdout"
        },
        {
          "output_type": "stream",
          "text": [
            "I0428 21:13:42.443125 140065210144640 monitored_session.py:222] Graph was finalized.\n"
          ],
          "name": "stderr"
        },
        {
          "output_type": "stream",
          "text": [
            "WARNING:tensorflow:From /usr/local/lib/python3.6/dist-packages/tensorflow/python/training/saver.py:1266: checkpoint_exists (from tensorflow.python.training.checkpoint_management) is deprecated and will be removed in a future version.\n",
            "Instructions for updating:\n",
            "Use standard file APIs to check for files with this prefix.\n"
          ],
          "name": "stdout"
        },
        {
          "output_type": "stream",
          "text": [
            "W0428 21:13:42.452121 140065210144640 deprecation.py:323] From /usr/local/lib/python3.6/dist-packages/tensorflow/python/training/saver.py:1266: checkpoint_exists (from tensorflow.python.training.checkpoint_management) is deprecated and will be removed in a future version.\n",
            "Instructions for updating:\n",
            "Use standard file APIs to check for files with this prefix.\n"
          ],
          "name": "stderr"
        },
        {
          "output_type": "stream",
          "text": [
            "INFO:tensorflow:Restoring parameters from output/model.ckpt-4788\n"
          ],
          "name": "stdout"
        },
        {
          "output_type": "stream",
          "text": [
            "I0428 21:13:42.458449 140065210144640 saver.py:1270] Restoring parameters from output/model.ckpt-4788\n"
          ],
          "name": "stderr"
        },
        {
          "output_type": "stream",
          "text": [
            "INFO:tensorflow:Running local_init_op.\n"
          ],
          "name": "stdout"
        },
        {
          "output_type": "stream",
          "text": [
            "I0428 21:13:44.600705 140065210144640 session_manager.py:491] Running local_init_op.\n"
          ],
          "name": "stderr"
        },
        {
          "output_type": "stream",
          "text": [
            "INFO:tensorflow:Done running local_init_op.\n"
          ],
          "name": "stdout"
        },
        {
          "output_type": "stream",
          "text": [
            "I0428 21:13:44.823041 140065210144640 session_manager.py:493] Done running local_init_op.\n"
          ],
          "name": "stderr"
        },
        {
          "output_type": "stream",
          "text": [
            "INFO:tensorflow:Finished evaluation at 2019-04-28-21:14:57\n"
          ],
          "name": "stdout"
        },
        {
          "output_type": "stream",
          "text": [
            "I0428 21:14:57.425334 140065210144640 evaluation.py:277] Finished evaluation at 2019-04-28-21:14:57\n"
          ],
          "name": "stderr"
        },
        {
          "output_type": "stream",
          "text": [
            "INFO:tensorflow:Saving dict for global step 4788: eval_accuracy = 0.9982841, global_step = 4788, loss = 0.0068991603\n"
          ],
          "name": "stdout"
        },
        {
          "output_type": "stream",
          "text": [
            "I0428 21:14:57.429787 140065210144640 estimator.py:1979] Saving dict for global step 4788: eval_accuracy = 0.9982841, global_step = 4788, loss = 0.0068991603\n"
          ],
          "name": "stderr"
        },
        {
          "output_type": "stream",
          "text": [
            "INFO:tensorflow:Saving 'checkpoint_path' summary for global step 4788: output/model.ckpt-4788\n"
          ],
          "name": "stdout"
        },
        {
          "output_type": "stream",
          "text": [
            "I0428 21:14:59.570740 140065210144640 estimator.py:2039] Saving 'checkpoint_path' summary for global step 4788: output/model.ckpt-4788\n"
          ],
          "name": "stderr"
        }
      ]
    },
    {
      "metadata": {
        "id": "EFxwsQSVjTjd",
        "colab_type": "code",
        "colab": {
          "base_uri": "https://localhost:8080/",
          "height": 35
        },
        "outputId": "d02f6b1e-d271-427d-8a3d-877f4640659e"
      },
      "cell_type": "code",
      "source": [
        "result"
      ],
      "execution_count": 86,
      "outputs": [
        {
          "output_type": "execute_result",
          "data": {
            "text/plain": [
              "{'eval_accuracy': 0.9982841, 'global_step': 4788, 'loss': 0.0068991603}"
            ]
          },
          "metadata": {
            "tags": []
          },
          "execution_count": 86
        }
      ]
    },
    {
      "metadata": {
        "id": "va6BNuOF9iIE",
        "colab_type": "text"
      },
      "cell_type": "markdown",
      "source": [
        "Fast ai"
      ]
    },
    {
      "metadata": {
        "id": "ycjhDKRBo2qe",
        "colab_type": "code",
        "colab": {}
      },
      "cell_type": "code",
      "source": [
        "import fastai \n",
        "from fastai import * \n",
        "from fastai.text import * "
      ],
      "execution_count": 0,
      "outputs": []
    },
    {
      "metadata": {
        "id": "1Dyppu2hpnqM",
        "colab_type": "code",
        "colab": {}
      },
      "cell_type": "code",
      "source": [
        "train.columns = ['label', 'Disease', 'text']"
      ],
      "execution_count": 0,
      "outputs": []
    },
    {
      "metadata": {
        "id": "GRaIOr1op0OY",
        "colab_type": "code",
        "colab": {}
      },
      "cell_type": "code",
      "source": [
        "train = train.drop(['Disease'], axis = 1)"
      ],
      "execution_count": 0,
      "outputs": []
    },
    {
      "metadata": {
        "id": "06OyGU2Opp1P",
        "colab_type": "code",
        "colab": {}
      },
      "cell_type": "code",
      "source": [
        "test.columns = ['label', 'Disease', 'text']"
      ],
      "execution_count": 0,
      "outputs": []
    },
    {
      "metadata": {
        "id": "61JD_m72p2Z3",
        "colab_type": "code",
        "colab": {}
      },
      "cell_type": "code",
      "source": [
        "test = test.drop(['Disease'], axis = 1)"
      ],
      "execution_count": 0,
      "outputs": []
    },
    {
      "metadata": {
        "id": "rWNf8q__pDSI",
        "colab_type": "code",
        "colab": {}
      },
      "cell_type": "code",
      "source": [
        "# Language model data \n",
        "data_lm = TextLMDataBunch.from_df(train_df = train, valid_df = test, path = './') "
      ],
      "execution_count": 0,
      "outputs": []
    },
    {
      "metadata": {
        "id": "uvu8PIeJGShT",
        "colab_type": "code",
        "colab": {}
      },
      "cell_type": "code",
      "source": [
        "data_lm.save()"
      ],
      "execution_count": 0,
      "outputs": []
    },
    {
      "metadata": {
        "id": "7jJqv17KHkmP",
        "colab_type": "code",
        "colab": {
          "base_uri": "https://localhost:8080/",
          "height": 55
        },
        "outputId": "bbc4c687-c783-4313-92c3-caa0951cc1a2"
      },
      "cell_type": "code",
      "source": [
        "print(data_lm.train_ds.vocab.itos)"
      ],
      "execution_count": 67,
      "outputs": [
        {
          "output_type": "stream",
          "text": [
            "['xxunk', 'xxpad', 'xxbos', 'xxeos', 'xxfld', 'xxmaj', 'xxup', 'xxrep', 'xxwrep', 'lipitor', 'pain', 'muscle', 'severe', 'myalgia', 'fatigue', 'weakness', 'cramp', 'limb', 'depression', 'gas', 'lower', 'headache', 'loss', 'arthralgia', 'upper', 'excessive', 'gastrointestinal', 'hip', 'insomnia', 'arthrotec', 'stomach', 'asthenia', 'nausea', 'knee', 'shoulder', 'joint', 'dizziness', 'cramps', 'leg', 'neck', 'back', 'pains', 'arthritis', 'backache', 'hair', 'zocor', 'foot', 'ache', 'pins', 'needles', 'diarrhoea', 'walking', 'amnesia', 'legs', 'extreme', 'disability', 'aches', 'memory', 'headaches', 'tingling', 'infarction', 'muscles', 'myocardial', 'cramping', 'walk', 'diarrhea', 'feet', 'sore', 'weak', 'heart', 'joints', 'attack', 'hurt', 'knees', 'shoulders', 'hips', 'could', 'painful', 'left', 'spasms', 'soreness', 'strength', 'depressed', 'general', 'arms', 'bad', 'intense', 'aching', 'liptor', 'fatigued', 'feeling', 'arm', 'discomfort', 'nt', 'dizzy', 'hardly', 'right', 'tiredness', 'terrible', 'head', 'mild', 'hands', 'abdominal', 'barely', 'muscular', 'difficulty', 'horrible', 'fatique', 'attacks', 'thigh', 'calves', 'overall', 'dizzyness', 'constant', 'achy', 'sleeplessness', 'ached', 'body', 'calf', 'arthritic', 'debilitating', 'much', 'thighs', 'thinning', 'like', 'hurting', 'sleep', 'face', 'tingly', 'area', 'chest', 'every', 'extremely', 'time', 'falling', 'burning', 'wind', 'chronic', 'ankle', 'hurts', 'slight', 'feel', 'almost', 'liptior', 'gi', 'ca', 'stiff', 'acute', 'spells', 'achiness', 'gastric', 'toes', 'muscel', 'gassy', 'major', 'hard', 'unbearable', 'sever', 'finger', 'diarhea', 'fingers', 'insomina', 'week', 'felt', 'imence', 'started', 'decrease', 'nauseous', 'tired', 'sleepless', 'lost', 'side', 'mussel', 'gastro', 'gastritis', 'hand', 'extremly', 'malaise', 'heel', 'wobbley', 'gerd', 'trouble', 'across', 'horriable', 'toe', 'went', 'getting', 'diarreah', 'hairloss', 'deep', 'scalp', 'entire', 'extremities', 'experienced', 'causing', 'around', 'still', 'occasional', 'glossitis', 'get', 'sit', 'would', 'muscule', 'can', 'not', 'yards', 'low', 'grade', 'hipjoints', 'painfull', 'nites', 'room', 'support', 'worse', 'losing', 'moderate', 'insommnia', 'elbow', 'sides', 'upset', 'inflammation', 'shins', 'spasm', 'jointaches', 'ankles', 'insomia', 'arthotec', 'tender', 'dizzines', 'increased', 'diarreha', 'buttocks', 'musclesoreness', 'lipitors', 'wobbly', 'ability', 'muscels', 'atorvastatin', 'slightly', 'even', 'aces', 'night', 'serious', 'similar', 'ball', 'problem', 'problems', 'shin', 'nausia', 'sensation', 'difficult', 'arthritus', 'diziness', 'backpain', 'persistent', 'debilitated', 'diahrea', 'bleed', 'massive', 'diarea', 'bottom', 'calfs', 'bottoms', 'increase', 'mussle', 'irregular', 'inflamatory', 'one', 'gasto', 'queasiness', 'tylenol', 'losssevere', 'dioreaha', 'depressions', 'involved', 'dragging', 'miocardial', 'migratory', 'instead', 'sitng', 'normaly', 'fall', 'chair', 'control', 'upon', 'hold', 'something', 'terribly', 'frequent', 'lipiltor', 'light', 'cardio', 'event', 'lipior', 'degradation', 'well', 'geneal', 'touch', 'bearly', 'thin', 'diahrrea', 'heartattack', 'stomache', 'limits', 'upsets', 'diahorea', 'intestines', 'wicked', 'worst', 'ever', 'stone', 'bruises', 'front', 'bathroom', 'runs', 'increasing', 'plantar', 'thining', 'losss', 'minor', 'diffuse', 'alopecia', 'nerve', 'damage', 'imbalance', 'sudden', 'onset', 'gutrenching', 'morning', 'condition', 'hemmorage', 'arthritice', 'lassitude', 'depresion', 'depletion', 'chore', 'genetically', 'high', 'ldl', 'attackes', 'starting', 'zocar', 'wrists', 'torso', 'diarhhea', 'comfortably', 'artritic', 'genitals', 'lips', 'excruciating', 'incredibly', 'artrotec', 'labor', 'geting', 'swets', 'spine', 'arthristis', 'lose', 'grip', 'drop', 'things', 'sleeplesness', 'knew', 'effects', 'severn', 'inability', 'whole', 'spikes', 'disabling', 'stomich', 'ake', 'distress', 's', '4', 'o', 'afterpain', 'locked', 'servere', 'picking', 'abdomen', 'sholder', 'growing', 'unexplained', 'unwarranted', 'deppression', 'total', 'gets', 'lot', 'crippeling', 'hit', 'moment', 'generaly', 'unwell', 'daze', 'zombie', 'spasmns', 'tendon', 'vry', 'easily', 'diahhrea', 'nights', 'musche', 'suicidal', 'diarrea', 'server', 'pressure', 'lipitol', 'unbalanced', 'lots', 'allover', 'soles', 'overal', 'inflammatory', 'degeneration', 'tightit', 'band', 'become', 'stressed', 'horrific', 'constantly', 'killing', 'sole', 'close', 'crotch', 'events', 'dramatically', 'especially', 'queasy', 'gut', 'wrenching', 'blinding', 'difficulties', 'litpitor', 'fell', 'particular', 'developed', 'dizzieness', 'ent', 'dull', 'inflammed', 'exausted', 'diarrhoa', 'due', 'swelling', 'hamstrings', 'drained', 'nauseated', 'little', 'brown', 'water', 'go', 'pevis', 'generalized', 'skin', 'discoloration', 'horrid', 'naseua', 'athritic', 'pick', 'malais', 'exteem', 'diarrehea', 'different', 'attact', 'weakened', 'headaces', 'type', 'myalgias', 'big', 'wanted', 'vomit', 'balance', 'shoulderfeels', 'pulled', 'socket', 'weaker', 'arthrites', 'diaharrea', 'limbs', 'sunny', 'feelings', 'hobbling', 'tremendous', 'throbbing', 'cramped', 'struggling', 'far', 'cheek', 'terribe', 'diarria', 'mouth', 'excess', 'direar', 'pit', 'stiffness', 'part', 'needed', 'rest', 'minutes', 'blade', 'sensitive', 'dioreah', 'tummy', 'dibilitating', 'inflamation', 'zorcor', 'knotting', 'b', 'l', 'virtually', 'liptitor', 'headace', 'extrem', 'weaknesses', 'zochor', 'declining', 'physical', 'crammps', 'attach', 'weird', 'abdonimal', 'shouldar', 'dificultly', 'wet', 'dish', 'rag', 'debillitating', 'bone', 'achs', 'kneejoin', 'paint', 'alot', 'gone', 'without', 'gass', 'quads', 'extra', 'significant', 'reduction', 'knots', 'straight', 'fatiqued', 'mmdepression', 'throws', 'behind', 'sorness', 'always', 'spasams', 'fainting', 'level', 'really', 'lack']\n"
          ],
          "name": "stdout"
        }
      ]
    },
    {
      "metadata": {
        "id": "GcgyBoPKHrFH",
        "colab_type": "code",
        "colab": {
          "base_uri": "https://localhost:8080/",
          "height": 484
        },
        "outputId": "2756b589-a3e8-4fdf-ccee-5a08a5189e91"
      },
      "cell_type": "code",
      "source": [
        "data_lm.show_batch()"
      ],
      "execution_count": 68,
      "outputs": [
        {
          "output_type": "display_data",
          "data": {
            "text/html": [
              "<table border=\"1\" class=\"dataframe\">\n",
              "  <thead>\n",
              "    <tr style=\"text-align: right;\">\n",
              "      <th>idx</th>\n",
              "      <th>text</th>\n",
              "    </tr>\n",
              "  </thead>\n",
              "  <tbody>\n",
              "    <tr>\n",
              "      <td>0</td>\n",
              "      <td>lipitor xxbos amnesia xxbos myalgia xxbos lipitor xxbos arthralgia xxbos lipitor xxbos pain xxbos excessive upper gastrointestinal gas xxbos lipitor xxbos fatigue xxbos fatigue xxbos myalgia xxbos lipitor xxbos stomach ache xxbos lipitor xxbos lipitor xxbos knee pain xxbos neck pain xxbos pain xxbos hip pain xxbos hip pain xxbos muscle weakness xxbos pain lower limb xxbos excessive upper gastrointestinal gas xxbos diarrhoea xxbos lipitor xxbos dizziness xxbos severe pain</td>\n",
              "    </tr>\n",
              "    <tr>\n",
              "      <td>1</td>\n",
              "      <td>lipitor xxbos pain xxbos pain xxbos muscle pain xxbos myalgia xxbos fatigue xxbos fatigue xxbos leg cramps xxbos cramp lower limb xxbos lipitor xxbos lipitor xxbos shoulders ache xxbos shoulder pain xxbos lipitor xxbos lipitor xxbos muscle weakness xxbos muscle weakness xxbos depression xxbos depression xxbos severe pain xxbos headache xxbos lipitor xxbos lipitor xxbos pain knees xxbos knee pain xxbos lipitor xxbos lipitor xxbos gas xxbos excessive upper gastrointestinal</td>\n",
              "    </tr>\n",
              "    <tr>\n",
              "      <td>2</td>\n",
              "      <td>xxbos pain xxbos shoulder pain xxbos shoulder pain xxbos lipitor xxbos lipitor xxbos pain xxbos pain xxbos pain xxbos pain xxbos joint pain knees xxbos knee pain xxbos pain xxbos pain xxbos diarrhea xxbos diarrhoea xxbos extreme tiredness xxbos fatigue xxbos hair thinning xxbos loss hair xxbos lipitor xxbos lipitor xxbos leg foot cramping xxbos cramp lower limb xxbos lipitor xxbos lipitor xxbos back ache xxbos backache xxbos pain xxbos</td>\n",
              "    </tr>\n",
              "    <tr>\n",
              "      <td>3</td>\n",
              "      <td>neck pain xxbos neck pain xxbos lipitor xxbos lipitor xxbos could hardly walk xxbos walking disability xxbos muscle spasms leg xxbos cramp lower limb xxbos heart attack xxbos myocardial infarction xxbos severe pain xxbos lipitor xxbos lipitor xxbos lipitor xxbos lipitor xxbos lipitor xxbos achiness xxbos pain xxbos shoulder pain xxbos shoulder pain xxbos liptor xxbos lipitor xxbos insomnia xxbos insomnia xxbos wicked back pain xxbos backache xxbos achiness xxbos</td>\n",
              "    </tr>\n",
              "    <tr>\n",
              "      <td>4</td>\n",
              "      <td>xxbos pain xxbos pain xxbos stomach pain xxbos stomach ache xxbos lipitor xxbos weakness xxbos asthenia xxbos loss hair xxbos loss hair xxbos zocor xxbos zocor xxbos general depression xxbos excessive upper gastrointestinal gas xxbos lipitor xxbos lipitor xxbos muscle pain xxbos myalgia xxbos severe neck pain xxbos severe pain xxbos myalgia xxbos lipitor xxbos lipitor xxbos muscle pain xxbos myalgia xxbos week xxbos asthenia xxbos lipitor xxbos lipitor xxbos</td>\n",
              "    </tr>\n",
              "  </tbody>\n",
              "</table>"
            ],
            "text/plain": [
              "<IPython.core.display.HTML object>"
            ]
          },
          "metadata": {
            "tags": []
          }
        }
      ]
    },
    {
      "metadata": {
        "id": "sQO1lEZxHyzW",
        "colab_type": "code",
        "colab": {}
      },
      "cell_type": "code",
      "source": [
        "learn = language_model_learner(data_lm, AWD_LSTM, drop_mult=0.5)"
      ],
      "execution_count": 0,
      "outputs": []
    },
    {
      "metadata": {
        "id": "a12eLjK_IBNr",
        "colab_type": "code",
        "colab": {
          "base_uri": "https://localhost:8080/",
          "height": 35
        },
        "outputId": "c92eaec8-5c91-4949-d933-9c1e34500c47"
      },
      "cell_type": "code",
      "source": [
        "learn.lr_find()"
      ],
      "execution_count": 70,
      "outputs": [
        {
          "output_type": "display_data",
          "data": {
            "text/html": [
              ""
            ],
            "text/plain": [
              "<IPython.core.display.HTML object>"
            ]
          },
          "metadata": {
            "tags": []
          }
        },
        {
          "output_type": "stream",
          "text": [
            "LR Finder is complete, type {learner_name}.recorder.plot() to see the graph.\n"
          ],
          "name": "stdout"
        }
      ]
    },
    {
      "metadata": {
        "id": "RDtMZUL5IFHv",
        "colab_type": "code",
        "colab": {
          "base_uri": "https://localhost:8080/",
          "height": 283
        },
        "outputId": "b299f604-01f2-4c1f-9172-854a683480c3"
      },
      "cell_type": "code",
      "source": [
        "learn.recorder.plot()"
      ],
      "execution_count": 71,
      "outputs": [
        {
          "output_type": "display_data",
          "data": {
            "image/png": "[encoded data removed]",
            "text/plain": [
              "<Figure size 432x288 with 1 Axes>"
            ]
          },
          "metadata": {
            "tags": []
          }
        }
      ]
    },
    {
      "metadata": {
        "id": "AfCfvxxaIK8n",
        "colab_type": "code",
        "colab": {
          "base_uri": "https://localhost:8080/",
          "height": 81
        },
        "outputId": "315a9855-4c8c-45e5-acd9-637bc07118d7"
      },
      "cell_type": "code",
      "source": [
        "# train the learner object with learning rate = 1e-2 \n",
        "learn.fit_one_cycle(1, 1e-2)"
      ],
      "execution_count": 72,
      "outputs": [
        {
          "output_type": "display_data",
          "data": {
            "text/html": [
              "<table border=\"1\" class=\"dataframe\">\n",
              "  <thead>\n",
              "    <tr style=\"text-align: left;\">\n",
              "      <th>epoch</th>\n",
              "      <th>train_loss</th>\n",
              "      <th>valid_loss</th>\n",
              "      <th>accuracy</th>\n",
              "      <th>time</th>\n",
              "    </tr>\n",
              "  </thead>\n",
              "  <tbody>\n",
              "    <tr>\n",
              "      <td>0</td>\n",
              "      <td>5.617359</td>\n",
              "      <td>3.847504</td>\n",
              "      <td>0.297470</td>\n",
              "      <td>00:07</td>\n",
              "    </tr>\n",
              "  </tbody>\n",
              "</table>"
            ],
            "text/plain": [
              "<IPython.core.display.HTML object>"
            ]
          },
          "metadata": {
            "tags": []
          }
        }
      ]
    },
    {
      "metadata": {
        "id": "2uquzahzJqhG",
        "colab_type": "code",
        "colab": {
          "base_uri": "https://localhost:8080/",
          "height": 81
        },
        "outputId": "d94f3c5a-c3f2-40d8-d0d0-c0fda8c36320"
      },
      "cell_type": "code",
      "source": [
        "learn.unfreeze()\n",
        "learn.fit_one_cycle(1, 1e-3)"
      ],
      "execution_count": 73,
      "outputs": [
        {
          "output_type": "display_data",
          "data": {
            "text/html": [
              "<table border=\"1\" class=\"dataframe\">\n",
              "  <thead>\n",
              "    <tr style=\"text-align: left;\">\n",
              "      <th>epoch</th>\n",
              "      <th>train_loss</th>\n",
              "      <th>valid_loss</th>\n",
              "      <th>accuracy</th>\n",
              "      <th>time</th>\n",
              "    </tr>\n",
              "  </thead>\n",
              "  <tbody>\n",
              "    <tr>\n",
              "      <td>0</td>\n",
              "      <td>2.384775</td>\n",
              "      <td>3.600324</td>\n",
              "      <td>0.402679</td>\n",
              "      <td>00:09</td>\n",
              "    </tr>\n",
              "  </tbody>\n",
              "</table>"
            ],
            "text/plain": [
              "<IPython.core.display.HTML object>"
            ]
          },
          "metadata": {
            "tags": []
          }
        }
      ]
    },
    {
      "metadata": {
        "id": "EqGzEm7uJsPo",
        "colab_type": "code",
        "colab": {}
      },
      "cell_type": "code",
      "source": [
        "learn.save('ft_enc')"
      ],
      "execution_count": 0,
      "outputs": []
    },
    {
      "metadata": {
        "id": "7EgYfCcYLTYo",
        "colab_type": "code",
        "colab": {}
      },
      "cell_type": "code",
      "source": [
        "learn.load('ft_enc');"
      ],
      "execution_count": 0,
      "outputs": []
    },
    {
      "metadata": {
        "id": "34APNItlIpqD",
        "colab_type": "code",
        "colab": {
          "base_uri": "https://localhost:8080/",
          "height": 35
        },
        "outputId": "fccd9aef-1085-421e-f042-8a0b4746fa6b"
      },
      "cell_type": "code",
      "source": [
        "learn.predict(\"Lower limb pain \", n_words=10)"
      ],
      "execution_count": 76,
      "outputs": [
        {
          "output_type": "execute_result",
          "data": {
            "text/plain": [
              "'Lower limb pain  xxbos severe limb xxbos sore difficulty fingers xxbos foot pain'"
            ]
          },
          "metadata": {
            "tags": []
          },
          "execution_count": 76
        }
      ]
    },
    {
      "metadata": {
        "id": "o7znNlKCIrDa",
        "colab_type": "code",
        "colab": {}
      },
      "cell_type": "code",
      "source": [
        "learn.save_encoder('ft_enc')"
      ],
      "execution_count": 0,
      "outputs": []
    },
    {
      "metadata": {
        "id": "cp6Gb86xLc5s",
        "colab_type": "code",
        "colab": {}
      },
      "cell_type": "code",
      "source": [
        "# Classifier model data\n",
        "data_clas = TextClasDataBunch.from_df('./', train_df=train, valid_df=test, vocab=data_lm.train_ds.vocab, bs=32)"
      ],
      "execution_count": 0,
      "outputs": []
    },
    {
      "metadata": {
        "id": "aKRuxB87Lkgo",
        "colab_type": "code",
        "colab": {}
      },
      "cell_type": "code",
      "source": [
        "data_clas.save('data_clas_export.pkl')"
      ],
      "execution_count": 0,
      "outputs": []
    },
    {
      "metadata": {
        "id": "lFmYuRtsNnuv",
        "colab_type": "code",
        "colab": {
          "base_uri": "https://localhost:8080/",
          "height": 206
        },
        "outputId": "628494ee-9ddc-4c45-d559-f002a2b060be"
      },
      "cell_type": "code",
      "source": [
        "data_clas.show_batch()"
      ],
      "execution_count": 80,
      "outputs": [
        {
          "output_type": "display_data",
          "data": {
            "text/html": [
              "<table border=\"1\" class=\"dataframe\">\n",
              "  <thead>\n",
              "    <tr style=\"text-align: right;\">\n",
              "      <th>text</th>\n",
              "      <th>target</th>\n",
              "    </tr>\n",
              "  </thead>\n",
              "  <tbody>\n",
              "    <tr>\n",
              "      <td>xxbos went sit instead sitng normaly would almost fall chair control strength upon getting hold something get</td>\n",
              "      <td>26544005</td>\n",
              "    </tr>\n",
              "    <tr>\n",
              "      <td>xxbos stomach hurt s xxrep 4 o bad</td>\n",
              "      <td>271681002</td>\n",
              "    </tr>\n",
              "    <tr>\n",
              "      <td>xxbos severe pain muscles shoulder area</td>\n",
              "      <td>76948002</td>\n",
              "    </tr>\n",
              "    <tr>\n",
              "      <td>xxbos heel could nt walk well</td>\n",
              "      <td>228158008</td>\n",
              "    </tr>\n",
              "    <tr>\n",
              "      <td>xxbos arthritic type pain joints</td>\n",
              "      <td>57676002</td>\n",
              "    </tr>\n",
              "  </tbody>\n",
              "</table>"
            ],
            "text/plain": [
              "<IPython.core.display.HTML object>"
            ]
          },
          "metadata": {
            "tags": []
          }
        }
      ]
    },
    {
      "metadata": {
        "id": "Wxi7igYONqMk",
        "colab_type": "code",
        "colab": {}
      },
      "cell_type": "code",
      "source": [
        "classifier = text_classifier_learner(data_clas, AWD_LSTM, drop_mult=0.5)\n",
        "classifier.load_encoder('ft_enc')"
      ],
      "execution_count": 0,
      "outputs": []
    },
    {
      "metadata": {
        "id": "5SeC3AH4N0pe",
        "colab_type": "code",
        "colab": {
          "base_uri": "https://localhost:8080/",
          "height": 35
        },
        "outputId": "92134f1a-4a40-4434-af98-08bdfc7c50ed"
      },
      "cell_type": "code",
      "source": [
        "classifier.lr_find()"
      ],
      "execution_count": 82,
      "outputs": [
        {
          "output_type": "display_data",
          "data": {
            "text/html": [
              ""
            ],
            "text/plain": [
              "<IPython.core.display.HTML object>"
            ]
          },
          "metadata": {
            "tags": []
          }
        },
        {
          "output_type": "stream",
          "text": [
            "LR Finder is complete, type {learner_name}.recorder.plot() to see the graph.\n"
          ],
          "name": "stdout"
        }
      ]
    },
    {
      "metadata": {
        "id": "j6S9dR40N9Pr",
        "colab_type": "code",
        "colab": {
          "base_uri": "https://localhost:8080/",
          "height": 283
        },
        "outputId": "be29cad3-f86c-473b-e5b5-382fc22562d4"
      },
      "cell_type": "code",
      "source": [
        "classifier.recorder.plot()"
      ],
      "execution_count": 83,
      "outputs": [
        {
          "output_type": "display_data",
          "data": {
            "image/png": "[encoded data removed]",
            "text/plain": [
              "<Figure size 432x288 with 1 Axes>"
            ]
          },
          "metadata": {
            "tags": []
          }
        }
      ]
    },
    {
      "metadata": {
        "id": "LWATX5nrN9HU",
        "colab_type": "code",
        "colab": {
          "base_uri": "https://localhost:8080/",
          "height": 81
        },
        "outputId": "954286aa-4a92-43d8-e670-e690e20b7ace"
      },
      "cell_type": "code",
      "source": [
        "classifier.fit_one_cycle(1, 2e-2, moms=(0.8,0.7))"
      ],
      "execution_count": 84,
      "outputs": [
        {
          "output_type": "display_data",
          "data": {
            "text/html": [
              "<table border=\"1\" class=\"dataframe\">\n",
              "  <thead>\n",
              "    <tr style=\"text-align: left;\">\n",
              "      <th>epoch</th>\n",
              "      <th>train_loss</th>\n",
              "      <th>valid_loss</th>\n",
              "      <th>accuracy</th>\n",
              "      <th>time</th>\n",
              "    </tr>\n",
              "  </thead>\n",
              "  <tbody>\n",
              "    <tr>\n",
              "      <td>0</td>\n",
              "      <td>1.116443</td>\n",
              "      <td>0.748828</td>\n",
              "      <td>0.802549</td>\n",
              "      <td>00:25</td>\n",
              "    </tr>\n",
              "  </tbody>\n",
              "</table>"
            ],
            "text/plain": [
              "<IPython.core.display.HTML object>"
            ]
          },
          "metadata": {
            "tags": []
          }
        }
      ]
    },
    {
      "metadata": {
        "id": "0y3lzCXQOIEp",
        "colab_type": "code",
        "colab": {
          "base_uri": "https://localhost:8080/",
          "height": 283
        },
        "outputId": "8ba650ea-906b-4765-9cc6-1919cad97581"
      },
      "cell_type": "code",
      "source": [
        "classifier.recorder.plot_losses()"
      ],
      "execution_count": 85,
      "outputs": [
        {
          "output_type": "display_data",
          "data": {
            "image/png": "[encoded data removed]",
            "text/plain": [
              "<Figure size 432x288 with 1 Axes>"
            ]
          },
          "metadata": {
            "tags": []
          }
        }
      ]
    },
    {
      "metadata": {
        "id": "DALAAyUdOSAg",
        "colab_type": "code",
        "colab": {}
      },
      "cell_type": "code",
      "source": [
        "classifier.freeze_to(-2)"
      ],
      "execution_count": 0,
      "outputs": []
    },
    {
      "metadata": {
        "id": "xNMjcL19OU9U",
        "colab_type": "code",
        "colab": {
          "base_uri": "https://localhost:8080/",
          "height": 206
        },
        "outputId": "183b8b1e-9f9b-470a-fe85-2fbe7237c153"
      },
      "cell_type": "code",
      "source": [
        "classifier.fit_one_cycle(5, slice(5e-3/2., 5e-3), moms=(0.8,0.7))"
      ],
      "execution_count": 87,
      "outputs": [
        {
          "output_type": "display_data",
          "data": {
            "text/html": [
              "<table border=\"1\" class=\"dataframe\">\n",
              "  <thead>\n",
              "    <tr style=\"text-align: left;\">\n",
              "      <th>epoch</th>\n",
              "      <th>train_loss</th>\n",
              "      <th>valid_loss</th>\n",
              "      <th>accuracy</th>\n",
              "      <th>time</th>\n",
              "    </tr>\n",
              "  </thead>\n",
              "  <tbody>\n",
              "    <tr>\n",
              "      <td>0</td>\n",
              "      <td>0.766892</td>\n",
              "      <td>0.607575</td>\n",
              "      <td>0.836377</td>\n",
              "      <td>00:28</td>\n",
              "    </tr>\n",
              "    <tr>\n",
              "      <td>1</td>\n",
              "      <td>0.601197</td>\n",
              "      <td>0.683482</td>\n",
              "      <td>0.859787</td>\n",
              "      <td>00:30</td>\n",
              "    </tr>\n",
              "    <tr>\n",
              "      <td>2</td>\n",
              "      <td>0.517198</td>\n",
              "      <td>0.714682</td>\n",
              "      <td>0.866773</td>\n",
              "      <td>00:28</td>\n",
              "    </tr>\n",
              "    <tr>\n",
              "      <td>3</td>\n",
              "      <td>0.460804</td>\n",
              "      <td>0.446818</td>\n",
              "      <td>0.903297</td>\n",
              "      <td>00:28</td>\n",
              "    </tr>\n",
              "    <tr>\n",
              "      <td>4</td>\n",
              "      <td>0.456099</td>\n",
              "      <td>0.460106</td>\n",
              "      <td>0.901213</td>\n",
              "      <td>00:29</td>\n",
              "    </tr>\n",
              "  </tbody>\n",
              "</table>"
            ],
            "text/plain": [
              "<IPython.core.display.HTML object>"
            ]
          },
          "metadata": {
            "tags": []
          }
        }
      ]
    },
    {
      "metadata": {
        "id": "HcQ4GvRkOX3n",
        "colab_type": "code",
        "colab": {
          "base_uri": "https://localhost:8080/",
          "height": 283
        },
        "outputId": "456fbe7b-0725-4f72-ca5d-ee7525f7b2bd"
      },
      "cell_type": "code",
      "source": [
        "classifier.recorder.plot_losses()"
      ],
      "execution_count": 88,
      "outputs": [
        {
          "output_type": "display_data",
          "data": {
            "image/png": "[encoded data removed]",
            "text/plain": [
              "<Figure size 432x288 with 1 Axes>"
            ]
          },
          "metadata": {
            "tags": []
          }
        }
      ]
    },
    {
      "metadata": {
        "id": "uVbEO2R3PA0m",
        "colab_type": "code",
        "colab": {}
      },
      "cell_type": "code",
      "source": [
        "classifier.unfreeze()"
      ],
      "execution_count": 0,
      "outputs": []
    },
    {
      "metadata": {
        "id": "zBuuAihfPHE8",
        "colab_type": "code",
        "colab": {
          "base_uri": "https://localhost:8080/",
          "height": 112
        },
        "outputId": "89f80a2e-fc45-4fb4-fa18-aa1534a7bb9b"
      },
      "cell_type": "code",
      "source": [
        "classifier.fit_one_cycle(2, slice(2e-3/100, 2e-3), moms=(0.8,0.7))"
      ],
      "execution_count": 90,
      "outputs": [
        {
          "output_type": "display_data",
          "data": {
            "text/html": [
              "<table border=\"1\" class=\"dataframe\">\n",
              "  <thead>\n",
              "    <tr style=\"text-align: left;\">\n",
              "      <th>epoch</th>\n",
              "      <th>train_loss</th>\n",
              "      <th>valid_loss</th>\n",
              "      <th>accuracy</th>\n",
              "      <th>time</th>\n",
              "    </tr>\n",
              "  </thead>\n",
              "  <tbody>\n",
              "    <tr>\n",
              "      <td>0</td>\n",
              "      <td>0.222253</td>\n",
              "      <td>0.372150</td>\n",
              "      <td>0.897536</td>\n",
              "      <td>00:55</td>\n",
              "    </tr>\n",
              "    <tr>\n",
              "      <td>1</td>\n",
              "      <td>0.132646</td>\n",
              "      <td>0.358590</td>\n",
              "      <td>0.906606</td>\n",
              "      <td>00:55</td>\n",
              "    </tr>\n",
              "  </tbody>\n",
              "</table>"
            ],
            "text/plain": [
              "<IPython.core.display.HTML object>"
            ]
          },
          "metadata": {
            "tags": []
          }
        }
      ]
    },
    {
      "metadata": {
        "id": "dW11YCVSPJtu",
        "colab_type": "code",
        "colab": {
          "base_uri": "https://localhost:8080/",
          "height": 283
        },
        "outputId": "884abe78-9a9f-497d-ffa7-7f8e610a678d"
      },
      "cell_type": "code",
      "source": [
        "classifier.recorder.plot_losses()"
      ],
      "execution_count": 91,
      "outputs": [
        {
          "output_type": "display_data",
          "data": {
            "image/png": "[encoded data removed]",
            "text/plain": [
              "<Figure size 432x288 with 1 Axes>"
            ]
          },
          "metadata": {
            "tags": []
          }
        }
      ]
    },
    {
      "metadata": {
        "id": "8lt3jKs2Pl3S",
        "colab_type": "code",
        "colab": {
          "base_uri": "https://localhost:8080/",
          "height": 162
        },
        "outputId": "58d0ec4f-841c-49de-9671-4c9565c0d103"
      },
      "cell_type": "code",
      "source": [
        "classifier.predict(\"My stomach hurts! real bad\")"
      ],
      "execution_count": 92,
      "outputs": [
        {
          "output_type": "execute_result",
          "data": {
            "text/plain": [
              "(Category 271681002,\n",
              " tensor(25),\n",
              " tensor([3.6901e-04, 1.8074e-04, 6.3045e-04, 3.0867e-03, 7.5408e-05, 2.6587e-04,\n",
              "         5.0107e-04, 9.3339e-06, 1.0258e-05, 2.8952e-05, 1.0500e-06, 2.2978e-05,\n",
              "         3.6800e-06, 2.8859e-05, 9.4171e-05, 6.6257e-04, 3.8159e-07, 4.8760e-04,\n",
              "         9.9720e-02, 2.0184e-05, 1.9505e-04, 2.2433e-05, 3.3196e-01, 2.5891e-04,\n",
              "         6.6738e-06, 5.3128e-01, 1.6019e-05, 5.9961e-05, 8.3767e-04, 1.7361e-02,\n",
              "         4.9153e-06, 3.5457e-04, 1.1006e-02, 4.3686e-04]))"
            ]
          },
          "metadata": {
            "tags": []
          },
          "execution_count": 92
        }
      ]
    },
    {
      "metadata": {
        "id": "VdQVPdcNP2RT",
        "colab_type": "text"
      },
      "cell_type": "markdown",
      "source": [
        "fast text"
      ]
    },
    {
      "metadata": {
        "id": "nS-XiMc4QEzv",
        "colab_type": "code",
        "colab": {
          "base_uri": "https://localhost:8080/",
          "height": 237
        },
        "outputId": "f466b697-0162-4ba1-ae56-5406cf8224f7"
      },
      "cell_type": "code",
      "source": [
        "!pip install fasttext"
      ],
      "execution_count": 94,
      "outputs": [
        {
          "output_type": "stream",
          "text": [
            "Collecting fasttext\n",
            "\u001b[?25l  Downloading https://files.pythonhosted.org/packages/a4/86/ff826211bc9e28d4c371668b30b4b2c38a09127e5e73017b1c0cd52f9dfa/fasttext-0.8.3.tar.gz (73kB)\n",
            "\u001b[K    100% |████████████████████████████████| 81kB 3.8MB/s \n",
            "\u001b[?25hRequirement already satisfied: numpy>=1 in /usr/local/lib/python3.6/dist-packages (from fasttext) (1.16.3)\n",
            "Requirement already satisfied: future in /usr/local/lib/python3.6/dist-packages (from fasttext) (0.16.0)\n",
            "Building wheels for collected packages: fasttext\n",
            "  Building wheel for fasttext (setup.py) ... \u001b[?25ldone\n",
            "\u001b[?25h  Stored in directory: /root/.cache/pip/wheels/73/8e/5d/ecb50b90adaab5868ae1d8df180f31e55e85c2f055aaf2fb35\n",
            "Successfully built fasttext\n",
            "Installing collected packages: fasttext\n",
            "Successfully installed fasttext-0.8.3\n"
          ],
          "name": "stdout"
        }
      ]
    },
    {
      "metadata": {
        "id": "G9M-scLoPvkt",
        "colab_type": "code",
        "colab": {}
      },
      "cell_type": "code",
      "source": [
        "import fasttext"
      ],
      "execution_count": 0,
      "outputs": []
    },
    {
      "metadata": {
        "id": "NW4zPFcMRMP9",
        "colab_type": "code",
        "colab": {
          "base_uri": "https://localhost:8080/",
          "height": 35
        },
        "outputId": "291262b0-c82c-4a57-d949-eb5404bbbe25"
      },
      "cell_type": "code",
      "source": [
        "train.columns"
      ],
      "execution_count": 97,
      "outputs": [
        {
          "output_type": "execute_result",
          "data": {
            "text/plain": [
              "Index(['label', 'text'], dtype='object')"
            ]
          },
          "metadata": {
            "tags": []
          },
          "execution_count": 97
        }
      ]
    },
    {
      "metadata": {
        "id": "QJH3gUjjQBQz",
        "colab_type": "code",
        "colab": {}
      },
      "cell_type": "code",
      "source": [
        "train['Disease']=['__label__'+s.replace(' or ', '$').replace(', or ','$').replace(',','$').replace(' ','_').replace(',','__label__').replace('$$','$').replace('$',' __label__').replace('___','__') for s in train['Disease']]"
      ],
      "execution_count": 0,
      "outputs": []
    },
    {
      "metadata": {
        "id": "SiSdITC9RI1e",
        "colab_type": "code",
        "colab": {}
      },
      "cell_type": "code",
      "source": [
        "test['Disease']=['__label__'+s.replace(' or ', '$').replace(', or ','$').replace(',','$').replace(' ','_').replace(',','__label__').replace('$$','$').replace('$',' __label__').replace('___','__') for s in test['Disease']]"
      ],
      "execution_count": 0,
      "outputs": []
    },
    {
      "metadata": {
        "id": "YKScRCHeV2__",
        "colab_type": "code",
        "colab": {
          "base_uri": "https://localhost:8080/",
          "height": 206
        },
        "outputId": "fe72b59e-f151-4f73-823a-1f1fbd0a9bf1"
      },
      "cell_type": "code",
      "source": [
        "train.head()"
      ],
      "execution_count": 133,
      "outputs": [
        {
          "output_type": "execute_result",
          "data": {
            "text/html": [
              "<div>\n",
              "<style scoped>\n",
              "    .dataframe tbody tr th:only-of-type {\n",
              "        vertical-align: middle;\n",
              "    }\n",
              "\n",
              "    .dataframe tbody tr th {\n",
              "        vertical-align: top;\n",
              "    }\n",
              "\n",
              "    .dataframe thead th {\n",
              "        text-align: right;\n",
              "    }\n",
              "</style>\n",
              "<table border=\"1\" class=\"dataframe\">\n",
              "  <thead>\n",
              "    <tr style=\"text-align: right;\">\n",
              "      <th></th>\n",
              "      <th>Disease</th>\n",
              "      <th>Patient Complaint Narrative</th>\n",
              "    </tr>\n",
              "  </thead>\n",
              "  <tbody>\n",
              "    <tr>\n",
              "      <th>1</th>\n",
              "      <td>__label__Arthrotec</td>\n",
              "      <td>arthrotec</td>\n",
              "    </tr>\n",
              "    <tr>\n",
              "      <th>3</th>\n",
              "      <td>__label__Lipitor</td>\n",
              "      <td>lipitor</td>\n",
              "    </tr>\n",
              "    <tr>\n",
              "      <th>5</th>\n",
              "      <td>__label__Dizziness</td>\n",
              "      <td>dizziness</td>\n",
              "    </tr>\n",
              "    <tr>\n",
              "      <th>6</th>\n",
              "      <td>__label__Stomach_ache</td>\n",
              "      <td>stomach ache</td>\n",
              "    </tr>\n",
              "    <tr>\n",
              "      <th>7</th>\n",
              "      <td>__label__Severe_pain</td>\n",
              "      <td>severe pain</td>\n",
              "    </tr>\n",
              "  </tbody>\n",
              "</table>\n",
              "</div>"
            ],
            "text/plain": [
              "                 Disease Patient Complaint Narrative\n",
              "1     __label__Arthrotec                   arthrotec\n",
              "3       __label__Lipitor                     lipitor\n",
              "5     __label__Dizziness                   dizziness\n",
              "6  __label__Stomach_ache                stomach ache\n",
              "7   __label__Severe_pain                 severe pain"
            ]
          },
          "metadata": {
            "tags": []
          },
          "execution_count": 133
        }
      ]
    },
    {
      "metadata": {
        "id": "68jaFEsPV4MA",
        "colab_type": "code",
        "colab": {
          "base_uri": "https://localhost:8080/",
          "height": 206
        },
        "outputId": "ad334bf8-d186-49f8-9fab-752af8a02154"
      },
      "cell_type": "code",
      "source": [
        "test.head()"
      ],
      "execution_count": 134,
      "outputs": [
        {
          "output_type": "execute_result",
          "data": {
            "text/html": [
              "<div>\n",
              "<style scoped>\n",
              "    .dataframe tbody tr th:only-of-type {\n",
              "        vertical-align: middle;\n",
              "    }\n",
              "\n",
              "    .dataframe tbody tr th {\n",
              "        vertical-align: top;\n",
              "    }\n",
              "\n",
              "    .dataframe thead th {\n",
              "        text-align: right;\n",
              "    }\n",
              "</style>\n",
              "<table border=\"1\" class=\"dataframe\">\n",
              "  <thead>\n",
              "    <tr style=\"text-align: right;\">\n",
              "      <th></th>\n",
              "      <th>Disease</th>\n",
              "      <th>Patient Complaint Narrative</th>\n",
              "    </tr>\n",
              "  </thead>\n",
              "  <tbody>\n",
              "    <tr>\n",
              "      <th>1</th>\n",
              "      <td>__label__Arthrotec</td>\n",
              "      <td>arthrotec</td>\n",
              "    </tr>\n",
              "    <tr>\n",
              "      <th>3</th>\n",
              "      <td>__label__Lipitor</td>\n",
              "      <td>lipitor</td>\n",
              "    </tr>\n",
              "    <tr>\n",
              "      <th>5</th>\n",
              "      <td>__label__Dizziness</td>\n",
              "      <td>dizzy</td>\n",
              "    </tr>\n",
              "    <tr>\n",
              "      <th>6</th>\n",
              "      <td>__label__Stomach_ache</td>\n",
              "      <td>pain pit stomach</td>\n",
              "    </tr>\n",
              "    <tr>\n",
              "      <th>7</th>\n",
              "      <td>__label__Severe_pain</td>\n",
              "      <td>extreme muscle pain shoulders</td>\n",
              "    </tr>\n",
              "  </tbody>\n",
              "</table>\n",
              "</div>"
            ],
            "text/plain": [
              "                 Disease    Patient Complaint Narrative\n",
              "1     __label__Arthrotec                      arthrotec\n",
              "3       __label__Lipitor                        lipitor\n",
              "5     __label__Dizziness                          dizzy\n",
              "6  __label__Stomach_ache               pain pit stomach\n",
              "7   __label__Severe_pain  extreme muscle pain shoulders"
            ]
          },
          "metadata": {
            "tags": []
          },
          "execution_count": 134
        }
      ]
    },
    {
      "metadata": {
        "id": "8UpoWziMV6az",
        "colab_type": "code",
        "colab": {}
      },
      "cell_type": "code",
      "source": [
        "train.to_csv(r'/content/train.txt', encoding='utf-8', index=False, sep=' ', header=False, quoting=csv.QUOTE_NONE, quotechar=\"\", escapechar=\" \")"
      ],
      "execution_count": 0,
      "outputs": []
    },
    {
      "metadata": {
        "id": "i0UzuRH5WL9F",
        "colab_type": "code",
        "colab": {}
      },
      "cell_type": "code",
      "source": [
        "test.to_csv(r'/content/test.txt', encoding='utf-8', index=False, sep=' ', header=False, quoting=csv.QUOTE_NONE, quotechar=\"\", escapechar=\" \")"
      ],
      "execution_count": 0,
      "outputs": []
    },
    {
      "metadata": {
        "id": "MqZ-4NHUYaUD",
        "colab_type": "code",
        "colab": {}
      },
      "cell_type": "code",
      "source": [
        "train = train.drop(['CUID'], axis = 1)"
      ],
      "execution_count": 0,
      "outputs": []
    },
    {
      "metadata": {
        "id": "lXzpv5NOYkIu",
        "colab_type": "code",
        "colab": {}
      },
      "cell_type": "code",
      "source": [
        "test = test.drop(['CUID'], axis = 1)"
      ],
      "execution_count": 0,
      "outputs": []
    },
    {
      "metadata": {
        "id": "uIipeprgWhup",
        "colab_type": "code",
        "colab": {}
      },
      "cell_type": "code",
      "source": [
        "classifier = fasttext.supervised('train.txt', 'model', epoch=200, min_count=1)"
      ],
      "execution_count": 0,
      "outputs": []
    },
    {
      "metadata": {
        "id": "Dz8-5BGbW6JD",
        "colab_type": "code",
        "colab": {}
      },
      "cell_type": "code",
      "source": [
        "classifier = fasttext.load_model('model.bin', label_prefix='some_prefix')"
      ],
      "execution_count": 0,
      "outputs": []
    },
    {
      "metadata": {
        "id": "wmkitrwJW_p5",
        "colab_type": "code",
        "colab": {
          "base_uri": "https://localhost:8080/",
          "height": 35
        },
        "outputId": "1a5e945e-0b6e-4532-f78f-b013e8e5d4fd"
      },
      "cell_type": "code",
      "source": [
        "text = ['Muscle pain']\n",
        "labels = classifier.predict_proba(text)\n",
        "print(labels)"
      ],
      "execution_count": 138,
      "outputs": [
        {
          "output_type": "stream",
          "text": [
            "[[('__label__Shoulder_pain', 0.539063)]]\n"
          ],
          "name": "stdout"
        }
      ]
    },
    {
      "metadata": {
        "id": "ViW9xAAeXFGL",
        "colab_type": "code",
        "colab": {}
      },
      "cell_type": "code",
      "source": [
        "result = classifier.test('test.txt')"
      ],
      "execution_count": 0,
      "outputs": []
    },
    {
      "metadata": {
        "id": "U9q9KgviZUR1",
        "colab_type": "code",
        "colab": {
          "base_uri": "https://localhost:8080/",
          "height": 35
        },
        "outputId": "72a6a252-de38-4970-8dd9-1d398d01333d"
      },
      "cell_type": "code",
      "source": [
        "print('Number of examples:', result.nexamples)"
      ],
      "execution_count": 140,
      "outputs": [
        {
          "output_type": "stream",
          "text": [
            "Number of examples: 8159\n"
          ],
          "name": "stdout"
        }
      ]
    },
    {
      "metadata": {
        "id": "Le1F3waYZWm5",
        "colab_type": "code",
        "colab": {
          "base_uri": "https://localhost:8080/",
          "height": 35
        },
        "outputId": "802fdb9e-d76b-498b-d35c-319e5679656a"
      },
      "cell_type": "code",
      "source": [
        "result.precision"
      ],
      "execution_count": 141,
      "outputs": [
        {
          "output_type": "execute_result",
          "data": {
            "text/plain": [
              "1.0"
            ]
          },
          "metadata": {
            "tags": []
          },
          "execution_count": 141
        }
      ]
    },
    {
      "metadata": {
        "id": "DZJjcHd6ZZHQ",
        "colab_type": "code",
        "colab": {
          "base_uri": "https://localhost:8080/",
          "height": 35
        },
        "outputId": "a73ce4a8-69ab-4719-9246-573ba221db1c"
      },
      "cell_type": "code",
      "source": [
        "result.recall"
      ],
      "execution_count": 142,
      "outputs": [
        {
          "output_type": "execute_result",
          "data": {
            "text/plain": [
              "1.0"
            ]
          },
          "metadata": {
            "tags": []
          },
          "execution_count": 142
        }
      ]
    },
    {
      "metadata": {
        "id": "ZVzgG1Z8Z4KR",
        "colab_type": "text"
      },
      "cell_type": "markdown",
      "source": [
        "Out of all 4 models considered, fast text appears to perform best followed by BERT, fast ai and LSTM."
      ]
    }
  ]
}