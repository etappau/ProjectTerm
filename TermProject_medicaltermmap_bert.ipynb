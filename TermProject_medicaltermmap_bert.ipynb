{
  "nbformat": 4,
  "nbformat_minor": 0,
  "metadata": {
    "colab": {
      "name": "TermProject_medicaltermmap_bert.ipynb",
      "version": "0.3.2",
      "provenance": [],
      "collapsed_sections": [],
      "include_colab_link": true
    },
    "kernelspec": {
      "name": "python3",
      "display_name": "Python 3"
    },
    "accelerator": "GPU"
  },
  "cells": [
    {
      "cell_type": "markdown",
      "metadata": {
        "id": "view-in-github",
        "colab_type": "text"
      },
      "source": [
        "<a href=\"https://colab.research.google.com/github/etappau/ProjectTerm/blob/master/TermProject_medicaltermmap_bert.ipynb\" target=\"_parent\"><img src=\"https://colab.research.google.com/assets/colab-badge.svg\" alt=\"Open In Colab\"/></a>"
      ]
    },
    {
      "metadata": {
        "id": "PSbKT7Oigg4D",
        "colab_type": "code",
        "colab": {}
      },
      "cell_type": "code",
      "source": [
        "import pandas as pd"
      ],
      "execution_count": 0,
      "outputs": []
    },
    {
      "metadata": {
        "id": "Mw3bKyfchRP0",
        "colab_type": "code",
        "colab": {}
      },
      "cell_type": "code",
      "source": [
        "train0 = pd.read_csv('AskAPatient.fold-0.train.txt', encoding='ISO-8859-1', sep='\\t', header = None)\n",
        "train1 = pd.read_csv('AskAPatient.fold-1.train.txt', encoding='ISO-8859-1', sep='\\t', header = None)\n",
        "train2 = pd.read_csv('AskAPatient.fold-2.train.txt', encoding='ISO-8859-1', sep='\\t', header = None)\n",
        "train3 = pd.read_csv('AskAPatient.fold-3.train.txt', encoding='ISO-8859-1', sep='\\t', header = None)\n",
        "train4 = pd.read_csv('AskAPatient.fold-4.train.txt', encoding='ISO-8859-1', sep='\\t', header = None)\n",
        "train5 = pd.read_csv('AskAPatient.fold-5.train.txt', encoding='ISO-8859-1', sep='\\t', header = None)\n",
        "train6 = pd.read_csv('AskAPatient.fold-6.train.txt', encoding='ISO-8859-1', sep='\\t', header = None)\n",
        "train7 = pd.read_csv('AskAPatient.fold-7.train.txt', encoding='ISO-8859-1', sep='\\t', header = None)\n",
        "train8 = pd.read_csv('AskAPatient.fold-8.train.txt', encoding='ISO-8859-1', sep='\\t', header = None)\n",
        "train9 = pd.read_csv('AskAPatient.fold-9.train.txt', encoding='ISO-8859-1', sep='\\t', header = None)"
      ],
      "execution_count": 0,
      "outputs": []
    },
    {
      "metadata": {
        "id": "fgcQOQ8VvMw1",
        "colab_type": "code",
        "colab": {}
      },
      "cell_type": "code",
      "source": [
        "frames = [train0, train1, train2, train3, train4, train5, train6, train7, train8, train9]"
      ],
      "execution_count": 0,
      "outputs": []
    },
    {
      "metadata": {
        "id": "jARG1q6NvnUx",
        "colab_type": "code",
        "colab": {}
      },
      "cell_type": "code",
      "source": [
        "train = pd.concat(frames)"
      ],
      "execution_count": 0,
      "outputs": []
    },
    {
      "metadata": {
        "id": "hMPHW1MyCyr9",
        "colab_type": "code",
        "colab": {}
      },
      "cell_type": "code",
      "source": [
        "train.columns = ['CUID', 'Disease', 'Patient Complaint Narrative']"
      ],
      "execution_count": 0,
      "outputs": []
    },
    {
      "metadata": {
        "id": "YMaNz6aBSYsZ",
        "colab_type": "code",
        "colab": {}
      },
      "cell_type": "code",
      "source": [
        "#train = train.drop_duplicates(subset=['CUID', 'Disease', 'Patient Complaint Narrative'],keep='first')"
      ],
      "execution_count": 0,
      "outputs": []
    },
    {
      "metadata": {
        "id": "D-P_i4yoScJV",
        "colab_type": "code",
        "outputId": "3a696c4b-f9ba-4733-dd49-8cd0ec1163c9",
        "colab": {
          "base_uri": "https://localhost:8080/",
          "height": 35
        }
      },
      "cell_type": "code",
      "source": [
        "train.shape"
      ],
      "execution_count": 8,
      "outputs": [
        {
          "output_type": "execute_result",
          "data": {
            "text/plain": [
              "(156652, 3)"
            ]
          },
          "metadata": {
            "tags": []
          },
          "execution_count": 8
        }
      ]
    },
    {
      "metadata": {
        "id": "zZosC_skvtbQ",
        "colab_type": "code",
        "colab": {}
      },
      "cell_type": "code",
      "source": [
        "valid0 = pd.read_csv('AskAPatient.fold-0.validation.txt', encoding='ISO-8859-1', sep='\\t', header = None)\n",
        "valid1 = pd.read_csv('AskAPatient.fold-1.validation.txt', encoding='ISO-8859-1', sep='\\t', header = None)\n",
        "valid2 = pd.read_csv('AskAPatient.fold-2.validation.txt', encoding='ISO-8859-1', sep='\\t', header = None)\n",
        "valid3 = pd.read_csv('AskAPatient.fold-3.validation.txt', encoding='ISO-8859-1', sep='\\t', header = None)\n",
        "valid4 = pd.read_csv('AskAPatient.fold-4.validation.txt', encoding='ISO-8859-1', sep='\\t', header = None)\n",
        "valid5 = pd.read_csv('AskAPatient.fold-5.validation.txt', encoding='ISO-8859-1', sep='\\t', header = None)\n",
        "valid6 = pd.read_csv('AskAPatient.fold-6.validation.txt', encoding='ISO-8859-1', sep='\\t', header = None)\n",
        "valid7 = pd.read_csv('AskAPatient.fold-7.validation.txt', encoding='ISO-8859-1', sep='\\t', header = None)\n",
        "valid8 = pd.read_csv('AskAPatient.fold-8.validation.txt', encoding='ISO-8859-1', sep='\\t', header = None)\n",
        "valid9 = pd.read_csv('AskAPatient.fold-9.validation.txt', encoding='ISO-8859-1', sep='\\t', header = None)"
      ],
      "execution_count": 0,
      "outputs": []
    },
    {
      "metadata": {
        "id": "910dHhqHvuxA",
        "colab_type": "code",
        "colab": {}
      },
      "cell_type": "code",
      "source": [
        "testframes = [valid0, valid1, valid2, valid3, valid4, valid5, valid6, valid7, valid8, valid9]"
      ],
      "execution_count": 0,
      "outputs": []
    },
    {
      "metadata": {
        "id": "0G4nauwzCsU5",
        "colab_type": "code",
        "colab": {}
      },
      "cell_type": "code",
      "source": [
        "test = pd.concat(testframes)"
      ],
      "execution_count": 0,
      "outputs": []
    },
    {
      "metadata": {
        "id": "ALgEiLKGvvm2",
        "colab_type": "code",
        "colab": {}
      },
      "cell_type": "code",
      "source": [
        "test.columns = ['CUID', 'Disease', 'Patient Complaint Narrative']"
      ],
      "execution_count": 0,
      "outputs": []
    },
    {
      "metadata": {
        "id": "a0XUKFqzSngb",
        "colab_type": "code",
        "colab": {}
      },
      "cell_type": "code",
      "source": [
        "#test = test.drop_duplicates(subset=['CUID', 'Disease', 'Patient Complaint Narrative'],keep='first')"
      ],
      "execution_count": 0,
      "outputs": []
    },
    {
      "metadata": {
        "id": "OzPcKJEw0Lof",
        "colab_type": "code",
        "outputId": "bbba489c-0779-426a-cfcf-d9fa6632323c",
        "colab": {
          "base_uri": "https://localhost:8080/",
          "height": 35
        }
      },
      "cell_type": "code",
      "source": [
        "test.shape"
      ],
      "execution_count": 14,
      "outputs": [
        {
          "output_type": "execute_result",
          "data": {
            "text/plain": [
              "(7926, 3)"
            ]
          },
          "metadata": {
            "tags": []
          },
          "execution_count": 14
        }
      ]
    },
    {
      "metadata": {
        "id": "Pq1UAC9-C-dq",
        "colab_type": "code",
        "colab": {}
      },
      "cell_type": "code",
      "source": [
        "import re\n",
        "import string"
      ],
      "execution_count": 0,
      "outputs": []
    },
    {
      "metadata": {
        "id": "aoS8FOLuwe1s",
        "colab_type": "code",
        "outputId": "d32d6aa3-049f-411f-8e01-0f089657ea95",
        "colab": {
          "base_uri": "https://localhost:8080/",
          "height": 72
        }
      },
      "cell_type": "code",
      "source": [
        "import nltk\n",
        "nltk.download('stopwords')"
      ],
      "execution_count": 16,
      "outputs": [
        {
          "output_type": "stream",
          "text": [
            "[nltk_data] Downloading package stopwords to /root/nltk_data...\n",
            "[nltk_data]   Unzipping corpora/stopwords.zip.\n"
          ],
          "name": "stdout"
        },
        {
          "output_type": "execute_result",
          "data": {
            "text/plain": [
              "True"
            ]
          },
          "metadata": {
            "tags": []
          },
          "execution_count": 16
        }
      ]
    },
    {
      "metadata": {
        "id": "HzzIvvZ7DGSt",
        "colab_type": "code",
        "colab": {}
      },
      "cell_type": "code",
      "source": [
        "from nltk.corpus import stopwords"
      ],
      "execution_count": 0,
      "outputs": []
    },
    {
      "metadata": {
        "id": "brsnZgu9LS5w",
        "colab_type": "code",
        "colab": {}
      },
      "cell_type": "code",
      "source": [
        "stop_words = set(stopwords.words('english'))\n",
        "REPLACE_BY_SPACE_RE = re.compile('[/(){}\\[\\]\\|@,;]')\n",
        "BAD_SYMBOLS_RE = re.compile('[^0-9a-z #+_]')\n",
        "\n",
        "def clean_text(text):\n",
        "    \"\"\"\n",
        "        text: a string\n",
        "        \n",
        "        return: modified initial string\n",
        "    \"\"\"\n",
        "    text = text.lower() # lowercase text\n",
        "    text = REPLACE_BY_SPACE_RE.sub(' ', text) # replace REPLACE_BY_SPACE_RE symbols by space in text. substitute the matched string in REPLACE_BY_SPACE_RE with space.\n",
        "    text = BAD_SYMBOLS_RE.sub('', text) # remove symbols which are in BAD_SYMBOLS_RE from text. substitute the matched string in BAD_SYMBOLS_RE with nothing. \n",
        "    text = ' '.join(word for word in text.split() if word not in stop_words) # remove stopwors from text\n",
        "    return text"
      ],
      "execution_count": 0,
      "outputs": []
    },
    {
      "metadata": {
        "id": "0heZOIrGDK3Z",
        "colab_type": "code",
        "colab": {}
      },
      "cell_type": "code",
      "source": [
        "train['Patient Complaint Narrative'] = train['Patient Complaint Narrative'].apply(clean_text)\n",
        "train['Patient Complaint Narrative'] = train['Patient Complaint Narrative'].str.replace('\\d+', '')\n",
        "train['Disease'] = train['Disease'].apply(clean_text)\n",
        "train['Disease'] = train['Disease'].str.replace('\\d+', '')"
      ],
      "execution_count": 0,
      "outputs": []
    },
    {
      "metadata": {
        "id": "Wtr5qX6fLrHK",
        "colab_type": "code",
        "colab": {}
      },
      "cell_type": "code",
      "source": [
        "test['Patient Complaint Narrative'] = test['Patient Complaint Narrative'].apply(clean_text)\n",
        "test['Patient Complaint Narrative'] = test['Patient Complaint Narrative'].str.replace('\\d+', '')\n",
        "test['Disease'] = test['Disease'].apply(clean_text)\n",
        "test['Disease'] = test['Disease'].str.replace('\\d+', '')"
      ],
      "execution_count": 0,
      "outputs": []
    },
    {
      "metadata": {
        "id": "U6mn3Z_xv3RO",
        "colab_type": "code",
        "colab": {
          "base_uri": "https://localhost:8080/",
          "height": 1143
        },
        "outputId": "c21a1785-136b-4315-b720-174789a7b82e"
      },
      "cell_type": "code",
      "source": [
        "train.CUID.value_counts()"
      ],
      "execution_count": 21,
      "outputs": [
        {
          "output_type": "execute_result",
          "data": {
            "text/plain": [
              "3877011000036101     19352\n",
              "22253000              6707\n",
              "68962001              4796\n",
              "76948002              3538\n",
              "55300003              2514\n",
              "84229001              2510\n",
              "57676002              2463\n",
              "35489007              2146\n",
              "162076009             2131\n",
              "25064002              2076\n",
              "13791008              1937\n",
              "161891005             1525\n",
              "10601006              1523\n",
              "62315008              1363\n",
              "26544005              1327\n",
              "449917004             1321\n",
              "62507009              1315\n",
              "48167000              1306\n",
              "193462001             1281\n",
              "49218002              1278\n",
              "404640003             1213\n",
              "228158008             1157\n",
              "422587007             1149\n",
              "30989003              1132\n",
              "3384011000036100      1126\n",
              "45326000              1082\n",
              "271681002             1042\n",
              "47933007               985\n",
              "309774006              953\n",
              "3723001                919\n",
              "                     ...  \n",
              "22193007                16\n",
              "300888008               16\n",
              "77426011000036108       16\n",
              "309256001               16\n",
              "248581005               16\n",
              "3934011000036103        16\n",
              "4106009                 16\n",
              "225473001               16\n",
              "271873000               16\n",
              "44169009                16\n",
              "90128006                16\n",
              "247806005               16\n",
              "308921004               16\n",
              "82883008                16\n",
              "289669005               16\n",
              "37787011000036104       16\n",
              "61777011000036104       16\n",
              "414469009               16\n",
              "428724006               16\n",
              "52072009                16\n",
              "61462000                16\n",
              "69215007                16\n",
              "14304000                16\n",
              "282475008               16\n",
              "443694000               16\n",
              "301717006               15\n",
              "70323002                15\n",
              "424131007               15\n",
              "249990003               15\n",
              "21540011000036109       15\n",
              "Name: CUID, Length: 1036, dtype: int64"
            ]
          },
          "metadata": {
            "tags": []
          },
          "execution_count": 21
        }
      ]
    },
    {
      "metadata": {
        "id": "saGa89MlTWuy",
        "colab_type": "code",
        "colab": {
          "base_uri": "https://localhost:8080/",
          "height": 1143
        },
        "outputId": "ebf056d6-cc2c-4fdd-f62d-49311d54c871"
      },
      "cell_type": "code",
      "source": [
        "test.Disease.value_counts()"
      ],
      "execution_count": 22,
      "outputs": [
        {
          "output_type": "execute_result",
          "data": {
            "text/plain": [
              "lipitor                                 1035\n",
              "pain                                     342\n",
              "myalgia                                  239\n",
              "severe pain                              167\n",
              "fatigue                                  150\n",
              "muscle cramp                             127\n",
              "arthralgia                               121\n",
              "depression                               115\n",
              "excessive upper gastrointestinal gas     111\n",
              "headache                                 109\n",
              "asthenia                                  96\n",
              "pain lower limb                           73\n",
              "pins needles                              72\n",
              "backache                                  71\n",
              "insomnia                                  68\n",
              "cramp lower limb                          66\n",
              "knee pain                                 65\n",
              "amnesia                                   62\n",
              "diarrhoea                                 62\n",
              "neck pain                                 61\n",
              "foot pain                                 60\n",
              "muscle weakness                           60\n",
              "dizziness                                 60\n",
              "walking disability                        59\n",
              "shoulder pain                             58\n",
              "weakness limb                             54\n",
              "hip pain                                  52\n",
              "arthrotec                                 52\n",
              "arthritis                                 50\n",
              "nausea                                    48\n",
              "                                        ... \n",
              "voltaren rapid                             1\n",
              "dementia                                   1\n",
              "aphasia                                    1\n",
              "shoulder stiff                             1\n",
              "isolated memory skills                     1\n",
              "right hemiparesis                          1\n",
              "lasix                                      1\n",
              "malignant tumour colon                     1\n",
              "impairment level vision                    1\n",
              "abdominal muscles tense                    1\n",
              "dextropropoxyphene + paracetamol           1\n",
              "zantac                                     1\n",
              "malignant neoplasm bone                    1\n",
              "gemfibrozil                                1\n",
              "omeprazole                                 1\n",
              "lisinopril                                 1\n",
              "mild pain                                  1\n",
              "toothache                                  1\n",
              "parvovirus infection                       1\n",
              "intervertebral disc prolapse               1\n",
              "pravastatin                                1\n",
              "urinary retention                          1\n",
              "clicking knee                              1\n",
              "polymenorrhoea                             1\n",
              "enalapril                                  1\n",
              "rhinitis                                   1\n",
              "abdominal distension gaseous               1\n",
              "dark stools                                1\n",
              "moderate pain                              1\n",
              "joint swelling                             1\n",
              "Name: Disease, Length: 836, dtype: int64"
            ]
          },
          "metadata": {
            "tags": []
          },
          "execution_count": 22
        }
      ]
    },
    {
      "metadata": {
        "id": "8qzxO8NfPkLV",
        "colab_type": "code",
        "colab": {}
      },
      "cell_type": "code",
      "source": [
        "from collections import Counter"
      ],
      "execution_count": 0,
      "outputs": []
    },
    {
      "metadata": {
        "id": "H6J4T-y_TOw-",
        "colab_type": "code",
        "colab": {
          "base_uri": "https://localhost:8080/",
          "height": 18202
        },
        "outputId": "18676f75-10dd-4b55-8f77-f56da2e5d45b"
      },
      "cell_type": "code",
      "source": [
        "Counter(train[\"CUID\"])"
      ],
      "execution_count": 24,
      "outputs": [
        {
          "output_type": "execute_result",
          "data": {
            "text/plain": [
              "Counter({108367008: 18,\n",
              "         3384011000036100: 1126,\n",
              "         166717003: 184,\n",
              "         3877011000036101: 19352,\n",
              "         402234004: 17,\n",
              "         404640003: 1213,\n",
              "         271681002: 1042,\n",
              "         76948002: 3538,\n",
              "         36031001: 200,\n",
              "         42399005: 149,\n",
              "         288227007: 70,\n",
              "         419723007: 695,\n",
              "         248490000: 614,\n",
              "         22253000: 6707,\n",
              "         162076009: 2131,\n",
              "         247592009: 582,\n",
              "         62507009: 1315,\n",
              "         25064002: 2076,\n",
              "         48694002: 636,\n",
              "         386807006: 674,\n",
              "         271807003: 489,\n",
              "         69813011000036107: 54,\n",
              "         57676002: 2463,\n",
              "         308925008: 55,\n",
              "         386692008: 183,\n",
              "         9126005: 73,\n",
              "         55300003: 2514,\n",
              "         48167000: 1306,\n",
              "         84229001: 2510,\n",
              "         247640008: 232,\n",
              "         399114005: 73,\n",
              "         21288011000036105: 199,\n",
              "         21930011000036101: 303,\n",
              "         426206001: 252,\n",
              "         444827008: 72,\n",
              "         68962001: 4796,\n",
              "         279039007: 653,\n",
              "         301345002: 433,\n",
              "         230145002: 179,\n",
              "         931804011000036107: 176,\n",
              "         271594007: 91,\n",
              "         18963009: 292,\n",
              "         3424008: 127,\n",
              "         58901008: 19,\n",
              "         30989003: 1132,\n",
              "         81680005: 872,\n",
              "         49218002: 1278,\n",
              "         26544005: 1327,\n",
              "         4031011000036106: 361,\n",
              "         10601006: 1523,\n",
              "         271137009: 37,\n",
              "         39575007: 141,\n",
              "         77435011000036104: 404,\n",
              "         62315008: 1363,\n",
              "         13791008: 1937,\n",
              "         60119000: 344,\n",
              "         401269004: 19,\n",
              "         30473006: 54,\n",
              "         3003011000036100: 19,\n",
              "         240131006: 144,\n",
              "         35489007: 2146,\n",
              "         162031009: 221,\n",
              "         55929007: 364,\n",
              "         2929011000036108: 35,\n",
              "         29857009: 545,\n",
              "         128139000: 178,\n",
              "         418290006: 396,\n",
              "         22298006: 829,\n",
              "         247441003: 71,\n",
              "         289530006: 366,\n",
              "         26329005: 200,\n",
              "         267064002: 75,\n",
              "         429513001: 37,\n",
              "         282145008: 455,\n",
              "         61387006: 36,\n",
              "         386661006: 143,\n",
              "         367391008: 296,\n",
              "         82991003: 677,\n",
              "         40806005: 35,\n",
              "         15611000168108: 19,\n",
              "         309774006: 953,\n",
              "         422400008: 326,\n",
              "         161891005: 1525,\n",
              "         8708008: 111,\n",
              "         250082003: 110,\n",
              "         224960004: 689,\n",
              "         429783005: 166,\n",
              "         248255005: 405,\n",
              "         238810007: 160,\n",
              "         25701000168107: 19,\n",
              "         14760008: 636,\n",
              "         44077006: 462,\n",
              "         49727002: 180,\n",
              "         69791001: 145,\n",
              "         271782001: 254,\n",
              "         124055002: 36,\n",
              "         4171011000036100: 221,\n",
              "         54981004: 395,\n",
              "         102551008: 240,\n",
              "         88092000: 678,\n",
              "         6285003: 19,\n",
              "         278528006: 107,\n",
              "         77424011000036100: 760,\n",
              "         267031002: 381,\n",
              "         60862001: 288,\n",
              "         83547004: 72,\n",
              "         299954009: 36,\n",
              "         5662003: 19,\n",
              "         3723001: 919,\n",
              "         428061005: 74,\n",
              "         309537005: 146,\n",
              "         49049000: 218,\n",
              "         8357008: 386,\n",
              "         62476001: 109,\n",
              "         302226006: 237,\n",
              "         21522001: 417,\n",
              "         44054006: 113,\n",
              "         445445006: 52,\n",
              "         76742009: 70,\n",
              "         274279008: 92,\n",
              "         53057004: 270,\n",
              "         82971005: 73,\n",
              "         449917004: 1321,\n",
              "         13644009: 18,\n",
              "         288226003: 142,\n",
              "         202490009: 19,\n",
              "         301676004: 159,\n",
              "         56265001: 385,\n",
              "         161874006: 71,\n",
              "         102556003: 453,\n",
              "         26889001: 57,\n",
              "         224962007: 50,\n",
              "         162290004: 126,\n",
              "         4216011000036104: 107,\n",
              "         162059005: 461,\n",
              "         3298011000036103: 95,\n",
              "         166830008: 254,\n",
              "         53523011000036100: 76,\n",
              "         3904011000036106: 871,\n",
              "         80313002: 237,\n",
              "         422587007: 1149,\n",
              "         8943002: 380,\n",
              "         10743008: 54,\n",
              "         271587009: 461,\n",
              "         274676007: 54,\n",
              "         7006003: 55,\n",
              "         45326000: 1082,\n",
              "         250069006: 126,\n",
              "         279038004: 108,\n",
              "         23924001: 129,\n",
              "         47933007: 985,\n",
              "         67849003: 252,\n",
              "         278040002: 877,\n",
              "         262966007: 17,\n",
              "         70076002: 37,\n",
              "         225482007: 18,\n",
              "         95891005: 482,\n",
              "         301202006: 92,\n",
              "         87715008: 176,\n",
              "         69896004: 163,\n",
              "         286641001: 196,\n",
              "         3589011000036101: 19,\n",
              "         399153001: 457,\n",
              "         426899007: 106,\n",
              "         57182000: 128,\n",
              "         21911011000036104: 19,\n",
              "         297142003: 157,\n",
              "         284151004: 37,\n",
              "         24693007: 325,\n",
              "         228158008: 1157,\n",
              "         40917007: 277,\n",
              "         48532005: 72,\n",
              "         267953003: 91,\n",
              "         289195008: 142,\n",
              "         70153002: 37,\n",
              "         7011001: 53,\n",
              "         249913002: 110,\n",
              "         51197009: 507,\n",
              "         37787011000036104: 16,\n",
              "         314983004: 19,\n",
              "         28551000168108: 490,\n",
              "         24184005: 219,\n",
              "         250084002: 257,\n",
              "         31911000168108: 18,\n",
              "         248277009: 127,\n",
              "         21433011000036107: 71,\n",
              "         225624000: 127,\n",
              "         129565002: 617,\n",
              "         3736011000036100: 18,\n",
              "         24199005: 89,\n",
              "         202480001: 92,\n",
              "         267044007: 144,\n",
              "         48500005: 165,\n",
              "         282180007: 56,\n",
              "         56317004: 35,\n",
              "         80449002: 492,\n",
              "         69867011000036102: 18,\n",
              "         193462001: 1281,\n",
              "         65124004: 292,\n",
              "         102480002: 104,\n",
              "         9991008: 218,\n",
              "         84480002: 19,\n",
              "         397540003: 54,\n",
              "         24700007: 235,\n",
              "         3848011000036104: 553,\n",
              "         89362005: 112,\n",
              "         1402001: 53,\n",
              "         16386004: 160,\n",
              "         285365001: 200,\n",
              "         55533009: 178,\n",
              "         282926000: 18,\n",
              "         267052005: 368,\n",
              "         299377003: 17,\n",
              "         73211009: 302,\n",
              "         248262001: 37,\n",
              "         21242011000036102: 256,\n",
              "         247323005: 89,\n",
              "         3559011000036109: 104,\n",
              "         307074005: 17,\n",
              "         288230000: 109,\n",
              "         42984000: 55,\n",
              "         77692006: 199,\n",
              "         60032008: 418,\n",
              "         162351000: 18,\n",
              "         84017003: 93,\n",
              "         225508006: 19,\n",
              "         277521002: 290,\n",
              "         699368004: 19,\n",
              "         26079004: 343,\n",
              "         372283008: 19,\n",
              "         298170003: 18,\n",
              "         237130006: 54,\n",
              "         63102001: 417,\n",
              "         90708001: 144,\n",
              "         36971009: 53,\n",
              "         32914008: 200,\n",
              "         246636008: 666,\n",
              "         83421005: 35,\n",
              "         699262001: 19,\n",
              "         34436003: 144,\n",
              "         34840004: 237,\n",
              "         26677001: 19,\n",
              "         288885009: 72,\n",
              "         80690008: 90,\n",
              "         102564009: 19,\n",
              "         64226004: 56,\n",
              "         425423002: 183,\n",
              "         47004009: 87,\n",
              "         271832001: 109,\n",
              "         271584002: 19,\n",
              "         609600000: 56,\n",
              "         285395009: 37,\n",
              "         21134002: 54,\n",
              "         84445001: 164,\n",
              "         81498004: 36,\n",
              "         162116003: 57,\n",
              "         44186003: 38,\n",
              "         387603000: 323,\n",
              "         78514002: 218,\n",
              "         3080011000036109: 147,\n",
              "         162352007: 110,\n",
              "         80182007: 52,\n",
              "         41652007: 38,\n",
              "         287047008: 70,\n",
              "         36349006: 144,\n",
              "         77442011000036106: 19,\n",
              "         22095011000036109: 19,\n",
              "         397825006: 73,\n",
              "         285849008: 35,\n",
              "         698247007: 54,\n",
              "         161882006: 195,\n",
              "         40095003: 37,\n",
              "         86651002: 106,\n",
              "         267032009: 233,\n",
              "         93478000: 18,\n",
              "         397803000: 38,\n",
              "         36955009: 89,\n",
              "         249914008: 38,\n",
              "         427475007: 35,\n",
              "         67362008: 18,\n",
              "         247373008: 339,\n",
              "         450316000: 17,\n",
              "         90673000: 412,\n",
              "         2733002: 179,\n",
              "         247472004: 55,\n",
              "         162397003: 130,\n",
              "         415690000: 142,\n",
              "         68172002: 18,\n",
              "         266599000: 36,\n",
              "         214264003: 166,\n",
              "         235856003: 271,\n",
              "         130989002: 53,\n",
              "         68235000: 35,\n",
              "         119416008: 19,\n",
              "         429040005: 56,\n",
              "         247994001: 19,\n",
              "         282299006: 181,\n",
              "         21545007: 92,\n",
              "         72405004: 74,\n",
              "         16046003: 150,\n",
              "         300954003: 439,\n",
              "         79012001: 19,\n",
              "         249915009: 74,\n",
              "         2764000: 37,\n",
              "         87486003: 75,\n",
              "         267036007: 376,\n",
              "         12584003: 56,\n",
              "         8510008: 127,\n",
              "         8392000: 53,\n",
              "         86094006: 19,\n",
              "         262286000: 108,\n",
              "         609599003: 37,\n",
              "         386805003: 17,\n",
              "         284262007: 37,\n",
              "         361137007: 54,\n",
              "         230690007: 234,\n",
              "         76376003: 19,\n",
              "         162221009: 35,\n",
              "         225013001: 19,\n",
              "         414469009: 16,\n",
              "         55145008: 90,\n",
              "         248491001: 90,\n",
              "         310497006: 146,\n",
              "         54020011000036108: 19,\n",
              "         15188001: 17,\n",
              "         289669005: 16,\n",
              "         21565011000036108: 123,\n",
              "         288231001: 325,\n",
              "         3191011000036109: 18,\n",
              "         307731004: 17,\n",
              "         396275006: 72,\n",
              "         248274002: 416,\n",
              "         238131007: 54,\n",
              "         73595000: 178,\n",
              "         32398004: 74,\n",
              "         102943000: 55,\n",
              "         131148009: 433,\n",
              "         271767006: 54,\n",
              "         698065002: 251,\n",
              "         4969004: 19,\n",
              "         77422011000036109: 37,\n",
              "         21417011000036105: 275,\n",
              "         32643011000036106: 55,\n",
              "         43116000: 73,\n",
              "         418363000: 183,\n",
              "         424647005: 56,\n",
              "         609410002: 19,\n",
              "         75694006: 72,\n",
              "         77436011000036106: 161,\n",
              "         15203004: 18,\n",
              "         35678005: 36,\n",
              "         44695005: 54,\n",
              "         38341003: 165,\n",
              "         300381009: 36,\n",
              "         386705008: 408,\n",
              "         274663001: 91,\n",
              "         271801002: 54,\n",
              "         444899003: 33,\n",
              "         271870002: 75,\n",
              "         102598000: 32,\n",
              "         56731001: 73,\n",
              "         225549006: 36,\n",
              "         418092006: 69,\n",
              "         162043005: 75,\n",
              "         3530011000036104: 113,\n",
              "         70733008: 88,\n",
              "         37796009: 257,\n",
              "         124054003: 400,\n",
              "         85418005: 89,\n",
              "         40196000: 37,\n",
              "         370143000: 38,\n",
              "         419511003: 18,\n",
              "         69215007: 16,\n",
              "         46991000: 37,\n",
              "         165247006: 108,\n",
              "         398032003: 129,\n",
              "         3210011000036104: 51,\n",
              "         40733004: 65,\n",
              "         423849004: 18,\n",
              "         90446007: 57,\n",
              "         45534005: 19,\n",
              "         90560007: 179,\n",
              "         301026000: 19,\n",
              "         225609009: 142,\n",
              "         202852009: 37,\n",
              "         59927004: 36,\n",
              "         249902000: 36,\n",
              "         386033004: 254,\n",
              "         225014007: 71,\n",
              "         249931001: 17,\n",
              "         118932009: 55,\n",
              "         43364001: 18,\n",
              "         53215011000036102: 162,\n",
              "         3572011000036102: 53,\n",
              "         161156004: 18,\n",
              "         266257000: 38,\n",
              "         200936003: 200,\n",
              "         235594008: 17,\n",
              "         79890006: 181,\n",
              "         84946008: 34,\n",
              "         300043006: 19,\n",
              "         33308003: 34,\n",
              "         16269008: 51,\n",
              "         82272006: 36,\n",
              "         103281005: 18,\n",
              "         304534000: 37,\n",
              "         74323005: 252,\n",
              "         27355003: 37,\n",
              "         76000011000036107: 37,\n",
              "         431416001: 198,\n",
              "         80954004: 19,\n",
              "         271737000: 35,\n",
              "         443798008: 17,\n",
              "         297217002: 88,\n",
              "         309557009: 55,\n",
              "         35918011000036106: 32,\n",
              "         6211002: 19,\n",
              "         45352006: 275,\n",
              "         249966004: 181,\n",
              "         61599003: 36,\n",
              "         78584011000036106: 36,\n",
              "         230736007: 19,\n",
              "         432352001: 73,\n",
              "         128239009: 38,\n",
              "         165232002: 53,\n",
              "         282195009: 93,\n",
              "         289903006: 199,\n",
              "         167232003: 54,\n",
              "         193093009: 92,\n",
              "         300306001: 125,\n",
              "         52613005: 111,\n",
              "         46206005: 19,\n",
              "         271713000: 37,\n",
              "         46635009: 52,\n",
              "         429340002: 38,\n",
              "         699302001: 18,\n",
              "         444312002: 17,\n",
              "         283902008: 17,\n",
              "         34839011000036106: 33,\n",
              "         21676011000036101: 18,\n",
              "         6205011000036102: 53,\n",
              "         248236005: 72,\n",
              "         267949000: 90,\n",
              "         197321007: 109,\n",
              "         57406009: 69,\n",
              "         165509000: 36,\n",
              "         161833006: 19,\n",
              "         277223000: 55,\n",
              "         81680008: 36,\n",
              "         52448006: 37,\n",
              "         56608008: 108,\n",
              "         258155009: 73,\n",
              "         50219008: 73,\n",
              "         193000002: 19,\n",
              "         22325002: 56,\n",
              "         160685001: 19,\n",
              "         282937004: 19,\n",
              "         82639001: 19,\n",
              "         18193002: 55,\n",
              "         280816001: 54,\n",
              "         284149003: 17,\n",
              "         274141009: 18,\n",
              "         39400004: 71,\n",
              "         128601007: 19,\n",
              "         53458011000036102: 162,\n",
              "         449918009: 132,\n",
              "         4344011000036106: 109,\n",
              "         248653008: 19,\n",
              "         39104002: 196,\n",
              "         278999000: 19,\n",
              "         202484005: 19,\n",
              "         288939007: 144,\n",
              "         18101008: 36,\n",
              "         105981003: 17,\n",
              "         43724002: 128,\n",
              "         64379006: 17,\n",
              "         301679006: 57,\n",
              "         239720000: 54,\n",
              "         166848004: 56,\n",
              "         230645003: 19,\n",
              "         246676003: 37,\n",
              "         247408001: 19,\n",
              "         193570009: 17,\n",
              "         16331000: 177,\n",
              "         77461011000036109: 92,\n",
              "         297144002: 17,\n",
              "         309536001: 73,\n",
              "         363499005: 18,\n",
              "         21885011000036105: 220,\n",
              "         77547008: 36,\n",
              "         95418008: 56,\n",
              "         363346000: 93,\n",
              "         60238002: 328,\n",
              "         86044005: 276,\n",
              "         21540011000036109: 15,\n",
              "         398151007: 17,\n",
              "         386806002: 89,\n",
              "         71262003: 17,\n",
              "         267950000: 36,\n",
              "         267039000: 127,\n",
              "         283121001: 18,\n",
              "         47401000168109: 18,\n",
              "         102565005: 19,\n",
              "         225601007: 36,\n",
              "         429360005: 17,\n",
              "         299037003: 53,\n",
              "         29542008: 144,\n",
              "         49601007: 18,\n",
              "         129103003: 56,\n",
              "         61372001: 55,\n",
              "         14304000: 16,\n",
              "         116289008: 74,\n",
              "         367466007: 35,\n",
              "         249918006: 37,\n",
              "         91019004: 34,\n",
              "         202882003: 141,\n",
              "         4249000: 37,\n",
              "         248966006: 18,\n",
              "         21005005: 38,\n",
              "         11072008: 37,\n",
              "         249903005: 18,\n",
              "         248096004: 110,\n",
              "         84114007: 19,\n",
              "         4138011000036106: 57,\n",
              "         399044006: 18,\n",
              "         288228002: 126,\n",
              "         21395011000036107: 18,\n",
              "         373931001: 71,\n",
              "         247806005: 16,\n",
              "         53430007: 73,\n",
              "         6206011000036109: 55,\n",
              "         21821011000036104: 52,\n",
              "         298753001: 87,\n",
              "         161873000: 161,\n",
              "         39621005: 34,\n",
              "         315642008: 17,\n",
              "         21589011000036108: 17,\n",
              "         83901003: 17,\n",
              "         249940002: 35,\n",
              "         6389006: 18,\n",
              "         209777000: 17,\n",
              "         249489001: 51,\n",
              "         236423003: 54,\n",
              "         95847005: 54,\n",
              "         300650009: 18,\n",
              "         235999009: 17,\n",
              "         250991000119100: 17,\n",
              "         249938007: 73,\n",
              "         125667009: 70,\n",
              "         254935002: 19,\n",
              "         29164008: 36,\n",
              "         61777011000036104: 16,\n",
              "         32798002: 57,\n",
              "         40930008: 35,\n",
              "         213257006: 123,\n",
              "         247347003: 89,\n",
              "         47268002: 90,\n",
              "         82423001: 56,\n",
              "         18876004: 107,\n",
              "         315224006: 54,\n",
              "         21839011000036103: 19,\n",
              "         248132003: 57,\n",
              "         473011001: 35,\n",
              "         267079009: 38,\n",
              "         267045008: 35,\n",
              "         300439004: 17,\n",
              "         371632003: 38,\n",
              "         16973004: 165,\n",
              "         225610004: 53,\n",
              "         4422011000036109: 36,\n",
              "         284140004: 73,\n",
              "         53741008: 52,\n",
              "         166643006: 195,\n",
              "         923927011000036105: 19,\n",
              "         266601003: 36,\n",
              "         64766004: 19,\n",
              "         274646000: 18,\n",
              "         282475008: 16,\n",
              "         3563011000036102: 18,\n",
              "         233604007: 34,\n",
              "         276444007: 18,\n",
              "         129859006: 18,\n",
              "         309086004: 148,\n",
              "         230490003: 18,\n",
              "         68566005: 49,\n",
              "         279093005: 19,\n",
              "         247753000: 74,\n",
              "         195967001: 108,\n",
              "         21499005: 18,\n",
              "         423052008: 19,\n",
              "         46040000: 17,\n",
              "         102897001: 37,\n",
              "         21238011000036103: 38,\n",
              "         415749005: 38,\n",
              "         281245003: 73,\n",
              "         302188001: 17,\n",
              "         13543005: 19,\n",
              "         102572006: 36,\n",
              "         249985001: 17,\n",
              "         298751004: 19,\n",
              "         102911000: 18,\n",
              "         14151009: 55,\n",
              "         398979000: 17,\n",
              "         103002009: 56,\n",
              "         371081002: 36,\n",
              "         271596009: 19,\n",
              "         26237000: 55,\n",
              "         21496011000036106: 109,\n",
              "         424582000: 18,\n",
              "         310495003: 35,\n",
              "         309521004: 201,\n",
              "         387801000: 19,\n",
              "         444702007: 18,\n",
              "         8009008: 19,\n",
              "         21322011000036108: 36,\n",
              "         399122003: 72,\n",
              "         41982003: 19,\n",
              "         42345000: 17,\n",
              "         6471006: 76,\n",
              "         419145002: 88,\n",
              "         3934011000036103: 16,\n",
              "         271835004: 37,\n",
              "         95320005: 19,\n",
              "         299060006: 75,\n",
              "         237602007: 18,\n",
              "         249912007: 19,\n",
              "         416675009: 17,\n",
              "         101000119102: 56,\n",
              "         34095006: 53,\n",
              "         262558009: 34,\n",
              "         309257005: 19,\n",
              "         249917001: 38,\n",
              "         95453001: 19,\n",
              "         4740000: 55,\n",
              "         59050008: 71,\n",
              "         409589004: 17,\n",
              "         275319005: 72,\n",
              "         59026006: 17,\n",
              "         166892002: 126,\n",
              "         9829001: 17,\n",
              "         439953004: 18,\n",
              "         274667000: 37,\n",
              "         12441001: 19,\n",
              "         419076005: 37,\n",
              "         6142004: 163,\n",
              "         284143002: 36,\n",
              "         236620008: 74,\n",
              "         202472008: 36,\n",
              "         124042003: 18,\n",
              "         95655001: 17,\n",
              "         7393007: 19,\n",
              "         21624011000036105: 19,\n",
              "         271787007: 35,\n",
              "         309087008: 72,\n",
              "         284146005: 17,\n",
              "         64206003: 17,\n",
              "         18165001: 35,\n",
              "         286381004: 36,\n",
              "         271951008: 19,\n",
              "         286651000: 18,\n",
              "         3545003: 35,\n",
              "         68449006: 17,\n",
              "         405729008: 89,\n",
              "         247355005: 17,\n",
              "         17971005: 37,\n",
              "         18718003: 19,\n",
              "         3702011000036109: 19,\n",
              "         4308002: 18,\n",
              "         7973008: 19,\n",
              "         271771009: 18,\n",
              "         60728008: 37,\n",
              "         128605003: 17,\n",
              "         26929004: 73,\n",
              "         428281000: 18,\n",
              "         2297011000036108: 37,\n",
              "         44548000: 35,\n",
              "         203095000: 148,\n",
              "         73589001: 75,\n",
              "         248648003: 17,\n",
              "         13164000: 19,\n",
              "         11654001: 70,\n",
              "         95359001: 35,\n",
              "         39651011000036100: 18,\n",
              "         3253007: 52,\n",
              "         82883008: 16,\n",
              "         55350005: 55,\n",
              "         240014001: 17,\n",
              "         161898004: 54,\n",
              "         21779011000036103: 107,\n",
              "         419581008: 88,\n",
              "         81308009: 19,\n",
              "         103298005: 19,\n",
              "         21719011000036107: 71,\n",
              "         247761005: 18,\n",
              "         23520002: 17,\n",
              "         23919004: 18,\n",
              "         371405004: 54,\n",
              "         14351000168102: 18,\n",
              "         299322007: 54,\n",
              "         78860006: 36,\n",
              "         21252011000036100: 56,\n",
              "         248422003: 19,\n",
              "         177241000036105: 18,\n",
              "         83156004: 18,\n",
              "         248234008: 19,\n",
              "         3066011000036105: 17,\n",
              "         45979003: 35,\n",
              "         425772008: 19,\n",
              "         301657001: 18,\n",
              "         278286009: 18,\n",
              "         309539008: 109,\n",
              "         74732009: 18,\n",
              "         55891002: 19,\n",
              "         6496011000036105: 18,\n",
              "         309538000: 112,\n",
              "         449614009: 35,\n",
              "         249472009: 54,\n",
              "         277890004: 18,\n",
              "         440630006: 19,\n",
              "         415692008: 18,\n",
              "         307077003: 19,\n",
              "         309838005: 19,\n",
              "         35209006: 19,\n",
              "         202855006: 56,\n",
              "         420038007: 110,\n",
              "         443892003: 18,\n",
              "         102938007: 19,\n",
              "         399269003: 36,\n",
              "         64531003: 18,\n",
              "         284136008: 18,\n",
              "         239725005: 18,\n",
              "         166584001: 36,\n",
              "         51590001: 19,\n",
              "         21659011000036107: 37,\n",
              "         6020002: 18,\n",
              "         397541004: 17,\n",
              "         283050005: 19,\n",
              "         373932008: 36,\n",
              "         131078003: 19,\n",
              "         420103007: 37,\n",
              "         161903000: 37,\n",
              "         75088002: 36,\n",
              "         299110002: 17,\n",
              "         301717006: 15,\n",
              "         279084009: 56,\n",
              "         43005009: 37,\n",
              "         361122008: 18,\n",
              "         37714011000036108: 19,\n",
              "         314109004: 72,\n",
              "         699376002: 18,\n",
              "         38181000168109: 18,\n",
              "         246975001: 19,\n",
              "         16001004: 19,\n",
              "         40144003: 19,\n",
              "         111224002: 19,\n",
              "         161876008: 19,\n",
              "         191736004: 18,\n",
              "         308921004: 16,\n",
              "         102498003: 55,\n",
              "         50415004: 18,\n",
              "         309249007: 37,\n",
              "         361138002: 17,\n",
              "         21814011000036109: 18,\n",
              "         38013005: 19,\n",
              "         22193007: 16,\n",
              "         271795006: 17,\n",
              "         45291000168107: 18,\n",
              "         95421005: 54,\n",
              "         43498006: 53,\n",
              "         428724006: 16,\n",
              "         12063002: 71,\n",
              "         48926009: 55,\n",
              "         289621007: 19,\n",
              "         56273005: 19,\n",
              "         75183008: 18,\n",
              "         21486011000036105: 35,\n",
              "         36630001: 37,\n",
              "         38936003: 16,\n",
              "         285397001: 19,\n",
              "         284252000: 18,\n",
              "         15336001: 19,\n",
              "         246682000: 19,\n",
              "         26171000168109: 37,\n",
              "         310501001: 57,\n",
              "         21304011000036105: 18,\n",
              "         249898006: 34,\n",
              "         228148009: 35,\n",
              "         52702003: 54,\n",
              "         443120002: 17,\n",
              "         21747011000036106: 19,\n",
              "         417237009: 56,\n",
              "         445178008: 37,\n",
              "         249366005: 19,\n",
              "         162020001: 19,\n",
              "         55260003: 19,\n",
              "         21286011000036106: 53,\n",
              "         247464001: 55,\n",
              "         21605011000036100: 19,\n",
              "         288225004: 18,\n",
              "         56925008: 19,\n",
              "         134407002: 34,\n",
              "         2531000168109: 35,\n",
              "         102491009: 19,\n",
              "         95570007: 19,\n",
              "         240015000: 17,\n",
              "         85898001: 17,\n",
              "         193031009: 17,\n",
              "         21465011000036101: 18,\n",
              "         37567005: 17,\n",
              "         267073005: 19,\n",
              "         70323002: 15,\n",
              "         271873000: 16,\n",
              "         288332005: 35,\n",
              "         286755001: 36,\n",
              "         249477003: 19,\n",
              "         52754008: 18,\n",
              "         202482009: 53,\n",
              "         39423001: 19,\n",
              "         281794004: 18,\n",
              "         21296011000036107: 37,\n",
              "         418648005: 36,\n",
              "         26413003: 34,\n",
              "         426965005: 38,\n",
              "         21606011000036107: 56,\n",
              "         31384009: 38,\n",
              "         21520011000036107: 51,\n",
              "         299933002: 19,\n",
              "         67233009: 35,\n",
              "         127354003: 19,\n",
              "         275921007: 55,\n",
              "         55222007: 18,\n",
              "         421262002: 38,\n",
              "         50829006: 17,\n",
              "         289001005: 18,\n",
              "         448589005: 55,\n",
              "         4230011000036107: 36,\n",
              "         298941006: 17,\n",
              "         286387000: 17,\n",
              "         102617004: 37,\n",
              "         30811009: 34,\n",
              "         10001005: 19,\n",
              "         424372002: 18,\n",
              "         110288007: 19,\n",
              "         23388006: 18,\n",
              "         32402008: 18,\n",
              "         288335007: 37,\n",
              "         285305004: 19,\n",
              "         186748004: 18,\n",
              "         424196004: 36,\n",
              "         21343011000036103: 91,\n",
              "         238539001: 19,\n",
              "         1806006: 19,\n",
              "         95673003: 19,\n",
              "         300956001: 19,\n",
              "         118940003: 18,\n",
              "         248256006: 17,\n",
              "         7501002: 18,\n",
              "         281016006: 67,\n",
              "         239873007: 19,\n",
              "         424131007: 15,\n",
              "         192085004: 17,\n",
              "         161722004: 17,\n",
              "         69322001: 17,\n",
              "         83225011000036106: 18,\n",
              "         28743005: 36,\n",
              "         63901009: 19,\n",
              "         105504002: 38,\n",
              "         307413004: 19,\n",
              "         363406005: 18,\n",
              "         271585001: 17,\n",
              "         82470000: 18,\n",
              "         3475011000036104: 18,\n",
              "         309256001: 16,\n",
              "         64779008: 19,\n",
              "         22631008: 52,\n",
              "         279043006: 18,\n",
              "         32972011000036104: 17,\n",
              "         122481008: 38,\n",
              "         35064005: 18,\n",
              "         3659011000036102: 19,\n",
              "         162308004: 19,\n",
              "         95319004: 17,\n",
              "         95677002: 18,\n",
              "         79395009: 18,\n",
              "         23056005: 74,\n",
              "         37340000: 17,\n",
              "         225473001: 16,\n",
              "         274665008: 18,\n",
              "         271599002: 19,\n",
              "         21290011000036100: 36,\n",
              "         236071009: 18,\n",
              "         21662011000036107: 57,\n",
              "         282966001: 17,\n",
              "         443694000: 16,\n",
              "         314642004: 18,\n",
              "         398114001: 18,\n",
              "         37703011000036109: 18,\n",
              "         286369003: 36,\n",
              "         48661000: 19,\n",
              "         183202003: 18,\n",
              "         301660008: 19,\n",
              "         67251005: 53,\n",
              "         248268002: 17,\n",
              "         13746004: 53,\n",
              "         225005002: 17,\n",
              "         426120002: 18,\n",
              "         59781000168101: 19,\n",
              "         41931001: 18,\n",
              "         307496006: 35,\n",
              "         449618007: 18,\n",
              "         298241001: 19,\n",
              "         267038008: 33,\n",
              "         54150009: 19,\n",
              "         239965002: 34,\n",
              "         77981007: 18,\n",
              "         24982008: 17,\n",
              "         444003007: 18,\n",
              "         287045000: 37,\n",
              "         225581002: 37,\n",
              "         279069000: 36,\n",
              "         3716002: 17,\n",
              "         21317011000036101: 18,\n",
              "         162315007: 18,\n",
              "         272022009: 19,\n",
              "         32970011000036103: 36,\n",
              "         249544004: 18,\n",
              "         80585000: 18,\n",
              "         21809011000036108: 19,\n",
              "         44564008: 17,\n",
              "         23502006: 35,\n",
              "         332982000: 18,\n",
              "         70270011000036104: 19,\n",
              "         4106009: 16,\n",
              "         66383009: 17,\n",
              "         247412007: 18,\n",
              "         248223005: 19,\n",
              "         90128006: 16,\n",
              "         308909003: 18,\n",
              "         80515008: 18,\n",
              "         54586004: 72,\n",
              "         69821011000036104: 19,\n",
              "         73442001: 18,\n",
              "         299042006: 73,\n",
              "         236632007: 19,\n",
              "         85828009: 17,\n",
              "         44169009: 16,\n",
              "         11381005: 18,\n",
              "         248581005: 16,\n",
              "         125610000: 19,\n",
              "         4156011000036108: 19,\n",
              "         2940011000036100: 17,\n",
              "         21290011000036109: 18,\n",
              "         102608004: 17,\n",
              "         202617003: 19,\n",
              "         267728009: 19,\n",
              "         52526003: 19,\n",
              "         19155002: 19,\n",
              "         166702002: 18,\n",
              "         18156008: 18,\n",
              "         253522006: 18,\n",
              "         118930001: 18,\n",
              "         282198006: 17,\n",
              "         56018004: 18,\n",
              "         67015007: 18,\n",
              "         31681005: 35,\n",
              "         3527011000036101: 17,\n",
              "         131053002: 18,\n",
              "         399068003: 18,\n",
              "         298203008: 17,\n",
              "         21678011000036102: 18,\n",
              "         248493003: 18,\n",
              "         160591008: 18,\n",
              "         80967001: 19,\n",
              "         70346000: 17,\n",
              "         3481000168101: 19,\n",
              "         14669001: 19,\n",
              "         300895004: 18,\n",
              "         251377007: 18,\n",
              "         44018007: 17,\n",
              "         31645011000036106: 19,\n",
              "         59976005: 18,\n",
              "         276294005: 18,\n",
              "         202609006: 18,\n",
              "         267078001: 19,\n",
              "         304297005: 18,\n",
              "         40445007: 17,\n",
              "         429661002: 18,\n",
              "         284977008: 18,\n",
              "         34789001: 18,\n",
              "         363058009: 19,\n",
              "         225460000: 18,\n",
              "         2922011000036103: 17,\n",
              "         89419008: 19,\n",
              "         36163009: 19,\n",
              "         271834000: 37,\n",
              "         571000119103: 18,\n",
              "         82297005: 17,\n",
              "         39701011000036102: 18,\n",
              "         249916005: 19,\n",
              "         194828000: 19,\n",
              "         ...})"
            ]
          },
          "metadata": {
            "tags": []
          },
          "execution_count": 24
        }
      ]
    },
    {
      "metadata": {
        "id": "J99tY4gmDbwK",
        "colab_type": "code",
        "colab": {
          "base_uri": "https://localhost:8080/",
          "height": 1162
        },
        "outputId": "de1d95fe-611e-444c-ecf8-4c13c0d26a37"
      },
      "cell_type": "code",
      "source": [
        "test.groupby('CUID')['Patient Complaint Narrative'].count()"
      ],
      "execution_count": 25,
      "outputs": [
        {
          "output_type": "execute_result",
          "data": {
            "text/plain": [
              "CUID\n",
              "1402001                4\n",
              "2733002               11\n",
              "2764000                1\n",
              "3253007                5\n",
              "3424008                6\n",
              "3545003                3\n",
              "3716002                2\n",
              "3723001               50\n",
              "4106009                3\n",
              "4249000                1\n",
              "4308002                1\n",
              "4740000                2\n",
              "6020002                1\n",
              "6142004                8\n",
              "6389006                1\n",
              "7006003                2\n",
              "7011001                4\n",
              "7501002                1\n",
              "8357008               13\n",
              "8392000                4\n",
              "8510008                6\n",
              "8708008                3\n",
              "8943002               19\n",
              "9126005                3\n",
              "9829001                2\n",
              "9991008               10\n",
              "10085004               1\n",
              "10601006              73\n",
              "10743008               3\n",
              "11072008               1\n",
              "                      ..\n",
              "21779011000036103      7\n",
              "21814011000036109      1\n",
              "21821011000036104      5\n",
              "21885011000036105      8\n",
              "21930011000036101     20\n",
              "32643011000036106      2\n",
              "32970011000036103      2\n",
              "32972011000036104      2\n",
              "34839011000036106      5\n",
              "35918011000036106      6\n",
              "37703011000036109      1\n",
              "37787011000036104      3\n",
              "39592011000036106      2\n",
              "39651011000036100      1\n",
              "39701011000036102      1\n",
              "53215011000036102      9\n",
              "53458011000036102      9\n",
              "61777011000036104      3\n",
              "69813011000036107      3\n",
              "69867011000036102      1\n",
              "76000011000036107      1\n",
              "77422011000036109      1\n",
              "77424011000036100     38\n",
              "77426011000036108      3\n",
              "77435011000036104     14\n",
              "77436011000036106     10\n",
              "77461011000036109      3\n",
              "78584011000036106      2\n",
              "83225011000036106      1\n",
              "931804011000036107    14\n",
              "Name: Patient Complaint Narrative, Length: 841, dtype: int64"
            ]
          },
          "metadata": {
            "tags": []
          },
          "execution_count": 25
        }
      ]
    },
    {
      "metadata": {
        "id": "Fcj5K20YPpL0",
        "colab_type": "code",
        "outputId": "516ad072-0de7-44ab-bf47-7a4572e93556",
        "colab": {
          "base_uri": "https://localhost:8080/",
          "height": 182
        }
      },
      "cell_type": "code",
      "source": [
        "!pip install bert-tensorflow\n",
        "import pandas as pd\n",
        "import tensorflow as tf\n",
        "import tensorflow_hub as hub\n",
        "import pickle\n",
        "import bert\n",
        "from bert import run_classifier\n",
        "from bert import optimization\n",
        "from bert import tokenization\n",
        "def pretty_print(result):\n",
        "    df = pd.DataFrame([result]).T\n",
        "    df.columns = [\"values\"]\n",
        "    return df\n",
        "def create_tokenizer_from_hub_module(bert_model_hub):\n",
        "  \"\"\"Get the vocab file and casing info from the Hub module.\"\"\"\n",
        "  with tf.Graph().as_default():\n",
        "    bert_module = hub.Module(bert_model_hub)\n",
        "    tokenization_info = bert_module(signature=\"tokenization_info\", as_dict=True)\n",
        "    with tf.Session() as sess:\n",
        "      vocab_file, do_lower_case = sess.run([tokenization_info[\"vocab_file\"],\n",
        "                                            tokenization_info[\"do_lower_case\"]])\n",
        "      \n",
        "  return bert.tokenization.FullTokenizer(\n",
        "      vocab_file=vocab_file, do_lower_case=do_lower_case)\n",
        "\n",
        "def make_features(dataset, label_list, MAX_SEQ_LENGTH, tokenizer, DATA_COLUMN, LABEL_COLUMN):\n",
        "    input_example = dataset.apply(lambda x: bert.run_classifier.InputExample(guid=None, \n",
        "                                                                   text_a = x[DATA_COLUMN], \n",
        "                                                                   text_b = None, \n",
        "                                                                   label = x[LABEL_COLUMN]), axis = 1)\n",
        "    features = bert.run_classifier.convert_examples_to_features(input_example, label_list, MAX_SEQ_LENGTH, tokenizer)\n",
        "    return features\n",
        "\n",
        "def create_model(bert_model_hub, is_predicting, input_ids, input_mask, segment_ids, labels,\n",
        "                 num_labels):\n",
        "  \"\"\"Creates a classification model.\"\"\"\n",
        "\n",
        "  bert_module = hub.Module(\n",
        "      bert_model_hub,\n",
        "      trainable=True)\n",
        "  bert_inputs = dict(\n",
        "      input_ids=input_ids,\n",
        "      input_mask=input_mask,\n",
        "      segment_ids=segment_ids)\n",
        "  bert_outputs = bert_module(\n",
        "      inputs=bert_inputs,\n",
        "      signature=\"tokens\",\n",
        "      as_dict=True)\n",
        "\n",
        "  # Use \"pooled_output\" for classification tasks on an entire sentence.\n",
        "  # Use \"sequence_outputs\" for token-level output.\n",
        "  output_layer = bert_outputs[\"pooled_output\"]\n",
        "\n",
        "  hidden_size = output_layer.shape[-1].value\n",
        "\n",
        "  # Create our own layer to tune for politeness data.\n",
        "  output_weights = tf.get_variable(\n",
        "      \"output_weights\", [num_labels, hidden_size],\n",
        "      initializer=tf.truncated_normal_initializer(stddev=0.02))\n",
        "\n",
        "  output_bias = tf.get_variable(\n",
        "      \"output_bias\", [num_labels], initializer=tf.zeros_initializer())\n",
        "\n",
        "  with tf.variable_scope(\"loss\"):\n",
        "\n",
        "    # Dropout helps prevent overfitting\n",
        "    output_layer = tf.nn.dropout(output_layer, keep_prob=0.9)\n",
        "\n",
        "    logits = tf.matmul(output_layer, output_weights, transpose_b=True)\n",
        "    logits = tf.nn.bias_add(logits, output_bias)\n",
        "    log_probs = tf.nn.log_softmax(logits, axis=-1)\n",
        "\n",
        "    # Convert labels into one-hot encoding\n",
        "    one_hot_labels = tf.one_hot(labels, depth=num_labels, dtype=tf.float32)\n",
        "\n",
        "    predicted_labels = tf.squeeze(tf.argmax(log_probs, axis=-1, output_type=tf.int32))\n",
        "    # If we're predicting, we want predicted labels and the probabiltiies.\n",
        "    if is_predicting:\n",
        "      return (predicted_labels, log_probs)\n",
        "\n",
        "    # If we're train/eval, compute loss between predicted and actual label\n",
        "    per_example_loss = -tf.reduce_sum(one_hot_labels * log_probs, axis=-1)\n",
        "    loss = tf.reduce_mean(per_example_loss)\n",
        "    return (loss, predicted_labels, log_probs)\n",
        "\n",
        "# model_fn_builder actually creates our model function\n",
        "# using the passed parameters for num_labels, learning_rate, etc.\n",
        "def model_fn_builder(bert_model_hub, num_labels, learning_rate, num_train_steps,\n",
        "                     num_warmup_steps):\n",
        "  \"\"\"Returns `model_fn` closure for TPUEstimator.\"\"\"\n",
        "  def model_fn(features, labels, mode, params):  # pylint: disable=unused-argument\n",
        "    \"\"\"The `model_fn` for TPUEstimator.\"\"\"\n",
        "\n",
        "    input_ids = features[\"input_ids\"]\n",
        "    input_mask = features[\"input_mask\"]\n",
        "    segment_ids = features[\"segment_ids\"]\n",
        "    label_ids = features[\"label_ids\"]\n",
        "\n",
        "    is_predicting = (mode == tf.estimator.ModeKeys.PREDICT)\n",
        "    \n",
        "    # TRAIN and EVAL\n",
        "    if not is_predicting:\n",
        "\n",
        "      (loss, predicted_labels, log_probs) = create_model(\n",
        "        bert_model_hub, is_predicting, input_ids, input_mask, segment_ids, label_ids, num_labels)\n",
        "\n",
        "      train_op = bert.optimization.create_optimizer(\n",
        "          loss, learning_rate, num_train_steps, num_warmup_steps, use_tpu=False)\n",
        "\n",
        "      # Calculate evaluation metrics. \n",
        "      def metric_fn(label_ids, predicted_labels):\n",
        "        accuracy = tf.metrics.accuracy(label_ids, predicted_labels)\n",
        "#         f1_score = tf.contrib.metrics.f1_score(\n",
        "#             label_ids,\n",
        "#             predicted_labels)\n",
        "#         auc = tf.metrics.auc(\n",
        "#             label_ids,\n",
        "#             predicted_labels)\n",
        "#         recall = tf.metrics.recall(\n",
        "#             label_ids,\n",
        "#             predicted_labels)\n",
        "#         precision = tf.metrics.precision(\n",
        "#             label_ids,\n",
        "#             predicted_labels) \n",
        "#         true_pos = tf.metrics.true_positives(\n",
        "#             label_ids,\n",
        "#             predicted_labels)\n",
        "#         true_neg = tf.metrics.true_negatives(\n",
        "#             label_ids,\n",
        "#             predicted_labels)   \n",
        "#         false_pos = tf.metrics.false_positives(\n",
        "#             label_ids,\n",
        "#             predicted_labels)  \n",
        "#         false_neg = tf.metrics.false_negatives(\n",
        "#             label_ids,\n",
        "#             predicted_labels)\n",
        "        return {\n",
        "            \"eval_accuracy\": accuracy\n",
        "#             \"f1_score\": f1_score,\n",
        "#             \"auc\": auc,\n",
        "#             \"precision\": precision,\n",
        "#             \"recall\": recall,\n",
        "#             \"true_positives\": true_pos,\n",
        "#             \"true_negatives\": true_neg,\n",
        "#             \"false_positives\": false_pos,\n",
        "#             \"false_negatives\": false_neg\n",
        "        }\n",
        "\n",
        "      eval_metrics = metric_fn(label_ids, predicted_labels)\n",
        "\n",
        "      if mode == tf.estimator.ModeKeys.TRAIN:\n",
        "        return tf.estimator.EstimatorSpec(mode=mode,\n",
        "          loss=loss,\n",
        "          train_op=train_op)\n",
        "      else:\n",
        "          return tf.estimator.EstimatorSpec(mode=mode,\n",
        "            loss=loss,\n",
        "            eval_metric_ops=eval_metrics)\n",
        "    else:\n",
        "      (predicted_labels, log_probs) = create_model(\n",
        "        bert_model_hub, is_predicting, input_ids, input_mask, segment_ids, label_ids, num_labels)\n",
        "\n",
        "      predictions = {\n",
        "          'probabilities': log_probs,\n",
        "          'labels': predicted_labels\n",
        "      }\n",
        "      return tf.estimator.EstimatorSpec(mode, predictions=predictions)\n",
        "\n",
        "  # Return the actual model function in the closure\n",
        "  return model_fn\n",
        "\n",
        "def estimator_builder(bert_model_hub, OUTPUT_DIR, SAVE_SUMMARY_STEPS, SAVE_CHECKPOINTS_STEPS, label_list, LEARNING_RATE, num_train_steps, num_warmup_steps, BATCH_SIZE):\n",
        "\n",
        "    # Specify outpit directory and number of checkpoint steps to save\n",
        "    run_config = tf.estimator.RunConfig(\n",
        "        model_dir=OUTPUT_DIR,\n",
        "        save_summary_steps=SAVE_SUMMARY_STEPS,\n",
        "        save_checkpoints_steps=SAVE_CHECKPOINTS_STEPS)\n",
        "\n",
        "    model_fn = model_fn_builder(\n",
        "      bert_model_hub = bert_model_hub,\n",
        "      num_labels=len(label_list),\n",
        "      learning_rate=LEARNING_RATE,\n",
        "      num_train_steps=num_train_steps,\n",
        "      num_warmup_steps=num_warmup_steps)\n",
        "\n",
        "    estimator = tf.estimator.Estimator(\n",
        "      model_fn=model_fn,\n",
        "      config=run_config,\n",
        "      params={\"batch_size\": BATCH_SIZE})\n",
        "    return estimator, model_fn, run_config\n",
        "\n",
        "def run_on_dfs(train, test, DATA_COLUMN, LABEL_COLUMN, \n",
        "               MAX_SEQ_LENGTH = 128,\n",
        "              BATCH_SIZE = 32,\n",
        "              LEARNING_RATE = 2e-5,\n",
        "              NUM_TRAIN_EPOCHS = 3.0,\n",
        "              WARMUP_PROPORTION = 0.1,\n",
        "              SAVE_SUMMARY_STEPS = 100,\n",
        "               SAVE_CHECKPOINTS_STEPS = 10000,\n",
        "              bert_model_hub = \"https://tfhub.dev/google/bert_uncased_L-12_H-768_A-12/1\"):\n",
        "\n",
        "    label_list = train[LABEL_COLUMN].unique().tolist()\n",
        "    \n",
        "    tokenizer = create_tokenizer_from_hub_module(bert_model_hub)\n",
        "\n",
        "    train_features = make_features(train, label_list, MAX_SEQ_LENGTH, tokenizer, DATA_COLUMN, LABEL_COLUMN)\n",
        "    test_features = make_features(test, label_list, MAX_SEQ_LENGTH, tokenizer, DATA_COLUMN, LABEL_COLUMN)\n",
        "\n",
        "    num_train_steps = int(len(train_features) / BATCH_SIZE * NUM_TRAIN_EPOCHS)\n",
        "    num_warmup_steps = int(num_train_steps * WARMUP_PROPORTION)\n",
        "\n",
        "    estimator, model_fn, run_config = estimator_builder(\n",
        "                                  bert_model_hub, \n",
        "                                  OUTPUT_DIR, \n",
        "                                  SAVE_SUMMARY_STEPS, \n",
        "                                  SAVE_CHECKPOINTS_STEPS, \n",
        "                                  label_list, \n",
        "                                  LEARNING_RATE, \n",
        "                                  num_train_steps, \n",
        "                                  num_warmup_steps, \n",
        "                                  BATCH_SIZE)\n",
        "\n",
        "    train_input_fn = bert.run_classifier.input_fn_builder(\n",
        "        features=train_features,\n",
        "        seq_length=MAX_SEQ_LENGTH,\n",
        "        is_training=True,\n",
        "        drop_remainder=False)\n",
        "\n",
        "    estimator.train(input_fn=train_input_fn, max_steps=num_train_steps)\n",
        "\n",
        "    test_input_fn = run_classifier.input_fn_builder(\n",
        "        features=test_features,\n",
        "        seq_length=MAX_SEQ_LENGTH,\n",
        "        is_training=False,\n",
        "        drop_remainder=False)\n",
        "\n",
        "    result_dict = estimator.evaluate(input_fn=test_input_fn, steps=None)\n",
        "    return result_dict, estimator\n",
        "    \n",
        "import random\n",
        "random.seed(10)\n",
        "OUTPUT_DIR = 'output'"
      ],
      "execution_count": 26,
      "outputs": [
        {
          "output_type": "stream",
          "text": [
            "Collecting bert-tensorflow\n",
            "\u001b[?25l  Downloading https://files.pythonhosted.org/packages/a6/66/7eb4e8b6ea35b7cc54c322c816f976167a43019750279a8473d355800a93/bert_tensorflow-1.0.1-py2.py3-none-any.whl (67kB)\n",
            "\u001b[K    100% |████████████████████████████████| 71kB 3.4MB/s \n",
            "\u001b[?25hRequirement already satisfied: six in /usr/local/lib/python3.6/dist-packages (from bert-tensorflow) (1.12.0)\n",
            "Installing collected packages: bert-tensorflow\n",
            "Successfully installed bert-tensorflow-1.0.1\n"
          ],
          "name": "stdout"
        },
        {
          "output_type": "stream",
          "text": [
            "WARNING: Logging before flag parsing goes to stderr.\n",
            "W0423 20:03:53.139133 139880146163584 __init__.py:56] Some hub symbols are not available because TensorFlow version is less than 1.14\n"
          ],
          "name": "stderr"
        }
      ]
    },
    {
      "metadata": {
        "id": "GUQjnXNiQNWQ",
        "colab_type": "code",
        "colab": {}
      },
      "cell_type": "code",
      "source": [
        "#from sklearn.model_selection import train_test_split"
      ],
      "execution_count": 0,
      "outputs": []
    },
    {
      "metadata": {
        "id": "tuFc8Zu3Qc39",
        "colab_type": "code",
        "colab": {}
      },
      "cell_type": "code",
      "source": [
        "#train, test = train_test_split(df, test_size=0.2, random_state=1)"
      ],
      "execution_count": 0,
      "outputs": []
    },
    {
      "metadata": {
        "id": "Cia8RvLEQeJ3",
        "colab_type": "code",
        "outputId": "4cdc735f-ef57-49e1-f6c6-376320f904ba",
        "colab": {
          "base_uri": "https://localhost:8080/",
          "height": 35
        }
      },
      "cell_type": "code",
      "source": [
        "len(train)"
      ],
      "execution_count": 29,
      "outputs": [
        {
          "output_type": "execute_result",
          "data": {
            "text/plain": [
              "156652"
            ]
          },
          "metadata": {
            "tags": []
          },
          "execution_count": 29
        }
      ]
    },
    {
      "metadata": {
        "id": "2hoIyI_EQpY2",
        "colab_type": "code",
        "outputId": "d7b69298-1ab8-42cb-d7f6-31666b881d59",
        "colab": {
          "base_uri": "https://localhost:8080/",
          "height": 35
        }
      },
      "cell_type": "code",
      "source": [
        "len(test)"
      ],
      "execution_count": 30,
      "outputs": [
        {
          "output_type": "execute_result",
          "data": {
            "text/plain": [
              "7926"
            ]
          },
          "metadata": {
            "tags": []
          },
          "execution_count": 30
        }
      ]
    },
    {
      "metadata": {
        "id": "wKYxGVqkQl4x",
        "colab_type": "code",
        "colab": {}
      },
      "cell_type": "code",
      "source": [
        "train = train.sample(len(train))"
      ],
      "execution_count": 0,
      "outputs": []
    },
    {
      "metadata": {
        "id": "nVOaUIff__vy",
        "colab_type": "code",
        "outputId": "0e3d83dc-ddd3-4af9-bd6b-d59ce4a06516",
        "colab": {
          "base_uri": "https://localhost:8080/",
          "height": 206
        }
      },
      "cell_type": "code",
      "source": [
        "train.head()"
      ],
      "execution_count": 32,
      "outputs": [
        {
          "output_type": "execute_result",
          "data": {
            "text/html": [
              "<div>\n",
              "<style scoped>\n",
              "    .dataframe tbody tr th:only-of-type {\n",
              "        vertical-align: middle;\n",
              "    }\n",
              "\n",
              "    .dataframe tbody tr th {\n",
              "        vertical-align: top;\n",
              "    }\n",
              "\n",
              "    .dataframe thead th {\n",
              "        text-align: right;\n",
              "    }\n",
              "</style>\n",
              "<table border=\"1\" class=\"dataframe\">\n",
              "  <thead>\n",
              "    <tr style=\"text-align: right;\">\n",
              "      <th></th>\n",
              "      <th>CUID</th>\n",
              "      <th>Disease</th>\n",
              "      <th>Patient Complaint Narrative</th>\n",
              "    </tr>\n",
              "  </thead>\n",
              "  <tbody>\n",
              "    <tr>\n",
              "      <th>8923</th>\n",
              "      <td>3877011000036101</td>\n",
              "      <td>lipitor</td>\n",
              "      <td>lipitor</td>\n",
              "    </tr>\n",
              "    <tr>\n",
              "      <th>5543</th>\n",
              "      <td>162076009</td>\n",
              "      <td>excessive upper gastrointestinal gas</td>\n",
              "      <td>gas</td>\n",
              "    </tr>\n",
              "    <tr>\n",
              "      <th>11128</th>\n",
              "      <td>76948002</td>\n",
              "      <td>severe pain</td>\n",
              "      <td>severe pain</td>\n",
              "    </tr>\n",
              "    <tr>\n",
              "      <th>11836</th>\n",
              "      <td>62507009</td>\n",
              "      <td>pins needles</td>\n",
              "      <td>pins needles</td>\n",
              "    </tr>\n",
              "    <tr>\n",
              "      <th>2252</th>\n",
              "      <td>248274002</td>\n",
              "      <td>lack energy</td>\n",
              "      <td>lack energy</td>\n",
              "    </tr>\n",
              "  </tbody>\n",
              "</table>\n",
              "</div>"
            ],
            "text/plain": [
              "                   CUID                               Disease  \\\n",
              "8923   3877011000036101                               lipitor   \n",
              "5543          162076009  excessive upper gastrointestinal gas   \n",
              "11128          76948002                           severe pain   \n",
              "11836          62507009                          pins needles   \n",
              "2252          248274002                           lack energy   \n",
              "\n",
              "      Patient Complaint Narrative  \n",
              "8923                      lipitor  \n",
              "5543                          gas  \n",
              "11128                 severe pain  \n",
              "11836                pins needles  \n",
              "2252                  lack energy  "
            ]
          },
          "metadata": {
            "tags": []
          },
          "execution_count": 32
        }
      ]
    },
    {
      "metadata": {
        "id": "X5kBQLBwTiv1",
        "colab_type": "code",
        "outputId": "725b920f-61d8-4f96-bf94-8035a93063ef",
        "colab": {
          "base_uri": "https://localhost:8080/",
          "height": 206
        }
      },
      "cell_type": "code",
      "source": [
        "test.head()"
      ],
      "execution_count": 33,
      "outputs": [
        {
          "output_type": "execute_result",
          "data": {
            "text/html": [
              "<div>\n",
              "<style scoped>\n",
              "    .dataframe tbody tr th:only-of-type {\n",
              "        vertical-align: middle;\n",
              "    }\n",
              "\n",
              "    .dataframe tbody tr th {\n",
              "        vertical-align: top;\n",
              "    }\n",
              "\n",
              "    .dataframe thead th {\n",
              "        text-align: right;\n",
              "    }\n",
              "</style>\n",
              "<table border=\"1\" class=\"dataframe\">\n",
              "  <thead>\n",
              "    <tr style=\"text-align: right;\">\n",
              "      <th></th>\n",
              "      <th>CUID</th>\n",
              "      <th>Disease</th>\n",
              "      <th>Patient Complaint Narrative</th>\n",
              "    </tr>\n",
              "  </thead>\n",
              "  <tbody>\n",
              "    <tr>\n",
              "      <th>0</th>\n",
              "      <td>267032009</td>\n",
              "      <td>tired time</td>\n",
              "      <td>persisten feeling tiredness</td>\n",
              "    </tr>\n",
              "    <tr>\n",
              "      <th>1</th>\n",
              "      <td>22298006</td>\n",
              "      <td>myocardial infarction</td>\n",
              "      <td>heart attack</td>\n",
              "    </tr>\n",
              "    <tr>\n",
              "      <th>2</th>\n",
              "      <td>3877011000036101</td>\n",
              "      <td>lipitor</td>\n",
              "      <td>lipitor</td>\n",
              "    </tr>\n",
              "    <tr>\n",
              "      <th>3</th>\n",
              "      <td>415690000</td>\n",
              "      <td>sweating</td>\n",
              "      <td>sweated</td>\n",
              "    </tr>\n",
              "    <tr>\n",
              "      <th>4</th>\n",
              "      <td>248491001</td>\n",
              "      <td>swollen knee</td>\n",
              "      <td>swelling knee</td>\n",
              "    </tr>\n",
              "  </tbody>\n",
              "</table>\n",
              "</div>"
            ],
            "text/plain": [
              "               CUID                Disease  Patient Complaint Narrative\n",
              "0         267032009             tired time  persisten feeling tiredness\n",
              "1          22298006  myocardial infarction                 heart attack\n",
              "2  3877011000036101                lipitor                      lipitor\n",
              "3         415690000               sweating                      sweated\n",
              "4         248491001           swollen knee                swelling knee"
            ]
          },
          "metadata": {
            "tags": []
          },
          "execution_count": 33
        }
      ]
    },
    {
      "metadata": {
        "id": "DvqwJcn3QtLa",
        "colab_type": "code",
        "colab": {}
      },
      "cell_type": "code",
      "source": [
        "myparam = {\n",
        "    \"DATA_COLUMN\": \"Patient Complaint Narrative\",\n",
        "    \"LABEL_COLUMN\": \"CUID\",\n",
        "    \"LEARNING_RATE\": 2e-5,\n",
        "    \"NUM_TRAIN_EPOCHS\": 2\n",
        "}"
      ],
      "execution_count": 0,
      "outputs": []
    },
    {
      "metadata": {
        "id": "tLh0yWe2QtQq",
        "colab_type": "code",
        "colab": {}
      },
      "cell_type": "code",
      "source": [
        "import tensorflow as tf\n",
        "tf.logging.set_verbosity(tf.logging.INFO)"
      ],
      "execution_count": 0,
      "outputs": []
    },
    {
      "metadata": {
        "id": "v_18OUURRF7m",
        "colab_type": "code",
        "outputId": "47c7e42b-7b28-44ff-9b7c-df76e6081b9a",
        "colab": {
          "base_uri": "https://localhost:8080/",
          "height": 12027
        }
      },
      "cell_type": "code",
      "source": [
        "result, estimator = run_on_dfs(train, test, **myparam)"
      ],
      "execution_count": 36,
      "outputs": [
        {
          "output_type": "stream",
          "text": [
            "WARNING:tensorflow:From /usr/local/lib/python3.6/dist-packages/tensorflow/python/ops/control_flow_ops.py:3632: colocate_with (from tensorflow.python.framework.ops) is deprecated and will be removed in a future version.\n",
            "Instructions for updating:\n",
            "Colocations handled automatically by placer.\n"
          ],
          "name": "stdout"
        },
        {
          "output_type": "stream",
          "text": [
            "W0423 20:03:59.901740 139880146163584 deprecation.py:323] From /usr/local/lib/python3.6/dist-packages/tensorflow/python/ops/control_flow_ops.py:3632: colocate_with (from tensorflow.python.framework.ops) is deprecated and will be removed in a future version.\n",
            "Instructions for updating:\n",
            "Colocations handled automatically by placer.\n"
          ],
          "name": "stderr"
        },
        {
          "output_type": "stream",
          "text": [
            "INFO:tensorflow:Saver not created because there are no variables in the graph to restore\n"
          ],
          "name": "stdout"
        },
        {
          "output_type": "stream",
          "text": [
            "I0423 20:04:02.011847 139880146163584 saver.py:1483] Saver not created because there are no variables in the graph to restore\n"
          ],
          "name": "stderr"
        },
        {
          "output_type": "stream",
          "text": [
            "INFO:tensorflow:Writing example 0 of 156652\n"
          ],
          "name": "stdout"
        },
        {
          "output_type": "stream",
          "text": [
            "I0423 20:04:08.246574 139880146163584 run_classifier.py:774] Writing example 0 of 156652\n"
          ],
          "name": "stderr"
        },
        {
          "output_type": "stream",
          "text": [
            "INFO:tensorflow:*** Example ***\n"
          ],
          "name": "stdout"
        },
        {
          "output_type": "stream",
          "text": [
            "I0423 20:04:08.251740 139880146163584 run_classifier.py:461] *** Example ***\n"
          ],
          "name": "stderr"
        },
        {
          "output_type": "stream",
          "text": [
            "INFO:tensorflow:guid: None\n"
          ],
          "name": "stdout"
        },
        {
          "output_type": "stream",
          "text": [
            "I0423 20:04:08.256002 139880146163584 run_classifier.py:462] guid: None\n"
          ],
          "name": "stderr"
        },
        {
          "output_type": "stream",
          "text": [
            "INFO:tensorflow:tokens: [CLS] lip ##itor [SEP]\n"
          ],
          "name": "stdout"
        },
        {
          "output_type": "stream",
          "text": [
            "I0423 20:04:08.259193 139880146163584 run_classifier.py:464] tokens: [CLS] lip ##itor [SEP]\n"
          ],
          "name": "stderr"
        },
        {
          "output_type": "stream",
          "text": [
            "INFO:tensorflow:input_ids: 101 5423 15660 102 0 0 0 0 0 0 0 0 0 0 0 0 0 0 0 0 0 0 0 0 0 0 0 0 0 0 0 0 0 0 0 0 0 0 0 0 0 0 0 0 0 0 0 0 0 0 0 0 0 0 0 0 0 0 0 0 0 0 0 0 0 0 0 0 0 0 0 0 0 0 0 0 0 0 0 0 0 0 0 0 0 0 0 0 0 0 0 0 0 0 0 0 0 0 0 0 0 0 0 0 0 0 0 0 0 0 0 0 0 0 0 0 0 0 0 0 0 0 0 0 0 0 0 0\n"
          ],
          "name": "stdout"
        },
        {
          "output_type": "stream",
          "text": [
            "I0423 20:04:08.261919 139880146163584 run_classifier.py:465] input_ids: 101 5423 15660 102 0 0 0 0 0 0 0 0 0 0 0 0 0 0 0 0 0 0 0 0 0 0 0 0 0 0 0 0 0 0 0 0 0 0 0 0 0 0 0 0 0 0 0 0 0 0 0 0 0 0 0 0 0 0 0 0 0 0 0 0 0 0 0 0 0 0 0 0 0 0 0 0 0 0 0 0 0 0 0 0 0 0 0 0 0 0 0 0 0 0 0 0 0 0 0 0 0 0 0 0 0 0 0 0 0 0 0 0 0 0 0 0 0 0 0 0 0 0 0 0 0 0 0 0\n"
          ],
          "name": "stderr"
        },
        {
          "output_type": "stream",
          "text": [
            "INFO:tensorflow:input_mask: 1 1 1 1 0 0 0 0 0 0 0 0 0 0 0 0 0 0 0 0 0 0 0 0 0 0 0 0 0 0 0 0 0 0 0 0 0 0 0 0 0 0 0 0 0 0 0 0 0 0 0 0 0 0 0 0 0 0 0 0 0 0 0 0 0 0 0 0 0 0 0 0 0 0 0 0 0 0 0 0 0 0 0 0 0 0 0 0 0 0 0 0 0 0 0 0 0 0 0 0 0 0 0 0 0 0 0 0 0 0 0 0 0 0 0 0 0 0 0 0 0 0 0 0 0 0 0 0\n"
          ],
          "name": "stdout"
        },
        {
          "output_type": "stream",
          "text": [
            "I0423 20:04:08.264575 139880146163584 run_classifier.py:466] input_mask: 1 1 1 1 0 0 0 0 0 0 0 0 0 0 0 0 0 0 0 0 0 0 0 0 0 0 0 0 0 0 0 0 0 0 0 0 0 0 0 0 0 0 0 0 0 0 0 0 0 0 0 0 0 0 0 0 0 0 0 0 0 0 0 0 0 0 0 0 0 0 0 0 0 0 0 0 0 0 0 0 0 0 0 0 0 0 0 0 0 0 0 0 0 0 0 0 0 0 0 0 0 0 0 0 0 0 0 0 0 0 0 0 0 0 0 0 0 0 0 0 0 0 0 0 0 0 0 0\n"
          ],
          "name": "stderr"
        },
        {
          "output_type": "stream",
          "text": [
            "INFO:tensorflow:segment_ids: 0 0 0 0 0 0 0 0 0 0 0 0 0 0 0 0 0 0 0 0 0 0 0 0 0 0 0 0 0 0 0 0 0 0 0 0 0 0 0 0 0 0 0 0 0 0 0 0 0 0 0 0 0 0 0 0 0 0 0 0 0 0 0 0 0 0 0 0 0 0 0 0 0 0 0 0 0 0 0 0 0 0 0 0 0 0 0 0 0 0 0 0 0 0 0 0 0 0 0 0 0 0 0 0 0 0 0 0 0 0 0 0 0 0 0 0 0 0 0 0 0 0 0 0 0 0 0 0\n"
          ],
          "name": "stdout"
        },
        {
          "output_type": "stream",
          "text": [
            "I0423 20:04:08.267004 139880146163584 run_classifier.py:467] segment_ids: 0 0 0 0 0 0 0 0 0 0 0 0 0 0 0 0 0 0 0 0 0 0 0 0 0 0 0 0 0 0 0 0 0 0 0 0 0 0 0 0 0 0 0 0 0 0 0 0 0 0 0 0 0 0 0 0 0 0 0 0 0 0 0 0 0 0 0 0 0 0 0 0 0 0 0 0 0 0 0 0 0 0 0 0 0 0 0 0 0 0 0 0 0 0 0 0 0 0 0 0 0 0 0 0 0 0 0 0 0 0 0 0 0 0 0 0 0 0 0 0 0 0 0 0 0 0 0 0\n"
          ],
          "name": "stderr"
        },
        {
          "output_type": "stream",
          "text": [
            "INFO:tensorflow:label: 3877011000036101 (id = 0)\n"
          ],
          "name": "stdout"
        },
        {
          "output_type": "stream",
          "text": [
            "I0423 20:04:08.269576 139880146163584 run_classifier.py:468] label: 3877011000036101 (id = 0)\n"
          ],
          "name": "stderr"
        },
        {
          "output_type": "stream",
          "text": [
            "INFO:tensorflow:*** Example ***\n"
          ],
          "name": "stdout"
        },
        {
          "output_type": "stream",
          "text": [
            "I0423 20:04:08.272217 139880146163584 run_classifier.py:461] *** Example ***\n"
          ],
          "name": "stderr"
        },
        {
          "output_type": "stream",
          "text": [
            "INFO:tensorflow:guid: None\n"
          ],
          "name": "stdout"
        },
        {
          "output_type": "stream",
          "text": [
            "I0423 20:04:08.274875 139880146163584 run_classifier.py:462] guid: None\n"
          ],
          "name": "stderr"
        },
        {
          "output_type": "stream",
          "text": [
            "INFO:tensorflow:tokens: [CLS] gas [SEP]\n"
          ],
          "name": "stdout"
        },
        {
          "output_type": "stream",
          "text": [
            "I0423 20:04:08.277336 139880146163584 run_classifier.py:464] tokens: [CLS] gas [SEP]\n"
          ],
          "name": "stderr"
        },
        {
          "output_type": "stream",
          "text": [
            "INFO:tensorflow:input_ids: 101 3806 102 0 0 0 0 0 0 0 0 0 0 0 0 0 0 0 0 0 0 0 0 0 0 0 0 0 0 0 0 0 0 0 0 0 0 0 0 0 0 0 0 0 0 0 0 0 0 0 0 0 0 0 0 0 0 0 0 0 0 0 0 0 0 0 0 0 0 0 0 0 0 0 0 0 0 0 0 0 0 0 0 0 0 0 0 0 0 0 0 0 0 0 0 0 0 0 0 0 0 0 0 0 0 0 0 0 0 0 0 0 0 0 0 0 0 0 0 0 0 0 0 0 0 0 0 0\n"
          ],
          "name": "stdout"
        },
        {
          "output_type": "stream",
          "text": [
            "I0423 20:04:08.279869 139880146163584 run_classifier.py:465] input_ids: 101 3806 102 0 0 0 0 0 0 0 0 0 0 0 0 0 0 0 0 0 0 0 0 0 0 0 0 0 0 0 0 0 0 0 0 0 0 0 0 0 0 0 0 0 0 0 0 0 0 0 0 0 0 0 0 0 0 0 0 0 0 0 0 0 0 0 0 0 0 0 0 0 0 0 0 0 0 0 0 0 0 0 0 0 0 0 0 0 0 0 0 0 0 0 0 0 0 0 0 0 0 0 0 0 0 0 0 0 0 0 0 0 0 0 0 0 0 0 0 0 0 0 0 0 0 0 0 0\n"
          ],
          "name": "stderr"
        },
        {
          "output_type": "stream",
          "text": [
            "INFO:tensorflow:input_mask: 1 1 1 0 0 0 0 0 0 0 0 0 0 0 0 0 0 0 0 0 0 0 0 0 0 0 0 0 0 0 0 0 0 0 0 0 0 0 0 0 0 0 0 0 0 0 0 0 0 0 0 0 0 0 0 0 0 0 0 0 0 0 0 0 0 0 0 0 0 0 0 0 0 0 0 0 0 0 0 0 0 0 0 0 0 0 0 0 0 0 0 0 0 0 0 0 0 0 0 0 0 0 0 0 0 0 0 0 0 0 0 0 0 0 0 0 0 0 0 0 0 0 0 0 0 0 0 0\n"
          ],
          "name": "stdout"
        },
        {
          "output_type": "stream",
          "text": [
            "I0423 20:04:08.282508 139880146163584 run_classifier.py:466] input_mask: 1 1 1 0 0 0 0 0 0 0 0 0 0 0 0 0 0 0 0 0 0 0 0 0 0 0 0 0 0 0 0 0 0 0 0 0 0 0 0 0 0 0 0 0 0 0 0 0 0 0 0 0 0 0 0 0 0 0 0 0 0 0 0 0 0 0 0 0 0 0 0 0 0 0 0 0 0 0 0 0 0 0 0 0 0 0 0 0 0 0 0 0 0 0 0 0 0 0 0 0 0 0 0 0 0 0 0 0 0 0 0 0 0 0 0 0 0 0 0 0 0 0 0 0 0 0 0 0\n"
          ],
          "name": "stderr"
        },
        {
          "output_type": "stream",
          "text": [
            "INFO:tensorflow:segment_ids: 0 0 0 0 0 0 0 0 0 0 0 0 0 0 0 0 0 0 0 0 0 0 0 0 0 0 0 0 0 0 0 0 0 0 0 0 0 0 0 0 0 0 0 0 0 0 0 0 0 0 0 0 0 0 0 0 0 0 0 0 0 0 0 0 0 0 0 0 0 0 0 0 0 0 0 0 0 0 0 0 0 0 0 0 0 0 0 0 0 0 0 0 0 0 0 0 0 0 0 0 0 0 0 0 0 0 0 0 0 0 0 0 0 0 0 0 0 0 0 0 0 0 0 0 0 0 0 0\n"
          ],
          "name": "stdout"
        },
        {
          "output_type": "stream",
          "text": [
            "I0423 20:04:08.285179 139880146163584 run_classifier.py:467] segment_ids: 0 0 0 0 0 0 0 0 0 0 0 0 0 0 0 0 0 0 0 0 0 0 0 0 0 0 0 0 0 0 0 0 0 0 0 0 0 0 0 0 0 0 0 0 0 0 0 0 0 0 0 0 0 0 0 0 0 0 0 0 0 0 0 0 0 0 0 0 0 0 0 0 0 0 0 0 0 0 0 0 0 0 0 0 0 0 0 0 0 0 0 0 0 0 0 0 0 0 0 0 0 0 0 0 0 0 0 0 0 0 0 0 0 0 0 0 0 0 0 0 0 0 0 0 0 0 0 0\n"
          ],
          "name": "stderr"
        },
        {
          "output_type": "stream",
          "text": [
            "INFO:tensorflow:label: 162076009 (id = 1)\n"
          ],
          "name": "stdout"
        },
        {
          "output_type": "stream",
          "text": [
            "I0423 20:04:08.287915 139880146163584 run_classifier.py:468] label: 162076009 (id = 1)\n"
          ],
          "name": "stderr"
        },
        {
          "output_type": "stream",
          "text": [
            "INFO:tensorflow:*** Example ***\n"
          ],
          "name": "stdout"
        },
        {
          "output_type": "stream",
          "text": [
            "I0423 20:04:08.290967 139880146163584 run_classifier.py:461] *** Example ***\n"
          ],
          "name": "stderr"
        },
        {
          "output_type": "stream",
          "text": [
            "INFO:tensorflow:guid: None\n"
          ],
          "name": "stdout"
        },
        {
          "output_type": "stream",
          "text": [
            "I0423 20:04:08.293154 139880146163584 run_classifier.py:462] guid: None\n"
          ],
          "name": "stderr"
        },
        {
          "output_type": "stream",
          "text": [
            "INFO:tensorflow:tokens: [CLS] severe pain [SEP]\n"
          ],
          "name": "stdout"
        },
        {
          "output_type": "stream",
          "text": [
            "I0423 20:04:08.295438 139880146163584 run_classifier.py:464] tokens: [CLS] severe pain [SEP]\n"
          ],
          "name": "stderr"
        },
        {
          "output_type": "stream",
          "text": [
            "INFO:tensorflow:input_ids: 101 5729 3255 102 0 0 0 0 0 0 0 0 0 0 0 0 0 0 0 0 0 0 0 0 0 0 0 0 0 0 0 0 0 0 0 0 0 0 0 0 0 0 0 0 0 0 0 0 0 0 0 0 0 0 0 0 0 0 0 0 0 0 0 0 0 0 0 0 0 0 0 0 0 0 0 0 0 0 0 0 0 0 0 0 0 0 0 0 0 0 0 0 0 0 0 0 0 0 0 0 0 0 0 0 0 0 0 0 0 0 0 0 0 0 0 0 0 0 0 0 0 0 0 0 0 0 0 0\n"
          ],
          "name": "stdout"
        },
        {
          "output_type": "stream",
          "text": [
            "I0423 20:04:08.297935 139880146163584 run_classifier.py:465] input_ids: 101 5729 3255 102 0 0 0 0 0 0 0 0 0 0 0 0 0 0 0 0 0 0 0 0 0 0 0 0 0 0 0 0 0 0 0 0 0 0 0 0 0 0 0 0 0 0 0 0 0 0 0 0 0 0 0 0 0 0 0 0 0 0 0 0 0 0 0 0 0 0 0 0 0 0 0 0 0 0 0 0 0 0 0 0 0 0 0 0 0 0 0 0 0 0 0 0 0 0 0 0 0 0 0 0 0 0 0 0 0 0 0 0 0 0 0 0 0 0 0 0 0 0 0 0 0 0 0 0\n"
          ],
          "name": "stderr"
        },
        {
          "output_type": "stream",
          "text": [
            "INFO:tensorflow:input_mask: 1 1 1 1 0 0 0 0 0 0 0 0 0 0 0 0 0 0 0 0 0 0 0 0 0 0 0 0 0 0 0 0 0 0 0 0 0 0 0 0 0 0 0 0 0 0 0 0 0 0 0 0 0 0 0 0 0 0 0 0 0 0 0 0 0 0 0 0 0 0 0 0 0 0 0 0 0 0 0 0 0 0 0 0 0 0 0 0 0 0 0 0 0 0 0 0 0 0 0 0 0 0 0 0 0 0 0 0 0 0 0 0 0 0 0 0 0 0 0 0 0 0 0 0 0 0 0 0\n"
          ],
          "name": "stdout"
        },
        {
          "output_type": "stream",
          "text": [
            "I0423 20:04:08.301463 139880146163584 run_classifier.py:466] input_mask: 1 1 1 1 0 0 0 0 0 0 0 0 0 0 0 0 0 0 0 0 0 0 0 0 0 0 0 0 0 0 0 0 0 0 0 0 0 0 0 0 0 0 0 0 0 0 0 0 0 0 0 0 0 0 0 0 0 0 0 0 0 0 0 0 0 0 0 0 0 0 0 0 0 0 0 0 0 0 0 0 0 0 0 0 0 0 0 0 0 0 0 0 0 0 0 0 0 0 0 0 0 0 0 0 0 0 0 0 0 0 0 0 0 0 0 0 0 0 0 0 0 0 0 0 0 0 0 0\n"
          ],
          "name": "stderr"
        },
        {
          "output_type": "stream",
          "text": [
            "INFO:tensorflow:segment_ids: 0 0 0 0 0 0 0 0 0 0 0 0 0 0 0 0 0 0 0 0 0 0 0 0 0 0 0 0 0 0 0 0 0 0 0 0 0 0 0 0 0 0 0 0 0 0 0 0 0 0 0 0 0 0 0 0 0 0 0 0 0 0 0 0 0 0 0 0 0 0 0 0 0 0 0 0 0 0 0 0 0 0 0 0 0 0 0 0 0 0 0 0 0 0 0 0 0 0 0 0 0 0 0 0 0 0 0 0 0 0 0 0 0 0 0 0 0 0 0 0 0 0 0 0 0 0 0 0\n"
          ],
          "name": "stdout"
        },
        {
          "output_type": "stream",
          "text": [
            "I0423 20:04:08.304254 139880146163584 run_classifier.py:467] segment_ids: 0 0 0 0 0 0 0 0 0 0 0 0 0 0 0 0 0 0 0 0 0 0 0 0 0 0 0 0 0 0 0 0 0 0 0 0 0 0 0 0 0 0 0 0 0 0 0 0 0 0 0 0 0 0 0 0 0 0 0 0 0 0 0 0 0 0 0 0 0 0 0 0 0 0 0 0 0 0 0 0 0 0 0 0 0 0 0 0 0 0 0 0 0 0 0 0 0 0 0 0 0 0 0 0 0 0 0 0 0 0 0 0 0 0 0 0 0 0 0 0 0 0 0 0 0 0 0 0\n"
          ],
          "name": "stderr"
        },
        {
          "output_type": "stream",
          "text": [
            "INFO:tensorflow:label: 76948002 (id = 2)\n"
          ],
          "name": "stdout"
        },
        {
          "output_type": "stream",
          "text": [
            "I0423 20:04:08.306859 139880146163584 run_classifier.py:468] label: 76948002 (id = 2)\n"
          ],
          "name": "stderr"
        },
        {
          "output_type": "stream",
          "text": [
            "INFO:tensorflow:*** Example ***\n"
          ],
          "name": "stdout"
        },
        {
          "output_type": "stream",
          "text": [
            "I0423 20:04:08.309956 139880146163584 run_classifier.py:461] *** Example ***\n"
          ],
          "name": "stderr"
        },
        {
          "output_type": "stream",
          "text": [
            "INFO:tensorflow:guid: None\n"
          ],
          "name": "stdout"
        },
        {
          "output_type": "stream",
          "text": [
            "I0423 20:04:08.312572 139880146163584 run_classifier.py:462] guid: None\n"
          ],
          "name": "stderr"
        },
        {
          "output_type": "stream",
          "text": [
            "INFO:tensorflow:tokens: [CLS] pins needles [SEP]\n"
          ],
          "name": "stdout"
        },
        {
          "output_type": "stream",
          "text": [
            "I0423 20:04:08.315083 139880146163584 run_classifier.py:464] tokens: [CLS] pins needles [SEP]\n"
          ],
          "name": "stderr"
        },
        {
          "output_type": "stream",
          "text": [
            "INFO:tensorflow:input_ids: 101 16300 17044 102 0 0 0 0 0 0 0 0 0 0 0 0 0 0 0 0 0 0 0 0 0 0 0 0 0 0 0 0 0 0 0 0 0 0 0 0 0 0 0 0 0 0 0 0 0 0 0 0 0 0 0 0 0 0 0 0 0 0 0 0 0 0 0 0 0 0 0 0 0 0 0 0 0 0 0 0 0 0 0 0 0 0 0 0 0 0 0 0 0 0 0 0 0 0 0 0 0 0 0 0 0 0 0 0 0 0 0 0 0 0 0 0 0 0 0 0 0 0 0 0 0 0 0 0\n"
          ],
          "name": "stdout"
        },
        {
          "output_type": "stream",
          "text": [
            "I0423 20:04:08.317677 139880146163584 run_classifier.py:465] input_ids: 101 16300 17044 102 0 0 0 0 0 0 0 0 0 0 0 0 0 0 0 0 0 0 0 0 0 0 0 0 0 0 0 0 0 0 0 0 0 0 0 0 0 0 0 0 0 0 0 0 0 0 0 0 0 0 0 0 0 0 0 0 0 0 0 0 0 0 0 0 0 0 0 0 0 0 0 0 0 0 0 0 0 0 0 0 0 0 0 0 0 0 0 0 0 0 0 0 0 0 0 0 0 0 0 0 0 0 0 0 0 0 0 0 0 0 0 0 0 0 0 0 0 0 0 0 0 0 0 0\n"
          ],
          "name": "stderr"
        },
        {
          "output_type": "stream",
          "text": [
            "INFO:tensorflow:input_mask: 1 1 1 1 0 0 0 0 0 0 0 0 0 0 0 0 0 0 0 0 0 0 0 0 0 0 0 0 0 0 0 0 0 0 0 0 0 0 0 0 0 0 0 0 0 0 0 0 0 0 0 0 0 0 0 0 0 0 0 0 0 0 0 0 0 0 0 0 0 0 0 0 0 0 0 0 0 0 0 0 0 0 0 0 0 0 0 0 0 0 0 0 0 0 0 0 0 0 0 0 0 0 0 0 0 0 0 0 0 0 0 0 0 0 0 0 0 0 0 0 0 0 0 0 0 0 0 0\n"
          ],
          "name": "stdout"
        },
        {
          "output_type": "stream",
          "text": [
            "I0423 20:04:08.320236 139880146163584 run_classifier.py:466] input_mask: 1 1 1 1 0 0 0 0 0 0 0 0 0 0 0 0 0 0 0 0 0 0 0 0 0 0 0 0 0 0 0 0 0 0 0 0 0 0 0 0 0 0 0 0 0 0 0 0 0 0 0 0 0 0 0 0 0 0 0 0 0 0 0 0 0 0 0 0 0 0 0 0 0 0 0 0 0 0 0 0 0 0 0 0 0 0 0 0 0 0 0 0 0 0 0 0 0 0 0 0 0 0 0 0 0 0 0 0 0 0 0 0 0 0 0 0 0 0 0 0 0 0 0 0 0 0 0 0\n"
          ],
          "name": "stderr"
        },
        {
          "output_type": "stream",
          "text": [
            "INFO:tensorflow:segment_ids: 0 0 0 0 0 0 0 0 0 0 0 0 0 0 0 0 0 0 0 0 0 0 0 0 0 0 0 0 0 0 0 0 0 0 0 0 0 0 0 0 0 0 0 0 0 0 0 0 0 0 0 0 0 0 0 0 0 0 0 0 0 0 0 0 0 0 0 0 0 0 0 0 0 0 0 0 0 0 0 0 0 0 0 0 0 0 0 0 0 0 0 0 0 0 0 0 0 0 0 0 0 0 0 0 0 0 0 0 0 0 0 0 0 0 0 0 0 0 0 0 0 0 0 0 0 0 0 0\n"
          ],
          "name": "stdout"
        },
        {
          "output_type": "stream",
          "text": [
            "I0423 20:04:08.496788 139880146163584 run_classifier.py:467] segment_ids: 0 0 0 0 0 0 0 0 0 0 0 0 0 0 0 0 0 0 0 0 0 0 0 0 0 0 0 0 0 0 0 0 0 0 0 0 0 0 0 0 0 0 0 0 0 0 0 0 0 0 0 0 0 0 0 0 0 0 0 0 0 0 0 0 0 0 0 0 0 0 0 0 0 0 0 0 0 0 0 0 0 0 0 0 0 0 0 0 0 0 0 0 0 0 0 0 0 0 0 0 0 0 0 0 0 0 0 0 0 0 0 0 0 0 0 0 0 0 0 0 0 0 0 0 0 0 0 0\n"
          ],
          "name": "stderr"
        },
        {
          "output_type": "stream",
          "text": [
            "INFO:tensorflow:label: 62507009 (id = 3)\n"
          ],
          "name": "stdout"
        },
        {
          "output_type": "stream",
          "text": [
            "I0423 20:04:08.498626 139880146163584 run_classifier.py:468] label: 62507009 (id = 3)\n"
          ],
          "name": "stderr"
        },
        {
          "output_type": "stream",
          "text": [
            "INFO:tensorflow:*** Example ***\n"
          ],
          "name": "stdout"
        },
        {
          "output_type": "stream",
          "text": [
            "I0423 20:04:08.500915 139880146163584 run_classifier.py:461] *** Example ***\n"
          ],
          "name": "stderr"
        },
        {
          "output_type": "stream",
          "text": [
            "INFO:tensorflow:guid: None\n"
          ],
          "name": "stdout"
        },
        {
          "output_type": "stream",
          "text": [
            "I0423 20:04:08.503139 139880146163584 run_classifier.py:462] guid: None\n"
          ],
          "name": "stderr"
        },
        {
          "output_type": "stream",
          "text": [
            "INFO:tensorflow:tokens: [CLS] lack energy [SEP]\n"
          ],
          "name": "stdout"
        },
        {
          "output_type": "stream",
          "text": [
            "I0423 20:04:08.507027 139880146163584 run_classifier.py:464] tokens: [CLS] lack energy [SEP]\n"
          ],
          "name": "stderr"
        },
        {
          "output_type": "stream",
          "text": [
            "INFO:tensorflow:input_ids: 101 3768 2943 102 0 0 0 0 0 0 0 0 0 0 0 0 0 0 0 0 0 0 0 0 0 0 0 0 0 0 0 0 0 0 0 0 0 0 0 0 0 0 0 0 0 0 0 0 0 0 0 0 0 0 0 0 0 0 0 0 0 0 0 0 0 0 0 0 0 0 0 0 0 0 0 0 0 0 0 0 0 0 0 0 0 0 0 0 0 0 0 0 0 0 0 0 0 0 0 0 0 0 0 0 0 0 0 0 0 0 0 0 0 0 0 0 0 0 0 0 0 0 0 0 0 0 0 0\n"
          ],
          "name": "stdout"
        },
        {
          "output_type": "stream",
          "text": [
            "I0423 20:04:08.510248 139880146163584 run_classifier.py:465] input_ids: 101 3768 2943 102 0 0 0 0 0 0 0 0 0 0 0 0 0 0 0 0 0 0 0 0 0 0 0 0 0 0 0 0 0 0 0 0 0 0 0 0 0 0 0 0 0 0 0 0 0 0 0 0 0 0 0 0 0 0 0 0 0 0 0 0 0 0 0 0 0 0 0 0 0 0 0 0 0 0 0 0 0 0 0 0 0 0 0 0 0 0 0 0 0 0 0 0 0 0 0 0 0 0 0 0 0 0 0 0 0 0 0 0 0 0 0 0 0 0 0 0 0 0 0 0 0 0 0 0\n"
          ],
          "name": "stderr"
        },
        {
          "output_type": "stream",
          "text": [
            "INFO:tensorflow:input_mask: 1 1 1 1 0 0 0 0 0 0 0 0 0 0 0 0 0 0 0 0 0 0 0 0 0 0 0 0 0 0 0 0 0 0 0 0 0 0 0 0 0 0 0 0 0 0 0 0 0 0 0 0 0 0 0 0 0 0 0 0 0 0 0 0 0 0 0 0 0 0 0 0 0 0 0 0 0 0 0 0 0 0 0 0 0 0 0 0 0 0 0 0 0 0 0 0 0 0 0 0 0 0 0 0 0 0 0 0 0 0 0 0 0 0 0 0 0 0 0 0 0 0 0 0 0 0 0 0\n"
          ],
          "name": "stdout"
        },
        {
          "output_type": "stream",
          "text": [
            "I0423 20:04:08.514823 139880146163584 run_classifier.py:466] input_mask: 1 1 1 1 0 0 0 0 0 0 0 0 0 0 0 0 0 0 0 0 0 0 0 0 0 0 0 0 0 0 0 0 0 0 0 0 0 0 0 0 0 0 0 0 0 0 0 0 0 0 0 0 0 0 0 0 0 0 0 0 0 0 0 0 0 0 0 0 0 0 0 0 0 0 0 0 0 0 0 0 0 0 0 0 0 0 0 0 0 0 0 0 0 0 0 0 0 0 0 0 0 0 0 0 0 0 0 0 0 0 0 0 0 0 0 0 0 0 0 0 0 0 0 0 0 0 0 0\n"
          ],
          "name": "stderr"
        },
        {
          "output_type": "stream",
          "text": [
            "INFO:tensorflow:segment_ids: 0 0 0 0 0 0 0 0 0 0 0 0 0 0 0 0 0 0 0 0 0 0 0 0 0 0 0 0 0 0 0 0 0 0 0 0 0 0 0 0 0 0 0 0 0 0 0 0 0 0 0 0 0 0 0 0 0 0 0 0 0 0 0 0 0 0 0 0 0 0 0 0 0 0 0 0 0 0 0 0 0 0 0 0 0 0 0 0 0 0 0 0 0 0 0 0 0 0 0 0 0 0 0 0 0 0 0 0 0 0 0 0 0 0 0 0 0 0 0 0 0 0 0 0 0 0 0 0\n"
          ],
          "name": "stdout"
        },
        {
          "output_type": "stream",
          "text": [
            "I0423 20:04:08.517157 139880146163584 run_classifier.py:467] segment_ids: 0 0 0 0 0 0 0 0 0 0 0 0 0 0 0 0 0 0 0 0 0 0 0 0 0 0 0 0 0 0 0 0 0 0 0 0 0 0 0 0 0 0 0 0 0 0 0 0 0 0 0 0 0 0 0 0 0 0 0 0 0 0 0 0 0 0 0 0 0 0 0 0 0 0 0 0 0 0 0 0 0 0 0 0 0 0 0 0 0 0 0 0 0 0 0 0 0 0 0 0 0 0 0 0 0 0 0 0 0 0 0 0 0 0 0 0 0 0 0 0 0 0 0 0 0 0 0 0\n"
          ],
          "name": "stderr"
        },
        {
          "output_type": "stream",
          "text": [
            "INFO:tensorflow:label: 248274002 (id = 4)\n"
          ],
          "name": "stdout"
        },
        {
          "output_type": "stream",
          "text": [
            "I0423 20:04:08.519506 139880146163584 run_classifier.py:468] label: 248274002 (id = 4)\n"
          ],
          "name": "stderr"
        },
        {
          "output_type": "stream",
          "text": [
            "INFO:tensorflow:Writing example 10000 of 156652\n"
          ],
          "name": "stdout"
        },
        {
          "output_type": "stream",
          "text": [
            "I0423 20:04:10.843210 139880146163584 run_classifier.py:774] Writing example 10000 of 156652\n"
          ],
          "name": "stderr"
        },
        {
          "output_type": "stream",
          "text": [
            "INFO:tensorflow:Writing example 20000 of 156652\n"
          ],
          "name": "stdout"
        },
        {
          "output_type": "stream",
          "text": [
            "I0423 20:04:13.140272 139880146163584 run_classifier.py:774] Writing example 20000 of 156652\n"
          ],
          "name": "stderr"
        },
        {
          "output_type": "stream",
          "text": [
            "INFO:tensorflow:Writing example 30000 of 156652\n"
          ],
          "name": "stdout"
        },
        {
          "output_type": "stream",
          "text": [
            "I0423 20:04:15.679246 139880146163584 run_classifier.py:774] Writing example 30000 of 156652\n"
          ],
          "name": "stderr"
        },
        {
          "output_type": "stream",
          "text": [
            "INFO:tensorflow:Writing example 40000 of 156652\n"
          ],
          "name": "stdout"
        },
        {
          "output_type": "stream",
          "text": [
            "I0423 20:04:17.984798 139880146163584 run_classifier.py:774] Writing example 40000 of 156652\n"
          ],
          "name": "stderr"
        },
        {
          "output_type": "stream",
          "text": [
            "INFO:tensorflow:Writing example 50000 of 156652\n"
          ],
          "name": "stdout"
        },
        {
          "output_type": "stream",
          "text": [
            "I0423 20:04:20.641503 139880146163584 run_classifier.py:774] Writing example 50000 of 156652\n"
          ],
          "name": "stderr"
        },
        {
          "output_type": "stream",
          "text": [
            "INFO:tensorflow:Writing example 60000 of 156652\n"
          ],
          "name": "stdout"
        },
        {
          "output_type": "stream",
          "text": [
            "I0423 20:04:22.939808 139880146163584 run_classifier.py:774] Writing example 60000 of 156652\n"
          ],
          "name": "stderr"
        },
        {
          "output_type": "stream",
          "text": [
            "INFO:tensorflow:Writing example 70000 of 156652\n"
          ],
          "name": "stdout"
        },
        {
          "output_type": "stream",
          "text": [
            "I0423 20:04:25.237948 139880146163584 run_classifier.py:774] Writing example 70000 of 156652\n"
          ],
          "name": "stderr"
        },
        {
          "output_type": "stream",
          "text": [
            "INFO:tensorflow:Writing example 80000 of 156652\n"
          ],
          "name": "stdout"
        },
        {
          "output_type": "stream",
          "text": [
            "I0423 20:04:28.159258 139880146163584 run_classifier.py:774] Writing example 80000 of 156652\n"
          ],
          "name": "stderr"
        },
        {
          "output_type": "stream",
          "text": [
            "INFO:tensorflow:Writing example 90000 of 156652\n"
          ],
          "name": "stdout"
        },
        {
          "output_type": "stream",
          "text": [
            "I0423 20:04:30.882685 139880146163584 run_classifier.py:774] Writing example 90000 of 156652\n"
          ],
          "name": "stderr"
        },
        {
          "output_type": "stream",
          "text": [
            "INFO:tensorflow:Writing example 100000 of 156652\n"
          ],
          "name": "stdout"
        },
        {
          "output_type": "stream",
          "text": [
            "I0423 20:04:33.549305 139880146163584 run_classifier.py:774] Writing example 100000 of 156652\n"
          ],
          "name": "stderr"
        },
        {
          "output_type": "stream",
          "text": [
            "INFO:tensorflow:Writing example 110000 of 156652\n"
          ],
          "name": "stdout"
        },
        {
          "output_type": "stream",
          "text": [
            "I0423 20:04:36.205601 139880146163584 run_classifier.py:774] Writing example 110000 of 156652\n"
          ],
          "name": "stderr"
        },
        {
          "output_type": "stream",
          "text": [
            "INFO:tensorflow:Writing example 120000 of 156652\n"
          ],
          "name": "stdout"
        },
        {
          "output_type": "stream",
          "text": [
            "I0423 20:04:39.182619 139880146163584 run_classifier.py:774] Writing example 120000 of 156652\n"
          ],
          "name": "stderr"
        },
        {
          "output_type": "stream",
          "text": [
            "INFO:tensorflow:Writing example 130000 of 156652\n"
          ],
          "name": "stdout"
        },
        {
          "output_type": "stream",
          "text": [
            "I0423 20:04:41.502797 139880146163584 run_classifier.py:774] Writing example 130000 of 156652\n"
          ],
          "name": "stderr"
        },
        {
          "output_type": "stream",
          "text": [
            "INFO:tensorflow:Writing example 140000 of 156652\n"
          ],
          "name": "stdout"
        },
        {
          "output_type": "stream",
          "text": [
            "I0423 20:04:43.778369 139880146163584 run_classifier.py:774] Writing example 140000 of 156652\n"
          ],
          "name": "stderr"
        },
        {
          "output_type": "stream",
          "text": [
            "INFO:tensorflow:Writing example 150000 of 156652\n"
          ],
          "name": "stdout"
        },
        {
          "output_type": "stream",
          "text": [
            "I0423 20:04:46.090180 139880146163584 run_classifier.py:774] Writing example 150000 of 156652\n"
          ],
          "name": "stderr"
        },
        {
          "output_type": "stream",
          "text": [
            "INFO:tensorflow:Writing example 0 of 7926\n"
          ],
          "name": "stdout"
        },
        {
          "output_type": "stream",
          "text": [
            "I0423 20:04:47.838368 139880146163584 run_classifier.py:774] Writing example 0 of 7926\n"
          ],
          "name": "stderr"
        },
        {
          "output_type": "stream",
          "text": [
            "INFO:tensorflow:*** Example ***\n"
          ],
          "name": "stdout"
        },
        {
          "output_type": "stream",
          "text": [
            "I0423 20:04:47.840770 139880146163584 run_classifier.py:461] *** Example ***\n"
          ],
          "name": "stderr"
        },
        {
          "output_type": "stream",
          "text": [
            "INFO:tensorflow:guid: None\n"
          ],
          "name": "stdout"
        },
        {
          "output_type": "stream",
          "text": [
            "I0423 20:04:47.842310 139880146163584 run_classifier.py:462] guid: None\n"
          ],
          "name": "stderr"
        },
        {
          "output_type": "stream",
          "text": [
            "INFO:tensorflow:tokens: [CLS] persist ##en feeling tired ##ness [SEP]\n"
          ],
          "name": "stdout"
        },
        {
          "output_type": "stream",
          "text": [
            "I0423 20:04:47.843648 139880146163584 run_classifier.py:464] tokens: [CLS] persist ##en feeling tired ##ness [SEP]\n"
          ],
          "name": "stderr"
        },
        {
          "output_type": "stream",
          "text": [
            "INFO:tensorflow:input_ids: 101 29486 2368 3110 5458 2791 102 0 0 0 0 0 0 0 0 0 0 0 0 0 0 0 0 0 0 0 0 0 0 0 0 0 0 0 0 0 0 0 0 0 0 0 0 0 0 0 0 0 0 0 0 0 0 0 0 0 0 0 0 0 0 0 0 0 0 0 0 0 0 0 0 0 0 0 0 0 0 0 0 0 0 0 0 0 0 0 0 0 0 0 0 0 0 0 0 0 0 0 0 0 0 0 0 0 0 0 0 0 0 0 0 0 0 0 0 0 0 0 0 0 0 0 0 0 0 0 0 0\n"
          ],
          "name": "stdout"
        },
        {
          "output_type": "stream",
          "text": [
            "I0423 20:04:47.844983 139880146163584 run_classifier.py:465] input_ids: 101 29486 2368 3110 5458 2791 102 0 0 0 0 0 0 0 0 0 0 0 0 0 0 0 0 0 0 0 0 0 0 0 0 0 0 0 0 0 0 0 0 0 0 0 0 0 0 0 0 0 0 0 0 0 0 0 0 0 0 0 0 0 0 0 0 0 0 0 0 0 0 0 0 0 0 0 0 0 0 0 0 0 0 0 0 0 0 0 0 0 0 0 0 0 0 0 0 0 0 0 0 0 0 0 0 0 0 0 0 0 0 0 0 0 0 0 0 0 0 0 0 0 0 0 0 0 0 0 0 0\n"
          ],
          "name": "stderr"
        },
        {
          "output_type": "stream",
          "text": [
            "INFO:tensorflow:input_mask: 1 1 1 1 1 1 1 0 0 0 0 0 0 0 0 0 0 0 0 0 0 0 0 0 0 0 0 0 0 0 0 0 0 0 0 0 0 0 0 0 0 0 0 0 0 0 0 0 0 0 0 0 0 0 0 0 0 0 0 0 0 0 0 0 0 0 0 0 0 0 0 0 0 0 0 0 0 0 0 0 0 0 0 0 0 0 0 0 0 0 0 0 0 0 0 0 0 0 0 0 0 0 0 0 0 0 0 0 0 0 0 0 0 0 0 0 0 0 0 0 0 0 0 0 0 0 0 0\n"
          ],
          "name": "stdout"
        },
        {
          "output_type": "stream",
          "text": [
            "I0423 20:04:47.846331 139880146163584 run_classifier.py:466] input_mask: 1 1 1 1 1 1 1 0 0 0 0 0 0 0 0 0 0 0 0 0 0 0 0 0 0 0 0 0 0 0 0 0 0 0 0 0 0 0 0 0 0 0 0 0 0 0 0 0 0 0 0 0 0 0 0 0 0 0 0 0 0 0 0 0 0 0 0 0 0 0 0 0 0 0 0 0 0 0 0 0 0 0 0 0 0 0 0 0 0 0 0 0 0 0 0 0 0 0 0 0 0 0 0 0 0 0 0 0 0 0 0 0 0 0 0 0 0 0 0 0 0 0 0 0 0 0 0 0\n"
          ],
          "name": "stderr"
        },
        {
          "output_type": "stream",
          "text": [
            "INFO:tensorflow:segment_ids: 0 0 0 0 0 0 0 0 0 0 0 0 0 0 0 0 0 0 0 0 0 0 0 0 0 0 0 0 0 0 0 0 0 0 0 0 0 0 0 0 0 0 0 0 0 0 0 0 0 0 0 0 0 0 0 0 0 0 0 0 0 0 0 0 0 0 0 0 0 0 0 0 0 0 0 0 0 0 0 0 0 0 0 0 0 0 0 0 0 0 0 0 0 0 0 0 0 0 0 0 0 0 0 0 0 0 0 0 0 0 0 0 0 0 0 0 0 0 0 0 0 0 0 0 0 0 0 0\n"
          ],
          "name": "stdout"
        },
        {
          "output_type": "stream",
          "text": [
            "I0423 20:04:47.848382 139880146163584 run_classifier.py:467] segment_ids: 0 0 0 0 0 0 0 0 0 0 0 0 0 0 0 0 0 0 0 0 0 0 0 0 0 0 0 0 0 0 0 0 0 0 0 0 0 0 0 0 0 0 0 0 0 0 0 0 0 0 0 0 0 0 0 0 0 0 0 0 0 0 0 0 0 0 0 0 0 0 0 0 0 0 0 0 0 0 0 0 0 0 0 0 0 0 0 0 0 0 0 0 0 0 0 0 0 0 0 0 0 0 0 0 0 0 0 0 0 0 0 0 0 0 0 0 0 0 0 0 0 0 0 0 0 0 0 0\n"
          ],
          "name": "stderr"
        },
        {
          "output_type": "stream",
          "text": [
            "INFO:tensorflow:label: 267032009 (id = 313)\n"
          ],
          "name": "stdout"
        },
        {
          "output_type": "stream",
          "text": [
            "I0423 20:04:47.852754 139880146163584 run_classifier.py:468] label: 267032009 (id = 313)\n"
          ],
          "name": "stderr"
        },
        {
          "output_type": "stream",
          "text": [
            "INFO:tensorflow:*** Example ***\n"
          ],
          "name": "stdout"
        },
        {
          "output_type": "stream",
          "text": [
            "I0423 20:04:47.857046 139880146163584 run_classifier.py:461] *** Example ***\n"
          ],
          "name": "stderr"
        },
        {
          "output_type": "stream",
          "text": [
            "INFO:tensorflow:guid: None\n"
          ],
          "name": "stdout"
        },
        {
          "output_type": "stream",
          "text": [
            "I0423 20:04:47.859525 139880146163584 run_classifier.py:462] guid: None\n"
          ],
          "name": "stderr"
        },
        {
          "output_type": "stream",
          "text": [
            "INFO:tensorflow:tokens: [CLS] heart attack [SEP]\n"
          ],
          "name": "stdout"
        },
        {
          "output_type": "stream",
          "text": [
            "I0423 20:04:47.862826 139880146163584 run_classifier.py:464] tokens: [CLS] heart attack [SEP]\n"
          ],
          "name": "stderr"
        },
        {
          "output_type": "stream",
          "text": [
            "INFO:tensorflow:input_ids: 101 2540 2886 102 0 0 0 0 0 0 0 0 0 0 0 0 0 0 0 0 0 0 0 0 0 0 0 0 0 0 0 0 0 0 0 0 0 0 0 0 0 0 0 0 0 0 0 0 0 0 0 0 0 0 0 0 0 0 0 0 0 0 0 0 0 0 0 0 0 0 0 0 0 0 0 0 0 0 0 0 0 0 0 0 0 0 0 0 0 0 0 0 0 0 0 0 0 0 0 0 0 0 0 0 0 0 0 0 0 0 0 0 0 0 0 0 0 0 0 0 0 0 0 0 0 0 0 0\n"
          ],
          "name": "stdout"
        },
        {
          "output_type": "stream",
          "text": [
            "I0423 20:04:47.865972 139880146163584 run_classifier.py:465] input_ids: 101 2540 2886 102 0 0 0 0 0 0 0 0 0 0 0 0 0 0 0 0 0 0 0 0 0 0 0 0 0 0 0 0 0 0 0 0 0 0 0 0 0 0 0 0 0 0 0 0 0 0 0 0 0 0 0 0 0 0 0 0 0 0 0 0 0 0 0 0 0 0 0 0 0 0 0 0 0 0 0 0 0 0 0 0 0 0 0 0 0 0 0 0 0 0 0 0 0 0 0 0 0 0 0 0 0 0 0 0 0 0 0 0 0 0 0 0 0 0 0 0 0 0 0 0 0 0 0 0\n"
          ],
          "name": "stderr"
        },
        {
          "output_type": "stream",
          "text": [
            "INFO:tensorflow:input_mask: 1 1 1 1 0 0 0 0 0 0 0 0 0 0 0 0 0 0 0 0 0 0 0 0 0 0 0 0 0 0 0 0 0 0 0 0 0 0 0 0 0 0 0 0 0 0 0 0 0 0 0 0 0 0 0 0 0 0 0 0 0 0 0 0 0 0 0 0 0 0 0 0 0 0 0 0 0 0 0 0 0 0 0 0 0 0 0 0 0 0 0 0 0 0 0 0 0 0 0 0 0 0 0 0 0 0 0 0 0 0 0 0 0 0 0 0 0 0 0 0 0 0 0 0 0 0 0 0\n"
          ],
          "name": "stdout"
        },
        {
          "output_type": "stream",
          "text": [
            "I0423 20:04:47.868735 139880146163584 run_classifier.py:466] input_mask: 1 1 1 1 0 0 0 0 0 0 0 0 0 0 0 0 0 0 0 0 0 0 0 0 0 0 0 0 0 0 0 0 0 0 0 0 0 0 0 0 0 0 0 0 0 0 0 0 0 0 0 0 0 0 0 0 0 0 0 0 0 0 0 0 0 0 0 0 0 0 0 0 0 0 0 0 0 0 0 0 0 0 0 0 0 0 0 0 0 0 0 0 0 0 0 0 0 0 0 0 0 0 0 0 0 0 0 0 0 0 0 0 0 0 0 0 0 0 0 0 0 0 0 0 0 0 0 0\n"
          ],
          "name": "stderr"
        },
        {
          "output_type": "stream",
          "text": [
            "INFO:tensorflow:segment_ids: 0 0 0 0 0 0 0 0 0 0 0 0 0 0 0 0 0 0 0 0 0 0 0 0 0 0 0 0 0 0 0 0 0 0 0 0 0 0 0 0 0 0 0 0 0 0 0 0 0 0 0 0 0 0 0 0 0 0 0 0 0 0 0 0 0 0 0 0 0 0 0 0 0 0 0 0 0 0 0 0 0 0 0 0 0 0 0 0 0 0 0 0 0 0 0 0 0 0 0 0 0 0 0 0 0 0 0 0 0 0 0 0 0 0 0 0 0 0 0 0 0 0 0 0 0 0 0 0\n"
          ],
          "name": "stdout"
        },
        {
          "output_type": "stream",
          "text": [
            "I0423 20:04:47.871507 139880146163584 run_classifier.py:467] segment_ids: 0 0 0 0 0 0 0 0 0 0 0 0 0 0 0 0 0 0 0 0 0 0 0 0 0 0 0 0 0 0 0 0 0 0 0 0 0 0 0 0 0 0 0 0 0 0 0 0 0 0 0 0 0 0 0 0 0 0 0 0 0 0 0 0 0 0 0 0 0 0 0 0 0 0 0 0 0 0 0 0 0 0 0 0 0 0 0 0 0 0 0 0 0 0 0 0 0 0 0 0 0 0 0 0 0 0 0 0 0 0 0 0 0 0 0 0 0 0 0 0 0 0 0 0 0 0 0 0\n"
          ],
          "name": "stderr"
        },
        {
          "output_type": "stream",
          "text": [
            "INFO:tensorflow:label: 22298006 (id = 21)\n"
          ],
          "name": "stdout"
        },
        {
          "output_type": "stream",
          "text": [
            "I0423 20:04:47.874608 139880146163584 run_classifier.py:468] label: 22298006 (id = 21)\n"
          ],
          "name": "stderr"
        },
        {
          "output_type": "stream",
          "text": [
            "INFO:tensorflow:*** Example ***\n"
          ],
          "name": "stdout"
        },
        {
          "output_type": "stream",
          "text": [
            "I0423 20:04:47.878220 139880146163584 run_classifier.py:461] *** Example ***\n"
          ],
          "name": "stderr"
        },
        {
          "output_type": "stream",
          "text": [
            "INFO:tensorflow:guid: None\n"
          ],
          "name": "stdout"
        },
        {
          "output_type": "stream",
          "text": [
            "I0423 20:04:47.881351 139880146163584 run_classifier.py:462] guid: None\n"
          ],
          "name": "stderr"
        },
        {
          "output_type": "stream",
          "text": [
            "INFO:tensorflow:tokens: [CLS] lip ##itor [SEP]\n"
          ],
          "name": "stdout"
        },
        {
          "output_type": "stream",
          "text": [
            "I0423 20:04:47.883595 139880146163584 run_classifier.py:464] tokens: [CLS] lip ##itor [SEP]\n"
          ],
          "name": "stderr"
        },
        {
          "output_type": "stream",
          "text": [
            "INFO:tensorflow:input_ids: 101 5423 15660 102 0 0 0 0 0 0 0 0 0 0 0 0 0 0 0 0 0 0 0 0 0 0 0 0 0 0 0 0 0 0 0 0 0 0 0 0 0 0 0 0 0 0 0 0 0 0 0 0 0 0 0 0 0 0 0 0 0 0 0 0 0 0 0 0 0 0 0 0 0 0 0 0 0 0 0 0 0 0 0 0 0 0 0 0 0 0 0 0 0 0 0 0 0 0 0 0 0 0 0 0 0 0 0 0 0 0 0 0 0 0 0 0 0 0 0 0 0 0 0 0 0 0 0 0\n"
          ],
          "name": "stdout"
        },
        {
          "output_type": "stream",
          "text": [
            "I0423 20:04:47.885908 139880146163584 run_classifier.py:465] input_ids: 101 5423 15660 102 0 0 0 0 0 0 0 0 0 0 0 0 0 0 0 0 0 0 0 0 0 0 0 0 0 0 0 0 0 0 0 0 0 0 0 0 0 0 0 0 0 0 0 0 0 0 0 0 0 0 0 0 0 0 0 0 0 0 0 0 0 0 0 0 0 0 0 0 0 0 0 0 0 0 0 0 0 0 0 0 0 0 0 0 0 0 0 0 0 0 0 0 0 0 0 0 0 0 0 0 0 0 0 0 0 0 0 0 0 0 0 0 0 0 0 0 0 0 0 0 0 0 0 0\n"
          ],
          "name": "stderr"
        },
        {
          "output_type": "stream",
          "text": [
            "INFO:tensorflow:input_mask: 1 1 1 1 0 0 0 0 0 0 0 0 0 0 0 0 0 0 0 0 0 0 0 0 0 0 0 0 0 0 0 0 0 0 0 0 0 0 0 0 0 0 0 0 0 0 0 0 0 0 0 0 0 0 0 0 0 0 0 0 0 0 0 0 0 0 0 0 0 0 0 0 0 0 0 0 0 0 0 0 0 0 0 0 0 0 0 0 0 0 0 0 0 0 0 0 0 0 0 0 0 0 0 0 0 0 0 0 0 0 0 0 0 0 0 0 0 0 0 0 0 0 0 0 0 0 0 0\n"
          ],
          "name": "stdout"
        },
        {
          "output_type": "stream",
          "text": [
            "I0423 20:04:47.888030 139880146163584 run_classifier.py:466] input_mask: 1 1 1 1 0 0 0 0 0 0 0 0 0 0 0 0 0 0 0 0 0 0 0 0 0 0 0 0 0 0 0 0 0 0 0 0 0 0 0 0 0 0 0 0 0 0 0 0 0 0 0 0 0 0 0 0 0 0 0 0 0 0 0 0 0 0 0 0 0 0 0 0 0 0 0 0 0 0 0 0 0 0 0 0 0 0 0 0 0 0 0 0 0 0 0 0 0 0 0 0 0 0 0 0 0 0 0 0 0 0 0 0 0 0 0 0 0 0 0 0 0 0 0 0 0 0 0 0\n"
          ],
          "name": "stderr"
        },
        {
          "output_type": "stream",
          "text": [
            "INFO:tensorflow:segment_ids: 0 0 0 0 0 0 0 0 0 0 0 0 0 0 0 0 0 0 0 0 0 0 0 0 0 0 0 0 0 0 0 0 0 0 0 0 0 0 0 0 0 0 0 0 0 0 0 0 0 0 0 0 0 0 0 0 0 0 0 0 0 0 0 0 0 0 0 0 0 0 0 0 0 0 0 0 0 0 0 0 0 0 0 0 0 0 0 0 0 0 0 0 0 0 0 0 0 0 0 0 0 0 0 0 0 0 0 0 0 0 0 0 0 0 0 0 0 0 0 0 0 0 0 0 0 0 0 0\n"
          ],
          "name": "stdout"
        },
        {
          "output_type": "stream",
          "text": [
            "I0423 20:04:47.890368 139880146163584 run_classifier.py:467] segment_ids: 0 0 0 0 0 0 0 0 0 0 0 0 0 0 0 0 0 0 0 0 0 0 0 0 0 0 0 0 0 0 0 0 0 0 0 0 0 0 0 0 0 0 0 0 0 0 0 0 0 0 0 0 0 0 0 0 0 0 0 0 0 0 0 0 0 0 0 0 0 0 0 0 0 0 0 0 0 0 0 0 0 0 0 0 0 0 0 0 0 0 0 0 0 0 0 0 0 0 0 0 0 0 0 0 0 0 0 0 0 0 0 0 0 0 0 0 0 0 0 0 0 0 0 0 0 0 0 0\n"
          ],
          "name": "stderr"
        },
        {
          "output_type": "stream",
          "text": [
            "INFO:tensorflow:label: 3877011000036101 (id = 0)\n"
          ],
          "name": "stdout"
        },
        {
          "output_type": "stream",
          "text": [
            "I0423 20:04:47.892762 139880146163584 run_classifier.py:468] label: 3877011000036101 (id = 0)\n"
          ],
          "name": "stderr"
        },
        {
          "output_type": "stream",
          "text": [
            "INFO:tensorflow:*** Example ***\n"
          ],
          "name": "stdout"
        },
        {
          "output_type": "stream",
          "text": [
            "I0423 20:04:47.895490 139880146163584 run_classifier.py:461] *** Example ***\n"
          ],
          "name": "stderr"
        },
        {
          "output_type": "stream",
          "text": [
            "INFO:tensorflow:guid: None\n"
          ],
          "name": "stdout"
        },
        {
          "output_type": "stream",
          "text": [
            "I0423 20:04:47.897905 139880146163584 run_classifier.py:462] guid: None\n"
          ],
          "name": "stderr"
        },
        {
          "output_type": "stream",
          "text": [
            "INFO:tensorflow:tokens: [CLS] sweat ##ed [SEP]\n"
          ],
          "name": "stdout"
        },
        {
          "output_type": "stream",
          "text": [
            "I0423 20:04:47.900346 139880146163584 run_classifier.py:464] tokens: [CLS] sweat ##ed [SEP]\n"
          ],
          "name": "stderr"
        },
        {
          "output_type": "stream",
          "text": [
            "INFO:tensorflow:input_ids: 101 7518 2098 102 0 0 0 0 0 0 0 0 0 0 0 0 0 0 0 0 0 0 0 0 0 0 0 0 0 0 0 0 0 0 0 0 0 0 0 0 0 0 0 0 0 0 0 0 0 0 0 0 0 0 0 0 0 0 0 0 0 0 0 0 0 0 0 0 0 0 0 0 0 0 0 0 0 0 0 0 0 0 0 0 0 0 0 0 0 0 0 0 0 0 0 0 0 0 0 0 0 0 0 0 0 0 0 0 0 0 0 0 0 0 0 0 0 0 0 0 0 0 0 0 0 0 0 0\n"
          ],
          "name": "stdout"
        },
        {
          "output_type": "stream",
          "text": [
            "I0423 20:04:47.902788 139880146163584 run_classifier.py:465] input_ids: 101 7518 2098 102 0 0 0 0 0 0 0 0 0 0 0 0 0 0 0 0 0 0 0 0 0 0 0 0 0 0 0 0 0 0 0 0 0 0 0 0 0 0 0 0 0 0 0 0 0 0 0 0 0 0 0 0 0 0 0 0 0 0 0 0 0 0 0 0 0 0 0 0 0 0 0 0 0 0 0 0 0 0 0 0 0 0 0 0 0 0 0 0 0 0 0 0 0 0 0 0 0 0 0 0 0 0 0 0 0 0 0 0 0 0 0 0 0 0 0 0 0 0 0 0 0 0 0 0\n"
          ],
          "name": "stderr"
        },
        {
          "output_type": "stream",
          "text": [
            "INFO:tensorflow:input_mask: 1 1 1 1 0 0 0 0 0 0 0 0 0 0 0 0 0 0 0 0 0 0 0 0 0 0 0 0 0 0 0 0 0 0 0 0 0 0 0 0 0 0 0 0 0 0 0 0 0 0 0 0 0 0 0 0 0 0 0 0 0 0 0 0 0 0 0 0 0 0 0 0 0 0 0 0 0 0 0 0 0 0 0 0 0 0 0 0 0 0 0 0 0 0 0 0 0 0 0 0 0 0 0 0 0 0 0 0 0 0 0 0 0 0 0 0 0 0 0 0 0 0 0 0 0 0 0 0\n"
          ],
          "name": "stdout"
        },
        {
          "output_type": "stream",
          "text": [
            "I0423 20:04:47.904918 139880146163584 run_classifier.py:466] input_mask: 1 1 1 1 0 0 0 0 0 0 0 0 0 0 0 0 0 0 0 0 0 0 0 0 0 0 0 0 0 0 0 0 0 0 0 0 0 0 0 0 0 0 0 0 0 0 0 0 0 0 0 0 0 0 0 0 0 0 0 0 0 0 0 0 0 0 0 0 0 0 0 0 0 0 0 0 0 0 0 0 0 0 0 0 0 0 0 0 0 0 0 0 0 0 0 0 0 0 0 0 0 0 0 0 0 0 0 0 0 0 0 0 0 0 0 0 0 0 0 0 0 0 0 0 0 0 0 0\n"
          ],
          "name": "stderr"
        },
        {
          "output_type": "stream",
          "text": [
            "INFO:tensorflow:segment_ids: 0 0 0 0 0 0 0 0 0 0 0 0 0 0 0 0 0 0 0 0 0 0 0 0 0 0 0 0 0 0 0 0 0 0 0 0 0 0 0 0 0 0 0 0 0 0 0 0 0 0 0 0 0 0 0 0 0 0 0 0 0 0 0 0 0 0 0 0 0 0 0 0 0 0 0 0 0 0 0 0 0 0 0 0 0 0 0 0 0 0 0 0 0 0 0 0 0 0 0 0 0 0 0 0 0 0 0 0 0 0 0 0 0 0 0 0 0 0 0 0 0 0 0 0 0 0 0 0\n"
          ],
          "name": "stdout"
        },
        {
          "output_type": "stream",
          "text": [
            "I0423 20:04:47.907357 139880146163584 run_classifier.py:467] segment_ids: 0 0 0 0 0 0 0 0 0 0 0 0 0 0 0 0 0 0 0 0 0 0 0 0 0 0 0 0 0 0 0 0 0 0 0 0 0 0 0 0 0 0 0 0 0 0 0 0 0 0 0 0 0 0 0 0 0 0 0 0 0 0 0 0 0 0 0 0 0 0 0 0 0 0 0 0 0 0 0 0 0 0 0 0 0 0 0 0 0 0 0 0 0 0 0 0 0 0 0 0 0 0 0 0 0 0 0 0 0 0 0 0 0 0 0 0 0 0 0 0 0 0 0 0 0 0 0 0\n"
          ],
          "name": "stderr"
        },
        {
          "output_type": "stream",
          "text": [
            "INFO:tensorflow:label: 415690000 (id = 12)\n"
          ],
          "name": "stdout"
        },
        {
          "output_type": "stream",
          "text": [
            "I0423 20:04:47.909264 139880146163584 run_classifier.py:468] label: 415690000 (id = 12)\n"
          ],
          "name": "stderr"
        },
        {
          "output_type": "stream",
          "text": [
            "INFO:tensorflow:*** Example ***\n"
          ],
          "name": "stdout"
        },
        {
          "output_type": "stream",
          "text": [
            "I0423 20:04:47.912008 139880146163584 run_classifier.py:461] *** Example ***\n"
          ],
          "name": "stderr"
        },
        {
          "output_type": "stream",
          "text": [
            "INFO:tensorflow:guid: None\n"
          ],
          "name": "stdout"
        },
        {
          "output_type": "stream",
          "text": [
            "I0423 20:04:47.915571 139880146163584 run_classifier.py:462] guid: None\n"
          ],
          "name": "stderr"
        },
        {
          "output_type": "stream",
          "text": [
            "INFO:tensorflow:tokens: [CLS] swelling knee [SEP]\n"
          ],
          "name": "stdout"
        },
        {
          "output_type": "stream",
          "text": [
            "I0423 20:04:47.917467 139880146163584 run_classifier.py:464] tokens: [CLS] swelling knee [SEP]\n"
          ],
          "name": "stderr"
        },
        {
          "output_type": "stream",
          "text": [
            "INFO:tensorflow:input_ids: 101 18348 6181 102 0 0 0 0 0 0 0 0 0 0 0 0 0 0 0 0 0 0 0 0 0 0 0 0 0 0 0 0 0 0 0 0 0 0 0 0 0 0 0 0 0 0 0 0 0 0 0 0 0 0 0 0 0 0 0 0 0 0 0 0 0 0 0 0 0 0 0 0 0 0 0 0 0 0 0 0 0 0 0 0 0 0 0 0 0 0 0 0 0 0 0 0 0 0 0 0 0 0 0 0 0 0 0 0 0 0 0 0 0 0 0 0 0 0 0 0 0 0 0 0 0 0 0 0\n"
          ],
          "name": "stdout"
        },
        {
          "output_type": "stream",
          "text": [
            "I0423 20:04:47.919198 139880146163584 run_classifier.py:465] input_ids: 101 18348 6181 102 0 0 0 0 0 0 0 0 0 0 0 0 0 0 0 0 0 0 0 0 0 0 0 0 0 0 0 0 0 0 0 0 0 0 0 0 0 0 0 0 0 0 0 0 0 0 0 0 0 0 0 0 0 0 0 0 0 0 0 0 0 0 0 0 0 0 0 0 0 0 0 0 0 0 0 0 0 0 0 0 0 0 0 0 0 0 0 0 0 0 0 0 0 0 0 0 0 0 0 0 0 0 0 0 0 0 0 0 0 0 0 0 0 0 0 0 0 0 0 0 0 0 0 0\n"
          ],
          "name": "stderr"
        },
        {
          "output_type": "stream",
          "text": [
            "INFO:tensorflow:input_mask: 1 1 1 1 0 0 0 0 0 0 0 0 0 0 0 0 0 0 0 0 0 0 0 0 0 0 0 0 0 0 0 0 0 0 0 0 0 0 0 0 0 0 0 0 0 0 0 0 0 0 0 0 0 0 0 0 0 0 0 0 0 0 0 0 0 0 0 0 0 0 0 0 0 0 0 0 0 0 0 0 0 0 0 0 0 0 0 0 0 0 0 0 0 0 0 0 0 0 0 0 0 0 0 0 0 0 0 0 0 0 0 0 0 0 0 0 0 0 0 0 0 0 0 0 0 0 0 0\n"
          ],
          "name": "stdout"
        },
        {
          "output_type": "stream",
          "text": [
            "I0423 20:04:47.925144 139880146163584 run_classifier.py:466] input_mask: 1 1 1 1 0 0 0 0 0 0 0 0 0 0 0 0 0 0 0 0 0 0 0 0 0 0 0 0 0 0 0 0 0 0 0 0 0 0 0 0 0 0 0 0 0 0 0 0 0 0 0 0 0 0 0 0 0 0 0 0 0 0 0 0 0 0 0 0 0 0 0 0 0 0 0 0 0 0 0 0 0 0 0 0 0 0 0 0 0 0 0 0 0 0 0 0 0 0 0 0 0 0 0 0 0 0 0 0 0 0 0 0 0 0 0 0 0 0 0 0 0 0 0 0 0 0 0 0\n"
          ],
          "name": "stderr"
        },
        {
          "output_type": "stream",
          "text": [
            "INFO:tensorflow:segment_ids: 0 0 0 0 0 0 0 0 0 0 0 0 0 0 0 0 0 0 0 0 0 0 0 0 0 0 0 0 0 0 0 0 0 0 0 0 0 0 0 0 0 0 0 0 0 0 0 0 0 0 0 0 0 0 0 0 0 0 0 0 0 0 0 0 0 0 0 0 0 0 0 0 0 0 0 0 0 0 0 0 0 0 0 0 0 0 0 0 0 0 0 0 0 0 0 0 0 0 0 0 0 0 0 0 0 0 0 0 0 0 0 0 0 0 0 0 0 0 0 0 0 0 0 0 0 0 0 0\n"
          ],
          "name": "stdout"
        },
        {
          "output_type": "stream",
          "text": [
            "I0423 20:04:47.929169 139880146163584 run_classifier.py:467] segment_ids: 0 0 0 0 0 0 0 0 0 0 0 0 0 0 0 0 0 0 0 0 0 0 0 0 0 0 0 0 0 0 0 0 0 0 0 0 0 0 0 0 0 0 0 0 0 0 0 0 0 0 0 0 0 0 0 0 0 0 0 0 0 0 0 0 0 0 0 0 0 0 0 0 0 0 0 0 0 0 0 0 0 0 0 0 0 0 0 0 0 0 0 0 0 0 0 0 0 0 0 0 0 0 0 0 0 0 0 0 0 0 0 0 0 0 0 0 0 0 0 0 0 0 0 0 0 0 0 0\n"
          ],
          "name": "stderr"
        },
        {
          "output_type": "stream",
          "text": [
            "INFO:tensorflow:label: 248491001 (id = 583)\n"
          ],
          "name": "stdout"
        },
        {
          "output_type": "stream",
          "text": [
            "I0423 20:04:47.930989 139880146163584 run_classifier.py:468] label: 248491001 (id = 583)\n"
          ],
          "name": "stderr"
        },
        {
          "output_type": "stream",
          "text": [
            "INFO:tensorflow:Using config: {'_model_dir': 'output', '_tf_random_seed': None, '_save_summary_steps': 100, '_save_checkpoints_steps': 10000, '_save_checkpoints_secs': None, '_session_config': allow_soft_placement: true\n",
            "graph_options {\n",
            "  rewrite_options {\n",
            "    meta_optimizer_iterations: ONE\n",
            "  }\n",
            "}\n",
            ", '_keep_checkpoint_max': 5, '_keep_checkpoint_every_n_hours': 10000, '_log_step_count_steps': 100, '_train_distribute': None, '_device_fn': None, '_protocol': None, '_eval_distribute': None, '_experimental_distribute': None, '_service': None, '_cluster_spec': <tensorflow.python.training.server_lib.ClusterSpec object at 0x7f37ed499588>, '_task_type': 'worker', '_task_id': 0, '_global_id_in_cluster': 0, '_master': '', '_evaluation_master': '', '_is_chief': True, '_num_ps_replicas': 0, '_num_worker_replicas': 1}\n"
          ],
          "name": "stdout"
        },
        {
          "output_type": "stream",
          "text": [
            "I0423 20:04:49.779087 139880146163584 estimator.py:201] Using config: {'_model_dir': 'output', '_tf_random_seed': None, '_save_summary_steps': 100, '_save_checkpoints_steps': 10000, '_save_checkpoints_secs': None, '_session_config': allow_soft_placement: true\n",
            "graph_options {\n",
            "  rewrite_options {\n",
            "    meta_optimizer_iterations: ONE\n",
            "  }\n",
            "}\n",
            ", '_keep_checkpoint_max': 5, '_keep_checkpoint_every_n_hours': 10000, '_log_step_count_steps': 100, '_train_distribute': None, '_device_fn': None, '_protocol': None, '_eval_distribute': None, '_experimental_distribute': None, '_service': None, '_cluster_spec': <tensorflow.python.training.server_lib.ClusterSpec object at 0x7f37ed499588>, '_task_type': 'worker', '_task_id': 0, '_global_id_in_cluster': 0, '_master': '', '_evaluation_master': '', '_is_chief': True, '_num_ps_replicas': 0, '_num_worker_replicas': 1}\n"
          ],
          "name": "stderr"
        },
        {
          "output_type": "stream",
          "text": [
            "INFO:tensorflow:Calling model_fn.\n"
          ],
          "name": "stdout"
        },
        {
          "output_type": "stream",
          "text": [
            "I0423 20:06:14.085996 139880146163584 estimator.py:1111] Calling model_fn.\n"
          ],
          "name": "stderr"
        },
        {
          "output_type": "stream",
          "text": [
            "INFO:tensorflow:Saver not created because there are no variables in the graph to restore\n"
          ],
          "name": "stdout"
        },
        {
          "output_type": "stream",
          "text": [
            "I0423 20:06:18.096688 139880146163584 saver.py:1483] Saver not created because there are no variables in the graph to restore\n"
          ],
          "name": "stderr"
        },
        {
          "output_type": "stream",
          "text": [
            "WARNING:tensorflow:From <ipython-input-26-68baafc3d0f7>:67: calling dropout (from tensorflow.python.ops.nn_ops) with keep_prob is deprecated and will be removed in a future version.\n",
            "Instructions for updating:\n",
            "Please use `rate` instead of `keep_prob`. Rate should be set to `rate = 1 - keep_prob`.\n"
          ],
          "name": "stdout"
        },
        {
          "output_type": "stream",
          "text": [
            "W0423 20:06:18.226250 139880146163584 deprecation.py:506] From <ipython-input-26-68baafc3d0f7>:67: calling dropout (from tensorflow.python.ops.nn_ops) with keep_prob is deprecated and will be removed in a future version.\n",
            "Instructions for updating:\n",
            "Please use `rate` instead of `keep_prob`. Rate should be set to `rate = 1 - keep_prob`.\n"
          ],
          "name": "stderr"
        },
        {
          "output_type": "stream",
          "text": [
            "WARNING:tensorflow:From /usr/local/lib/python3.6/dist-packages/tensorflow/python/training/learning_rate_decay_v2.py:321: div (from tensorflow.python.ops.math_ops) is deprecated and will be removed in a future version.\n",
            "Instructions for updating:\n",
            "Deprecated in favor of operator or tf.math.divide.\n"
          ],
          "name": "stdout"
        },
        {
          "output_type": "stream",
          "text": [
            "W0423 20:06:18.275823 139880146163584 deprecation.py:323] From /usr/local/lib/python3.6/dist-packages/tensorflow/python/training/learning_rate_decay_v2.py:321: div (from tensorflow.python.ops.math_ops) is deprecated and will be removed in a future version.\n",
            "Instructions for updating:\n",
            "Deprecated in favor of operator or tf.math.divide.\n"
          ],
          "name": "stderr"
        },
        {
          "output_type": "stream",
          "text": [
            "WARNING:tensorflow:From /usr/local/lib/python3.6/dist-packages/tensorflow/python/ops/math_ops.py:3066: to_int32 (from tensorflow.python.ops.math_ops) is deprecated and will be removed in a future version.\n",
            "Instructions for updating:\n",
            "Use tf.cast instead.\n"
          ],
          "name": "stdout"
        },
        {
          "output_type": "stream",
          "text": [
            "W0423 20:06:18.357923 139880146163584 deprecation.py:323] From /usr/local/lib/python3.6/dist-packages/tensorflow/python/ops/math_ops.py:3066: to_int32 (from tensorflow.python.ops.math_ops) is deprecated and will be removed in a future version.\n",
            "Instructions for updating:\n",
            "Use tf.cast instead.\n",
            "/usr/local/lib/python3.6/dist-packages/tensorflow/python/ops/gradients_impl.py:110: UserWarning: Converting sparse IndexedSlices to a dense Tensor of unknown shape. This may consume a large amount of memory.\n",
            "  \"Converting sparse IndexedSlices to a dense Tensor of unknown shape. \"\n"
          ],
          "name": "stderr"
        },
        {
          "output_type": "stream",
          "text": [
            "WARNING:tensorflow:From /usr/local/lib/python3.6/dist-packages/tensorflow/python/ops/metrics_impl.py:455: to_float (from tensorflow.python.ops.math_ops) is deprecated and will be removed in a future version.\n",
            "Instructions for updating:\n",
            "Use tf.cast instead.\n"
          ],
          "name": "stdout"
        },
        {
          "output_type": "stream",
          "text": [
            "W0423 20:06:27.749269 139880146163584 deprecation.py:323] From /usr/local/lib/python3.6/dist-packages/tensorflow/python/ops/metrics_impl.py:455: to_float (from tensorflow.python.ops.math_ops) is deprecated and will be removed in a future version.\n",
            "Instructions for updating:\n",
            "Use tf.cast instead.\n"
          ],
          "name": "stderr"
        },
        {
          "output_type": "stream",
          "text": [
            "INFO:tensorflow:Done calling model_fn.\n"
          ],
          "name": "stdout"
        },
        {
          "output_type": "stream",
          "text": [
            "I0423 20:06:27.770734 139880146163584 estimator.py:1113] Done calling model_fn.\n"
          ],
          "name": "stderr"
        },
        {
          "output_type": "stream",
          "text": [
            "INFO:tensorflow:Create CheckpointSaverHook.\n"
          ],
          "name": "stdout"
        },
        {
          "output_type": "stream",
          "text": [
            "I0423 20:06:27.774133 139880146163584 basic_session_run_hooks.py:527] Create CheckpointSaverHook.\n"
          ],
          "name": "stderr"
        },
        {
          "output_type": "stream",
          "text": [
            "INFO:tensorflow:Graph was finalized.\n"
          ],
          "name": "stdout"
        },
        {
          "output_type": "stream",
          "text": [
            "I0423 20:06:35.493237 139880146163584 monitored_session.py:222] Graph was finalized.\n"
          ],
          "name": "stderr"
        },
        {
          "output_type": "stream",
          "text": [
            "INFO:tensorflow:Running local_init_op.\n"
          ],
          "name": "stdout"
        },
        {
          "output_type": "stream",
          "text": [
            "I0423 20:06:41.078047 139880146163584 session_manager.py:491] Running local_init_op.\n"
          ],
          "name": "stderr"
        },
        {
          "output_type": "stream",
          "text": [
            "INFO:tensorflow:Done running local_init_op.\n"
          ],
          "name": "stdout"
        },
        {
          "output_type": "stream",
          "text": [
            "I0423 20:06:41.330167 139880146163584 session_manager.py:493] Done running local_init_op.\n"
          ],
          "name": "stderr"
        },
        {
          "output_type": "stream",
          "text": [
            "INFO:tensorflow:Saving checkpoints for 0 into output/model.ckpt.\n"
          ],
          "name": "stdout"
        },
        {
          "output_type": "stream",
          "text": [
            "I0423 20:07:51.580725 139880146163584 basic_session_run_hooks.py:594] Saving checkpoints for 0 into output/model.ckpt.\n"
          ],
          "name": "stderr"
        },
        {
          "output_type": "stream",
          "text": [
            "INFO:tensorflow:loss = 6.983498, step = 0\n"
          ],
          "name": "stdout"
        },
        {
          "output_type": "stream",
          "text": [
            "I0423 20:08:15.405478 139880146163584 basic_session_run_hooks.py:249] loss = 6.983498, step = 0\n"
          ],
          "name": "stderr"
        },
        {
          "output_type": "stream",
          "text": [
            "INFO:tensorflow:global_step/sec: 1.00478\n"
          ],
          "name": "stdout"
        },
        {
          "output_type": "stream",
          "text": [
            "I0423 20:09:54.929599 139880146163584 basic_session_run_hooks.py:680] global_step/sec: 1.00478\n"
          ],
          "name": "stderr"
        },
        {
          "output_type": "stream",
          "text": [
            "INFO:tensorflow:loss = 6.1103544, step = 100 (99.532 sec)\n"
          ],
          "name": "stdout"
        },
        {
          "output_type": "stream",
          "text": [
            "I0423 20:09:54.937060 139880146163584 basic_session_run_hooks.py:247] loss = 6.1103544, step = 100 (99.532 sec)\n"
          ],
          "name": "stderr"
        },
        {
          "output_type": "stream",
          "text": [
            "INFO:tensorflow:global_step/sec: 1.16157\n"
          ],
          "name": "stdout"
        },
        {
          "output_type": "stream",
          "text": [
            "I0423 20:11:21.019948 139880146163584 basic_session_run_hooks.py:680] global_step/sec: 1.16157\n"
          ],
          "name": "stderr"
        },
        {
          "output_type": "stream",
          "text": [
            "INFO:tensorflow:loss = 5.7823286, step = 200 (86.088 sec)\n"
          ],
          "name": "stdout"
        },
        {
          "output_type": "stream",
          "text": [
            "I0423 20:11:21.025361 139880146163584 basic_session_run_hooks.py:247] loss = 5.7823286, step = 200 (86.088 sec)\n"
          ],
          "name": "stderr"
        },
        {
          "output_type": "stream",
          "text": [
            "INFO:tensorflow:global_step/sec: 1.1619\n"
          ],
          "name": "stdout"
        },
        {
          "output_type": "stream",
          "text": [
            "I0423 20:12:47.086223 139880146163584 basic_session_run_hooks.py:680] global_step/sec: 1.1619\n"
          ],
          "name": "stderr"
        },
        {
          "output_type": "stream",
          "text": [
            "INFO:tensorflow:loss = 5.704742, step = 300 (86.063 sec)\n"
          ],
          "name": "stdout"
        },
        {
          "output_type": "stream",
          "text": [
            "I0423 20:12:47.088740 139880146163584 basic_session_run_hooks.py:247] loss = 5.704742, step = 300 (86.063 sec)\n"
          ],
          "name": "stderr"
        },
        {
          "output_type": "stream",
          "text": [
            "INFO:tensorflow:global_step/sec: 1.1643\n"
          ],
          "name": "stdout"
        },
        {
          "output_type": "stream",
          "text": [
            "I0423 20:14:12.974430 139880146163584 basic_session_run_hooks.py:680] global_step/sec: 1.1643\n"
          ],
          "name": "stderr"
        },
        {
          "output_type": "stream",
          "text": [
            "INFO:tensorflow:loss = 4.387566, step = 400 (85.888 sec)\n"
          ],
          "name": "stdout"
        },
        {
          "output_type": "stream",
          "text": [
            "I0423 20:14:12.976882 139880146163584 basic_session_run_hooks.py:247] loss = 4.387566, step = 400 (85.888 sec)\n"
          ],
          "name": "stderr"
        },
        {
          "output_type": "stream",
          "text": [
            "INFO:tensorflow:global_step/sec: 1.16206\n"
          ],
          "name": "stdout"
        },
        {
          "output_type": "stream",
          "text": [
            "I0423 20:15:39.029205 139880146163584 basic_session_run_hooks.py:680] global_step/sec: 1.16206\n"
          ],
          "name": "stderr"
        },
        {
          "output_type": "stream",
          "text": [
            "INFO:tensorflow:loss = 4.251403, step = 500 (86.065 sec)\n"
          ],
          "name": "stdout"
        },
        {
          "output_type": "stream",
          "text": [
            "I0423 20:15:39.041833 139880146163584 basic_session_run_hooks.py:247] loss = 4.251403, step = 500 (86.065 sec)\n"
          ],
          "name": "stderr"
        },
        {
          "output_type": "stream",
          "text": [
            "INFO:tensorflow:global_step/sec: 1.16055\n"
          ],
          "name": "stdout"
        },
        {
          "output_type": "stream",
          "text": [
            "I0423 20:17:05.195126 139880146163584 basic_session_run_hooks.py:680] global_step/sec: 1.16055\n"
          ],
          "name": "stderr"
        },
        {
          "output_type": "stream",
          "text": [
            "INFO:tensorflow:loss = 4.4883804, step = 600 (86.160 sec)\n"
          ],
          "name": "stdout"
        },
        {
          "output_type": "stream",
          "text": [
            "I0423 20:17:05.202232 139880146163584 basic_session_run_hooks.py:247] loss = 4.4883804, step = 600 (86.160 sec)\n"
          ],
          "name": "stderr"
        },
        {
          "output_type": "stream",
          "text": [
            "INFO:tensorflow:global_step/sec: 1.16128\n"
          ],
          "name": "stdout"
        },
        {
          "output_type": "stream",
          "text": [
            "I0423 20:18:31.306808 139880146163584 basic_session_run_hooks.py:680] global_step/sec: 1.16128\n"
          ],
          "name": "stderr"
        },
        {
          "output_type": "stream",
          "text": [
            "INFO:tensorflow:loss = 3.7939293, step = 700 (86.108 sec)\n"
          ],
          "name": "stdout"
        },
        {
          "output_type": "stream",
          "text": [
            "I0423 20:18:31.310430 139880146163584 basic_session_run_hooks.py:247] loss = 3.7939293, step = 700 (86.108 sec)\n"
          ],
          "name": "stderr"
        },
        {
          "output_type": "stream",
          "text": [
            "INFO:tensorflow:global_step/sec: 1.16393\n"
          ],
          "name": "stdout"
        },
        {
          "output_type": "stream",
          "text": [
            "I0423 20:19:57.222476 139880146163584 basic_session_run_hooks.py:680] global_step/sec: 1.16393\n"
          ],
          "name": "stderr"
        },
        {
          "output_type": "stream",
          "text": [
            "INFO:tensorflow:loss = 3.766181, step = 800 (85.915 sec)\n"
          ],
          "name": "stdout"
        },
        {
          "output_type": "stream",
          "text": [
            "I0423 20:19:57.225238 139880146163584 basic_session_run_hooks.py:247] loss = 3.766181, step = 800 (85.915 sec)\n"
          ],
          "name": "stderr"
        },
        {
          "output_type": "stream",
          "text": [
            "INFO:tensorflow:global_step/sec: 1.16456\n"
          ],
          "name": "stdout"
        },
        {
          "output_type": "stream",
          "text": [
            "I0423 20:21:23.091898 139880146163584 basic_session_run_hooks.py:680] global_step/sec: 1.16456\n"
          ],
          "name": "stderr"
        },
        {
          "output_type": "stream",
          "text": [
            "INFO:tensorflow:loss = 2.9639163, step = 900 (85.871 sec)\n"
          ],
          "name": "stdout"
        },
        {
          "output_type": "stream",
          "text": [
            "I0423 20:21:23.096232 139880146163584 basic_session_run_hooks.py:247] loss = 2.9639163, step = 900 (85.871 sec)\n"
          ],
          "name": "stderr"
        },
        {
          "output_type": "stream",
          "text": [
            "INFO:tensorflow:global_step/sec: 1.16553\n"
          ],
          "name": "stdout"
        },
        {
          "output_type": "stream",
          "text": [
            "I0423 20:22:48.890010 139880146163584 basic_session_run_hooks.py:680] global_step/sec: 1.16553\n"
          ],
          "name": "stderr"
        },
        {
          "output_type": "stream",
          "text": [
            "INFO:tensorflow:loss = 2.033847, step = 1000 (85.799 sec)\n"
          ],
          "name": "stdout"
        },
        {
          "output_type": "stream",
          "text": [
            "I0423 20:22:48.894986 139880146163584 basic_session_run_hooks.py:247] loss = 2.033847, step = 1000 (85.799 sec)\n"
          ],
          "name": "stderr"
        },
        {
          "output_type": "stream",
          "text": [
            "INFO:tensorflow:global_step/sec: 1.16486\n"
          ],
          "name": "stdout"
        },
        {
          "output_type": "stream",
          "text": [
            "I0423 20:24:14.737631 139880146163584 basic_session_run_hooks.py:680] global_step/sec: 1.16486\n"
          ],
          "name": "stderr"
        },
        {
          "output_type": "stream",
          "text": [
            "INFO:tensorflow:loss = 2.928755, step = 1100 (85.845 sec)\n"
          ],
          "name": "stdout"
        },
        {
          "output_type": "stream",
          "text": [
            "I0423 20:24:14.740085 139880146163584 basic_session_run_hooks.py:247] loss = 2.928755, step = 1100 (85.845 sec)\n"
          ],
          "name": "stderr"
        },
        {
          "output_type": "stream",
          "text": [
            "INFO:tensorflow:global_step/sec: 1.16624\n"
          ],
          "name": "stdout"
        },
        {
          "output_type": "stream",
          "text": [
            "I0423 20:25:40.483452 139880146163584 basic_session_run_hooks.py:680] global_step/sec: 1.16624\n"
          ],
          "name": "stderr"
        },
        {
          "output_type": "stream",
          "text": [
            "INFO:tensorflow:loss = 2.2170372, step = 1200 (85.746 sec)\n"
          ],
          "name": "stdout"
        },
        {
          "output_type": "stream",
          "text": [
            "I0423 20:25:40.486139 139880146163584 basic_session_run_hooks.py:247] loss = 2.2170372, step = 1200 (85.746 sec)\n"
          ],
          "name": "stderr"
        },
        {
          "output_type": "stream",
          "text": [
            "INFO:tensorflow:global_step/sec: 1.16508\n"
          ],
          "name": "stdout"
        },
        {
          "output_type": "stream",
          "text": [
            "I0423 20:27:06.314215 139880146163584 basic_session_run_hooks.py:680] global_step/sec: 1.16508\n"
          ],
          "name": "stderr"
        },
        {
          "output_type": "stream",
          "text": [
            "INFO:tensorflow:loss = 2.144164, step = 1300 (85.832 sec)\n"
          ],
          "name": "stdout"
        },
        {
          "output_type": "stream",
          "text": [
            "I0423 20:27:06.318183 139880146163584 basic_session_run_hooks.py:247] loss = 2.144164, step = 1300 (85.832 sec)\n"
          ],
          "name": "stderr"
        },
        {
          "output_type": "stream",
          "text": [
            "INFO:tensorflow:global_step/sec: 1.16393\n"
          ],
          "name": "stdout"
        },
        {
          "output_type": "stream",
          "text": [
            "I0423 20:28:32.229836 139880146163584 basic_session_run_hooks.py:680] global_step/sec: 1.16393\n"
          ],
          "name": "stderr"
        },
        {
          "output_type": "stream",
          "text": [
            "INFO:tensorflow:loss = 2.2825086, step = 1400 (85.914 sec)\n"
          ],
          "name": "stdout"
        },
        {
          "output_type": "stream",
          "text": [
            "I0423 20:28:32.232553 139880146163584 basic_session_run_hooks.py:247] loss = 2.2825086, step = 1400 (85.914 sec)\n"
          ],
          "name": "stderr"
        },
        {
          "output_type": "stream",
          "text": [
            "INFO:tensorflow:global_step/sec: 1.1606\n"
          ],
          "name": "stdout"
        },
        {
          "output_type": "stream",
          "text": [
            "I0423 20:29:58.392004 139880146163584 basic_session_run_hooks.py:680] global_step/sec: 1.1606\n"
          ],
          "name": "stderr"
        },
        {
          "output_type": "stream",
          "text": [
            "INFO:tensorflow:loss = 2.57629, step = 1500 (86.162 sec)\n"
          ],
          "name": "stdout"
        },
        {
          "output_type": "stream",
          "text": [
            "I0423 20:29:58.394868 139880146163584 basic_session_run_hooks.py:247] loss = 2.57629, step = 1500 (86.162 sec)\n"
          ],
          "name": "stderr"
        },
        {
          "output_type": "stream",
          "text": [
            "INFO:tensorflow:global_step/sec: 1.16116\n"
          ],
          "name": "stdout"
        },
        {
          "output_type": "stream",
          "text": [
            "I0423 20:31:24.512442 139880146163584 basic_session_run_hooks.py:680] global_step/sec: 1.16116\n"
          ],
          "name": "stderr"
        },
        {
          "output_type": "stream",
          "text": [
            "INFO:tensorflow:loss = 1.2124531, step = 1600 (86.120 sec)\n"
          ],
          "name": "stdout"
        },
        {
          "output_type": "stream",
          "text": [
            "I0423 20:31:24.515138 139880146163584 basic_session_run_hooks.py:247] loss = 1.2124531, step = 1600 (86.120 sec)\n"
          ],
          "name": "stderr"
        },
        {
          "output_type": "stream",
          "text": [
            "INFO:tensorflow:global_step/sec: 1.16428\n"
          ],
          "name": "stdout"
        },
        {
          "output_type": "stream",
          "text": [
            "I0423 20:32:50.402245 139880146163584 basic_session_run_hooks.py:680] global_step/sec: 1.16428\n"
          ],
          "name": "stderr"
        },
        {
          "output_type": "stream",
          "text": [
            "INFO:tensorflow:loss = 2.2927418, step = 1700 (85.890 sec)\n"
          ],
          "name": "stdout"
        },
        {
          "output_type": "stream",
          "text": [
            "I0423 20:32:50.404899 139880146163584 basic_session_run_hooks.py:247] loss = 2.2927418, step = 1700 (85.890 sec)\n"
          ],
          "name": "stderr"
        },
        {
          "output_type": "stream",
          "text": [
            "INFO:tensorflow:global_step/sec: 1.166\n"
          ],
          "name": "stdout"
        },
        {
          "output_type": "stream",
          "text": [
            "I0423 20:34:16.165120 139880146163584 basic_session_run_hooks.py:680] global_step/sec: 1.166\n"
          ],
          "name": "stderr"
        },
        {
          "output_type": "stream",
          "text": [
            "INFO:tensorflow:loss = 1.7788403, step = 1800 (85.763 sec)\n"
          ],
          "name": "stdout"
        },
        {
          "output_type": "stream",
          "text": [
            "I0423 20:34:16.168384 139880146163584 basic_session_run_hooks.py:247] loss = 1.7788403, step = 1800 (85.763 sec)\n"
          ],
          "name": "stderr"
        },
        {
          "output_type": "stream",
          "text": [
            "INFO:tensorflow:global_step/sec: 1.16386\n"
          ],
          "name": "stdout"
        },
        {
          "output_type": "stream",
          "text": [
            "I0423 20:35:42.086065 139880146163584 basic_session_run_hooks.py:680] global_step/sec: 1.16386\n"
          ],
          "name": "stderr"
        },
        {
          "output_type": "stream",
          "text": [
            "INFO:tensorflow:loss = 1.8418996, step = 1900 (85.924 sec)\n"
          ],
          "name": "stdout"
        },
        {
          "output_type": "stream",
          "text": [
            "I0423 20:35:42.092409 139880146163584 basic_session_run_hooks.py:247] loss = 1.8418996, step = 1900 (85.924 sec)\n"
          ],
          "name": "stderr"
        },
        {
          "output_type": "stream",
          "text": [
            "INFO:tensorflow:global_step/sec: 1.16318\n"
          ],
          "name": "stdout"
        },
        {
          "output_type": "stream",
          "text": [
            "I0423 20:37:08.057264 139880146163584 basic_session_run_hooks.py:680] global_step/sec: 1.16318\n"
          ],
          "name": "stderr"
        },
        {
          "output_type": "stream",
          "text": [
            "INFO:tensorflow:loss = 1.5418916, step = 2000 (85.967 sec)\n"
          ],
          "name": "stdout"
        },
        {
          "output_type": "stream",
          "text": [
            "I0423 20:37:08.059836 139880146163584 basic_session_run_hooks.py:247] loss = 1.5418916, step = 2000 (85.967 sec)\n"
          ],
          "name": "stderr"
        },
        {
          "output_type": "stream",
          "text": [
            "INFO:tensorflow:global_step/sec: 1.16332\n"
          ],
          "name": "stdout"
        },
        {
          "output_type": "stream",
          "text": [
            "I0423 20:38:34.017879 139880146163584 basic_session_run_hooks.py:680] global_step/sec: 1.16332\n"
          ],
          "name": "stderr"
        },
        {
          "output_type": "stream",
          "text": [
            "INFO:tensorflow:loss = 1.8295767, step = 2100 (85.964 sec)\n"
          ],
          "name": "stdout"
        },
        {
          "output_type": "stream",
          "text": [
            "I0423 20:38:34.023621 139880146163584 basic_session_run_hooks.py:247] loss = 1.8295767, step = 2100 (85.964 sec)\n"
          ],
          "name": "stderr"
        },
        {
          "output_type": "stream",
          "text": [
            "INFO:tensorflow:global_step/sec: 1.1626\n"
          ],
          "name": "stdout"
        },
        {
          "output_type": "stream",
          "text": [
            "I0423 20:40:00.031660 139880146163584 basic_session_run_hooks.py:680] global_step/sec: 1.1626\n"
          ],
          "name": "stderr"
        },
        {
          "output_type": "stream",
          "text": [
            "INFO:tensorflow:loss = 0.964854, step = 2200 (86.012 sec)\n"
          ],
          "name": "stdout"
        },
        {
          "output_type": "stream",
          "text": [
            "I0423 20:40:00.035931 139880146163584 basic_session_run_hooks.py:247] loss = 0.964854, step = 2200 (86.012 sec)\n"
          ],
          "name": "stderr"
        },
        {
          "output_type": "stream",
          "text": [
            "INFO:tensorflow:global_step/sec: 1.16358\n"
          ],
          "name": "stdout"
        },
        {
          "output_type": "stream",
          "text": [
            "I0423 20:41:25.973620 139880146163584 basic_session_run_hooks.py:680] global_step/sec: 1.16358\n"
          ],
          "name": "stderr"
        },
        {
          "output_type": "stream",
          "text": [
            "INFO:tensorflow:loss = 0.92648184, step = 2300 (85.941 sec)\n"
          ],
          "name": "stdout"
        },
        {
          "output_type": "stream",
          "text": [
            "I0423 20:41:25.976876 139880146163584 basic_session_run_hooks.py:247] loss = 0.92648184, step = 2300 (85.941 sec)\n"
          ],
          "name": "stderr"
        },
        {
          "output_type": "stream",
          "text": [
            "INFO:tensorflow:global_step/sec: 1.16423\n"
          ],
          "name": "stdout"
        },
        {
          "output_type": "stream",
          "text": [
            "I0423 20:42:51.867040 139880146163584 basic_session_run_hooks.py:680] global_step/sec: 1.16423\n"
          ],
          "name": "stderr"
        },
        {
          "output_type": "stream",
          "text": [
            "INFO:tensorflow:loss = 1.0018458, step = 2400 (85.893 sec)\n"
          ],
          "name": "stdout"
        },
        {
          "output_type": "stream",
          "text": [
            "I0423 20:42:51.869820 139880146163584 basic_session_run_hooks.py:247] loss = 1.0018458, step = 2400 (85.893 sec)\n"
          ],
          "name": "stderr"
        },
        {
          "output_type": "stream",
          "text": [
            "INFO:tensorflow:global_step/sec: 1.16404\n"
          ],
          "name": "stdout"
        },
        {
          "output_type": "stream",
          "text": [
            "I0423 20:44:17.774798 139880146163584 basic_session_run_hooks.py:680] global_step/sec: 1.16404\n"
          ],
          "name": "stderr"
        },
        {
          "output_type": "stream",
          "text": [
            "INFO:tensorflow:loss = 1.6978049, step = 2500 (85.907 sec)\n"
          ],
          "name": "stdout"
        },
        {
          "output_type": "stream",
          "text": [
            "I0423 20:44:17.777269 139880146163584 basic_session_run_hooks.py:247] loss = 1.6978049, step = 2500 (85.907 sec)\n"
          ],
          "name": "stderr"
        },
        {
          "output_type": "stream",
          "text": [
            "INFO:tensorflow:global_step/sec: 1.16416\n"
          ],
          "name": "stdout"
        },
        {
          "output_type": "stream",
          "text": [
            "I0423 20:45:43.673467 139880146163584 basic_session_run_hooks.py:680] global_step/sec: 1.16416\n"
          ],
          "name": "stderr"
        },
        {
          "output_type": "stream",
          "text": [
            "INFO:tensorflow:loss = 1.2426801, step = 2600 (85.901 sec)\n"
          ],
          "name": "stdout"
        },
        {
          "output_type": "stream",
          "text": [
            "I0423 20:45:43.678748 139880146163584 basic_session_run_hooks.py:247] loss = 1.2426801, step = 2600 (85.901 sec)\n"
          ],
          "name": "stderr"
        },
        {
          "output_type": "stream",
          "text": [
            "INFO:tensorflow:global_step/sec: 1.16424\n"
          ],
          "name": "stdout"
        },
        {
          "output_type": "stream",
          "text": [
            "I0423 20:47:09.566184 139880146163584 basic_session_run_hooks.py:680] global_step/sec: 1.16424\n"
          ],
          "name": "stderr"
        },
        {
          "output_type": "stream",
          "text": [
            "INFO:tensorflow:loss = 1.6312281, step = 2700 (85.896 sec)\n"
          ],
          "name": "stdout"
        },
        {
          "output_type": "stream",
          "text": [
            "I0423 20:47:09.574916 139880146163584 basic_session_run_hooks.py:247] loss = 1.6312281, step = 2700 (85.896 sec)\n"
          ],
          "name": "stderr"
        },
        {
          "output_type": "stream",
          "text": [
            "INFO:tensorflow:global_step/sec: 1.16463\n"
          ],
          "name": "stdout"
        },
        {
          "output_type": "stream",
          "text": [
            "I0423 20:48:35.430758 139880146163584 basic_session_run_hooks.py:680] global_step/sec: 1.16463\n"
          ],
          "name": "stderr"
        },
        {
          "output_type": "stream",
          "text": [
            "INFO:tensorflow:loss = 0.7908645, step = 2800 (85.863 sec)\n"
          ],
          "name": "stdout"
        },
        {
          "output_type": "stream",
          "text": [
            "I0423 20:48:35.438192 139880146163584 basic_session_run_hooks.py:247] loss = 0.7908645, step = 2800 (85.863 sec)\n"
          ],
          "name": "stderr"
        },
        {
          "output_type": "stream",
          "text": [
            "INFO:tensorflow:global_step/sec: 1.16505\n"
          ],
          "name": "stdout"
        },
        {
          "output_type": "stream",
          "text": [
            "I0423 20:50:01.263374 139880146163584 basic_session_run_hooks.py:680] global_step/sec: 1.16505\n"
          ],
          "name": "stderr"
        },
        {
          "output_type": "stream",
          "text": [
            "INFO:tensorflow:loss = 0.8222257, step = 2900 (85.832 sec)\n"
          ],
          "name": "stdout"
        },
        {
          "output_type": "stream",
          "text": [
            "I0423 20:50:01.270240 139880146163584 basic_session_run_hooks.py:247] loss = 0.8222257, step = 2900 (85.832 sec)\n"
          ],
          "name": "stderr"
        },
        {
          "output_type": "stream",
          "text": [
            "INFO:tensorflow:global_step/sec: 1.1658\n"
          ],
          "name": "stdout"
        },
        {
          "output_type": "stream",
          "text": [
            "I0423 20:51:27.041720 139880146163584 basic_session_run_hooks.py:680] global_step/sec: 1.1658\n"
          ],
          "name": "stderr"
        },
        {
          "output_type": "stream",
          "text": [
            "INFO:tensorflow:loss = 0.8683419, step = 3000 (85.777 sec)\n"
          ],
          "name": "stdout"
        },
        {
          "output_type": "stream",
          "text": [
            "I0423 20:51:27.047505 139880146163584 basic_session_run_hooks.py:247] loss = 0.8683419, step = 3000 (85.777 sec)\n"
          ],
          "name": "stderr"
        },
        {
          "output_type": "stream",
          "text": [
            "INFO:tensorflow:global_step/sec: 1.16598\n"
          ],
          "name": "stdout"
        },
        {
          "output_type": "stream",
          "text": [
            "I0423 20:52:52.806745 139880146163584 basic_session_run_hooks.py:680] global_step/sec: 1.16598\n"
          ],
          "name": "stderr"
        },
        {
          "output_type": "stream",
          "text": [
            "INFO:tensorflow:loss = 0.7778157, step = 3100 (85.765 sec)\n"
          ],
          "name": "stdout"
        },
        {
          "output_type": "stream",
          "text": [
            "I0423 20:52:52.812266 139880146163584 basic_session_run_hooks.py:247] loss = 0.7778157, step = 3100 (85.765 sec)\n"
          ],
          "name": "stderr"
        },
        {
          "output_type": "stream",
          "text": [
            "INFO:tensorflow:global_step/sec: 1.16552\n"
          ],
          "name": "stdout"
        },
        {
          "output_type": "stream",
          "text": [
            "I0423 20:54:18.605553 139880146163584 basic_session_run_hooks.py:680] global_step/sec: 1.16552\n"
          ],
          "name": "stderr"
        },
        {
          "output_type": "stream",
          "text": [
            "INFO:tensorflow:loss = 0.7832422, step = 3200 (85.799 sec)\n"
          ],
          "name": "stdout"
        },
        {
          "output_type": "stream",
          "text": [
            "I0423 20:54:18.610973 139880146163584 basic_session_run_hooks.py:247] loss = 0.7832422, step = 3200 (85.799 sec)\n"
          ],
          "name": "stderr"
        },
        {
          "output_type": "stream",
          "text": [
            "INFO:tensorflow:global_step/sec: 1.16544\n"
          ],
          "name": "stdout"
        },
        {
          "output_type": "stream",
          "text": [
            "I0423 20:55:44.410212 139880146163584 basic_session_run_hooks.py:680] global_step/sec: 1.16544\n"
          ],
          "name": "stderr"
        },
        {
          "output_type": "stream",
          "text": [
            "INFO:tensorflow:loss = 0.8431456, step = 3300 (85.804 sec)\n"
          ],
          "name": "stdout"
        },
        {
          "output_type": "stream",
          "text": [
            "I0423 20:55:44.415274 139880146163584 basic_session_run_hooks.py:247] loss = 0.8431456, step = 3300 (85.804 sec)\n"
          ],
          "name": "stderr"
        },
        {
          "output_type": "stream",
          "text": [
            "INFO:tensorflow:global_step/sec: 1.16419\n"
          ],
          "name": "stdout"
        },
        {
          "output_type": "stream",
          "text": [
            "I0423 20:57:10.307037 139880146163584 basic_session_run_hooks.py:680] global_step/sec: 1.16419\n"
          ],
          "name": "stderr"
        },
        {
          "output_type": "stream",
          "text": [
            "INFO:tensorflow:loss = 0.8026046, step = 3400 (85.897 sec)\n"
          ],
          "name": "stdout"
        },
        {
          "output_type": "stream",
          "text": [
            "I0423 20:57:10.312266 139880146163584 basic_session_run_hooks.py:247] loss = 0.8026046, step = 3400 (85.897 sec)\n"
          ],
          "name": "stderr"
        },
        {
          "output_type": "stream",
          "text": [
            "INFO:tensorflow:global_step/sec: 1.1657\n"
          ],
          "name": "stdout"
        },
        {
          "output_type": "stream",
          "text": [
            "I0423 20:58:36.092667 139880146163584 basic_session_run_hooks.py:680] global_step/sec: 1.1657\n"
          ],
          "name": "stderr"
        },
        {
          "output_type": "stream",
          "text": [
            "INFO:tensorflow:loss = 0.7070563, step = 3500 (85.787 sec)\n"
          ],
          "name": "stdout"
        },
        {
          "output_type": "stream",
          "text": [
            "I0423 20:58:36.098838 139880146163584 basic_session_run_hooks.py:247] loss = 0.7070563, step = 3500 (85.787 sec)\n"
          ],
          "name": "stderr"
        },
        {
          "output_type": "stream",
          "text": [
            "INFO:tensorflow:global_step/sec: 1.16506\n"
          ],
          "name": "stdout"
        },
        {
          "output_type": "stream",
          "text": [
            "I0423 21:00:01.925444 139880146163584 basic_session_run_hooks.py:680] global_step/sec: 1.16506\n"
          ],
          "name": "stderr"
        },
        {
          "output_type": "stream",
          "text": [
            "INFO:tensorflow:loss = 0.8377918, step = 3600 (85.831 sec)\n"
          ],
          "name": "stdout"
        },
        {
          "output_type": "stream",
          "text": [
            "I0423 21:00:01.929527 139880146163584 basic_session_run_hooks.py:247] loss = 0.8377918, step = 3600 (85.831 sec)\n"
          ],
          "name": "stderr"
        },
        {
          "output_type": "stream",
          "text": [
            "INFO:tensorflow:global_step/sec: 1.16635\n"
          ],
          "name": "stdout"
        },
        {
          "output_type": "stream",
          "text": [
            "I0423 21:01:27.662810 139880146163584 basic_session_run_hooks.py:680] global_step/sec: 1.16635\n"
          ],
          "name": "stderr"
        },
        {
          "output_type": "stream",
          "text": [
            "INFO:tensorflow:loss = 0.8184323, step = 3700 (85.736 sec)\n"
          ],
          "name": "stdout"
        },
        {
          "output_type": "stream",
          "text": [
            "I0423 21:01:27.665339 139880146163584 basic_session_run_hooks.py:247] loss = 0.8184323, step = 3700 (85.736 sec)\n"
          ],
          "name": "stderr"
        },
        {
          "output_type": "stream",
          "text": [
            "INFO:tensorflow:global_step/sec: 1.16627\n"
          ],
          "name": "stdout"
        },
        {
          "output_type": "stream",
          "text": [
            "I0423 21:02:53.406191 139880146163584 basic_session_run_hooks.py:680] global_step/sec: 1.16627\n"
          ],
          "name": "stderr"
        },
        {
          "output_type": "stream",
          "text": [
            "INFO:tensorflow:loss = 0.47932437, step = 3800 (85.743 sec)\n"
          ],
          "name": "stdout"
        },
        {
          "output_type": "stream",
          "text": [
            "I0423 21:02:53.408731 139880146163584 basic_session_run_hooks.py:247] loss = 0.47932437, step = 3800 (85.743 sec)\n"
          ],
          "name": "stderr"
        },
        {
          "output_type": "stream",
          "text": [
            "INFO:tensorflow:global_step/sec: 1.16586\n"
          ],
          "name": "stdout"
        },
        {
          "output_type": "stream",
          "text": [
            "I0423 21:04:19.180028 139880146163584 basic_session_run_hooks.py:680] global_step/sec: 1.16586\n"
          ],
          "name": "stderr"
        },
        {
          "output_type": "stream",
          "text": [
            "INFO:tensorflow:loss = 0.84747076, step = 3900 (85.774 sec)\n"
          ],
          "name": "stdout"
        },
        {
          "output_type": "stream",
          "text": [
            "I0423 21:04:19.182601 139880146163584 basic_session_run_hooks.py:247] loss = 0.84747076, step = 3900 (85.774 sec)\n"
          ],
          "name": "stderr"
        },
        {
          "output_type": "stream",
          "text": [
            "INFO:tensorflow:global_step/sec: 1.16502\n"
          ],
          "name": "stdout"
        },
        {
          "output_type": "stream",
          "text": [
            "I0423 21:05:45.015677 139880146163584 basic_session_run_hooks.py:680] global_step/sec: 1.16502\n"
          ],
          "name": "stderr"
        },
        {
          "output_type": "stream",
          "text": [
            "INFO:tensorflow:loss = 0.7364528, step = 4000 (85.836 sec)\n"
          ],
          "name": "stdout"
        },
        {
          "output_type": "stream",
          "text": [
            "I0423 21:05:45.018440 139880146163584 basic_session_run_hooks.py:247] loss = 0.7364528, step = 4000 (85.836 sec)\n"
          ],
          "name": "stderr"
        },
        {
          "output_type": "stream",
          "text": [
            "INFO:tensorflow:global_step/sec: 1.16534\n"
          ],
          "name": "stdout"
        },
        {
          "output_type": "stream",
          "text": [
            "I0423 21:07:10.827813 139880146163584 basic_session_run_hooks.py:680] global_step/sec: 1.16534\n"
          ],
          "name": "stderr"
        },
        {
          "output_type": "stream",
          "text": [
            "INFO:tensorflow:loss = 0.48587945, step = 4100 (85.812 sec)\n"
          ],
          "name": "stdout"
        },
        {
          "output_type": "stream",
          "text": [
            "I0423 21:07:10.830390 139880146163584 basic_session_run_hooks.py:247] loss = 0.48587945, step = 4100 (85.812 sec)\n"
          ],
          "name": "stderr"
        },
        {
          "output_type": "stream",
          "text": [
            "INFO:tensorflow:global_step/sec: 1.16597\n"
          ],
          "name": "stdout"
        },
        {
          "output_type": "stream",
          "text": [
            "I0423 21:08:36.593483 139880146163584 basic_session_run_hooks.py:680] global_step/sec: 1.16597\n"
          ],
          "name": "stderr"
        },
        {
          "output_type": "stream",
          "text": [
            "INFO:tensorflow:loss = 0.8312982, step = 4200 (85.770 sec)\n"
          ],
          "name": "stdout"
        },
        {
          "output_type": "stream",
          "text": [
            "I0423 21:08:36.600141 139880146163584 basic_session_run_hooks.py:247] loss = 0.8312982, step = 4200 (85.770 sec)\n"
          ],
          "name": "stderr"
        },
        {
          "output_type": "stream",
          "text": [
            "INFO:tensorflow:global_step/sec: 1.16527\n"
          ],
          "name": "stdout"
        },
        {
          "output_type": "stream",
          "text": [
            "I0423 21:10:02.410386 139880146163584 basic_session_run_hooks.py:680] global_step/sec: 1.16527\n"
          ],
          "name": "stderr"
        },
        {
          "output_type": "stream",
          "text": [
            "INFO:tensorflow:loss = 1.0201095, step = 4300 (85.813 sec)\n"
          ],
          "name": "stdout"
        },
        {
          "output_type": "stream",
          "text": [
            "I0423 21:10:02.413531 139880146163584 basic_session_run_hooks.py:247] loss = 1.0201095, step = 4300 (85.813 sec)\n"
          ],
          "name": "stderr"
        },
        {
          "output_type": "stream",
          "text": [
            "INFO:tensorflow:global_step/sec: 1.16656\n"
          ],
          "name": "stdout"
        },
        {
          "output_type": "stream",
          "text": [
            "I0423 21:11:28.132576 139880146163584 basic_session_run_hooks.py:680] global_step/sec: 1.16656\n"
          ],
          "name": "stderr"
        },
        {
          "output_type": "stream",
          "text": [
            "INFO:tensorflow:loss = 0.80021924, step = 4400 (85.722 sec)\n"
          ],
          "name": "stdout"
        },
        {
          "output_type": "stream",
          "text": [
            "I0423 21:11:28.135137 139880146163584 basic_session_run_hooks.py:247] loss = 0.80021924, step = 4400 (85.722 sec)\n"
          ],
          "name": "stderr"
        },
        {
          "output_type": "stream",
          "text": [
            "INFO:tensorflow:global_step/sec: 1.16332\n"
          ],
          "name": "stdout"
        },
        {
          "output_type": "stream",
          "text": [
            "I0423 21:12:54.093642 139880146163584 basic_session_run_hooks.py:680] global_step/sec: 1.16332\n"
          ],
          "name": "stderr"
        },
        {
          "output_type": "stream",
          "text": [
            "INFO:tensorflow:loss = 0.6111202, step = 4500 (85.965 sec)\n"
          ],
          "name": "stdout"
        },
        {
          "output_type": "stream",
          "text": [
            "I0423 21:12:54.099881 139880146163584 basic_session_run_hooks.py:247] loss = 0.6111202, step = 4500 (85.965 sec)\n"
          ],
          "name": "stderr"
        },
        {
          "output_type": "stream",
          "text": [
            "INFO:tensorflow:global_step/sec: 1.1622\n"
          ],
          "name": "stdout"
        },
        {
          "output_type": "stream",
          "text": [
            "I0423 21:14:20.137473 139880146163584 basic_session_run_hooks.py:680] global_step/sec: 1.1622\n"
          ],
          "name": "stderr"
        },
        {
          "output_type": "stream",
          "text": [
            "INFO:tensorflow:loss = 0.55763996, step = 4600 (86.041 sec)\n"
          ],
          "name": "stdout"
        },
        {
          "output_type": "stream",
          "text": [
            "I0423 21:14:20.140675 139880146163584 basic_session_run_hooks.py:247] loss = 0.55763996, step = 4600 (86.041 sec)\n"
          ],
          "name": "stderr"
        },
        {
          "output_type": "stream",
          "text": [
            "INFO:tensorflow:global_step/sec: 1.1625\n"
          ],
          "name": "stdout"
        },
        {
          "output_type": "stream",
          "text": [
            "I0423 21:15:46.159216 139880146163584 basic_session_run_hooks.py:680] global_step/sec: 1.1625\n"
          ],
          "name": "stderr"
        },
        {
          "output_type": "stream",
          "text": [
            "INFO:tensorflow:loss = 0.73124695, step = 4700 (86.025 sec)\n"
          ],
          "name": "stdout"
        },
        {
          "output_type": "stream",
          "text": [
            "I0423 21:15:46.165604 139880146163584 basic_session_run_hooks.py:247] loss = 0.73124695, step = 4700 (86.025 sec)\n"
          ],
          "name": "stderr"
        },
        {
          "output_type": "stream",
          "text": [
            "INFO:tensorflow:global_step/sec: 1.16186\n"
          ],
          "name": "stdout"
        },
        {
          "output_type": "stream",
          "text": [
            "I0423 21:17:12.227956 139880146163584 basic_session_run_hooks.py:680] global_step/sec: 1.16186\n"
          ],
          "name": "stderr"
        },
        {
          "output_type": "stream",
          "text": [
            "INFO:tensorflow:loss = 0.6171665, step = 4800 (86.069 sec)\n"
          ],
          "name": "stdout"
        },
        {
          "output_type": "stream",
          "text": [
            "I0423 21:17:12.234936 139880146163584 basic_session_run_hooks.py:247] loss = 0.6171665, step = 4800 (86.069 sec)\n"
          ],
          "name": "stderr"
        },
        {
          "output_type": "stream",
          "text": [
            "INFO:tensorflow:global_step/sec: 1.1666\n"
          ],
          "name": "stdout"
        },
        {
          "output_type": "stream",
          "text": [
            "I0423 21:18:37.946825 139880146163584 basic_session_run_hooks.py:680] global_step/sec: 1.1666\n"
          ],
          "name": "stderr"
        },
        {
          "output_type": "stream",
          "text": [
            "INFO:tensorflow:loss = 0.73797476, step = 4900 (85.716 sec)\n"
          ],
          "name": "stdout"
        },
        {
          "output_type": "stream",
          "text": [
            "I0423 21:18:37.950535 139880146163584 basic_session_run_hooks.py:247] loss = 0.73797476, step = 4900 (85.716 sec)\n"
          ],
          "name": "stderr"
        },
        {
          "output_type": "stream",
          "text": [
            "INFO:tensorflow:global_step/sec: 1.16348\n"
          ],
          "name": "stdout"
        },
        {
          "output_type": "stream",
          "text": [
            "I0423 21:20:03.895794 139880146163584 basic_session_run_hooks.py:680] global_step/sec: 1.16348\n"
          ],
          "name": "stderr"
        },
        {
          "output_type": "stream",
          "text": [
            "INFO:tensorflow:loss = 0.7778274, step = 5000 (85.948 sec)\n"
          ],
          "name": "stdout"
        },
        {
          "output_type": "stream",
          "text": [
            "I0423 21:20:03.898617 139880146163584 basic_session_run_hooks.py:247] loss = 0.7778274, step = 5000 (85.948 sec)\n"
          ],
          "name": "stderr"
        },
        {
          "output_type": "stream",
          "text": [
            "INFO:tensorflow:global_step/sec: 1.16448\n"
          ],
          "name": "stdout"
        },
        {
          "output_type": "stream",
          "text": [
            "I0423 21:21:29.771101 139880146163584 basic_session_run_hooks.py:680] global_step/sec: 1.16448\n"
          ],
          "name": "stderr"
        },
        {
          "output_type": "stream",
          "text": [
            "INFO:tensorflow:loss = 0.18532526, step = 5100 (85.877 sec)\n"
          ],
          "name": "stdout"
        },
        {
          "output_type": "stream",
          "text": [
            "I0423 21:21:29.775794 139880146163584 basic_session_run_hooks.py:247] loss = 0.18532526, step = 5100 (85.877 sec)\n"
          ],
          "name": "stderr"
        },
        {
          "output_type": "stream",
          "text": [
            "INFO:tensorflow:global_step/sec: 1.16595\n"
          ],
          "name": "stdout"
        },
        {
          "output_type": "stream",
          "text": [
            "I0423 21:22:55.538450 139880146163584 basic_session_run_hooks.py:680] global_step/sec: 1.16595\n"
          ],
          "name": "stderr"
        },
        {
          "output_type": "stream",
          "text": [
            "INFO:tensorflow:loss = 0.5208775, step = 5200 (85.765 sec)\n"
          ],
          "name": "stdout"
        },
        {
          "output_type": "stream",
          "text": [
            "I0423 21:22:55.541028 139880146163584 basic_session_run_hooks.py:247] loss = 0.5208775, step = 5200 (85.765 sec)\n"
          ],
          "name": "stderr"
        },
        {
          "output_type": "stream",
          "text": [
            "INFO:tensorflow:global_step/sec: 1.16627\n"
          ],
          "name": "stdout"
        },
        {
          "output_type": "stream",
          "text": [
            "I0423 21:24:21.281924 139880146163584 basic_session_run_hooks.py:680] global_step/sec: 1.16627\n"
          ],
          "name": "stderr"
        },
        {
          "output_type": "stream",
          "text": [
            "INFO:tensorflow:loss = 0.53598046, step = 5300 (85.744 sec)\n"
          ],
          "name": "stdout"
        },
        {
          "output_type": "stream",
          "text": [
            "I0423 21:24:21.284639 139880146163584 basic_session_run_hooks.py:247] loss = 0.53598046, step = 5300 (85.744 sec)\n"
          ],
          "name": "stderr"
        },
        {
          "output_type": "stream",
          "text": [
            "INFO:tensorflow:global_step/sec: 1.16545\n"
          ],
          "name": "stdout"
        },
        {
          "output_type": "stream",
          "text": [
            "I0423 21:25:47.085494 139880146163584 basic_session_run_hooks.py:680] global_step/sec: 1.16545\n"
          ],
          "name": "stderr"
        },
        {
          "output_type": "stream",
          "text": [
            "INFO:tensorflow:loss = 0.34300596, step = 5400 (85.803 sec)\n"
          ],
          "name": "stdout"
        },
        {
          "output_type": "stream",
          "text": [
            "I0423 21:25:47.088020 139880146163584 basic_session_run_hooks.py:247] loss = 0.34300596, step = 5400 (85.803 sec)\n"
          ],
          "name": "stderr"
        },
        {
          "output_type": "stream",
          "text": [
            "INFO:tensorflow:global_step/sec: 1.16675\n"
          ],
          "name": "stdout"
        },
        {
          "output_type": "stream",
          "text": [
            "I0423 21:27:12.793924 139880146163584 basic_session_run_hooks.py:680] global_step/sec: 1.16675\n"
          ],
          "name": "stderr"
        },
        {
          "output_type": "stream",
          "text": [
            "INFO:tensorflow:loss = 0.6550979, step = 5500 (85.712 sec)\n"
          ],
          "name": "stdout"
        },
        {
          "output_type": "stream",
          "text": [
            "I0423 21:27:12.800213 139880146163584 basic_session_run_hooks.py:247] loss = 0.6550979, step = 5500 (85.712 sec)\n"
          ],
          "name": "stderr"
        },
        {
          "output_type": "stream",
          "text": [
            "INFO:tensorflow:global_step/sec: 1.16736\n"
          ],
          "name": "stdout"
        },
        {
          "output_type": "stream",
          "text": [
            "I0423 21:28:38.457442 139880146163584 basic_session_run_hooks.py:680] global_step/sec: 1.16736\n"
          ],
          "name": "stderr"
        },
        {
          "output_type": "stream",
          "text": [
            "INFO:tensorflow:loss = 0.275761, step = 5600 (85.670 sec)\n"
          ],
          "name": "stdout"
        },
        {
          "output_type": "stream",
          "text": [
            "I0423 21:28:38.470663 139880146163584 basic_session_run_hooks.py:247] loss = 0.275761, step = 5600 (85.670 sec)\n"
          ],
          "name": "stderr"
        },
        {
          "output_type": "stream",
          "text": [
            "INFO:tensorflow:global_step/sec: 1.16475\n"
          ],
          "name": "stdout"
        },
        {
          "output_type": "stream",
          "text": [
            "I0423 21:30:04.312456 139880146163584 basic_session_run_hooks.py:680] global_step/sec: 1.16475\n"
          ],
          "name": "stderr"
        },
        {
          "output_type": "stream",
          "text": [
            "INFO:tensorflow:loss = 0.40736634, step = 5700 (85.845 sec)\n"
          ],
          "name": "stdout"
        },
        {
          "output_type": "stream",
          "text": [
            "I0423 21:30:04.315428 139880146163584 basic_session_run_hooks.py:247] loss = 0.40736634, step = 5700 (85.845 sec)\n"
          ],
          "name": "stderr"
        },
        {
          "output_type": "stream",
          "text": [
            "INFO:tensorflow:global_step/sec: 1.16554\n"
          ],
          "name": "stdout"
        },
        {
          "output_type": "stream",
          "text": [
            "I0423 21:31:30.109685 139880146163584 basic_session_run_hooks.py:680] global_step/sec: 1.16554\n"
          ],
          "name": "stderr"
        },
        {
          "output_type": "stream",
          "text": [
            "INFO:tensorflow:loss = 0.33584708, step = 5800 (85.801 sec)\n"
          ],
          "name": "stdout"
        },
        {
          "output_type": "stream",
          "text": [
            "I0423 21:31:30.116443 139880146163584 basic_session_run_hooks.py:247] loss = 0.33584708, step = 5800 (85.801 sec)\n"
          ],
          "name": "stderr"
        },
        {
          "output_type": "stream",
          "text": [
            "INFO:tensorflow:global_step/sec: 1.16598\n"
          ],
          "name": "stdout"
        },
        {
          "output_type": "stream",
          "text": [
            "I0423 21:32:55.874415 139880146163584 basic_session_run_hooks.py:680] global_step/sec: 1.16598\n"
          ],
          "name": "stderr"
        },
        {
          "output_type": "stream",
          "text": [
            "INFO:tensorflow:loss = 0.6119523, step = 5900 (85.761 sec)\n"
          ],
          "name": "stdout"
        },
        {
          "output_type": "stream",
          "text": [
            "I0423 21:32:55.877368 139880146163584 basic_session_run_hooks.py:247] loss = 0.6119523, step = 5900 (85.761 sec)\n"
          ],
          "name": "stderr"
        },
        {
          "output_type": "stream",
          "text": [
            "INFO:tensorflow:global_step/sec: 1.16437\n"
          ],
          "name": "stdout"
        },
        {
          "output_type": "stream",
          "text": [
            "I0423 21:34:21.757563 139880146163584 basic_session_run_hooks.py:680] global_step/sec: 1.16437\n"
          ],
          "name": "stderr"
        },
        {
          "output_type": "stream",
          "text": [
            "INFO:tensorflow:loss = 0.15745674, step = 6000 (85.891 sec)\n"
          ],
          "name": "stdout"
        },
        {
          "output_type": "stream",
          "text": [
            "I0423 21:34:21.768507 139880146163584 basic_session_run_hooks.py:247] loss = 0.15745674, step = 6000 (85.891 sec)\n"
          ],
          "name": "stderr"
        },
        {
          "output_type": "stream",
          "text": [
            "INFO:tensorflow:global_step/sec: 1.164\n"
          ],
          "name": "stdout"
        },
        {
          "output_type": "stream",
          "text": [
            "I0423 21:35:47.667823 139880146163584 basic_session_run_hooks.py:680] global_step/sec: 1.164\n"
          ],
          "name": "stderr"
        },
        {
          "output_type": "stream",
          "text": [
            "INFO:tensorflow:loss = 0.5262295, step = 6100 (85.902 sec)\n"
          ],
          "name": "stdout"
        },
        {
          "output_type": "stream",
          "text": [
            "I0423 21:35:47.670501 139880146163584 basic_session_run_hooks.py:247] loss = 0.5262295, step = 6100 (85.902 sec)\n"
          ],
          "name": "stderr"
        },
        {
          "output_type": "stream",
          "text": [
            "INFO:tensorflow:global_step/sec: 1.16587\n"
          ],
          "name": "stdout"
        },
        {
          "output_type": "stream",
          "text": [
            "I0423 21:37:13.440973 139880146163584 basic_session_run_hooks.py:680] global_step/sec: 1.16587\n"
          ],
          "name": "stderr"
        },
        {
          "output_type": "stream",
          "text": [
            "INFO:tensorflow:loss = 0.5660323, step = 6200 (85.779 sec)\n"
          ],
          "name": "stdout"
        },
        {
          "output_type": "stream",
          "text": [
            "I0423 21:37:13.449166 139880146163584 basic_session_run_hooks.py:247] loss = 0.5660323, step = 6200 (85.779 sec)\n"
          ],
          "name": "stderr"
        },
        {
          "output_type": "stream",
          "text": [
            "INFO:tensorflow:global_step/sec: 1.16619\n"
          ],
          "name": "stdout"
        },
        {
          "output_type": "stream",
          "text": [
            "I0423 21:38:39.189914 139880146163584 basic_session_run_hooks.py:680] global_step/sec: 1.16619\n"
          ],
          "name": "stderr"
        },
        {
          "output_type": "stream",
          "text": [
            "INFO:tensorflow:loss = 0.75089085, step = 6300 (85.744 sec)\n"
          ],
          "name": "stdout"
        },
        {
          "output_type": "stream",
          "text": [
            "I0423 21:38:39.192852 139880146163584 basic_session_run_hooks.py:247] loss = 0.75089085, step = 6300 (85.744 sec)\n"
          ],
          "name": "stderr"
        },
        {
          "output_type": "stream",
          "text": [
            "INFO:tensorflow:global_step/sec: 1.16618\n"
          ],
          "name": "stdout"
        },
        {
          "output_type": "stream",
          "text": [
            "I0423 21:40:04.939829 139880146163584 basic_session_run_hooks.py:680] global_step/sec: 1.16618\n"
          ],
          "name": "stderr"
        },
        {
          "output_type": "stream",
          "text": [
            "INFO:tensorflow:loss = 0.32705435, step = 6400 (85.757 sec)\n"
          ],
          "name": "stdout"
        },
        {
          "output_type": "stream",
          "text": [
            "I0423 21:40:04.949535 139880146163584 basic_session_run_hooks.py:247] loss = 0.32705435, step = 6400 (85.757 sec)\n"
          ],
          "name": "stderr"
        },
        {
          "output_type": "stream",
          "text": [
            "INFO:tensorflow:global_step/sec: 1.16647\n"
          ],
          "name": "stdout"
        },
        {
          "output_type": "stream",
          "text": [
            "I0423 21:41:30.668897 139880146163584 basic_session_run_hooks.py:680] global_step/sec: 1.16647\n"
          ],
          "name": "stderr"
        },
        {
          "output_type": "stream",
          "text": [
            "INFO:tensorflow:loss = 0.52576876, step = 6500 (85.735 sec)\n"
          ],
          "name": "stdout"
        },
        {
          "output_type": "stream",
          "text": [
            "I0423 21:41:30.684051 139880146163584 basic_session_run_hooks.py:247] loss = 0.52576876, step = 6500 (85.735 sec)\n"
          ],
          "name": "stderr"
        },
        {
          "output_type": "stream",
          "text": [
            "INFO:tensorflow:global_step/sec: 1.16584\n"
          ],
          "name": "stdout"
        },
        {
          "output_type": "stream",
          "text": [
            "I0423 21:42:56.444326 139880146163584 basic_session_run_hooks.py:680] global_step/sec: 1.16584\n"
          ],
          "name": "stderr"
        },
        {
          "output_type": "stream",
          "text": [
            "INFO:tensorflow:loss = 0.39487004, step = 6600 (85.768 sec)\n"
          ],
          "name": "stdout"
        },
        {
          "output_type": "stream",
          "text": [
            "I0423 21:42:56.452499 139880146163584 basic_session_run_hooks.py:247] loss = 0.39487004, step = 6600 (85.768 sec)\n"
          ],
          "name": "stderr"
        },
        {
          "output_type": "stream",
          "text": [
            "INFO:tensorflow:global_step/sec: 1.16527\n"
          ],
          "name": "stdout"
        },
        {
          "output_type": "stream",
          "text": [
            "I0423 21:44:22.261665 139880146163584 basic_session_run_hooks.py:680] global_step/sec: 1.16527\n"
          ],
          "name": "stderr"
        },
        {
          "output_type": "stream",
          "text": [
            "INFO:tensorflow:loss = 0.18085653, step = 6700 (85.816 sec)\n"
          ],
          "name": "stdout"
        },
        {
          "output_type": "stream",
          "text": [
            "I0423 21:44:22.268185 139880146163584 basic_session_run_hooks.py:247] loss = 0.18085653, step = 6700 (85.816 sec)\n"
          ],
          "name": "stderr"
        },
        {
          "output_type": "stream",
          "text": [
            "INFO:tensorflow:global_step/sec: 1.16432\n"
          ],
          "name": "stdout"
        },
        {
          "output_type": "stream",
          "text": [
            "I0423 21:45:48.149011 139880146163584 basic_session_run_hooks.py:680] global_step/sec: 1.16432\n"
          ],
          "name": "stderr"
        },
        {
          "output_type": "stream",
          "text": [
            "INFO:tensorflow:loss = 0.2840546, step = 6800 (85.884 sec)\n"
          ],
          "name": "stdout"
        },
        {
          "output_type": "stream",
          "text": [
            "I0423 21:45:48.151826 139880146163584 basic_session_run_hooks.py:247] loss = 0.2840546, step = 6800 (85.884 sec)\n"
          ],
          "name": "stderr"
        },
        {
          "output_type": "stream",
          "text": [
            "INFO:tensorflow:global_step/sec: 1.16604\n"
          ],
          "name": "stdout"
        },
        {
          "output_type": "stream",
          "text": [
            "I0423 21:47:13.909572 139880146163584 basic_session_run_hooks.py:680] global_step/sec: 1.16604\n"
          ],
          "name": "stderr"
        },
        {
          "output_type": "stream",
          "text": [
            "INFO:tensorflow:loss = 0.42373496, step = 6900 (85.761 sec)\n"
          ],
          "name": "stdout"
        },
        {
          "output_type": "stream",
          "text": [
            "I0423 21:47:13.913327 139880146163584 basic_session_run_hooks.py:247] loss = 0.42373496, step = 6900 (85.761 sec)\n"
          ],
          "name": "stderr"
        },
        {
          "output_type": "stream",
          "text": [
            "INFO:tensorflow:global_step/sec: 1.16566\n"
          ],
          "name": "stdout"
        },
        {
          "output_type": "stream",
          "text": [
            "I0423 21:48:39.698166 139880146163584 basic_session_run_hooks.py:680] global_step/sec: 1.16566\n"
          ],
          "name": "stderr"
        },
        {
          "output_type": "stream",
          "text": [
            "INFO:tensorflow:loss = 0.49917036, step = 7000 (85.793 sec)\n"
          ],
          "name": "stdout"
        },
        {
          "output_type": "stream",
          "text": [
            "I0423 21:48:39.706263 139880146163584 basic_session_run_hooks.py:247] loss = 0.49917036, step = 7000 (85.793 sec)\n"
          ],
          "name": "stderr"
        },
        {
          "output_type": "stream",
          "text": [
            "INFO:tensorflow:global_step/sec: 1.16593\n"
          ],
          "name": "stdout"
        },
        {
          "output_type": "stream",
          "text": [
            "I0423 21:50:05.466552 139880146163584 basic_session_run_hooks.py:680] global_step/sec: 1.16593\n"
          ],
          "name": "stderr"
        },
        {
          "output_type": "stream",
          "text": [
            "INFO:tensorflow:loss = 0.38837016, step = 7100 (85.763 sec)\n"
          ],
          "name": "stdout"
        },
        {
          "output_type": "stream",
          "text": [
            "I0423 21:50:05.469036 139880146163584 basic_session_run_hooks.py:247] loss = 0.38837016, step = 7100 (85.763 sec)\n"
          ],
          "name": "stderr"
        },
        {
          "output_type": "stream",
          "text": [
            "INFO:tensorflow:global_step/sec: 1.16486\n"
          ],
          "name": "stdout"
        },
        {
          "output_type": "stream",
          "text": [
            "I0423 21:51:31.313764 139880146163584 basic_session_run_hooks.py:680] global_step/sec: 1.16486\n"
          ],
          "name": "stderr"
        },
        {
          "output_type": "stream",
          "text": [
            "INFO:tensorflow:loss = 0.13774422, step = 7200 (85.847 sec)\n"
          ],
          "name": "stdout"
        },
        {
          "output_type": "stream",
          "text": [
            "I0423 21:51:31.316454 139880146163584 basic_session_run_hooks.py:247] loss = 0.13774422, step = 7200 (85.847 sec)\n"
          ],
          "name": "stderr"
        },
        {
          "output_type": "stream",
          "text": [
            "INFO:tensorflow:global_step/sec: 1.16666\n"
          ],
          "name": "stdout"
        },
        {
          "output_type": "stream",
          "text": [
            "I0423 21:52:57.028732 139880146163584 basic_session_run_hooks.py:680] global_step/sec: 1.16666\n"
          ],
          "name": "stderr"
        },
        {
          "output_type": "stream",
          "text": [
            "INFO:tensorflow:loss = 0.45964056, step = 7300 (85.714 sec)\n"
          ],
          "name": "stdout"
        },
        {
          "output_type": "stream",
          "text": [
            "I0423 21:52:57.030929 139880146163584 basic_session_run_hooks.py:247] loss = 0.45964056, step = 7300 (85.714 sec)\n"
          ],
          "name": "stderr"
        },
        {
          "output_type": "stream",
          "text": [
            "INFO:tensorflow:global_step/sec: 1.16265\n"
          ],
          "name": "stdout"
        },
        {
          "output_type": "stream",
          "text": [
            "I0423 21:54:23.039543 139880146163584 basic_session_run_hooks.py:680] global_step/sec: 1.16265\n"
          ],
          "name": "stderr"
        },
        {
          "output_type": "stream",
          "text": [
            "INFO:tensorflow:loss = 0.33509928, step = 7400 (86.012 sec)\n"
          ],
          "name": "stdout"
        },
        {
          "output_type": "stream",
          "text": [
            "I0423 21:54:23.042463 139880146163584 basic_session_run_hooks.py:247] loss = 0.33509928, step = 7400 (86.012 sec)\n"
          ],
          "name": "stderr"
        },
        {
          "output_type": "stream",
          "text": [
            "INFO:tensorflow:global_step/sec: 1.16314\n"
          ],
          "name": "stdout"
        },
        {
          "output_type": "stream",
          "text": [
            "I0423 21:55:49.013559 139880146163584 basic_session_run_hooks.py:680] global_step/sec: 1.16314\n"
          ],
          "name": "stderr"
        },
        {
          "output_type": "stream",
          "text": [
            "INFO:tensorflow:loss = 0.4109539, step = 7500 (85.980 sec)\n"
          ],
          "name": "stdout"
        },
        {
          "output_type": "stream",
          "text": [
            "I0423 21:55:49.022050 139880146163584 basic_session_run_hooks.py:247] loss = 0.4109539, step = 7500 (85.980 sec)\n"
          ],
          "name": "stderr"
        },
        {
          "output_type": "stream",
          "text": [
            "INFO:tensorflow:global_step/sec: 1.16089\n"
          ],
          "name": "stdout"
        },
        {
          "output_type": "stream",
          "text": [
            "I0423 21:57:15.154004 139880146163584 basic_session_run_hooks.py:680] global_step/sec: 1.16089\n"
          ],
          "name": "stderr"
        },
        {
          "output_type": "stream",
          "text": [
            "INFO:tensorflow:loss = 0.3221416, step = 7600 (86.137 sec)\n"
          ],
          "name": "stdout"
        },
        {
          "output_type": "stream",
          "text": [
            "I0423 21:57:15.158993 139880146163584 basic_session_run_hooks.py:247] loss = 0.3221416, step = 7600 (86.137 sec)\n"
          ],
          "name": "stderr"
        },
        {
          "output_type": "stream",
          "text": [
            "INFO:tensorflow:global_step/sec: 1.16365\n"
          ],
          "name": "stdout"
        },
        {
          "output_type": "stream",
          "text": [
            "I0423 21:58:41.090761 139880146163584 basic_session_run_hooks.py:680] global_step/sec: 1.16365\n"
          ],
          "name": "stderr"
        },
        {
          "output_type": "stream",
          "text": [
            "INFO:tensorflow:loss = 0.49271062, step = 7700 (85.935 sec)\n"
          ],
          "name": "stdout"
        },
        {
          "output_type": "stream",
          "text": [
            "I0423 21:58:41.093658 139880146163584 basic_session_run_hooks.py:247] loss = 0.49271062, step = 7700 (85.935 sec)\n"
          ],
          "name": "stderr"
        },
        {
          "output_type": "stream",
          "text": [
            "INFO:tensorflow:global_step/sec: 1.16331\n"
          ],
          "name": "stdout"
        },
        {
          "output_type": "stream",
          "text": [
            "I0423 22:00:07.052655 139880146163584 basic_session_run_hooks.py:680] global_step/sec: 1.16331\n"
          ],
          "name": "stderr"
        },
        {
          "output_type": "stream",
          "text": [
            "INFO:tensorflow:loss = 0.39854556, step = 7800 (85.962 sec)\n"
          ],
          "name": "stdout"
        },
        {
          "output_type": "stream",
          "text": [
            "I0423 22:00:07.055268 139880146163584 basic_session_run_hooks.py:247] loss = 0.39854556, step = 7800 (85.962 sec)\n"
          ],
          "name": "stderr"
        },
        {
          "output_type": "stream",
          "text": [
            "INFO:tensorflow:global_step/sec: 1.16233\n"
          ],
          "name": "stdout"
        },
        {
          "output_type": "stream",
          "text": [
            "I0423 22:01:33.086930 139880146163584 basic_session_run_hooks.py:680] global_step/sec: 1.16233\n"
          ],
          "name": "stderr"
        },
        {
          "output_type": "stream",
          "text": [
            "INFO:tensorflow:loss = 0.26466295, step = 7900 (86.034 sec)\n"
          ],
          "name": "stdout"
        },
        {
          "output_type": "stream",
          "text": [
            "I0423 22:01:33.089195 139880146163584 basic_session_run_hooks.py:247] loss = 0.26466295, step = 7900 (86.034 sec)\n"
          ],
          "name": "stderr"
        },
        {
          "output_type": "stream",
          "text": [
            "INFO:tensorflow:global_step/sec: 1.1636\n"
          ],
          "name": "stdout"
        },
        {
          "output_type": "stream",
          "text": [
            "I0423 22:02:59.026799 139880146163584 basic_session_run_hooks.py:680] global_step/sec: 1.1636\n"
          ],
          "name": "stderr"
        },
        {
          "output_type": "stream",
          "text": [
            "INFO:tensorflow:loss = 0.20535776, step = 8000 (85.943 sec)\n"
          ],
          "name": "stdout"
        },
        {
          "output_type": "stream",
          "text": [
            "I0423 22:02:59.032657 139880146163584 basic_session_run_hooks.py:247] loss = 0.20535776, step = 8000 (85.943 sec)\n"
          ],
          "name": "stderr"
        },
        {
          "output_type": "stream",
          "text": [
            "INFO:tensorflow:global_step/sec: 1.16758\n"
          ],
          "name": "stdout"
        },
        {
          "output_type": "stream",
          "text": [
            "I0423 22:04:24.674185 139880146163584 basic_session_run_hooks.py:680] global_step/sec: 1.16758\n"
          ],
          "name": "stderr"
        },
        {
          "output_type": "stream",
          "text": [
            "INFO:tensorflow:loss = 0.26079306, step = 8100 (85.646 sec)\n"
          ],
          "name": "stdout"
        },
        {
          "output_type": "stream",
          "text": [
            "I0423 22:04:24.678321 139880146163584 basic_session_run_hooks.py:247] loss = 0.26079306, step = 8100 (85.646 sec)\n"
          ],
          "name": "stderr"
        },
        {
          "output_type": "stream",
          "text": [
            "INFO:tensorflow:global_step/sec: 1.16525\n"
          ],
          "name": "stdout"
        },
        {
          "output_type": "stream",
          "text": [
            "I0423 22:05:50.492699 139880146163584 basic_session_run_hooks.py:680] global_step/sec: 1.16525\n"
          ],
          "name": "stderr"
        },
        {
          "output_type": "stream",
          "text": [
            "INFO:tensorflow:loss = 0.34690076, step = 8200 (85.820 sec)\n"
          ],
          "name": "stdout"
        },
        {
          "output_type": "stream",
          "text": [
            "I0423 22:05:50.498101 139880146163584 basic_session_run_hooks.py:247] loss = 0.34690076, step = 8200 (85.820 sec)\n"
          ],
          "name": "stderr"
        },
        {
          "output_type": "stream",
          "text": [
            "INFO:tensorflow:global_step/sec: 1.16414\n"
          ],
          "name": "stdout"
        },
        {
          "output_type": "stream",
          "text": [
            "I0423 22:07:16.392949 139880146163584 basic_session_run_hooks.py:680] global_step/sec: 1.16414\n"
          ],
          "name": "stderr"
        },
        {
          "output_type": "stream",
          "text": [
            "INFO:tensorflow:loss = 0.21059474, step = 8300 (85.900 sec)\n"
          ],
          "name": "stdout"
        },
        {
          "output_type": "stream",
          "text": [
            "I0423 22:07:16.398018 139880146163584 basic_session_run_hooks.py:247] loss = 0.21059474, step = 8300 (85.900 sec)\n"
          ],
          "name": "stderr"
        },
        {
          "output_type": "stream",
          "text": [
            "INFO:tensorflow:global_step/sec: 1.16621\n"
          ],
          "name": "stdout"
        },
        {
          "output_type": "stream",
          "text": [
            "I0423 22:08:42.140915 139880146163584 basic_session_run_hooks.py:680] global_step/sec: 1.16621\n"
          ],
          "name": "stderr"
        },
        {
          "output_type": "stream",
          "text": [
            "INFO:tensorflow:loss = 0.09366362, step = 8400 (85.746 sec)\n"
          ],
          "name": "stdout"
        },
        {
          "output_type": "stream",
          "text": [
            "I0423 22:08:42.143929 139880146163584 basic_session_run_hooks.py:247] loss = 0.09366362, step = 8400 (85.746 sec)\n"
          ],
          "name": "stderr"
        },
        {
          "output_type": "stream",
          "text": [
            "INFO:tensorflow:global_step/sec: 1.16371\n"
          ],
          "name": "stdout"
        },
        {
          "output_type": "stream",
          "text": [
            "I0423 22:10:08.073233 139880146163584 basic_session_run_hooks.py:680] global_step/sec: 1.16371\n"
          ],
          "name": "stderr"
        },
        {
          "output_type": "stream",
          "text": [
            "INFO:tensorflow:loss = 0.28638214, step = 8500 (85.935 sec)\n"
          ],
          "name": "stdout"
        },
        {
          "output_type": "stream",
          "text": [
            "I0423 22:10:08.078739 139880146163584 basic_session_run_hooks.py:247] loss = 0.28638214, step = 8500 (85.935 sec)\n"
          ],
          "name": "stderr"
        },
        {
          "output_type": "stream",
          "text": [
            "INFO:tensorflow:global_step/sec: 1.16554\n"
          ],
          "name": "stdout"
        },
        {
          "output_type": "stream",
          "text": [
            "I0423 22:11:33.870489 139880146163584 basic_session_run_hooks.py:680] global_step/sec: 1.16554\n"
          ],
          "name": "stderr"
        },
        {
          "output_type": "stream",
          "text": [
            "INFO:tensorflow:loss = 0.25135902, step = 8600 (85.797 sec)\n"
          ],
          "name": "stdout"
        },
        {
          "output_type": "stream",
          "text": [
            "I0423 22:11:33.875578 139880146163584 basic_session_run_hooks.py:247] loss = 0.25135902, step = 8600 (85.797 sec)\n"
          ],
          "name": "stderr"
        },
        {
          "output_type": "stream",
          "text": [
            "INFO:tensorflow:global_step/sec: 1.16461\n"
          ],
          "name": "stdout"
        },
        {
          "output_type": "stream",
          "text": [
            "I0423 22:12:59.736257 139880146163584 basic_session_run_hooks.py:680] global_step/sec: 1.16461\n"
          ],
          "name": "stderr"
        },
        {
          "output_type": "stream",
          "text": [
            "INFO:tensorflow:loss = 0.28250268, step = 8700 (85.866 sec)\n"
          ],
          "name": "stdout"
        },
        {
          "output_type": "stream",
          "text": [
            "I0423 22:12:59.741419 139880146163584 basic_session_run_hooks.py:247] loss = 0.28250268, step = 8700 (85.866 sec)\n"
          ],
          "name": "stderr"
        },
        {
          "output_type": "stream",
          "text": [
            "INFO:tensorflow:global_step/sec: 1.16525\n"
          ],
          "name": "stdout"
        },
        {
          "output_type": "stream",
          "text": [
            "I0423 22:14:25.554519 139880146163584 basic_session_run_hooks.py:680] global_step/sec: 1.16525\n"
          ],
          "name": "stderr"
        },
        {
          "output_type": "stream",
          "text": [
            "INFO:tensorflow:loss = 0.15703316, step = 8800 (85.816 sec)\n"
          ],
          "name": "stdout"
        },
        {
          "output_type": "stream",
          "text": [
            "I0423 22:14:25.557338 139880146163584 basic_session_run_hooks.py:247] loss = 0.15703316, step = 8800 (85.816 sec)\n"
          ],
          "name": "stderr"
        },
        {
          "output_type": "stream",
          "text": [
            "INFO:tensorflow:global_step/sec: 1.1631\n"
          ],
          "name": "stdout"
        },
        {
          "output_type": "stream",
          "text": [
            "I0423 22:15:51.531649 139880146163584 basic_session_run_hooks.py:680] global_step/sec: 1.1631\n"
          ],
          "name": "stderr"
        },
        {
          "output_type": "stream",
          "text": [
            "INFO:tensorflow:loss = 0.28493, step = 8900 (85.979 sec)\n"
          ],
          "name": "stdout"
        },
        {
          "output_type": "stream",
          "text": [
            "I0423 22:15:51.536164 139880146163584 basic_session_run_hooks.py:247] loss = 0.28493, step = 8900 (85.979 sec)\n"
          ],
          "name": "stderr"
        },
        {
          "output_type": "stream",
          "text": [
            "INFO:tensorflow:global_step/sec: 1.16137\n"
          ],
          "name": "stdout"
        },
        {
          "output_type": "stream",
          "text": [
            "I0423 22:17:17.636838 139880146163584 basic_session_run_hooks.py:680] global_step/sec: 1.16137\n"
          ],
          "name": "stderr"
        },
        {
          "output_type": "stream",
          "text": [
            "INFO:tensorflow:loss = 0.2911355, step = 9000 (86.105 sec)\n"
          ],
          "name": "stdout"
        },
        {
          "output_type": "stream",
          "text": [
            "I0423 22:17:17.641476 139880146163584 basic_session_run_hooks.py:247] loss = 0.2911355, step = 9000 (86.105 sec)\n"
          ],
          "name": "stderr"
        },
        {
          "output_type": "stream",
          "text": [
            "INFO:tensorflow:global_step/sec: 1.16279\n"
          ],
          "name": "stdout"
        },
        {
          "output_type": "stream",
          "text": [
            "I0423 22:18:43.637067 139880146163584 basic_session_run_hooks.py:680] global_step/sec: 1.16279\n"
          ],
          "name": "stderr"
        },
        {
          "output_type": "stream",
          "text": [
            "INFO:tensorflow:loss = 0.32455912, step = 9100 (85.999 sec)\n"
          ],
          "name": "stdout"
        },
        {
          "output_type": "stream",
          "text": [
            "I0423 22:18:43.640246 139880146163584 basic_session_run_hooks.py:247] loss = 0.32455912, step = 9100 (85.999 sec)\n"
          ],
          "name": "stderr"
        },
        {
          "output_type": "stream",
          "text": [
            "INFO:tensorflow:global_step/sec: 1.16412\n"
          ],
          "name": "stdout"
        },
        {
          "output_type": "stream",
          "text": [
            "I0423 22:20:09.539085 139880146163584 basic_session_run_hooks.py:680] global_step/sec: 1.16412\n"
          ],
          "name": "stderr"
        },
        {
          "output_type": "stream",
          "text": [
            "INFO:tensorflow:loss = 0.4774417, step = 9200 (85.902 sec)\n"
          ],
          "name": "stdout"
        },
        {
          "output_type": "stream",
          "text": [
            "I0423 22:20:09.542562 139880146163584 basic_session_run_hooks.py:247] loss = 0.4774417, step = 9200 (85.902 sec)\n"
          ],
          "name": "stderr"
        },
        {
          "output_type": "stream",
          "text": [
            "INFO:tensorflow:global_step/sec: 1.16433\n"
          ],
          "name": "stdout"
        },
        {
          "output_type": "stream",
          "text": [
            "I0423 22:21:35.425380 139880146163584 basic_session_run_hooks.py:680] global_step/sec: 1.16433\n"
          ],
          "name": "stderr"
        },
        {
          "output_type": "stream",
          "text": [
            "INFO:tensorflow:loss = 0.19025138, step = 9300 (85.889 sec)\n"
          ],
          "name": "stdout"
        },
        {
          "output_type": "stream",
          "text": [
            "I0423 22:21:35.431200 139880146163584 basic_session_run_hooks.py:247] loss = 0.19025138, step = 9300 (85.889 sec)\n"
          ],
          "name": "stderr"
        },
        {
          "output_type": "stream",
          "text": [
            "INFO:tensorflow:global_step/sec: 1.16548\n"
          ],
          "name": "stdout"
        },
        {
          "output_type": "stream",
          "text": [
            "I0423 22:23:01.227166 139880146163584 basic_session_run_hooks.py:680] global_step/sec: 1.16548\n"
          ],
          "name": "stderr"
        },
        {
          "output_type": "stream",
          "text": [
            "INFO:tensorflow:loss = 0.24316002, step = 9400 (85.799 sec)\n"
          ],
          "name": "stdout"
        },
        {
          "output_type": "stream",
          "text": [
            "I0423 22:23:01.229956 139880146163584 basic_session_run_hooks.py:247] loss = 0.24316002, step = 9400 (85.799 sec)\n"
          ],
          "name": "stderr"
        },
        {
          "output_type": "stream",
          "text": [
            "INFO:tensorflow:global_step/sec: 1.16615\n"
          ],
          "name": "stdout"
        },
        {
          "output_type": "stream",
          "text": [
            "I0423 22:24:26.979166 139880146163584 basic_session_run_hooks.py:680] global_step/sec: 1.16615\n"
          ],
          "name": "stderr"
        },
        {
          "output_type": "stream",
          "text": [
            "INFO:tensorflow:loss = 0.19933525, step = 9500 (85.759 sec)\n"
          ],
          "name": "stdout"
        },
        {
          "output_type": "stream",
          "text": [
            "I0423 22:24:26.988932 139880146163584 basic_session_run_hooks.py:247] loss = 0.19933525, step = 9500 (85.759 sec)\n"
          ],
          "name": "stderr"
        },
        {
          "output_type": "stream",
          "text": [
            "INFO:tensorflow:global_step/sec: 1.16233\n"
          ],
          "name": "stdout"
        },
        {
          "output_type": "stream",
          "text": [
            "I0423 22:25:53.013046 139880146163584 basic_session_run_hooks.py:680] global_step/sec: 1.16233\n"
          ],
          "name": "stderr"
        },
        {
          "output_type": "stream",
          "text": [
            "INFO:tensorflow:loss = 0.18583502, step = 9600 (86.033 sec)\n"
          ],
          "name": "stdout"
        },
        {
          "output_type": "stream",
          "text": [
            "I0423 22:25:53.021498 139880146163584 basic_session_run_hooks.py:247] loss = 0.18583502, step = 9600 (86.033 sec)\n"
          ],
          "name": "stderr"
        },
        {
          "output_type": "stream",
          "text": [
            "INFO:tensorflow:global_step/sec: 1.16585\n"
          ],
          "name": "stdout"
        },
        {
          "output_type": "stream",
          "text": [
            "I0423 22:27:18.787150 139880146163584 basic_session_run_hooks.py:680] global_step/sec: 1.16585\n"
          ],
          "name": "stderr"
        },
        {
          "output_type": "stream",
          "text": [
            "INFO:tensorflow:loss = 0.22410066, step = 9700 (85.768 sec)\n"
          ],
          "name": "stdout"
        },
        {
          "output_type": "stream",
          "text": [
            "I0423 22:27:18.789469 139880146163584 basic_session_run_hooks.py:247] loss = 0.22410066, step = 9700 (85.768 sec)\n"
          ],
          "name": "stderr"
        },
        {
          "output_type": "stream",
          "text": [
            "INFO:tensorflow:Saving checkpoints for 9790 into output/model.ckpt.\n"
          ],
          "name": "stdout"
        },
        {
          "output_type": "stream",
          "text": [
            "I0423 22:28:35.172562 139880146163584 basic_session_run_hooks.py:594] Saving checkpoints for 9790 into output/model.ckpt.\n"
          ],
          "name": "stderr"
        },
        {
          "output_type": "stream",
          "text": [
            "INFO:tensorflow:Loss for final step: 0.18497469.\n"
          ],
          "name": "stdout"
        },
        {
          "output_type": "stream",
          "text": [
            "I0423 22:28:48.147222 139880146163584 estimator.py:359] Loss for final step: 0.18497469.\n"
          ],
          "name": "stderr"
        },
        {
          "output_type": "stream",
          "text": [
            "INFO:tensorflow:Calling model_fn.\n"
          ],
          "name": "stdout"
        },
        {
          "output_type": "stream",
          "text": [
            "I0423 22:28:52.226551 139880146163584 estimator.py:1111] Calling model_fn.\n"
          ],
          "name": "stderr"
        },
        {
          "output_type": "stream",
          "text": [
            "INFO:tensorflow:Saver not created because there are no variables in the graph to restore\n"
          ],
          "name": "stdout"
        },
        {
          "output_type": "stream",
          "text": [
            "I0423 22:28:57.053168 139880146163584 saver.py:1483] Saver not created because there are no variables in the graph to restore\n"
          ],
          "name": "stderr"
        },
        {
          "output_type": "stream",
          "text": [
            "INFO:tensorflow:Done calling model_fn.\n"
          ],
          "name": "stdout"
        },
        {
          "output_type": "stream",
          "text": [
            "I0423 22:29:06.656320 139880146163584 estimator.py:1113] Done calling model_fn.\n"
          ],
          "name": "stderr"
        },
        {
          "output_type": "stream",
          "text": [
            "INFO:tensorflow:Starting evaluation at 2019-04-23T22:29:06Z\n"
          ],
          "name": "stdout"
        },
        {
          "output_type": "stream",
          "text": [
            "I0423 22:29:06.681199 139880146163584 evaluation.py:257] Starting evaluation at 2019-04-23T22:29:06Z\n"
          ],
          "name": "stderr"
        },
        {
          "output_type": "stream",
          "text": [
            "INFO:tensorflow:Graph was finalized.\n"
          ],
          "name": "stdout"
        },
        {
          "output_type": "stream",
          "text": [
            "I0423 22:29:08.085765 139880146163584 monitored_session.py:222] Graph was finalized.\n"
          ],
          "name": "stderr"
        },
        {
          "output_type": "stream",
          "text": [
            "WARNING:tensorflow:From /usr/local/lib/python3.6/dist-packages/tensorflow/python/training/saver.py:1266: checkpoint_exists (from tensorflow.python.training.checkpoint_management) is deprecated and will be removed in a future version.\n",
            "Instructions for updating:\n",
            "Use standard file APIs to check for files with this prefix.\n"
          ],
          "name": "stdout"
        },
        {
          "output_type": "stream",
          "text": [
            "W0423 22:29:08.091613 139880146163584 deprecation.py:323] From /usr/local/lib/python3.6/dist-packages/tensorflow/python/training/saver.py:1266: checkpoint_exists (from tensorflow.python.training.checkpoint_management) is deprecated and will be removed in a future version.\n",
            "Instructions for updating:\n",
            "Use standard file APIs to check for files with this prefix.\n"
          ],
          "name": "stderr"
        },
        {
          "output_type": "stream",
          "text": [
            "INFO:tensorflow:Restoring parameters from output/model.ckpt-9790\n"
          ],
          "name": "stdout"
        },
        {
          "output_type": "stream",
          "text": [
            "I0423 22:29:08.099194 139880146163584 saver.py:1270] Restoring parameters from output/model.ckpt-9790\n"
          ],
          "name": "stderr"
        },
        {
          "output_type": "stream",
          "text": [
            "INFO:tensorflow:Running local_init_op.\n"
          ],
          "name": "stdout"
        },
        {
          "output_type": "stream",
          "text": [
            "I0423 22:29:17.766666 139880146163584 session_manager.py:491] Running local_init_op.\n"
          ],
          "name": "stderr"
        },
        {
          "output_type": "stream",
          "text": [
            "INFO:tensorflow:Done running local_init_op.\n"
          ],
          "name": "stdout"
        },
        {
          "output_type": "stream",
          "text": [
            "I0423 22:29:18.043758 139880146163584 session_manager.py:493] Done running local_init_op.\n"
          ],
          "name": "stderr"
        },
        {
          "output_type": "stream",
          "text": [
            "INFO:tensorflow:Finished evaluation at 2019-04-23-22:30:35\n"
          ],
          "name": "stdout"
        },
        {
          "output_type": "stream",
          "text": [
            "I0423 22:30:35.590804 139880146163584 evaluation.py:277] Finished evaluation at 2019-04-23-22:30:35\n"
          ],
          "name": "stderr"
        },
        {
          "output_type": "stream",
          "text": [
            "INFO:tensorflow:Saving dict for global step 9790: eval_accuracy = 0.991673, global_step = 9790, loss = 0.33301526\n"
          ],
          "name": "stdout"
        },
        {
          "output_type": "stream",
          "text": [
            "I0423 22:30:35.597653 139880146163584 estimator.py:1979] Saving dict for global step 9790: eval_accuracy = 0.991673, global_step = 9790, loss = 0.33301526\n"
          ],
          "name": "stderr"
        },
        {
          "output_type": "stream",
          "text": [
            "INFO:tensorflow:Saving 'checkpoint_path' summary for global step 9790: output/model.ckpt-9790\n"
          ],
          "name": "stdout"
        },
        {
          "output_type": "stream",
          "text": [
            "I0423 22:30:38.581582 139880146163584 estimator.py:2039] Saving 'checkpoint_path' summary for global step 9790: output/model.ckpt-9790\n"
          ],
          "name": "stderr"
        }
      ]
    },
    {
      "metadata": {
        "id": "T6eWm8bY97cA",
        "colab_type": "code",
        "outputId": "031952e9-11e8-4d2d-b42f-c7a69ad8d870",
        "colab": {
          "base_uri": "https://localhost:8080/",
          "height": 35
        }
      },
      "cell_type": "code",
      "source": [
        "result"
      ],
      "execution_count": 38,
      "outputs": [
        {
          "output_type": "execute_result",
          "data": {
            "text/plain": [
              "{'eval_accuracy': 0.991673, 'global_step': 9790, 'loss': 0.33301526}"
            ]
          },
          "metadata": {
            "tags": []
          },
          "execution_count": 38
        }
      ]
    },
    {
      "metadata": {
        "id": "j9eN-pF898ah",
        "colab_type": "code",
        "colab": {}
      },
      "cell_type": "code",
      "source": [
        ""
      ],
      "execution_count": 0,
      "outputs": []
    }
  ]
}